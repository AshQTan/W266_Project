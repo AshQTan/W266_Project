{
 "cells": [
  {
   "cell_type": "code",
   "execution_count": 1,
   "metadata": {},
   "outputs": [],
   "source": [
    "import json\n",
    "import pandas as pd\n",
    "import numpy as np\n",
    "import os\n",
    "import sys\n",
    "import tensorflow as tf\n",
    "from time import time\n",
    "import io\n",
    "import re\n",
    "\n",
    "import pickle\n",
    "from csv import reader\n",
    "import matplotlib.pyplot as plt\n",
    "%matplotlib inline\n",
    "\n",
    "import regex as re\n",
    "from newspaper import Article \n",
    "import requests"
   ]
  },
  {
   "cell_type": "code",
   "execution_count": 2,
   "metadata": {},
   "outputs": [],
   "source": [
    "# import tensorflow as tf\n",
    "# import numpy as np\n",
    "# import pandas as pd \n",
    "# import regex as re\n",
    "# from newspaper import Article \n",
    "# import requests\n",
    "\n",
    "# import matplotlib.pyplot as plt\n",
    "# %matplotlib inline\n"
   ]
  },
  {
   "cell_type": "code",
   "execution_count": 3,
   "metadata": {},
   "outputs": [],
   "source": [
    "# df = pd.read_table(\"newsArticlesWithLabels.tsv\")\n",
    "# dataset from https://deepblue.lib.umich.edu/data/concern/data_sets/8w32r569d?locale=en\n",
    "\n",
    "# df['article'] = df['url']\n",
    "\n",
    "# def getArticle(url):\n",
    "#     try:\n",
    "#         article = Article(url)\n",
    "#         article.download()\n",
    "#         article.parse()\n",
    "#         return(article.text)\n",
    "#     except:\n",
    "#         return(\"badurl\")\n",
    "\n",
    "# df['article'] = df.apply(lambda row: getArticle(row.url), axis = 1) \n",
    "# df.to_csv(\"articledata.csv\", sep='\\t')\n"
   ]
  },
  {
   "cell_type": "code",
   "execution_count": 4,
   "metadata": {},
   "outputs": [
    {
     "data": {
      "text/html": [
       "<div>\n",
       "<style scoped>\n",
       "    .dataframe tbody tr th:only-of-type {\n",
       "        vertical-align: middle;\n",
       "    }\n",
       "\n",
       "    .dataframe tbody tr th {\n",
       "        vertical-align: top;\n",
       "    }\n",
       "\n",
       "    .dataframe thead th {\n",
       "        text-align: right;\n",
       "    }\n",
       "</style>\n",
       "<table border=\"1\" class=\"dataframe\">\n",
       "  <thead>\n",
       "    <tr style=\"text-align: right;\">\n",
       "      <th></th>\n",
       "      <th>url</th>\n",
       "      <th>q3</th>\n",
       "      <th>perceived</th>\n",
       "      <th>primary.topic</th>\n",
       "      <th>secondary.topic</th>\n",
       "      <th>democrat.vote</th>\n",
       "      <th>republican.vote</th>\n",
       "      <th>article</th>\n",
       "    </tr>\n",
       "  </thead>\n",
       "  <tbody>\n",
       "    <tr>\n",
       "      <th>0</th>\n",
       "      <td>http://www.usatoday.com/story/news/nation/2013...</td>\n",
       "      <td>other</td>\n",
       "      <td>1</td>\n",
       "      <td>Civil Rights</td>\n",
       "      <td>Civil Rights</td>\n",
       "      <td>Neutral</td>\n",
       "      <td>Neutral</td>\n",
       "      <td>Maggie Clark\\n\\nPew/Stateline Staff Writer\\n\\n...</td>\n",
       "    </tr>\n",
       "    <tr>\n",
       "      <th>1</th>\n",
       "      <td>http://www.huffingtonpost.com/2013/05/21/senat...</td>\n",
       "      <td>News</td>\n",
       "      <td>0</td>\n",
       "      <td>Civil Rights</td>\n",
       "      <td>Civil Rights</td>\n",
       "      <td>Neutral</td>\n",
       "      <td>Neutral</td>\n",
       "      <td>WASHINGTON -- The Senate Judiciary Committee a...</td>\n",
       "    </tr>\n",
       "    <tr>\n",
       "      <th>2</th>\n",
       "      <td>http://www.washingtonpost.com/opinions/dont-le...</td>\n",
       "      <td>Opinion</td>\n",
       "      <td>1</td>\n",
       "      <td>Civil Rights</td>\n",
       "      <td>Civil Rights</td>\n",
       "      <td>Neutral</td>\n",
       "      <td>Neutral</td>\n",
       "      <td>David Cole is a professor of constitutional la...</td>\n",
       "    </tr>\n",
       "    <tr>\n",
       "      <th>3</th>\n",
       "      <td>http://www.foxnews.com/politics/2013/04/03/oba...</td>\n",
       "      <td>Opinion</td>\n",
       "      <td>1</td>\n",
       "      <td>Civil Rights</td>\n",
       "      <td>Civil Rights</td>\n",
       "      <td>Neutral</td>\n",
       "      <td>Neutral</td>\n",
       "      <td>Parts of ObamaCare are starting to fray, even ...</td>\n",
       "    </tr>\n",
       "    <tr>\n",
       "      <th>4</th>\n",
       "      <td>http://www.breitbart.com/Big-Government/2013/1...</td>\n",
       "      <td>Opinion</td>\n",
       "      <td>1</td>\n",
       "      <td>Civil Rights</td>\n",
       "      <td>Civil Rights</td>\n",
       "      <td>Neutral</td>\n",
       "      <td>Neutral</td>\n",
       "      <td>U.S. Immigration Citizenship and Immigration S...</td>\n",
       "    </tr>\n",
       "    <tr>\n",
       "      <th>...</th>\n",
       "      <td>...</td>\n",
       "      <td>...</td>\n",
       "      <td>...</td>\n",
       "      <td>...</td>\n",
       "      <td>...</td>\n",
       "      <td>...</td>\n",
       "      <td>...</td>\n",
       "      <td>...</td>\n",
       "    </tr>\n",
       "    <tr>\n",
       "      <th>20999</th>\n",
       "      <td>http://www.washingtonpost.com/opinions/dana-mi...</td>\n",
       "      <td>News</td>\n",
       "      <td>1</td>\n",
       "      <td>Republican Scandals</td>\n",
       "      <td>Republican Scandals</td>\n",
       "      <td>SomewhatPositive</td>\n",
       "      <td>SomewhatNegative</td>\n",
       "      <td>President Obama won reelection in part by beat...</td>\n",
       "    </tr>\n",
       "    <tr>\n",
       "      <th>21000</th>\n",
       "      <td>http://news.yahoo.com/republicans-hatred-obama...</td>\n",
       "      <td>Opinion</td>\n",
       "      <td>1</td>\n",
       "      <td>Republican Scandals</td>\n",
       "      <td>Republican Scandals</td>\n",
       "      <td>SomewhatPositive</td>\n",
       "      <td>SomewhatNegative</td>\n",
       "      <td>Red-faced Republicans, circling and preparing ...</td>\n",
       "    </tr>\n",
       "    <tr>\n",
       "      <th>21001</th>\n",
       "      <td>http://www.washingtonpost.com/opinions/dana-mi...</td>\n",
       "      <td>News</td>\n",
       "      <td>1</td>\n",
       "      <td>Republican Scandals</td>\n",
       "      <td>Republican Scandals</td>\n",
       "      <td>Neutral</td>\n",
       "      <td>Neutral</td>\n",
       "      <td>Rep. Steve Stockman’s moment as a viable Senat...</td>\n",
       "    </tr>\n",
       "    <tr>\n",
       "      <th>21002</th>\n",
       "      <td>http://www.washingtonpost.com/opinions/ej-dion...</td>\n",
       "      <td>News</td>\n",
       "      <td>1</td>\n",
       "      <td>Republican Scandals</td>\n",
       "      <td>Republican Scandals</td>\n",
       "      <td>SomewhatPositive</td>\n",
       "      <td>SomewhatNegative</td>\n",
       "      <td>We interrupt this highly partisan and ideologi...</td>\n",
       "    </tr>\n",
       "    <tr>\n",
       "      <th>21003</th>\n",
       "      <td>http://www.huffingtonpost.com/2013/08/11/this-...</td>\n",
       "      <td>Opinion</td>\n",
       "      <td>1</td>\n",
       "      <td>Republican Scandals</td>\n",
       "      <td>Republican Scandals</td>\n",
       "      <td>SomewhatPositive</td>\n",
       "      <td>SomewhatNegative</td>\n",
       "      <td>FILE - In this Sept. 27, 2012 file photo, Dona...</td>\n",
       "    </tr>\n",
       "  </tbody>\n",
       "</table>\n",
       "<p>21004 rows × 8 columns</p>\n",
       "</div>"
      ],
      "text/plain": [
       "                                                     url       q3  perceived  \\\n",
       "0      http://www.usatoday.com/story/news/nation/2013...    other          1   \n",
       "1      http://www.huffingtonpost.com/2013/05/21/senat...     News          0   \n",
       "2      http://www.washingtonpost.com/opinions/dont-le...  Opinion          1   \n",
       "3      http://www.foxnews.com/politics/2013/04/03/oba...  Opinion          1   \n",
       "4      http://www.breitbart.com/Big-Government/2013/1...  Opinion          1   \n",
       "...                                                  ...      ...        ...   \n",
       "20999  http://www.washingtonpost.com/opinions/dana-mi...     News          1   \n",
       "21000  http://news.yahoo.com/republicans-hatred-obama...  Opinion          1   \n",
       "21001  http://www.washingtonpost.com/opinions/dana-mi...     News          1   \n",
       "21002  http://www.washingtonpost.com/opinions/ej-dion...     News          1   \n",
       "21003  http://www.huffingtonpost.com/2013/08/11/this-...  Opinion          1   \n",
       "\n",
       "             primary.topic      secondary.topic     democrat.vote  \\\n",
       "0             Civil Rights         Civil Rights           Neutral   \n",
       "1             Civil Rights         Civil Rights           Neutral   \n",
       "2             Civil Rights         Civil Rights           Neutral   \n",
       "3             Civil Rights         Civil Rights           Neutral   \n",
       "4             Civil Rights         Civil Rights           Neutral   \n",
       "...                    ...                  ...               ...   \n",
       "20999  Republican Scandals  Republican Scandals  SomewhatPositive   \n",
       "21000  Republican Scandals  Republican Scandals  SomewhatPositive   \n",
       "21001  Republican Scandals  Republican Scandals           Neutral   \n",
       "21002  Republican Scandals  Republican Scandals  SomewhatPositive   \n",
       "21003  Republican Scandals  Republican Scandals  SomewhatPositive   \n",
       "\n",
       "        republican.vote                                            article  \n",
       "0               Neutral  Maggie Clark\\n\\nPew/Stateline Staff Writer\\n\\n...  \n",
       "1               Neutral  WASHINGTON -- The Senate Judiciary Committee a...  \n",
       "2               Neutral  David Cole is a professor of constitutional la...  \n",
       "3               Neutral  Parts of ObamaCare are starting to fray, even ...  \n",
       "4               Neutral  U.S. Immigration Citizenship and Immigration S...  \n",
       "...                 ...                                                ...  \n",
       "20999  SomewhatNegative  President Obama won reelection in part by beat...  \n",
       "21000  SomewhatNegative  Red-faced Republicans, circling and preparing ...  \n",
       "21001           Neutral  Rep. Steve Stockman’s moment as a viable Senat...  \n",
       "21002  SomewhatNegative  We interrupt this highly partisan and ideologi...  \n",
       "21003  SomewhatNegative  FILE - In this Sept. 27, 2012 file photo, Dona...  \n",
       "\n",
       "[21004 rows x 8 columns]"
      ]
     },
     "execution_count": 4,
     "metadata": {},
     "output_type": "execute_result"
    }
   ],
   "source": [
    "data = pd.read_table(\"articledata.csv\", sep='\\t', index_col=0)\n",
    "data"
   ]
  },
  {
   "cell_type": "code",
   "execution_count": 5,
   "metadata": {},
   "outputs": [
    {
     "name": "stderr",
     "output_type": "stream",
     "text": [
      "<ipython-input-5-d4a13a7e4adb>:2: SettingWithCopyWarning: \n",
      "A value is trying to be set on a copy of a slice from a DataFrame\n",
      "\n",
      "See the caveats in the documentation: https://pandas.pydata.org/pandas-docs/stable/user_guide/indexing.html#returning-a-view-versus-a-copy\n",
      "  data.dropna(inplace=True)\n"
     ]
    },
    {
     "data": {
      "text/plain": [
       "(16590, 8)"
      ]
     },
     "execution_count": 5,
     "metadata": {},
     "output_type": "execute_result"
    }
   ],
   "source": [
    "data = data[data.article != 'badurl']\n",
    "data.dropna(inplace=True)\n",
    "data.reset_index(drop=True, inplace=True)\n",
    "data.shape"
   ]
  },
  {
   "cell_type": "code",
   "execution_count": 6,
   "metadata": {},
   "outputs": [
    {
     "data": {
      "text/html": [
       "<div>\n",
       "<style scoped>\n",
       "    .dataframe tbody tr th:only-of-type {\n",
       "        vertical-align: middle;\n",
       "    }\n",
       "\n",
       "    .dataframe tbody tr th {\n",
       "        vertical-align: top;\n",
       "    }\n",
       "\n",
       "    .dataframe thead th {\n",
       "        text-align: right;\n",
       "    }\n",
       "</style>\n",
       "<table border=\"1\" class=\"dataframe\">\n",
       "  <thead>\n",
       "    <tr style=\"text-align: right;\">\n",
       "      <th></th>\n",
       "      <th>url</th>\n",
       "      <th>q3</th>\n",
       "      <th>perceived</th>\n",
       "      <th>primary.topic</th>\n",
       "      <th>secondary.topic</th>\n",
       "      <th>democrat.vote</th>\n",
       "      <th>republican.vote</th>\n",
       "      <th>article</th>\n",
       "    </tr>\n",
       "  </thead>\n",
       "  <tbody>\n",
       "    <tr>\n",
       "      <th>0</th>\n",
       "      <td>http://www.usatoday.com/story/news/nation/2013...</td>\n",
       "      <td>other</td>\n",
       "      <td>1</td>\n",
       "      <td>Civil Rights</td>\n",
       "      <td>Civil Rights</td>\n",
       "      <td>Neutral</td>\n",
       "      <td>Neutral</td>\n",
       "      <td>Maggie Clark\\n\\nPew/Stateline Staff Writer\\n\\n...</td>\n",
       "    </tr>\n",
       "    <tr>\n",
       "      <th>1</th>\n",
       "      <td>http://www.huffingtonpost.com/2013/05/21/senat...</td>\n",
       "      <td>News</td>\n",
       "      <td>0</td>\n",
       "      <td>Civil Rights</td>\n",
       "      <td>Civil Rights</td>\n",
       "      <td>Neutral</td>\n",
       "      <td>Neutral</td>\n",
       "      <td>WASHINGTON -- The Senate Judiciary Committee a...</td>\n",
       "    </tr>\n",
       "    <tr>\n",
       "      <th>2</th>\n",
       "      <td>http://www.washingtonpost.com/opinions/dont-le...</td>\n",
       "      <td>Opinion</td>\n",
       "      <td>1</td>\n",
       "      <td>Civil Rights</td>\n",
       "      <td>Civil Rights</td>\n",
       "      <td>Neutral</td>\n",
       "      <td>Neutral</td>\n",
       "      <td>David Cole is a professor of constitutional la...</td>\n",
       "    </tr>\n",
       "    <tr>\n",
       "      <th>3</th>\n",
       "      <td>http://www.foxnews.com/politics/2013/04/03/oba...</td>\n",
       "      <td>Opinion</td>\n",
       "      <td>1</td>\n",
       "      <td>Civil Rights</td>\n",
       "      <td>Civil Rights</td>\n",
       "      <td>Neutral</td>\n",
       "      <td>Neutral</td>\n",
       "      <td>Parts of ObamaCare are starting to fray, even ...</td>\n",
       "    </tr>\n",
       "    <tr>\n",
       "      <th>4</th>\n",
       "      <td>http://www.breitbart.com/Big-Government/2013/1...</td>\n",
       "      <td>Opinion</td>\n",
       "      <td>1</td>\n",
       "      <td>Civil Rights</td>\n",
       "      <td>Civil Rights</td>\n",
       "      <td>Neutral</td>\n",
       "      <td>Neutral</td>\n",
       "      <td>U.S. Immigration Citizenship and Immigration S...</td>\n",
       "    </tr>\n",
       "    <tr>\n",
       "      <th>...</th>\n",
       "      <td>...</td>\n",
       "      <td>...</td>\n",
       "      <td>...</td>\n",
       "      <td>...</td>\n",
       "      <td>...</td>\n",
       "      <td>...</td>\n",
       "      <td>...</td>\n",
       "      <td>...</td>\n",
       "    </tr>\n",
       "    <tr>\n",
       "      <th>16585</th>\n",
       "      <td>http://www.washingtonpost.com/opinions/dana-mi...</td>\n",
       "      <td>News</td>\n",
       "      <td>1</td>\n",
       "      <td>Republican Scandals</td>\n",
       "      <td>Republican Scandals</td>\n",
       "      <td>SomewhatPositive</td>\n",
       "      <td>SomewhatNegative</td>\n",
       "      <td>President Obama won reelection in part by beat...</td>\n",
       "    </tr>\n",
       "    <tr>\n",
       "      <th>16586</th>\n",
       "      <td>http://news.yahoo.com/republicans-hatred-obama...</td>\n",
       "      <td>Opinion</td>\n",
       "      <td>1</td>\n",
       "      <td>Republican Scandals</td>\n",
       "      <td>Republican Scandals</td>\n",
       "      <td>SomewhatPositive</td>\n",
       "      <td>SomewhatNegative</td>\n",
       "      <td>Red-faced Republicans, circling and preparing ...</td>\n",
       "    </tr>\n",
       "    <tr>\n",
       "      <th>16587</th>\n",
       "      <td>http://www.washingtonpost.com/opinions/dana-mi...</td>\n",
       "      <td>News</td>\n",
       "      <td>1</td>\n",
       "      <td>Republican Scandals</td>\n",
       "      <td>Republican Scandals</td>\n",
       "      <td>Neutral</td>\n",
       "      <td>Neutral</td>\n",
       "      <td>Rep. Steve Stockman’s moment as a viable Senat...</td>\n",
       "    </tr>\n",
       "    <tr>\n",
       "      <th>16588</th>\n",
       "      <td>http://www.washingtonpost.com/opinions/ej-dion...</td>\n",
       "      <td>News</td>\n",
       "      <td>1</td>\n",
       "      <td>Republican Scandals</td>\n",
       "      <td>Republican Scandals</td>\n",
       "      <td>SomewhatPositive</td>\n",
       "      <td>SomewhatNegative</td>\n",
       "      <td>We interrupt this highly partisan and ideologi...</td>\n",
       "    </tr>\n",
       "    <tr>\n",
       "      <th>16589</th>\n",
       "      <td>http://www.huffingtonpost.com/2013/08/11/this-...</td>\n",
       "      <td>Opinion</td>\n",
       "      <td>1</td>\n",
       "      <td>Republican Scandals</td>\n",
       "      <td>Republican Scandals</td>\n",
       "      <td>SomewhatPositive</td>\n",
       "      <td>SomewhatNegative</td>\n",
       "      <td>FILE - In this Sept. 27, 2012 file photo, Dona...</td>\n",
       "    </tr>\n",
       "  </tbody>\n",
       "</table>\n",
       "<p>16590 rows × 8 columns</p>\n",
       "</div>"
      ],
      "text/plain": [
       "                                                     url       q3  perceived  \\\n",
       "0      http://www.usatoday.com/story/news/nation/2013...    other          1   \n",
       "1      http://www.huffingtonpost.com/2013/05/21/senat...     News          0   \n",
       "2      http://www.washingtonpost.com/opinions/dont-le...  Opinion          1   \n",
       "3      http://www.foxnews.com/politics/2013/04/03/oba...  Opinion          1   \n",
       "4      http://www.breitbart.com/Big-Government/2013/1...  Opinion          1   \n",
       "...                                                  ...      ...        ...   \n",
       "16585  http://www.washingtonpost.com/opinions/dana-mi...     News          1   \n",
       "16586  http://news.yahoo.com/republicans-hatred-obama...  Opinion          1   \n",
       "16587  http://www.washingtonpost.com/opinions/dana-mi...     News          1   \n",
       "16588  http://www.washingtonpost.com/opinions/ej-dion...     News          1   \n",
       "16589  http://www.huffingtonpost.com/2013/08/11/this-...  Opinion          1   \n",
       "\n",
       "             primary.topic      secondary.topic     democrat.vote  \\\n",
       "0             Civil Rights         Civil Rights           Neutral   \n",
       "1             Civil Rights         Civil Rights           Neutral   \n",
       "2             Civil Rights         Civil Rights           Neutral   \n",
       "3             Civil Rights         Civil Rights           Neutral   \n",
       "4             Civil Rights         Civil Rights           Neutral   \n",
       "...                    ...                  ...               ...   \n",
       "16585  Republican Scandals  Republican Scandals  SomewhatPositive   \n",
       "16586  Republican Scandals  Republican Scandals  SomewhatPositive   \n",
       "16587  Republican Scandals  Republican Scandals           Neutral   \n",
       "16588  Republican Scandals  Republican Scandals  SomewhatPositive   \n",
       "16589  Republican Scandals  Republican Scandals  SomewhatPositive   \n",
       "\n",
       "        republican.vote                                            article  \n",
       "0               Neutral  Maggie Clark\\n\\nPew/Stateline Staff Writer\\n\\n...  \n",
       "1               Neutral  WASHINGTON -- The Senate Judiciary Committee a...  \n",
       "2               Neutral  David Cole is a professor of constitutional la...  \n",
       "3               Neutral  Parts of ObamaCare are starting to fray, even ...  \n",
       "4               Neutral  U.S. Immigration Citizenship and Immigration S...  \n",
       "...                 ...                                                ...  \n",
       "16585  SomewhatNegative  President Obama won reelection in part by beat...  \n",
       "16586  SomewhatNegative  Red-faced Republicans, circling and preparing ...  \n",
       "16587           Neutral  Rep. Steve Stockman’s moment as a viable Senat...  \n",
       "16588  SomewhatNegative  We interrupt this highly partisan and ideologi...  \n",
       "16589  SomewhatNegative  FILE - In this Sept. 27, 2012 file photo, Dona...  \n",
       "\n",
       "[16590 rows x 8 columns]"
      ]
     },
     "execution_count": 6,
     "metadata": {},
     "output_type": "execute_result"
    }
   ],
   "source": [
    "data"
   ]
  },
  {
   "cell_type": "code",
   "execution_count": 7,
   "metadata": {},
   "outputs": [
    {
     "data": {
      "text/plain": [
       "0    Maggie Clark\\n\\nPew/Stateline Staff Writer\\n\\n...\n",
       "1    WASHINGTON -- The Senate Judiciary Committee a...\n",
       "2    David Cole is a professor of constitutional la...\n",
       "3    Parts of ObamaCare are starting to fray, even ...\n",
       "4    U.S. Immigration Citizenship and Immigration S...\n",
       "5    Story highlights Rules let groups like religio...\n",
       "6    Cispa has also secured the backing of several ...\n",
       "7    New disclosures shared by Edward Snowden focus...\n",
       "8    Cha của Snowden 'chuẩn bị thăm con'\\n\\nChụp lạ...\n",
       "9    Tom Vanden Brook, @tvandenbrook\\n\\nUSA TODAY\\n...\n",
       "Name: article, dtype: object"
      ]
     },
     "execution_count": 7,
     "metadata": {},
     "output_type": "execute_result"
    }
   ],
   "source": [
    "data.article[0:10]"
   ]
  },
  {
   "cell_type": "code",
   "execution_count": 8,
   "metadata": {},
   "outputs": [
    {
     "data": {
      "text/plain": [
       "0    Maggie Clark\\n\\nPew/Stateline Staff Writer\\n\\n...\n",
       "1    WASHINGTON -- The Senate Judiciary Committee a...\n",
       "2    David Cole is a professor of constitutional la...\n",
       "3    Parts of ObamaCare are starting to fray, even ...\n",
       "4    U.S. Immigration Citizenship and Immigration S...\n",
       "5    Story highlights Rules let groups like religio...\n",
       "6    Cispa has also secured the backing of several ...\n",
       "7    New disclosures shared by Edward Snowden focus...\n",
       "8    Tom Vanden Brook, @tvandenbrook\\n\\nUSA TODAY\\n...\n",
       "9    \\n\\n\\n\\n\\n\\n\\n\\n\\n\\n\\n\\nThe following irrespon...\n",
       "Name: article, dtype: object"
      ]
     },
     "execution_count": 8,
     "metadata": {},
     "output_type": "execute_result"
    }
   ],
   "source": [
    "data = data.drop(8)\n",
    "data.reset_index(drop=True, inplace=True)\n",
    "data.article[0:10]"
   ]
  },
  {
   "cell_type": "code",
   "execution_count": null,
   "metadata": {},
   "outputs": [],
   "source": []
  },
  {
   "cell_type": "code",
   "execution_count": 9,
   "metadata": {},
   "outputs": [],
   "source": [
    "# rex = \"tics cited by Mayors Against Illegal Guns.  Advertisement  For more than two decades, the state has kept centralized records on people who are ineligible under state law to possess firearms for mental health reasons. But because of privacy concerns, as well as differences in state and federal reporting standards, it took years for the state to begin sharing them.  California also goes beyond federal law in trying to keep guns out of the hands of the mentally ill. The state bans firearms possession for five years after someone is placed on a 72-hour psychiatric commitment.  Advertisement  One of the main obstacles in developing the federal mental health database for the background check system is confusion over who should be included. The law says the database should include people who have been judged \\xe2\\x80\\x9cmentally defective.\\xe2\\x80\\x9d  \\xe2\\x80\\x9cNot only is that term highly offensive, it\\xe2\\x80\\x99s completely outdated,\\xe2\\x80\\x9d said Ron Honberg, policy director at the National Alliance on Mental Illness. \\xe2\\x80\\x9cI think there\\xe2\\x80\\x99s a lack of clarity, so states are all over the map on how to interpret it.\\xe2\\x80\\x9d  Advertisement  In Alabama, for example, state officials decided to submit the names of people who had been involuntarily committed to institutions only when they\\xe2\\x80\\x99d also been found guilty of an \\xe2\\x80\\x9cinappropriate use of firearms\\xe2\\x80\\x9d or shown to be a threat to do so. That turned out to be just 243 people, according to a report by Mayors Against Illegal Guns.  Some states have delayed over worries about privacy concerns. Others have antiquated database systems or say they don\\xe2\\x80\\x99t ha\"\n",
    "# ex = r\"{}\".format(rex)\n",
    "# print(rex)\n",
    "# # ex.replace(r'\\\\x.{2}', ' ') \n",
    "# # ex.replace(r'\\x[0-9A-F]{2}', ' ') \n",
    "# # re.sub(r'â', ' ', ex) \n",
    "\n",
    "\n",
    "# newex = re.sub(r'\\\\x.{2}', '', ex)\n",
    "# print(newex)\n",
    "\n",
    "# # newex = ex.replace(r'\\\\x.{2}', '')\n",
    "# # newex"
   ]
  },
  {
   "cell_type": "code",
   "execution_count": 10,
   "metadata": {},
   "outputs": [],
   "source": [
    "# for i in data.article[0:100]:\n",
    "#     print(i)\n",
    "#     print(\"\")"
   ]
  },
  {
   "cell_type": "code",
   "execution_count": 11,
   "metadata": {},
   "outputs": [
    {
     "data": {
      "text/html": [
       "<div>\n",
       "<style scoped>\n",
       "    .dataframe tbody tr th:only-of-type {\n",
       "        vertical-align: middle;\n",
       "    }\n",
       "\n",
       "    .dataframe tbody tr th {\n",
       "        vertical-align: top;\n",
       "    }\n",
       "\n",
       "    .dataframe thead th {\n",
       "        text-align: right;\n",
       "    }\n",
       "</style>\n",
       "<table border=\"1\" class=\"dataframe\">\n",
       "  <thead>\n",
       "    <tr style=\"text-align: right;\">\n",
       "      <th></th>\n",
       "      <th>url</th>\n",
       "      <th>q3</th>\n",
       "      <th>perceived</th>\n",
       "      <th>primary.topic</th>\n",
       "      <th>secondary.topic</th>\n",
       "      <th>democrat.vote</th>\n",
       "      <th>republican.vote</th>\n",
       "      <th>article</th>\n",
       "    </tr>\n",
       "  </thead>\n",
       "  <tbody>\n",
       "    <tr>\n",
       "      <th>0</th>\n",
       "      <td>http://www.usatoday.com/story/news/nation/2013...</td>\n",
       "      <td>other</td>\n",
       "      <td>1</td>\n",
       "      <td>Civil Rights</td>\n",
       "      <td>Civil Rights</td>\n",
       "      <td>Neutral</td>\n",
       "      <td>Neutral</td>\n",
       "      <td>Maggie Clark\\n\\nPew/Stateline Staff Writer\\n\\n...</td>\n",
       "    </tr>\n",
       "    <tr>\n",
       "      <th>1</th>\n",
       "      <td>http://www.huffingtonpost.com/2013/05/21/senat...</td>\n",
       "      <td>News</td>\n",
       "      <td>0</td>\n",
       "      <td>Civil Rights</td>\n",
       "      <td>Civil Rights</td>\n",
       "      <td>Neutral</td>\n",
       "      <td>Neutral</td>\n",
       "      <td>WASHINGTON -- The Senate Judiciary Committee a...</td>\n",
       "    </tr>\n",
       "    <tr>\n",
       "      <th>2</th>\n",
       "      <td>http://www.washingtonpost.com/opinions/dont-le...</td>\n",
       "      <td>Opinion</td>\n",
       "      <td>1</td>\n",
       "      <td>Civil Rights</td>\n",
       "      <td>Civil Rights</td>\n",
       "      <td>Neutral</td>\n",
       "      <td>Neutral</td>\n",
       "      <td>David Cole is a professor of constitutional la...</td>\n",
       "    </tr>\n",
       "    <tr>\n",
       "      <th>3</th>\n",
       "      <td>http://www.foxnews.com/politics/2013/04/03/oba...</td>\n",
       "      <td>Opinion</td>\n",
       "      <td>1</td>\n",
       "      <td>Civil Rights</td>\n",
       "      <td>Civil Rights</td>\n",
       "      <td>Neutral</td>\n",
       "      <td>Neutral</td>\n",
       "      <td>Parts of ObamaCare are starting to fray, even ...</td>\n",
       "    </tr>\n",
       "    <tr>\n",
       "      <th>4</th>\n",
       "      <td>http://www.breitbart.com/Big-Government/2013/1...</td>\n",
       "      <td>Opinion</td>\n",
       "      <td>1</td>\n",
       "      <td>Civil Rights</td>\n",
       "      <td>Civil Rights</td>\n",
       "      <td>Neutral</td>\n",
       "      <td>Neutral</td>\n",
       "      <td>U.S. Immigration Citizenship and Immigration S...</td>\n",
       "    </tr>\n",
       "    <tr>\n",
       "      <th>...</th>\n",
       "      <td>...</td>\n",
       "      <td>...</td>\n",
       "      <td>...</td>\n",
       "      <td>...</td>\n",
       "      <td>...</td>\n",
       "      <td>...</td>\n",
       "      <td>...</td>\n",
       "      <td>...</td>\n",
       "    </tr>\n",
       "    <tr>\n",
       "      <th>16584</th>\n",
       "      <td>http://www.washingtonpost.com/opinions/dana-mi...</td>\n",
       "      <td>News</td>\n",
       "      <td>1</td>\n",
       "      <td>Republican Scandals</td>\n",
       "      <td>Republican Scandals</td>\n",
       "      <td>SomewhatPositive</td>\n",
       "      <td>SomewhatNegative</td>\n",
       "      <td>President Obama won reelection in part by beat...</td>\n",
       "    </tr>\n",
       "    <tr>\n",
       "      <th>16585</th>\n",
       "      <td>http://news.yahoo.com/republicans-hatred-obama...</td>\n",
       "      <td>Opinion</td>\n",
       "      <td>1</td>\n",
       "      <td>Republican Scandals</td>\n",
       "      <td>Republican Scandals</td>\n",
       "      <td>SomewhatPositive</td>\n",
       "      <td>SomewhatNegative</td>\n",
       "      <td>Red-faced Republicans, circling and preparing ...</td>\n",
       "    </tr>\n",
       "    <tr>\n",
       "      <th>16586</th>\n",
       "      <td>http://www.washingtonpost.com/opinions/dana-mi...</td>\n",
       "      <td>News</td>\n",
       "      <td>1</td>\n",
       "      <td>Republican Scandals</td>\n",
       "      <td>Republican Scandals</td>\n",
       "      <td>Neutral</td>\n",
       "      <td>Neutral</td>\n",
       "      <td>Rep. Steve Stockman’s moment as a viable Senat...</td>\n",
       "    </tr>\n",
       "    <tr>\n",
       "      <th>16587</th>\n",
       "      <td>http://www.washingtonpost.com/opinions/ej-dion...</td>\n",
       "      <td>News</td>\n",
       "      <td>1</td>\n",
       "      <td>Republican Scandals</td>\n",
       "      <td>Republican Scandals</td>\n",
       "      <td>SomewhatPositive</td>\n",
       "      <td>SomewhatNegative</td>\n",
       "      <td>We interrupt this highly partisan and ideologi...</td>\n",
       "    </tr>\n",
       "    <tr>\n",
       "      <th>16588</th>\n",
       "      <td>http://www.huffingtonpost.com/2013/08/11/this-...</td>\n",
       "      <td>Opinion</td>\n",
       "      <td>1</td>\n",
       "      <td>Republican Scandals</td>\n",
       "      <td>Republican Scandals</td>\n",
       "      <td>SomewhatPositive</td>\n",
       "      <td>SomewhatNegative</td>\n",
       "      <td>FILE - In this Sept. 27, 2012 file photo, Dona...</td>\n",
       "    </tr>\n",
       "  </tbody>\n",
       "</table>\n",
       "<p>16589 rows × 8 columns</p>\n",
       "</div>"
      ],
      "text/plain": [
       "                                                     url       q3  perceived  \\\n",
       "0      http://www.usatoday.com/story/news/nation/2013...    other          1   \n",
       "1      http://www.huffingtonpost.com/2013/05/21/senat...     News          0   \n",
       "2      http://www.washingtonpost.com/opinions/dont-le...  Opinion          1   \n",
       "3      http://www.foxnews.com/politics/2013/04/03/oba...  Opinion          1   \n",
       "4      http://www.breitbart.com/Big-Government/2013/1...  Opinion          1   \n",
       "...                                                  ...      ...        ...   \n",
       "16584  http://www.washingtonpost.com/opinions/dana-mi...     News          1   \n",
       "16585  http://news.yahoo.com/republicans-hatred-obama...  Opinion          1   \n",
       "16586  http://www.washingtonpost.com/opinions/dana-mi...     News          1   \n",
       "16587  http://www.washingtonpost.com/opinions/ej-dion...     News          1   \n",
       "16588  http://www.huffingtonpost.com/2013/08/11/this-...  Opinion          1   \n",
       "\n",
       "             primary.topic      secondary.topic     democrat.vote  \\\n",
       "0             Civil Rights         Civil Rights           Neutral   \n",
       "1             Civil Rights         Civil Rights           Neutral   \n",
       "2             Civil Rights         Civil Rights           Neutral   \n",
       "3             Civil Rights         Civil Rights           Neutral   \n",
       "4             Civil Rights         Civil Rights           Neutral   \n",
       "...                    ...                  ...               ...   \n",
       "16584  Republican Scandals  Republican Scandals  SomewhatPositive   \n",
       "16585  Republican Scandals  Republican Scandals  SomewhatPositive   \n",
       "16586  Republican Scandals  Republican Scandals           Neutral   \n",
       "16587  Republican Scandals  Republican Scandals  SomewhatPositive   \n",
       "16588  Republican Scandals  Republican Scandals  SomewhatPositive   \n",
       "\n",
       "        republican.vote                                            article  \n",
       "0               Neutral  Maggie Clark\\n\\nPew/Stateline Staff Writer\\n\\n...  \n",
       "1               Neutral  WASHINGTON -- The Senate Judiciary Committee a...  \n",
       "2               Neutral  David Cole is a professor of constitutional la...  \n",
       "3               Neutral  Parts of ObamaCare are starting to fray, even ...  \n",
       "4               Neutral  U.S. Immigration Citizenship and Immigration S...  \n",
       "...                 ...                                                ...  \n",
       "16584  SomewhatNegative  President Obama won reelection in part by beat...  \n",
       "16585  SomewhatNegative  Red-faced Republicans, circling and preparing ...  \n",
       "16586           Neutral  Rep. Steve Stockman’s moment as a viable Senat...  \n",
       "16587  SomewhatNegative  We interrupt this highly partisan and ideologi...  \n",
       "16588  SomewhatNegative  FILE - In this Sept. 27, 2012 file photo, Dona...  \n",
       "\n",
       "[16589 rows x 8 columns]"
      ]
     },
     "execution_count": 11,
     "metadata": {},
     "output_type": "execute_result"
    }
   ],
   "source": [
    "\n",
    "    \n",
    "# for i in range(len(data['article']):\n",
    "#     temp = data['article'][i]\n",
    "#     temp1 = re.sub(r'\\\\x[0-9A-F]{2}', '', temp)\n",
    "#     temp =  r\"{}\".format(string)\n",
    "#     temp \n",
    "# data['article'] = data['article'].str.lower() # transform strings to lowercase\n",
    "data['article'] = data['article'].str.replace(r'\\\\x.{2},', ' ', regex=True)  # deal with \"byte\" values (\\xe2\\x80\\x9d )\n",
    "data['article'] = data['article'].str.replace(r'<[^>]*>', ' ', regex=True)  # deal with html tags values (<div>, <br>)\n",
    "data['article'] = data['article'].str.replace(r'(?<=@)(.*)(?=\\s)', '', regex=True) # remove twitter usernames\n",
    "# data['article'] = data['article'].str.replace(r'(?!(([^\"]*\"){2})*[^\"]*$),', '', regex=True)  # deal with '\"10,000\"' and convert them to '10000' \n",
    "data"
   ]
  },
  {
   "cell_type": "code",
   "execution_count": 12,
   "metadata": {},
   "outputs": [
    {
     "name": "stderr",
     "output_type": "stream",
     "text": [
      "<ipython-input-12-48abbb1a9241>:7: FutureWarning: The default value of regex will change from True to False in a future version.\n",
      "  data['article'] = data['article'].str.replace(i, \" \")\n"
     ]
    },
    {
     "data": {
      "text/html": [
       "<div>\n",
       "<style scoped>\n",
       "    .dataframe tbody tr th:only-of-type {\n",
       "        vertical-align: middle;\n",
       "    }\n",
       "\n",
       "    .dataframe tbody tr th {\n",
       "        vertical-align: top;\n",
       "    }\n",
       "\n",
       "    .dataframe thead th {\n",
       "        text-align: right;\n",
       "    }\n",
       "</style>\n",
       "<table border=\"1\" class=\"dataframe\">\n",
       "  <thead>\n",
       "    <tr style=\"text-align: right;\">\n",
       "      <th></th>\n",
       "      <th>url</th>\n",
       "      <th>q3</th>\n",
       "      <th>perceived</th>\n",
       "      <th>primary.topic</th>\n",
       "      <th>secondary.topic</th>\n",
       "      <th>democrat.vote</th>\n",
       "      <th>republican.vote</th>\n",
       "      <th>article</th>\n",
       "    </tr>\n",
       "  </thead>\n",
       "  <tbody>\n",
       "    <tr>\n",
       "      <th>0</th>\n",
       "      <td>http://www.usatoday.com/story/news/nation/2013...</td>\n",
       "      <td>other</td>\n",
       "      <td>1</td>\n",
       "      <td>Civil Rights</td>\n",
       "      <td>Civil Rights</td>\n",
       "      <td>Neutral</td>\n",
       "      <td>Neutral</td>\n",
       "      <td>Maggie Clark  Pew Stateline Staff Writer  21 s...</td>\n",
       "    </tr>\n",
       "    <tr>\n",
       "      <th>1</th>\n",
       "      <td>http://www.huffingtonpost.com/2013/05/21/senat...</td>\n",
       "      <td>News</td>\n",
       "      <td>0</td>\n",
       "      <td>Civil Rights</td>\n",
       "      <td>Civil Rights</td>\n",
       "      <td>Neutral</td>\n",
       "      <td>Neutral</td>\n",
       "      <td>WASHINGTON -- The Senate Judiciary Committee a...</td>\n",
       "    </tr>\n",
       "    <tr>\n",
       "      <th>2</th>\n",
       "      <td>http://www.washingtonpost.com/opinions/dont-le...</td>\n",
       "      <td>Opinion</td>\n",
       "      <td>1</td>\n",
       "      <td>Civil Rights</td>\n",
       "      <td>Civil Rights</td>\n",
       "      <td>Neutral</td>\n",
       "      <td>Neutral</td>\n",
       "      <td>David Cole is a professor of constitutional la...</td>\n",
       "    </tr>\n",
       "    <tr>\n",
       "      <th>3</th>\n",
       "      <td>http://www.foxnews.com/politics/2013/04/03/oba...</td>\n",
       "      <td>Opinion</td>\n",
       "      <td>1</td>\n",
       "      <td>Civil Rights</td>\n",
       "      <td>Civil Rights</td>\n",
       "      <td>Neutral</td>\n",
       "      <td>Neutral</td>\n",
       "      <td>Parts of ObamaCare are starting to fray, even ...</td>\n",
       "    </tr>\n",
       "    <tr>\n",
       "      <th>4</th>\n",
       "      <td>http://www.breitbart.com/Big-Government/2013/1...</td>\n",
       "      <td>Opinion</td>\n",
       "      <td>1</td>\n",
       "      <td>Civil Rights</td>\n",
       "      <td>Civil Rights</td>\n",
       "      <td>Neutral</td>\n",
       "      <td>Neutral</td>\n",
       "      <td>U.S. Immigration Citizenship and Immigration S...</td>\n",
       "    </tr>\n",
       "    <tr>\n",
       "      <th>...</th>\n",
       "      <td>...</td>\n",
       "      <td>...</td>\n",
       "      <td>...</td>\n",
       "      <td>...</td>\n",
       "      <td>...</td>\n",
       "      <td>...</td>\n",
       "      <td>...</td>\n",
       "      <td>...</td>\n",
       "    </tr>\n",
       "    <tr>\n",
       "      <th>16584</th>\n",
       "      <td>http://www.washingtonpost.com/opinions/dana-mi...</td>\n",
       "      <td>News</td>\n",
       "      <td>1</td>\n",
       "      <td>Republican Scandals</td>\n",
       "      <td>Republican Scandals</td>\n",
       "      <td>SomewhatPositive</td>\n",
       "      <td>SomewhatNegative</td>\n",
       "      <td>President Obama won reelection in part by beat...</td>\n",
       "    </tr>\n",
       "    <tr>\n",
       "      <th>16585</th>\n",
       "      <td>http://news.yahoo.com/republicans-hatred-obama...</td>\n",
       "      <td>Opinion</td>\n",
       "      <td>1</td>\n",
       "      <td>Republican Scandals</td>\n",
       "      <td>Republican Scandals</td>\n",
       "      <td>SomewhatPositive</td>\n",
       "      <td>SomewhatNegative</td>\n",
       "      <td>Red-faced Republicans, circling and preparing ...</td>\n",
       "    </tr>\n",
       "    <tr>\n",
       "      <th>16586</th>\n",
       "      <td>http://www.washingtonpost.com/opinions/dana-mi...</td>\n",
       "      <td>News</td>\n",
       "      <td>1</td>\n",
       "      <td>Republican Scandals</td>\n",
       "      <td>Republican Scandals</td>\n",
       "      <td>Neutral</td>\n",
       "      <td>Neutral</td>\n",
       "      <td>Rep. Steve Stockman’s moment as a viable Senat...</td>\n",
       "    </tr>\n",
       "    <tr>\n",
       "      <th>16587</th>\n",
       "      <td>http://www.washingtonpost.com/opinions/ej-dion...</td>\n",
       "      <td>News</td>\n",
       "      <td>1</td>\n",
       "      <td>Republican Scandals</td>\n",
       "      <td>Republican Scandals</td>\n",
       "      <td>SomewhatPositive</td>\n",
       "      <td>SomewhatNegative</td>\n",
       "      <td>We interrupt this highly partisan and ideologi...</td>\n",
       "    </tr>\n",
       "    <tr>\n",
       "      <th>16588</th>\n",
       "      <td>http://www.huffingtonpost.com/2013/08/11/this-...</td>\n",
       "      <td>Opinion</td>\n",
       "      <td>1</td>\n",
       "      <td>Republican Scandals</td>\n",
       "      <td>Republican Scandals</td>\n",
       "      <td>SomewhatPositive</td>\n",
       "      <td>SomewhatNegative</td>\n",
       "      <td>FILE - In this Sept. 27, 2012 file photo, Dona...</td>\n",
       "    </tr>\n",
       "  </tbody>\n",
       "</table>\n",
       "<p>16589 rows × 8 columns</p>\n",
       "</div>"
      ],
      "text/plain": [
       "                                                     url       q3  perceived  \\\n",
       "0      http://www.usatoday.com/story/news/nation/2013...    other          1   \n",
       "1      http://www.huffingtonpost.com/2013/05/21/senat...     News          0   \n",
       "2      http://www.washingtonpost.com/opinions/dont-le...  Opinion          1   \n",
       "3      http://www.foxnews.com/politics/2013/04/03/oba...  Opinion          1   \n",
       "4      http://www.breitbart.com/Big-Government/2013/1...  Opinion          1   \n",
       "...                                                  ...      ...        ...   \n",
       "16584  http://www.washingtonpost.com/opinions/dana-mi...     News          1   \n",
       "16585  http://news.yahoo.com/republicans-hatred-obama...  Opinion          1   \n",
       "16586  http://www.washingtonpost.com/opinions/dana-mi...     News          1   \n",
       "16587  http://www.washingtonpost.com/opinions/ej-dion...     News          1   \n",
       "16588  http://www.huffingtonpost.com/2013/08/11/this-...  Opinion          1   \n",
       "\n",
       "             primary.topic      secondary.topic     democrat.vote  \\\n",
       "0             Civil Rights         Civil Rights           Neutral   \n",
       "1             Civil Rights         Civil Rights           Neutral   \n",
       "2             Civil Rights         Civil Rights           Neutral   \n",
       "3             Civil Rights         Civil Rights           Neutral   \n",
       "4             Civil Rights         Civil Rights           Neutral   \n",
       "...                    ...                  ...               ...   \n",
       "16584  Republican Scandals  Republican Scandals  SomewhatPositive   \n",
       "16585  Republican Scandals  Republican Scandals  SomewhatPositive   \n",
       "16586  Republican Scandals  Republican Scandals           Neutral   \n",
       "16587  Republican Scandals  Republican Scandals  SomewhatPositive   \n",
       "16588  Republican Scandals  Republican Scandals  SomewhatPositive   \n",
       "\n",
       "        republican.vote                                            article  \n",
       "0               Neutral  Maggie Clark  Pew Stateline Staff Writer  21 s...  \n",
       "1               Neutral  WASHINGTON -- The Senate Judiciary Committee a...  \n",
       "2               Neutral  David Cole is a professor of constitutional la...  \n",
       "3               Neutral  Parts of ObamaCare are starting to fray, even ...  \n",
       "4               Neutral  U.S. Immigration Citizenship and Immigration S...  \n",
       "...                 ...                                                ...  \n",
       "16584  SomewhatNegative  President Obama won reelection in part by beat...  \n",
       "16585  SomewhatNegative  Red-faced Republicans, circling and preparing ...  \n",
       "16586           Neutral  Rep. Steve Stockman’s moment as a viable Senat...  \n",
       "16587  SomewhatNegative  We interrupt this highly partisan and ideologi...  \n",
       "16588  SomewhatNegative  FILE - In this Sept. 27, 2012 file photo, Dona...  \n",
       "\n",
       "[16589 rows x 8 columns]"
      ]
     },
     "execution_count": 12,
     "metadata": {},
     "output_type": "execute_result"
    }
   ],
   "source": [
    "badchars = [\"\\n\", \"/\", \"%.{2}\", \"â\", \"</s>\", \"@\"]\n",
    "# ,\"\\\\\"\n",
    "# for i in badchars:\n",
    "#     data['article'] = data.apply(lambda row: row.replace(i, \" \"), axis = 1) \n",
    "\n",
    "for i in badchars:\n",
    "    data['article'] = data['article'].str.replace(i, \" \")\n",
    "\n",
    "data"
   ]
  },
  {
   "cell_type": "code",
   "execution_count": 13,
   "metadata": {},
   "outputs": [],
   "source": [
    "data['article'] = data['article'].str.lower() # transform strings to lowercase\n"
   ]
  },
  {
   "cell_type": "code",
   "execution_count": 14,
   "metadata": {},
   "outputs": [
    {
     "name": "stderr",
     "output_type": "stream",
     "text": [
      "<ipython-input-14-65a091c81cd8>:46: FutureWarning: The default value of regex will change from True to False in a future version.\n",
      "  data['article'] = data['article'].str.replace(i, \" SOURCE \")\n"
     ]
    }
   ],
   "source": [
    "sourcelist = [\"usa today\",\n",
    "            \"usatoday\",\n",
    "            \"huffingtonpost\",\n",
    "            \"huffington post\",\n",
    "            \"fox news\",\n",
    "            \"foxnews\",\n",
    "            \"breitbart\",\n",
    "            \"nbc\",\n",
    "            \"nbcnews\",\n",
    "            \"nbc news\",\n",
    "            \"msnbcnews\"\n",
    "            \"abc\",\n",
    "            \"msnbc\",\n",
    "            \"msnbc news\",\n",
    "            \"abc news\",\n",
    "            \"abcnews\",\n",
    "            \"washingtonpost\",\n",
    "            \"washington post\",\n",
    "            \"latimes\",\n",
    "            \"la times\",\n",
    "            \"chicagotribune\",\n",
    "            \"chicago tribune\",\n",
    "            \"dailykos\",\n",
    "            \"daily kos\",\n",
    "            \"cnn\",\n",
    "            \"(cnn)\",\n",
    "            \"cnn news\",\n",
    "            \"nytimes\",\n",
    "            \"new york times\",\n",
    "            \"newyorktimes\",\n",
    "            \"newyorkpost\",\n",
    "            \"new york post\",\n",
    "            \"yahoo news\",\n",
    "            \"yahoonews\",\n",
    "            \"nbcpolitics\",\n",
    "            \"nbc politics\",\n",
    "            \"fox politics\",\n",
    "            \"bbc news\",\n",
    "            \"bbc\",\n",
    "            \"firstread\",\n",
    "            \"stateline\",\n",
    "            \"reuters\",\n",
    "            \"story highlights\"\n",
    "             ]\n",
    "for i in sourcelist:\n",
    "    data['article'] = data['article'].str.replace(i, \" SOURCE \")\n"
   ]
  },
  {
   "cell_type": "code",
   "execution_count": 15,
   "metadata": {},
   "outputs": [
    {
     "data": {
      "text/html": [
       "<div>\n",
       "<style scoped>\n",
       "    .dataframe tbody tr th:only-of-type {\n",
       "        vertical-align: middle;\n",
       "    }\n",
       "\n",
       "    .dataframe tbody tr th {\n",
       "        vertical-align: top;\n",
       "    }\n",
       "\n",
       "    .dataframe thead th {\n",
       "        text-align: right;\n",
       "    }\n",
       "</style>\n",
       "<table border=\"1\" class=\"dataframe\">\n",
       "  <thead>\n",
       "    <tr style=\"text-align: right;\">\n",
       "      <th></th>\n",
       "      <th>url</th>\n",
       "      <th>q3</th>\n",
       "      <th>perceived</th>\n",
       "      <th>primary.topic</th>\n",
       "      <th>secondary.topic</th>\n",
       "      <th>democrat.vote</th>\n",
       "      <th>republican.vote</th>\n",
       "      <th>article</th>\n",
       "    </tr>\n",
       "  </thead>\n",
       "  <tbody>\n",
       "    <tr>\n",
       "      <th>0</th>\n",
       "      <td>http://www.usatoday.com/story/news/nation/2013...</td>\n",
       "      <td>other</td>\n",
       "      <td>1</td>\n",
       "      <td>Civil Rights</td>\n",
       "      <td>Civil Rights</td>\n",
       "      <td>Neutral</td>\n",
       "      <td>Neutral</td>\n",
       "      <td>maggie clark  pew  SOURCE  staff writer  21 st...</td>\n",
       "    </tr>\n",
       "    <tr>\n",
       "      <th>1</th>\n",
       "      <td>http://www.huffingtonpost.com/2013/05/21/senat...</td>\n",
       "      <td>News</td>\n",
       "      <td>0</td>\n",
       "      <td>Civil Rights</td>\n",
       "      <td>Civil Rights</td>\n",
       "      <td>Neutral</td>\n",
       "      <td>Neutral</td>\n",
       "      <td>washington -- the senate judiciary committee a...</td>\n",
       "    </tr>\n",
       "    <tr>\n",
       "      <th>2</th>\n",
       "      <td>http://www.washingtonpost.com/opinions/dont-le...</td>\n",
       "      <td>Opinion</td>\n",
       "      <td>1</td>\n",
       "      <td>Civil Rights</td>\n",
       "      <td>Civil Rights</td>\n",
       "      <td>Neutral</td>\n",
       "      <td>Neutral</td>\n",
       "      <td>david cole is a professor of constitutional la...</td>\n",
       "    </tr>\n",
       "    <tr>\n",
       "      <th>3</th>\n",
       "      <td>http://www.foxnews.com/politics/2013/04/03/oba...</td>\n",
       "      <td>Opinion</td>\n",
       "      <td>1</td>\n",
       "      <td>Civil Rights</td>\n",
       "      <td>Civil Rights</td>\n",
       "      <td>Neutral</td>\n",
       "      <td>Neutral</td>\n",
       "      <td>parts of obamacare are starting to fray, even ...</td>\n",
       "    </tr>\n",
       "    <tr>\n",
       "      <th>4</th>\n",
       "      <td>http://www.breitbart.com/Big-Government/2013/1...</td>\n",
       "      <td>Opinion</td>\n",
       "      <td>1</td>\n",
       "      <td>Civil Rights</td>\n",
       "      <td>Civil Rights</td>\n",
       "      <td>Neutral</td>\n",
       "      <td>Neutral</td>\n",
       "      <td>u.s. immigration citizenship and immigration s...</td>\n",
       "    </tr>\n",
       "    <tr>\n",
       "      <th>...</th>\n",
       "      <td>...</td>\n",
       "      <td>...</td>\n",
       "      <td>...</td>\n",
       "      <td>...</td>\n",
       "      <td>...</td>\n",
       "      <td>...</td>\n",
       "      <td>...</td>\n",
       "      <td>...</td>\n",
       "    </tr>\n",
       "    <tr>\n",
       "      <th>16584</th>\n",
       "      <td>http://www.washingtonpost.com/opinions/dana-mi...</td>\n",
       "      <td>News</td>\n",
       "      <td>1</td>\n",
       "      <td>Republican Scandals</td>\n",
       "      <td>Republican Scandals</td>\n",
       "      <td>SomewhatPositive</td>\n",
       "      <td>SomewhatNegative</td>\n",
       "      <td>president obama won reelection in part by beat...</td>\n",
       "    </tr>\n",
       "    <tr>\n",
       "      <th>16585</th>\n",
       "      <td>http://news.yahoo.com/republicans-hatred-obama...</td>\n",
       "      <td>Opinion</td>\n",
       "      <td>1</td>\n",
       "      <td>Republican Scandals</td>\n",
       "      <td>Republican Scandals</td>\n",
       "      <td>SomewhatPositive</td>\n",
       "      <td>SomewhatNegative</td>\n",
       "      <td>red-faced republicans, circling and preparing ...</td>\n",
       "    </tr>\n",
       "    <tr>\n",
       "      <th>16586</th>\n",
       "      <td>http://www.washingtonpost.com/opinions/dana-mi...</td>\n",
       "      <td>News</td>\n",
       "      <td>1</td>\n",
       "      <td>Republican Scandals</td>\n",
       "      <td>Republican Scandals</td>\n",
       "      <td>Neutral</td>\n",
       "      <td>Neutral</td>\n",
       "      <td>rep. steve stockman’s moment as a viable senat...</td>\n",
       "    </tr>\n",
       "    <tr>\n",
       "      <th>16587</th>\n",
       "      <td>http://www.washingtonpost.com/opinions/ej-dion...</td>\n",
       "      <td>News</td>\n",
       "      <td>1</td>\n",
       "      <td>Republican Scandals</td>\n",
       "      <td>Republican Scandals</td>\n",
       "      <td>SomewhatPositive</td>\n",
       "      <td>SomewhatNegative</td>\n",
       "      <td>we interrupt this highly partisan and ideologi...</td>\n",
       "    </tr>\n",
       "    <tr>\n",
       "      <th>16588</th>\n",
       "      <td>http://www.huffingtonpost.com/2013/08/11/this-...</td>\n",
       "      <td>Opinion</td>\n",
       "      <td>1</td>\n",
       "      <td>Republican Scandals</td>\n",
       "      <td>Republican Scandals</td>\n",
       "      <td>SomewhatPositive</td>\n",
       "      <td>SomewhatNegative</td>\n",
       "      <td>file - in this sept. 27, 2012 file photo, dona...</td>\n",
       "    </tr>\n",
       "  </tbody>\n",
       "</table>\n",
       "<p>16589 rows × 8 columns</p>\n",
       "</div>"
      ],
      "text/plain": [
       "                                                     url       q3  perceived  \\\n",
       "0      http://www.usatoday.com/story/news/nation/2013...    other          1   \n",
       "1      http://www.huffingtonpost.com/2013/05/21/senat...     News          0   \n",
       "2      http://www.washingtonpost.com/opinions/dont-le...  Opinion          1   \n",
       "3      http://www.foxnews.com/politics/2013/04/03/oba...  Opinion          1   \n",
       "4      http://www.breitbart.com/Big-Government/2013/1...  Opinion          1   \n",
       "...                                                  ...      ...        ...   \n",
       "16584  http://www.washingtonpost.com/opinions/dana-mi...     News          1   \n",
       "16585  http://news.yahoo.com/republicans-hatred-obama...  Opinion          1   \n",
       "16586  http://www.washingtonpost.com/opinions/dana-mi...     News          1   \n",
       "16587  http://www.washingtonpost.com/opinions/ej-dion...     News          1   \n",
       "16588  http://www.huffingtonpost.com/2013/08/11/this-...  Opinion          1   \n",
       "\n",
       "             primary.topic      secondary.topic     democrat.vote  \\\n",
       "0             Civil Rights         Civil Rights           Neutral   \n",
       "1             Civil Rights         Civil Rights           Neutral   \n",
       "2             Civil Rights         Civil Rights           Neutral   \n",
       "3             Civil Rights         Civil Rights           Neutral   \n",
       "4             Civil Rights         Civil Rights           Neutral   \n",
       "...                    ...                  ...               ...   \n",
       "16584  Republican Scandals  Republican Scandals  SomewhatPositive   \n",
       "16585  Republican Scandals  Republican Scandals  SomewhatPositive   \n",
       "16586  Republican Scandals  Republican Scandals           Neutral   \n",
       "16587  Republican Scandals  Republican Scandals  SomewhatPositive   \n",
       "16588  Republican Scandals  Republican Scandals  SomewhatPositive   \n",
       "\n",
       "        republican.vote                                            article  \n",
       "0               Neutral  maggie clark  pew  SOURCE  staff writer  21 st...  \n",
       "1               Neutral  washington -- the senate judiciary committee a...  \n",
       "2               Neutral  david cole is a professor of constitutional la...  \n",
       "3               Neutral  parts of obamacare are starting to fray, even ...  \n",
       "4               Neutral  u.s. immigration citizenship and immigration s...  \n",
       "...                 ...                                                ...  \n",
       "16584  SomewhatNegative  president obama won reelection in part by beat...  \n",
       "16585  SomewhatNegative  red-faced republicans, circling and preparing ...  \n",
       "16586           Neutral  rep. steve stockman’s moment as a viable senat...  \n",
       "16587  SomewhatNegative  we interrupt this highly partisan and ideologi...  \n",
       "16588  SomewhatNegative  file - in this sept. 27, 2012 file photo, dona...  \n",
       "\n",
       "[16589 rows x 8 columns]"
      ]
     },
     "execution_count": 15,
     "metadata": {},
     "output_type": "execute_result"
    }
   ],
   "source": [
    "data"
   ]
  },
  {
   "cell_type": "code",
   "execution_count": 16,
   "metadata": {
    "scrolled": true
   },
   "outputs": [],
   "source": [
    "\n",
    "# sourcelist = []\n",
    "\n",
    "# for i in range(data.shape[0]):\n",
    "#     urlstring = data.url[i]\n",
    "#     source = re.findall(\"(?<=www.)(.*)(?=.com)\", urlstring)\n",
    "#     if len(source) > 0:\n",
    "#         sourcelist.append(source)\n",
    "\n",
    "# print(sourcelist)"
   ]
  },
  {
   "cell_type": "code",
   "execution_count": 17,
   "metadata": {},
   "outputs": [],
   "source": [
    "# for i in data['article'][400:550]:\n",
    "#     print(i)\n",
    "#     print(\"\")"
   ]
  },
  {
   "cell_type": "code",
   "execution_count": 18,
   "metadata": {},
   "outputs": [
    {
     "data": {
      "text/html": [
       "<div>\n",
       "<style scoped>\n",
       "    .dataframe tbody tr th:only-of-type {\n",
       "        vertical-align: middle;\n",
       "    }\n",
       "\n",
       "    .dataframe tbody tr th {\n",
       "        vertical-align: top;\n",
       "    }\n",
       "\n",
       "    .dataframe thead th {\n",
       "        text-align: right;\n",
       "    }\n",
       "</style>\n",
       "<table border=\"1\" class=\"dataframe\">\n",
       "  <thead>\n",
       "    <tr style=\"text-align: right;\">\n",
       "      <th></th>\n",
       "      <th>url</th>\n",
       "      <th>q3</th>\n",
       "      <th>perceived</th>\n",
       "      <th>primary.topic</th>\n",
       "      <th>secondary.topic</th>\n",
       "      <th>democrat.vote</th>\n",
       "      <th>republican.vote</th>\n",
       "      <th>article</th>\n",
       "      <th>length</th>\n",
       "    </tr>\n",
       "  </thead>\n",
       "  <tbody>\n",
       "    <tr>\n",
       "      <th>0</th>\n",
       "      <td>http://www.usatoday.com/story/news/nation/2013...</td>\n",
       "      <td>other</td>\n",
       "      <td>1</td>\n",
       "      <td>Civil Rights</td>\n",
       "      <td>Civil Rights</td>\n",
       "      <td>Neutral</td>\n",
       "      <td>Neutral</td>\n",
       "      <td>maggie clark  pew  SOURCE  staff writer  21 st...</td>\n",
       "      <td>702</td>\n",
       "    </tr>\n",
       "    <tr>\n",
       "      <th>1</th>\n",
       "      <td>http://www.huffingtonpost.com/2013/05/21/senat...</td>\n",
       "      <td>News</td>\n",
       "      <td>0</td>\n",
       "      <td>Civil Rights</td>\n",
       "      <td>Civil Rights</td>\n",
       "      <td>Neutral</td>\n",
       "      <td>Neutral</td>\n",
       "      <td>washington -- the senate judiciary committee a...</td>\n",
       "      <td>1118</td>\n",
       "    </tr>\n",
       "    <tr>\n",
       "      <th>2</th>\n",
       "      <td>http://www.washingtonpost.com/opinions/dont-le...</td>\n",
       "      <td>Opinion</td>\n",
       "      <td>1</td>\n",
       "      <td>Civil Rights</td>\n",
       "      <td>Civil Rights</td>\n",
       "      <td>Neutral</td>\n",
       "      <td>Neutral</td>\n",
       "      <td>david cole is a professor of constitutional la...</td>\n",
       "      <td>1401</td>\n",
       "    </tr>\n",
       "    <tr>\n",
       "      <th>3</th>\n",
       "      <td>http://www.foxnews.com/politics/2013/04/03/oba...</td>\n",
       "      <td>Opinion</td>\n",
       "      <td>1</td>\n",
       "      <td>Civil Rights</td>\n",
       "      <td>Civil Rights</td>\n",
       "      <td>Neutral</td>\n",
       "      <td>Neutral</td>\n",
       "      <td>parts of obamacare are starting to fray, even ...</td>\n",
       "      <td>798</td>\n",
       "    </tr>\n",
       "    <tr>\n",
       "      <th>4</th>\n",
       "      <td>http://www.breitbart.com/Big-Government/2013/1...</td>\n",
       "      <td>Opinion</td>\n",
       "      <td>1</td>\n",
       "      <td>Civil Rights</td>\n",
       "      <td>Civil Rights</td>\n",
       "      <td>Neutral</td>\n",
       "      <td>Neutral</td>\n",
       "      <td>u.s. immigration citizenship and immigration s...</td>\n",
       "      <td>949</td>\n",
       "    </tr>\n",
       "  </tbody>\n",
       "</table>\n",
       "</div>"
      ],
      "text/plain": [
       "                                                 url       q3  perceived  \\\n",
       "0  http://www.usatoday.com/story/news/nation/2013...    other          1   \n",
       "1  http://www.huffingtonpost.com/2013/05/21/senat...     News          0   \n",
       "2  http://www.washingtonpost.com/opinions/dont-le...  Opinion          1   \n",
       "3  http://www.foxnews.com/politics/2013/04/03/oba...  Opinion          1   \n",
       "4  http://www.breitbart.com/Big-Government/2013/1...  Opinion          1   \n",
       "\n",
       "  primary.topic secondary.topic democrat.vote republican.vote  \\\n",
       "0  Civil Rights    Civil Rights       Neutral         Neutral   \n",
       "1  Civil Rights    Civil Rights       Neutral         Neutral   \n",
       "2  Civil Rights    Civil Rights       Neutral         Neutral   \n",
       "3  Civil Rights    Civil Rights       Neutral         Neutral   \n",
       "4  Civil Rights    Civil Rights       Neutral         Neutral   \n",
       "\n",
       "                                             article  length  \n",
       "0  maggie clark  pew  SOURCE  staff writer  21 st...     702  \n",
       "1  washington -- the senate judiciary committee a...    1118  \n",
       "2  david cole is a professor of constitutional la...    1401  \n",
       "3  parts of obamacare are starting to fray, even ...     798  \n",
       "4  u.s. immigration citizenship and immigration s...     949  "
      ]
     },
     "execution_count": 18,
     "metadata": {},
     "output_type": "execute_result"
    }
   ],
   "source": [
    "data['length'] = data['article'].str.split()\n",
    "data['length'] = data['length'].str.len()\n",
    "data = data.reset_index(drop=True)\n",
    "data.head()"
   ]
  },
  {
   "cell_type": "code",
   "execution_count": 19,
   "metadata": {},
   "outputs": [
    {
     "data": {
      "image/png": "[encoded data removed]",
      "text/plain": [
       "<Figure size 432x288 with 1 Axes>"
      ]
     },
     "metadata": {
      "needs_background": "light"
     },
     "output_type": "display_data"
    }
   ],
   "source": [
    "plt.hist(data.length, bins = 100)\n",
    "plt.show()"
   ]
  },
  {
   "cell_type": "code",
   "execution_count": 20,
   "metadata": {},
   "outputs": [
    {
     "data": {
      "image/png": "[encoded data removed]",
      "text/plain": [
       "<Figure size 432x288 with 1 Axes>"
      ]
     },
     "metadata": {
      "needs_background": "light"
     },
     "output_type": "display_data"
    }
   ],
   "source": [
    "plt.hist(data[data['length']<100].length, bins = 50)\n",
    "plt.show()"
   ]
  },
  {
   "cell_type": "code",
   "execution_count": 21,
   "metadata": {},
   "outputs": [
    {
     "data": {
      "text/plain": [
       "16589"
      ]
     },
     "execution_count": 21,
     "metadata": {},
     "output_type": "execute_result"
    }
   ],
   "source": [
    "len(data['length'])"
   ]
  },
  {
   "cell_type": "code",
   "execution_count": 22,
   "metadata": {},
   "outputs": [
    {
     "data": {
      "text/plain": [
       "3370"
      ]
     },
     "execution_count": 22,
     "metadata": {},
     "output_type": "execute_result"
    }
   ],
   "source": [
    "len(data[data['length']<100])"
   ]
  },
  {
   "cell_type": "code",
   "execution_count": 23,
   "metadata": {},
   "outputs": [
    {
     "data": {
      "image/png": "[encoded data removed]",
      "text/plain": [
       "<Figure size 432x288 with 1 Axes>"
      ]
     },
     "metadata": {
      "needs_background": "light"
     },
     "output_type": "display_data"
    }
   ],
   "source": [
    "plt.hist(data[data['length']>100].length, bins = 100)\n",
    "plt.show()"
   ]
  },
  {
   "cell_type": "code",
   "execution_count": 24,
   "metadata": {},
   "outputs": [],
   "source": [
    "def truncate(text, length):\n",
    "    newtext =text\n",
    "    if len(text.split())>=length:\n",
    "        words = text.split()[:length]\n",
    "        newtext = \" \".join(words)\n",
    "    return newtext"
   ]
  },
  {
   "cell_type": "code",
   "execution_count": 25,
   "metadata": {},
   "outputs": [
    {
     "data": {
      "image/png": "[encoded data removed]",
      "text/plain": [
       "<Figure size 432x288 with 1 Axes>"
      ]
     },
     "metadata": {
      "needs_background": "light"
     },
     "output_type": "display_data"
    }
   ],
   "source": [
    "data = data[data['length']>200]\n",
    "data[\"article\"] = data.apply(lambda row: truncate(row[\"article\"], 600), axis=1)\n",
    "data['length'] = data['article'].str.split()\n",
    "data['length'] = data['length'].str.len()\n",
    "data = data.reset_index(drop=True)\n",
    "\n",
    "plt.hist(data[data['length']>100].length, bins = 100)\n",
    "plt.show()"
   ]
  },
  {
   "cell_type": "code",
   "execution_count": 26,
   "metadata": {},
   "outputs": [
    {
     "data": {
      "text/plain": [
       "0.25    408.0\n",
       "0.50    600.0\n",
       "0.75    600.0\n",
       "Name: length, dtype: float64"
      ]
     },
     "execution_count": 26,
     "metadata": {},
     "output_type": "execute_result"
    }
   ],
   "source": [
    "data.length.quantile([.25, .5, .75])"
   ]
  },
  {
   "cell_type": "code",
   "execution_count": 27,
   "metadata": {},
   "outputs": [
    {
     "data": {
      "text/plain": [
       "<AxesSubplot:>"
      ]
     },
     "execution_count": 27,
     "metadata": {},
     "output_type": "execute_result"
    },
    {
     "data": {
      "image/png": "[encoded data removed]",
      "text/plain": [
       "<Figure size 432x288 with 1 Axes>"
      ]
     },
     "metadata": {
      "needs_background": "light"
     },
     "output_type": "display_data"
    }
   ],
   "source": [
    "data['democrat.vote'].value_counts().plot.bar()"
   ]
  },
  {
   "cell_type": "code",
   "execution_count": 28,
   "metadata": {},
   "outputs": [
    {
     "data": {
      "text/plain": [
       "<AxesSubplot:>"
      ]
     },
     "execution_count": 28,
     "metadata": {},
     "output_type": "execute_result"
    },
    {
     "data": {
      "image/png": "[encoded data removed]",
      "text/plain": [
       "<Figure size 432x288 with 1 Axes>"
      ]
     },
     "metadata": {
      "needs_background": "light"
     },
     "output_type": "display_data"
    }
   ],
   "source": [
    "data['republican.vote'].value_counts().plot.bar()"
   ]
  },
  {
   "cell_type": "code",
   "execution_count": 29,
   "metadata": {},
   "outputs": [
    {
     "data": {
      "text/plain": [
       "<AxesSubplot:xlabel='democrat.vote,republican.vote'>"
      ]
     },
     "execution_count": 29,
     "metadata": {},
     "output_type": "execute_result"
    },
    {
     "data": {
      "image/png": "[encoded data removed]",
      "text/plain": [
       "<Figure size 432x288 with 1 Axes>"
      ]
     },
     "metadata": {
      "needs_background": "light"
     },
     "output_type": "display_data"
    }
   ],
   "source": [
    "data[['democrat.vote', 'republican.vote']].value_counts().plot.bar()"
   ]
  },
  {
   "cell_type": "code",
   "execution_count": 30,
   "metadata": {},
   "outputs": [],
   "source": [
    "def numerizeBias(label):\n",
    "    if label==\"SomewhatNegative\":\n",
    "        return -0.5\n",
    "    if label == \"SomewhatPositive\":\n",
    "        return 0.5\n",
    "    if label == \"Negative\":\n",
    "        return -1\n",
    "    if label == \"Positive\":\n",
    "        return 1\n",
    "    return 0"
   ]
  },
  {
   "cell_type": "code",
   "execution_count": 31,
   "metadata": {},
   "outputs": [],
   "source": [
    "data[\"democrat.bias\"]= data.apply(lambda row: numerizeBias(row[\"democrat.vote\"]), axis = 1) \n",
    "data[\"republican.bias\"]= data.apply(lambda row: numerizeBias(row[\"republican.vote\"]), axis = 1) "
   ]
  },
  {
   "cell_type": "code",
   "execution_count": 32,
   "metadata": {},
   "outputs": [
    {
     "data": {
      "text/plain": [
       "<AxesSubplot:xlabel='democrat.bias,republican.bias'>"
      ]
     },
     "execution_count": 32,
     "metadata": {},
     "output_type": "execute_result"
    },
    {
     "data": {
      "image/png": "[encoded data removed]",
      "text/plain": [
       "<Figure size 432x288 with 1 Axes>"
      ]
     },
     "metadata": {
      "needs_background": "light"
     },
     "output_type": "display_data"
    }
   ],
   "source": [
    "data[['democrat.bias', 'republican.bias']].value_counts().plot.bar()"
   ]
  },
  {
   "cell_type": "code",
   "execution_count": 33,
   "metadata": {},
   "outputs": [],
   "source": [
    "def labelBias(dlabel, rlabel):\n",
    "    if dlabel == rlabel:\n",
    "        return \"Neutral\"\n",
    "    if dlabel-rlabel==0.5:\n",
    "        return \"Somewhat Liberal\"\n",
    "    if dlabel-rlabel==1:\n",
    "        return \"Liberal\"\n",
    "    if dlabel-rlabel>1:\n",
    "        return \"Very Liberal\"\n",
    "    if rlabel-dlabel==0.5:\n",
    "        return \"Somewhat Conservative\"\n",
    "    if rlabel-dlabel==1:\n",
    "        return \"Conservative\"\n",
    "    if rlabel-dlabel>1:\n",
    "        return \"Very Conservative\"\n",
    "    return \"Other\"\n",
    "    \n",
    "#     if dlabel==rlabel:\n",
    "#         return \"Neutral\"\n",
    "#     if dlabel==\"Negative\":\n",
    "#         return \"Conservative\"\n",
    "#     if dlabel==\"Positive\":\n",
    "#         return \"Liberal\"\n",
    "#     if dlabel==\"SomewhatNegative\" and rlabel==\"SomewhatPositive\":\n",
    "#         return \"SomewhatConservative\"\n",
    "#     if dlabel==\"SomewhatPositive\" and rlabel==\"SomewhatNegative\":\n",
    "#         return \"SomewhatLiberal\"\n",
    "#     if rlabel==\"SomewhatPositive\":\n",
    "#         return \"SomewhatConservative\"\n",
    "#     if dlabel==\"SomewhatPositive\":\n",
    "#         return \"SomewhatLiberal\"\n",
    "# #     if dlabel==\"Negative\" and rlabel==\"Positive\":\n",
    "# #         return \"Conservative\"\n",
    "# #     if dlabel==\"Positive\" and rlabel==\"Negative\":\n",
    "# #         return \"Liberal\"\n",
    "\n",
    "#     return(dlabel+\" \"+rlabel)"
   ]
  },
  {
   "cell_type": "code",
   "execution_count": 34,
   "metadata": {},
   "outputs": [
    {
     "data": {
      "text/html": [
       "<div>\n",
       "<style scoped>\n",
       "    .dataframe tbody tr th:only-of-type {\n",
       "        vertical-align: middle;\n",
       "    }\n",
       "\n",
       "    .dataframe tbody tr th {\n",
       "        vertical-align: top;\n",
       "    }\n",
       "\n",
       "    .dataframe thead th {\n",
       "        text-align: right;\n",
       "    }\n",
       "</style>\n",
       "<table border=\"1\" class=\"dataframe\">\n",
       "  <thead>\n",
       "    <tr style=\"text-align: right;\">\n",
       "      <th></th>\n",
       "      <th>url</th>\n",
       "      <th>q3</th>\n",
       "      <th>perceived</th>\n",
       "      <th>primary.topic</th>\n",
       "      <th>secondary.topic</th>\n",
       "      <th>democrat.vote</th>\n",
       "      <th>republican.vote</th>\n",
       "      <th>article</th>\n",
       "      <th>length</th>\n",
       "      <th>democrat.bias</th>\n",
       "      <th>republican.bias</th>\n",
       "      <th>biaslabel</th>\n",
       "    </tr>\n",
       "  </thead>\n",
       "  <tbody>\n",
       "    <tr>\n",
       "      <th>0</th>\n",
       "      <td>http://www.usatoday.com/story/news/nation/2013...</td>\n",
       "      <td>other</td>\n",
       "      <td>1</td>\n",
       "      <td>Civil Rights</td>\n",
       "      <td>Civil Rights</td>\n",
       "      <td>Neutral</td>\n",
       "      <td>Neutral</td>\n",
       "      <td>maggie clark pew SOURCE staff writer 21 states...</td>\n",
       "      <td>600</td>\n",
       "      <td>0.0</td>\n",
       "      <td>0.0</td>\n",
       "      <td>Neutral</td>\n",
       "    </tr>\n",
       "    <tr>\n",
       "      <th>1</th>\n",
       "      <td>http://www.huffingtonpost.com/2013/05/21/senat...</td>\n",
       "      <td>News</td>\n",
       "      <td>0</td>\n",
       "      <td>Civil Rights</td>\n",
       "      <td>Civil Rights</td>\n",
       "      <td>Neutral</td>\n",
       "      <td>Neutral</td>\n",
       "      <td>washington -- the senate judiciary committee a...</td>\n",
       "      <td>600</td>\n",
       "      <td>0.0</td>\n",
       "      <td>0.0</td>\n",
       "      <td>Neutral</td>\n",
       "    </tr>\n",
       "    <tr>\n",
       "      <th>2</th>\n",
       "      <td>http://www.washingtonpost.com/opinions/dont-le...</td>\n",
       "      <td>Opinion</td>\n",
       "      <td>1</td>\n",
       "      <td>Civil Rights</td>\n",
       "      <td>Civil Rights</td>\n",
       "      <td>Neutral</td>\n",
       "      <td>Neutral</td>\n",
       "      <td>david cole is a professor of constitutional la...</td>\n",
       "      <td>600</td>\n",
       "      <td>0.0</td>\n",
       "      <td>0.0</td>\n",
       "      <td>Neutral</td>\n",
       "    </tr>\n",
       "    <tr>\n",
       "      <th>3</th>\n",
       "      <td>http://www.foxnews.com/politics/2013/04/03/oba...</td>\n",
       "      <td>Opinion</td>\n",
       "      <td>1</td>\n",
       "      <td>Civil Rights</td>\n",
       "      <td>Civil Rights</td>\n",
       "      <td>Neutral</td>\n",
       "      <td>Neutral</td>\n",
       "      <td>parts of obamacare are starting to fray, even ...</td>\n",
       "      <td>600</td>\n",
       "      <td>0.0</td>\n",
       "      <td>0.0</td>\n",
       "      <td>Neutral</td>\n",
       "    </tr>\n",
       "    <tr>\n",
       "      <th>4</th>\n",
       "      <td>http://www.breitbart.com/Big-Government/2013/1...</td>\n",
       "      <td>Opinion</td>\n",
       "      <td>1</td>\n",
       "      <td>Civil Rights</td>\n",
       "      <td>Civil Rights</td>\n",
       "      <td>Neutral</td>\n",
       "      <td>Neutral</td>\n",
       "      <td>u.s. immigration citizenship and immigration s...</td>\n",
       "      <td>600</td>\n",
       "      <td>0.0</td>\n",
       "      <td>0.0</td>\n",
       "      <td>Neutral</td>\n",
       "    </tr>\n",
       "    <tr>\n",
       "      <th>...</th>\n",
       "      <td>...</td>\n",
       "      <td>...</td>\n",
       "      <td>...</td>\n",
       "      <td>...</td>\n",
       "      <td>...</td>\n",
       "      <td>...</td>\n",
       "      <td>...</td>\n",
       "      <td>...</td>\n",
       "      <td>...</td>\n",
       "      <td>...</td>\n",
       "      <td>...</td>\n",
       "      <td>...</td>\n",
       "    </tr>\n",
       "    <tr>\n",
       "      <th>12345</th>\n",
       "      <td>http://www.washingtonpost.com/opinions/dana-mi...</td>\n",
       "      <td>News</td>\n",
       "      <td>1</td>\n",
       "      <td>Republican Scandals</td>\n",
       "      <td>Republican Scandals</td>\n",
       "      <td>SomewhatPositive</td>\n",
       "      <td>SomewhatNegative</td>\n",
       "      <td>president obama won reelection in part by beat...</td>\n",
       "      <td>600</td>\n",
       "      <td>0.5</td>\n",
       "      <td>-0.5</td>\n",
       "      <td>Liberal</td>\n",
       "    </tr>\n",
       "    <tr>\n",
       "      <th>12346</th>\n",
       "      <td>http://news.yahoo.com/republicans-hatred-obama...</td>\n",
       "      <td>Opinion</td>\n",
       "      <td>1</td>\n",
       "      <td>Republican Scandals</td>\n",
       "      <td>Republican Scandals</td>\n",
       "      <td>SomewhatPositive</td>\n",
       "      <td>SomewhatNegative</td>\n",
       "      <td>red-faced republicans, circling and preparing ...</td>\n",
       "      <td>600</td>\n",
       "      <td>0.5</td>\n",
       "      <td>-0.5</td>\n",
       "      <td>Liberal</td>\n",
       "    </tr>\n",
       "    <tr>\n",
       "      <th>12347</th>\n",
       "      <td>http://www.washingtonpost.com/opinions/dana-mi...</td>\n",
       "      <td>News</td>\n",
       "      <td>1</td>\n",
       "      <td>Republican Scandals</td>\n",
       "      <td>Republican Scandals</td>\n",
       "      <td>Neutral</td>\n",
       "      <td>Neutral</td>\n",
       "      <td>rep. steve stockman’s moment as a viable senat...</td>\n",
       "      <td>600</td>\n",
       "      <td>0.0</td>\n",
       "      <td>0.0</td>\n",
       "      <td>Neutral</td>\n",
       "    </tr>\n",
       "    <tr>\n",
       "      <th>12348</th>\n",
       "      <td>http://www.washingtonpost.com/opinions/ej-dion...</td>\n",
       "      <td>News</td>\n",
       "      <td>1</td>\n",
       "      <td>Republican Scandals</td>\n",
       "      <td>Republican Scandals</td>\n",
       "      <td>SomewhatPositive</td>\n",
       "      <td>SomewhatNegative</td>\n",
       "      <td>we interrupt this highly partisan and ideologi...</td>\n",
       "      <td>600</td>\n",
       "      <td>0.5</td>\n",
       "      <td>-0.5</td>\n",
       "      <td>Liberal</td>\n",
       "    </tr>\n",
       "    <tr>\n",
       "      <th>12349</th>\n",
       "      <td>http://www.huffingtonpost.com/2013/08/11/this-...</td>\n",
       "      <td>Opinion</td>\n",
       "      <td>1</td>\n",
       "      <td>Republican Scandals</td>\n",
       "      <td>Republican Scandals</td>\n",
       "      <td>SomewhatPositive</td>\n",
       "      <td>SomewhatNegative</td>\n",
       "      <td>file - in this sept. 27, 2012 file photo, dona...</td>\n",
       "      <td>358</td>\n",
       "      <td>0.5</td>\n",
       "      <td>-0.5</td>\n",
       "      <td>Liberal</td>\n",
       "    </tr>\n",
       "  </tbody>\n",
       "</table>\n",
       "<p>12350 rows × 12 columns</p>\n",
       "</div>"
      ],
      "text/plain": [
       "                                                     url       q3  perceived  \\\n",
       "0      http://www.usatoday.com/story/news/nation/2013...    other          1   \n",
       "1      http://www.huffingtonpost.com/2013/05/21/senat...     News          0   \n",
       "2      http://www.washingtonpost.com/opinions/dont-le...  Opinion          1   \n",
       "3      http://www.foxnews.com/politics/2013/04/03/oba...  Opinion          1   \n",
       "4      http://www.breitbart.com/Big-Government/2013/1...  Opinion          1   \n",
       "...                                                  ...      ...        ...   \n",
       "12345  http://www.washingtonpost.com/opinions/dana-mi...     News          1   \n",
       "12346  http://news.yahoo.com/republicans-hatred-obama...  Opinion          1   \n",
       "12347  http://www.washingtonpost.com/opinions/dana-mi...     News          1   \n",
       "12348  http://www.washingtonpost.com/opinions/ej-dion...     News          1   \n",
       "12349  http://www.huffingtonpost.com/2013/08/11/this-...  Opinion          1   \n",
       "\n",
       "             primary.topic      secondary.topic     democrat.vote  \\\n",
       "0             Civil Rights         Civil Rights           Neutral   \n",
       "1             Civil Rights         Civil Rights           Neutral   \n",
       "2             Civil Rights         Civil Rights           Neutral   \n",
       "3             Civil Rights         Civil Rights           Neutral   \n",
       "4             Civil Rights         Civil Rights           Neutral   \n",
       "...                    ...                  ...               ...   \n",
       "12345  Republican Scandals  Republican Scandals  SomewhatPositive   \n",
       "12346  Republican Scandals  Republican Scandals  SomewhatPositive   \n",
       "12347  Republican Scandals  Republican Scandals           Neutral   \n",
       "12348  Republican Scandals  Republican Scandals  SomewhatPositive   \n",
       "12349  Republican Scandals  Republican Scandals  SomewhatPositive   \n",
       "\n",
       "        republican.vote                                            article  \\\n",
       "0               Neutral  maggie clark pew SOURCE staff writer 21 states...   \n",
       "1               Neutral  washington -- the senate judiciary committee a...   \n",
       "2               Neutral  david cole is a professor of constitutional la...   \n",
       "3               Neutral  parts of obamacare are starting to fray, even ...   \n",
       "4               Neutral  u.s. immigration citizenship and immigration s...   \n",
       "...                 ...                                                ...   \n",
       "12345  SomewhatNegative  president obama won reelection in part by beat...   \n",
       "12346  SomewhatNegative  red-faced republicans, circling and preparing ...   \n",
       "12347           Neutral  rep. steve stockman’s moment as a viable senat...   \n",
       "12348  SomewhatNegative  we interrupt this highly partisan and ideologi...   \n",
       "12349  SomewhatNegative  file - in this sept. 27, 2012 file photo, dona...   \n",
       "\n",
       "       length  democrat.bias  republican.bias biaslabel  \n",
       "0         600            0.0              0.0   Neutral  \n",
       "1         600            0.0              0.0   Neutral  \n",
       "2         600            0.0              0.0   Neutral  \n",
       "3         600            0.0              0.0   Neutral  \n",
       "4         600            0.0              0.0   Neutral  \n",
       "...       ...            ...              ...       ...  \n",
       "12345     600            0.5             -0.5   Liberal  \n",
       "12346     600            0.5             -0.5   Liberal  \n",
       "12347     600            0.0              0.0   Neutral  \n",
       "12348     600            0.5             -0.5   Liberal  \n",
       "12349     358            0.5             -0.5   Liberal  \n",
       "\n",
       "[12350 rows x 12 columns]"
      ]
     },
     "execution_count": 34,
     "metadata": {},
     "output_type": "execute_result"
    }
   ],
   "source": [
    "data[\"biaslabel\"] = data.apply(lambda row: labelBias(row[\"democrat.bias\"],row[\"republican.bias\"]), axis = 1)\n",
    "data"
   ]
  },
  {
   "cell_type": "code",
   "execution_count": 35,
   "metadata": {},
   "outputs": [
    {
     "data": {
      "text/plain": [
       "<AxesSubplot:>"
      ]
     },
     "execution_count": 35,
     "metadata": {},
     "output_type": "execute_result"
    },
    {
     "data": {
      "image/png": "[encoded data removed]",
      "text/plain": [
       "<Figure size 432x288 with 1 Axes>"
      ]
     },
     "metadata": {
      "needs_background": "light"
     },
     "output_type": "display_data"
    }
   ],
   "source": [
    "data['biaslabel'].value_counts().plot.bar()"
   ]
  },
  {
   "cell_type": "code",
   "execution_count": 36,
   "metadata": {},
   "outputs": [
    {
     "data": {
      "text/plain": [
       "<AxesSubplot:>"
      ]
     },
     "execution_count": 36,
     "metadata": {},
     "output_type": "execute_result"
    },
    {
     "data": {
      "image/png": "[encoded data removed]",
      "text/plain": [
       "<Figure size 432x288 with 1 Axes>"
      ]
     },
     "metadata": {
      "needs_background": "light"
     },
     "output_type": "display_data"
    }
   ],
   "source": [
    "data[\"democrat.bias\"]= data.apply(lambda row: numerizeBias(row[\"democrat.vote\"]), axis = 1) \n",
    "data[\"republican.bias\"]= data.apply(lambda row: numerizeBias(row[\"republican.vote\"]), axis = 1) \n",
    "\n",
    "# data[\"biasmagnitude.democrat\"]=data.apply(lambda row: row[\"democrat.bias\"] + abs(row[\"republican.bias\"]), axis = 1)\n",
    "# data[\"biasmagnitude.republican\"]=data.apply(lambda row: -1*abs(row[\"democrat.bias\"]) + row[\"republican.bias\"], axis = 1)\n",
    "\n",
    "# data[\"biasmagnitude\"] = data.apply(lambda row: row[\"democrat.bias\"]-row[\"republican.bias\"], axis = 1)\n",
    "data[\"isbiased\"] = data.apply(lambda row: 0 if row[\"democrat.bias\"]==0 and row[\"republican.bias\"]==0 else 1, axis = 1)\n",
    "\n",
    "# data[\"biasmagnitude\"].value_counts().plot.bar()\n",
    "data[\"isbiased\"].value_counts().plot.bar()"
   ]
  },
  {
   "cell_type": "code",
   "execution_count": 37,
   "metadata": {},
   "outputs": [
    {
     "data": {
      "text/plain": [
       "<AxesSubplot:ylabel='Frequency'>"
      ]
     },
     "execution_count": 37,
     "metadata": {},
     "output_type": "execute_result"
    },
    {
     "data": {
      "image/png": "[encoded data removed]",
      "text/plain": [
       "<Figure size 432x288 with 1 Axes>"
      ]
     },
     "metadata": {
      "needs_background": "light"
     },
     "output_type": "display_data"
    }
   ],
   "source": [
    "data[[\"democrat.bias\", \"republican.bias\"]].plot.hist(alpha=0.5)"
   ]
  },
  {
   "cell_type": "code",
   "execution_count": 38,
   "metadata": {},
   "outputs": [],
   "source": [
    "data[\"biascategories\"] =  data.apply(lambda row: 0 if row[\"democrat.bias\"]==row[\"republican.bias\"] else (1 if row[\"democrat.bias\"]>row[\"republican.bias\"] else -1), axis = 1)\n",
    "# 1 means bias towards democrats over republicans\n",
    "# -1 means bias towards republicans over democrats\n",
    "# 0 equal bias"
   ]
  },
  {
   "cell_type": "code",
   "execution_count": 39,
   "metadata": {},
   "outputs": [
    {
     "data": {
      "text/plain": [
       "<AxesSubplot:ylabel='Frequency'>"
      ]
     },
     "execution_count": 39,
     "metadata": {},
     "output_type": "execute_result"
    },
    {
     "data": {
      "image/png": "[encoded data removed]",
      "text/plain": [
       "<Figure size 432x288 with 1 Axes>"
      ]
     },
     "metadata": {
      "needs_background": "light"
     },
     "output_type": "display_data"
    }
   ],
   "source": [
    "data[\"biascategories\"].plot.hist()"
   ]
  },
  {
   "cell_type": "code",
   "execution_count": 40,
   "metadata": {},
   "outputs": [
    {
     "data": {
      "text/plain": [
       "0     maggie clark pew SOURCE staff writer 21 states...\n",
       "1     washington -- the senate judiciary committee a...\n",
       "2     david cole is a professor of constitutional la...\n",
       "3     parts of obamacare are starting to fray, even ...\n",
       "4     u.s. immigration citizenship and immigration s...\n",
       "                            ...                        \n",
       "95    during the 11 years she spent as labor ministe...\n",
       "96    the day after eric garcetti won a spot in the ...\n",
       "97    in a new critique of how minorities are treate...\n",
       "98    sarah helene duggin from the catholic universi...\n",
       "99    new york -- new york city mayor-elect bill de ...\n",
       "Name: article, Length: 100, dtype: object"
      ]
     },
     "execution_count": 40,
     "metadata": {},
     "output_type": "execute_result"
    }
   ],
   "source": [
    "data.article[0:100]"
   ]
  },
  {
   "cell_type": "code",
   "execution_count": 41,
   "metadata": {},
   "outputs": [
    {
     "name": "stdout",
     "output_type": "stream",
     "text": [
      "(12350, 14)\n"
     ]
    }
   ],
   "source": [
    "saved_data = data\n",
    "# saved_data = data[[\"article\", \n",
    "#                    \"democrat.bias\", \n",
    "#                    \"republican.bias\", \n",
    "#                    \"isbiased\", \n",
    "#                    \"biaslabel\"]]\n",
    "print(saved_data.shape)"
   ]
  },
  {
   "cell_type": "code",
   "execution_count": 42,
   "metadata": {},
   "outputs": [
    {
     "data": {
      "text/plain": [
       "url                0\n",
       "q3                 0\n",
       "perceived          0\n",
       "primary.topic      0\n",
       "secondary.topic    0\n",
       "democrat.vote      0\n",
       "republican.vote    0\n",
       "article            0\n",
       "length             0\n",
       "democrat.bias      0\n",
       "republican.bias    0\n",
       "biaslabel          0\n",
       "isbiased           0\n",
       "biascategories     0\n",
       "dtype: int64"
      ]
     },
     "execution_count": 42,
     "metadata": {},
     "output_type": "execute_result"
    }
   ],
   "source": [
    "saved_data.isna().sum()"
   ]
  },
  {
   "cell_type": "code",
   "execution_count": 43,
   "metadata": {},
   "outputs": [],
   "source": [
    "# data[\"biasedforeveryone\"] =  data.apply(lambda row: -99 if row[\"democrat.bias\"]>=0 and row[\"republican.bias\"]>=0 else 0, axis = 1)\n",
    "# # high value of biasdiff means high bias towards democrats and against republicans\n",
    "# # low (negative) value of biasdiff means high bias towards republicans and democrats\n",
    "# data[\"biasedforeveryone\"].plot.hist()"
   ]
  },
  {
   "cell_type": "code",
   "execution_count": 44,
   "metadata": {},
   "outputs": [],
   "source": [
    "saved_data = saved_data.reset_index(drop=True)"
   ]
  },
  {
   "cell_type": "code",
   "execution_count": 45,
   "metadata": {},
   "outputs": [
    {
     "data": {
      "text/plain": [
       "\"at age 9, martin luther king jr. sang in his church choir at the dec. 15, 1939, atlanta premiere of the civil war-era romance. one of the film's stars, hattie mcdaniel, refused to attend because loew's grand theatre had separate sections for black and white filmgoers. 1. he sang at the debut of 'gone with the wind' at age 9, martin luther king jr. sang in his church choir at the dec. 15, 1939, atlanta premiere of the civil war-era romance. one of the film's stars, hattie mcdaniel, refused to attend because loew's grand theatre had separate sections for black and white filmgoers. turner entertainment the rev. martin luther king jr., the slain civil rights leader and nobel peace prize winner, is lionized each year at ceremonies on the federal holiday in his honor. here’s what you may not know about him. the rev. martin luther king jr., the slain civil rights leader and nobel peace prize winner, is lionized each year at ceremonies on the federal holiday in his honor. here’s what you may not know about him. the rev. martin luther king jr., the slain civil rights leader and nobel peace prize winner, is lionized each year at ceremonies on the federal holiday in his honor. here’s what you may not know about him. peter dreier is the e.p. clapp distinguished professor of politics and chair of the urban and environmental policy department at occidental college. his latest book is “the 100 greatest americans of the 20th century: a social justice hall of fame.” what would the rev. martin luther king jr. march for if he were alive today? america has made progress on many fronts in the half-century since king electrified a crowd of 200,000 people, and millions of americans watching on television, with his “i have a dream” address at the march on washington for jobs and freedom. but there is still much to do to achieve his vision of equality. fortunately, many americans are involved in grass-roots movements that follow in his footsteps. king began his activism as a crusader against racial segregation, but he soon recognized that his battle was part of a much broader fight for a more humane society. today, at age 84, king would no doubt still be on the front lines, lending his voice and his energy to major battles for justice. voting rights: along with other civil rights leaders, king fought hard to dismantle jim crow laws that kept blacks from voting. he was proud of his role in pushing congress to pass the voting rights act in 1965. he’d be outraged by the supreme court’s recent ruling to weaken the law that, among other things, increased the number of black voters and black elected officials. since that ruling, a movement has burgeoned to stop states’ efforts to require photo ids in order to vote, shrink the early-voting period, and end same-day voter registration and pre-registration for teenagerswho will turn 18 by election day. today, king might lend his name to these campaigns and join the moral monday protests in north carolina, where thousands have opposed that state’s efforts to restrict voting rights. gun violence: during the 1955 montgomery bus boycott, king faced constant death threats and feared for his family’s life. he owned several guns and allowed armed guards to protect his home. but bayard rustin — a pacifist who was one of king’s closest advisers — persuaded king to give up his guns and guards and embrace a nonviolent strategy. king’s commitment to nonviolence grew stronger as he grew older. after john f. kennedy’s assassination in 1963,\""
      ]
     },
     "execution_count": 45,
     "metadata": {},
     "output_type": "execute_result"
    }
   ],
   "source": [
    "data.article[1834]"
   ]
  },
  {
   "cell_type": "code",
   "execution_count": 46,
   "metadata": {},
   "outputs": [
    {
     "data": {
      "text/plain": [
       "0     maggie clark pew SOURCE staff writer 21 states...\n",
       "1     washington -- the senate judiciary committee a...\n",
       "2     david cole is a professor of constitutional la...\n",
       "3     parts of obamacare are starting to fray, even ...\n",
       "4     u.s. immigration citizenship and immigration s...\n",
       "5     SOURCE rules let groups like religious hospita...\n",
       "6     new disclosures shared by edward snowden focus...\n",
       "7     tom vanden brook,     SOURCE   justice's delay...\n",
       "8                 the following irresponsible police...\n",
       "9     an alternative possibility is that a bipartisa...\n",
       "10    cole is the grammy-winning singer and daughter...\n",
       "11    sacramento — “living in parallel universes,” i...\n",
       "12    co-host of ms SOURCE 's \"the cycle\" touré join...\n",
       "13    washington -- one week after he released parti...\n",
       "14    us representative michele bachmann speaks duri...\n",
       "15    the agency missed a feb. 15 deadline to comple...\n",
       "16    labor secretary nominee thomas perez cut a \"se...\n",
       "17    washington, dc - july 31: speaker of the house...\n",
       "18    SOURCE senior officials say biden apologized t...\n",
       "19    i’m sure jeffrey goldberg got it right. whatev...\n",
       "20    washington — congressional republicans, not re...\n",
       "21    at various points over the past two years, int...\n",
       "22    internal revenue service documents showing tha...\n",
       "23    washington -- karl rove on sunday defended his...\n",
       "24    washington (ap) — struggling to salvage a mass...\n",
       "25    washington — an evangelical minister who was a...\n",
       "26    when the trifecta of scandals first broke over...\n",
       "27    on wednesday, president barack obama said trea...\n",
       "28    as president obama nominates a new fbi directo...\n",
       "29    donna cassata the associated press senate gop ...\n",
       "30    moscow (ap) — former national security agency ...\n",
       "31    before an adoring crowd of religious conservat...\n",
       "32    local governments in california’s have legal a...\n",
       "33    now the immigration debate is really getting j...\n",
       "34    washington — president obama, expanding his pu...\n",
       "35    in 2010, congress passed the fair sentencing a...\n",
       "36    washington — president obama, expanding his pu...\n",
       "37    toppenish, wash. — the yakama nation sits in t...\n",
       "38    during a senate judiciary committee hearing on...\n",
       "39    jake grovum pew SOURCE staff writer some state...\n",
       "40    new york (ap) -- outside the view of paying cu...\n",
       "41    opponents david catania (left), muriel bowser ...\n",
       "42    glenn harlan reynolds emails demonstrate that ...\n",
       "43    it might seem like a paid vacation for the 500...\n",
       "44    valentine’s day is a time when couples go out ...\n",
       "45    paul davidson SOURCE 1.3 million jobless worke...\n",
       "46    the arbitrary, across-the-board spending cuts ...\n",
       "47    bill maher’s new rules on the plea to raise th...\n",
       "48    leaders hope to finalize work by the end of th...\n",
       "49    president barack obama took us inside his mind...\n",
       "50    let's be clear, jan brewer is not an idiot. sh...\n",
       "51    my connection to her comes from the darkest da...\n",
       "52    in the public relations push for his takeover ...\n",
       "53    washington -- the end of the year brings with ...\n",
       "54    new york (ap) — fast-food workers and labor or...\n",
       "55    david jackson   SOURCE   president obama said ...\n",
       "56    republican sen. jeff sessions is accusing the ...\n",
       "57    sacramento — about 222,000 californians will b...\n",
       "58    SOURCE donna brazile's siblings, father, uncle...\n",
       "59    SOURCE new: edward snowden purportedly writes ...\n",
       "60    more than $30 million in federal aid has been ...\n",
       "61    why is the nation more bitterly divided today ...\n",
       "62    i promised one graph - but lets look at one mo...\n",
       "63    richard wolf, SOURCE unanimous ruling protects...\n",
       "64    1) revisions. in truth, the most important par...\n",
       "65    bill maher’s new rules on the plea to raise th...\n",
       "66    given this awesome double standard — i don’t t...\n",
       "67    city officials in this san francisco suburb pa...\n",
       "68    homes sit smoldering after hurricane sandy in ...\n",
       "69    former colorado gov. bill ritter: \"when my fat...\n",
       "70    the new system will rely more heavily on \"phot...\n",
       "71    the early morning sun rises behind the u.s. ca...\n",
       "72    one of the nation's best-known charities is pa...\n",
       "73    8 years ago ( SOURCE ) – food safety inspectio...\n",
       "74    organized labor and big business have reached ...\n",
       "75    a two-year budget bill advanced by ohio's stat...\n",
       "76    and steven spielberg’s “lincoln” is appealing ...\n",
       "77    tucson — an arizona law that put an end to eth...\n",
       "78    a court upheld most provisions of an arizona s...\n",
       "79    tucson — an arizona law that put an end to eth...\n",
       "80    the department of justice has summarily remove...\n",
       "81    a court upheld most provisions of an arizona s...\n",
       "82    a middle school teacher who was fired after st...\n",
       "83    in a commencement address in atlanta on sunday...\n",
       "84    on friday, a top political adviser to left-win...\n",
       "85    highlighting the importance of the african ame...\n",
       "86    arizona officials said they will continue to u...\n",
       "87    blow's final two paragraphs, which come immedi...\n",
       "88    most here saw the tea party assholes for what ...\n",
       "89    tom edsall on politics inside and outside of w...\n",
       "90    president barack obama was sworn in for his se...\n",
       "91    blow's final two paragraphs, which come immedi...\n",
       "92    a federal trial in milwaukee on wisconsin’s 20...\n",
       "93    first, says attorney general greg abbott, the ...\n",
       "94    so i am overjoyed about what happened in texas...\n",
       "95    during the 11 years she spent as labor ministe...\n",
       "96    the day after eric garcetti won a spot in the ...\n",
       "97    in a new critique of how minorities are treate...\n",
       "98    sarah helene duggin from the catholic universi...\n",
       "99    new york -- new york city mayor-elect bill de ...\n",
       "Name: article, dtype: object"
      ]
     },
     "execution_count": 46,
     "metadata": {},
     "output_type": "execute_result"
    }
   ],
   "source": [
    "pd.set_option('display.max_rows', 500)\n",
    "saved_data.article.head(100)"
   ]
  },
  {
   "cell_type": "code",
   "execution_count": 47,
   "metadata": {},
   "outputs": [],
   "source": [
    "saved_data.to_csv(\"biaseddata.csv\", sep='\\t')\n"
   ]
  },
  {
   "cell_type": "code",
   "execution_count": null,
   "metadata": {},
   "outputs": [],
   "source": []
  },
  {
   "cell_type": "code",
   "execution_count": null,
   "metadata": {},
   "outputs": [],
   "source": []
  },
  {
   "cell_type": "code",
   "execution_count": null,
   "metadata": {},
   "outputs": [],
   "source": []
  },
  {
   "cell_type": "code",
   "execution_count": null,
   "metadata": {},
   "outputs": [],
   "source": []
  }
 ],
 "metadata": {
  "kernelspec": {
   "display_name": "Python 3",
   "language": "python",
   "name": "python3"
  },
  "language_info": {
   "codemirror_mode": {
    "name": "ipython",
    "version": 3
   },
   "file_extension": ".py",
   "mimetype": "text/x-python",
   "name": "python",
   "nbconvert_exporter": "python",
   "pygments_lexer": "ipython3",
   "version": "3.8.5"
  }
 },
 "nbformat": 4,
 "nbformat_minor": 5
}
