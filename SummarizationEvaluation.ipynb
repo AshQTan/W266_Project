{
 "cells": [
  {
   "cell_type": "code",
   "execution_count": 2,
   "metadata": {},
   "outputs": [],
   "source": [
    "import json\n",
    "import pandas as pd\n",
    "import numpy as np\n",
    "import os\n",
    "import sys\n",
    "import tensorflow as tf\n",
    "from time import time\n",
    "import io\n",
    "import re\n",
    "\n",
    "import pickle\n",
    "from csv import reader\n",
    "import matplotlib.pyplot as plt\n",
    "\n",
    "import matplotlib.pyplot as plt\n",
    "from matplotlib import colors\n",
    "from matplotlib.ticker import PercentFormatter\n",
    "\n",
    "from tensorflow.keras import layers\n",
    "from tensorflow.keras.backend import sparse_categorical_crossentropy\n",
    "from tensorflow.keras.layers import Dense, Flatten\n",
    "from tensorflow.keras.utils import plot_model\n",
    "\n",
    "# physical_devices = tf.config.list_physical_devices('GPU') \n",
    "# tf.config.experimental.set_memory_growth(physical_devices[0], True)\n",
    "\n",
    "from datetime import datetime\n",
    "from collections import defaultdict\n",
    "\n",
    "from sklearn.model_selection import train_test_split\n",
    "\n"
   ]
  },
  {
   "cell_type": "code",
   "execution_count": 3,
   "metadata": {},
   "outputs": [],
   "source": [
    "from transformers import TFXLNetForSequenceClassification, XLNetTokenizer, T5Tokenizer, TFT5ForConditionalGeneration, PegasusTokenizer, TFPegasusForConditionalGeneration"
   ]
  },
  {
   "cell_type": "markdown",
   "metadata": {},
   "source": [
    "# Data"
   ]
  },
  {
   "cell_type": "code",
   "execution_count": 4,
   "metadata": {},
   "outputs": [],
   "source": [
    "train_section = pd.read_table(\"train_dataset.csv\", sep='\\t', index_col=0)\n",
    "val_section = pd.read_table(\"val_dataset.csv\", sep='\\t', index_col=0)\n",
    "test_section = pd.read_table(\"test_dataset.csv\", sep='\\t', index_col=0)"
   ]
  },
  {
   "cell_type": "code",
   "execution_count": 5,
   "metadata": {},
   "outputs": [
    {
     "data": {
      "text/html": [
       "<div>\n",
       "<style scoped>\n",
       "    .dataframe tbody tr th:only-of-type {\n",
       "        vertical-align: middle;\n",
       "    }\n",
       "\n",
       "    .dataframe tbody tr th {\n",
       "        vertical-align: top;\n",
       "    }\n",
       "\n",
       "    .dataframe thead th {\n",
       "        text-align: right;\n",
       "    }\n",
       "</style>\n",
       "<table border=\"1\" class=\"dataframe\">\n",
       "  <thead>\n",
       "    <tr style=\"text-align: right;\">\n",
       "      <th></th>\n",
       "      <th>index</th>\n",
       "      <th>url</th>\n",
       "      <th>q3</th>\n",
       "      <th>perceived</th>\n",
       "      <th>primary.topic</th>\n",
       "      <th>secondary.topic</th>\n",
       "      <th>democrat.vote</th>\n",
       "      <th>republican.vote</th>\n",
       "      <th>article</th>\n",
       "      <th>length</th>\n",
       "      <th>...</th>\n",
       "      <th>isbiased</th>\n",
       "      <th>biascategories</th>\n",
       "      <th>text</th>\n",
       "      <th>label</th>\n",
       "      <th>BERT</th>\n",
       "      <th>RoBERTa</th>\n",
       "      <th>XLNet</th>\n",
       "      <th>ALBERT</th>\n",
       "      <th>encodedlabel</th>\n",
       "      <th>TFIDF</th>\n",
       "    </tr>\n",
       "  </thead>\n",
       "  <tbody>\n",
       "    <tr>\n",
       "      <th>0</th>\n",
       "      <td>7048</td>\n",
       "      <td>http://news.yahoo.com/virginia-republicans-pan...</td>\n",
       "      <td>News</td>\n",
       "      <td>1</td>\n",
       "      <td>Elections</td>\n",
       "      <td>Republican Scandals</td>\n",
       "      <td>SomewhatPositive</td>\n",
       "      <td>Negative</td>\n",
       "      <td>a minister who compared gays to pedophiles and...</td>\n",
       "      <td>600</td>\n",
       "      <td>...</td>\n",
       "      <td>1</td>\n",
       "      <td>1</td>\n",
       "      <td>a minister who compared gays to pedophiles and...</td>\n",
       "      <td>Biased</td>\n",
       "      <td>0</td>\n",
       "      <td>0</td>\n",
       "      <td>0</td>\n",
       "      <td>0</td>\n",
       "      <td>0</td>\n",
       "      <td>0</td>\n",
       "    </tr>\n",
       "    <tr>\n",
       "      <th>1</th>\n",
       "      <td>2861</td>\n",
       "      <td>http://www.dailykos.com/story/2013/01/17/11796...</td>\n",
       "      <td>Opinion</td>\n",
       "      <td>0</td>\n",
       "      <td>Gun Rights Regulation</td>\n",
       "      <td>Gun Related Crimes</td>\n",
       "      <td>Neutral</td>\n",
       "      <td>Neutral</td>\n",
       "      <td>nra ad: are the president's kids more importan...</td>\n",
       "      <td>600</td>\n",
       "      <td>...</td>\n",
       "      <td>0</td>\n",
       "      <td>0</td>\n",
       "      <td>nra ad: are the president's kids more importan...</td>\n",
       "      <td>Neutral</td>\n",
       "      <td>0</td>\n",
       "      <td>0</td>\n",
       "      <td>0</td>\n",
       "      <td>0</td>\n",
       "      <td>1</td>\n",
       "      <td>0</td>\n",
       "    </tr>\n",
       "    <tr>\n",
       "      <th>2</th>\n",
       "      <td>7023</td>\n",
       "      <td>http://www.washingtonpost.com/opinions/george-...</td>\n",
       "      <td>Opinion</td>\n",
       "      <td>0</td>\n",
       "      <td>International News</td>\n",
       "      <td>Gun Rights Regulation</td>\n",
       "      <td>Negative</td>\n",
       "      <td>Neutral</td>\n",
       "      <td>back to previous page obama hits a wall in ber...</td>\n",
       "      <td>600</td>\n",
       "      <td>...</td>\n",
       "      <td>1</td>\n",
       "      <td>-1</td>\n",
       "      <td>back to previous page obama hits a wall in ber...</td>\n",
       "      <td>Biased</td>\n",
       "      <td>0</td>\n",
       "      <td>0</td>\n",
       "      <td>0</td>\n",
       "      <td>0</td>\n",
       "      <td>0</td>\n",
       "      <td>0</td>\n",
       "    </tr>\n",
       "    <tr>\n",
       "      <th>3</th>\n",
       "      <td>8486</td>\n",
       "      <td>http://news.yahoo.com/gop-infighting-fierce-ev...</td>\n",
       "      <td>Opinion</td>\n",
       "      <td>0</td>\n",
       "      <td>Republican Scandals</td>\n",
       "      <td>None</td>\n",
       "      <td>SomewhatPositive</td>\n",
       "      <td>SomewhatNegative</td>\n",
       "      <td>montpelier, idaho (ap) — republicans have made...</td>\n",
       "      <td>600</td>\n",
       "      <td>...</td>\n",
       "      <td>1</td>\n",
       "      <td>1</td>\n",
       "      <td>montpelier, idaho (ap) — republicans have made...</td>\n",
       "      <td>Biased</td>\n",
       "      <td>0</td>\n",
       "      <td>0</td>\n",
       "      <td>0</td>\n",
       "      <td>1</td>\n",
       "      <td>0</td>\n",
       "      <td>0</td>\n",
       "    </tr>\n",
       "    <tr>\n",
       "      <th>4</th>\n",
       "      <td>9055</td>\n",
       "      <td>http://www.latimes.com/news/nationworld/nation...</td>\n",
       "      <td>News</td>\n",
       "      <td>1</td>\n",
       "      <td>Elections</td>\n",
       "      <td>None</td>\n",
       "      <td>Positive</td>\n",
       "      <td>Neutral</td>\n",
       "      <td>washington — finally unburdened by worries abo...</td>\n",
       "      <td>600</td>\n",
       "      <td>...</td>\n",
       "      <td>1</td>\n",
       "      <td>1</td>\n",
       "      <td>washington — finally unburdened by worries abo...</td>\n",
       "      <td>Biased</td>\n",
       "      <td>0</td>\n",
       "      <td>0</td>\n",
       "      <td>0</td>\n",
       "      <td>1</td>\n",
       "      <td>0</td>\n",
       "      <td>0</td>\n",
       "    </tr>\n",
       "  </tbody>\n",
       "</table>\n",
       "<p>5 rows × 23 columns</p>\n",
       "</div>"
      ],
      "text/plain": [
       "   index                                                url       q3  \\\n",
       "0   7048  http://news.yahoo.com/virginia-republicans-pan...     News   \n",
       "1   2861  http://www.dailykos.com/story/2013/01/17/11796...  Opinion   \n",
       "2   7023  http://www.washingtonpost.com/opinions/george-...  Opinion   \n",
       "3   8486  http://news.yahoo.com/gop-infighting-fierce-ev...  Opinion   \n",
       "4   9055  http://www.latimes.com/news/nationworld/nation...     News   \n",
       "\n",
       "   perceived          primary.topic        secondary.topic     democrat.vote  \\\n",
       "0          1              Elections    Republican Scandals  SomewhatPositive   \n",
       "1          0  Gun Rights Regulation     Gun Related Crimes           Neutral   \n",
       "2          0     International News  Gun Rights Regulation          Negative   \n",
       "3          0    Republican Scandals                   None  SomewhatPositive   \n",
       "4          1              Elections                   None          Positive   \n",
       "\n",
       "    republican.vote                                            article  \\\n",
       "0          Negative  a minister who compared gays to pedophiles and...   \n",
       "1           Neutral  nra ad: are the president's kids more importan...   \n",
       "2           Neutral  back to previous page obama hits a wall in ber...   \n",
       "3  SomewhatNegative  montpelier, idaho (ap) — republicans have made...   \n",
       "4           Neutral  washington — finally unburdened by worries abo...   \n",
       "\n",
       "   length  ...  isbiased  biascategories  \\\n",
       "0     600  ...         1               1   \n",
       "1     600  ...         0               0   \n",
       "2     600  ...         1              -1   \n",
       "3     600  ...         1               1   \n",
       "4     600  ...         1               1   \n",
       "\n",
       "                                                text    label  BERT RoBERTa  \\\n",
       "0  a minister who compared gays to pedophiles and...   Biased     0       0   \n",
       "1  nra ad: are the president's kids more importan...  Neutral     0       0   \n",
       "2  back to previous page obama hits a wall in ber...   Biased     0       0   \n",
       "3  montpelier, idaho (ap) — republicans have made...   Biased     0       0   \n",
       "4  washington — finally unburdened by worries abo...   Biased     0       0   \n",
       "\n",
       "  XLNet  ALBERT  encodedlabel  TFIDF  \n",
       "0     0       0             0      0  \n",
       "1     0       0             1      0  \n",
       "2     0       0             0      0  \n",
       "3     0       1             0      0  \n",
       "4     0       1             0      0  \n",
       "\n",
       "[5 rows x 23 columns]"
      ]
     },
     "execution_count": 5,
     "metadata": {},
     "output_type": "execute_result"
    }
   ],
   "source": [
    "test_section.head()"
   ]
  },
  {
   "cell_type": "code",
   "execution_count": 255,
   "metadata": {},
   "outputs": [],
   "source": [
    "test_article_text = list(test_section[\"text\"])\n"
   ]
  },
  {
   "cell_type": "markdown",
   "metadata": {},
   "source": [
    "## Model"
   ]
  },
  {
   "cell_type": "code",
   "execution_count": 253,
   "metadata": {},
   "outputs": [
    {
     "name": "stderr",
     "output_type": "stream",
     "text": [
      "All model checkpoint layers were used when initializing TFT5ForConditionalGeneration.\n",
      "\n",
      "All the layers of TFT5ForConditionalGeneration were initialized from the model checkpoint at t5-large.\n",
      "If your task is similar to the task the model of the checkpoint was trained on, you can already use TFT5ForConditionalGeneration for predictions without further training.\n"
     ]
    },
    {
     "name": "stdout",
     "output_type": "stream",
     "text": [
      "Model: \"tf_t5for_conditional_generation\"\n",
      "_________________________________________________________________\n",
      "Layer (type)                 Output Shape              Param #   \n",
      "=================================================================\n",
      "shared (TFSharedEmbeddings)  multiple                  32899072  \n",
      "_________________________________________________________________\n",
      "encoder (TFT5MainLayer)      multiple                  302040576 \n",
      "_________________________________________________________________\n",
      "decoder (TFT5MainLayer)      multiple                  402728448 \n",
      "=================================================================\n",
      "Total params: 737,668,096\n",
      "Trainable params: 737,668,096\n",
      "Non-trainable params: 0\n",
      "_________________________________________________________________\n"
     ]
    }
   ],
   "source": [
    "t5_model = TFT5ForConditionalGeneration.from_pretrained('t5-large')\n",
    "t5_tokenizer = T5Tokenizer.from_pretrained('t5-large')\n",
    "\n",
    "t5_model.summary()"
   ]
  },
  {
   "cell_type": "code",
   "execution_count": 256,
   "metadata": {},
   "outputs": [],
   "source": [
    "t5_test_article_text = [\"summarize: \" + i for i in test_article_text]"
   ]
  },
  {
   "cell_type": "code",
   "execution_count": 257,
   "metadata": {},
   "outputs": [],
   "source": [
    "t5_input_list = [ t5_tokenizer([i],  max_length=512,  truncation=True, return_tensors='tf') for i in t5_test_article_text]"
   ]
  },
  {
   "cell_type": "code",
   "execution_count": 258,
   "metadata": {},
   "outputs": [],
   "source": [
    "t5_summary_ids =  [t5_model.generate(i['input_ids'],\n",
    "                                    num_beams=3,\n",
    "                                    no_repeat_ngram_size=1,\n",
    "                                    min_length=35,\n",
    "                                    max_length=80) for i in t5_input_list]\n"
   ]
  },
  {
   "cell_type": "code",
   "execution_count": 259,
   "metadata": {},
   "outputs": [],
   "source": [
    "t5_summary_list = [[t5_tokenizer.decode(g, skip_special_tokens=True, \n",
    "                           clean_up_tokenization_spaces=False) for g in i] for i in t5_summary_ids]"
   ]
  },
  {
   "cell_type": "code",
   "execution_count": 260,
   "metadata": {},
   "outputs": [],
   "source": [
    "t5_summaries = [i[0] for i in t5_summary_list]"
   ]
  },
  {
   "cell_type": "code",
   "execution_count": 262,
   "metadata": {},
   "outputs": [],
   "source": []
  },
  {
   "cell_type": "code",
   "execution_count": 16,
   "metadata": {},
   "outputs": [],
   "source": [
    "# test_section.to_csv(\"test_dataset.csv\", sep='\\t')"
   ]
  },
  {
   "cell_type": "code",
   "execution_count": 263,
   "metadata": {},
   "outputs": [],
   "source": [
    "tf.keras.backend.clear_session()"
   ]
  },
  {
   "cell_type": "code",
   "execution_count": null,
   "metadata": {},
   "outputs": [],
   "source": []
  },
  {
   "cell_type": "code",
   "execution_count": null,
   "metadata": {},
   "outputs": [],
   "source": []
  },
  {
   "cell_type": "code",
   "execution_count": 264,
   "metadata": {},
   "outputs": [
    {
     "name": "stderr",
     "output_type": "stream",
     "text": [
      "All model checkpoint layers were used when initializing TFPegasusForConditionalGeneration.\n",
      "\n",
      "All the layers of TFPegasusForConditionalGeneration were initialized from the model checkpoint at google/pegasus-xsum.\n",
      "If your task is similar to the task the model of the checkpoint was trained on, you can already use TFPegasusForConditionalGeneration for predictions without further training.\n"
     ]
    },
    {
     "name": "stdout",
     "output_type": "stream",
     "text": [
      "Model: \"tf_pegasus_for_conditional_generation\"\n",
      "_________________________________________________________________\n",
      "Layer (type)                 Output Shape              Param #   \n",
      "=================================================================\n",
      "model (TFPegasusMainLayer)   multiple                  569748480 \n",
      "=================================================================\n",
      "Total params: 569,844,583\n",
      "Trainable params: 569,748,480\n",
      "Non-trainable params: 96,103\n",
      "_________________________________________________________________\n"
     ]
    }
   ],
   "source": [
    "pegasus_model = TFPegasusForConditionalGeneration.from_pretrained('google/pegasus-xsum')\n",
    "pegasus_tokenizer = PegasusTokenizer.from_pretrained('google/pegasus-xsum')\n",
    "\n",
    "pegasus_model.summary()"
   ]
  },
  {
   "cell_type": "code",
   "execution_count": 265,
   "metadata": {},
   "outputs": [],
   "source": [
    "pegasus_input_list = [pegasus_tokenizer([i], max_length=512, truncation=True, return_tensors='tf') for i in test_article_text]"
   ]
  },
  {
   "cell_type": "code",
   "execution_count": 266,
   "metadata": {},
   "outputs": [],
   "source": [
    "pegasus_summary_ids =  [pegasus_model.generate(i['input_ids'], \n",
    "                                    no_repeat_ngram_size=2,\n",
    "                                    min_length=35,\n",
    "                                    max_length=80,\n",
    "                                    early_stopping=True) for i in pegasus_input_list]"
   ]
  },
  {
   "cell_type": "code",
   "execution_count": 267,
   "metadata": {},
   "outputs": [],
   "source": [
    "pegasus_summary_list = [[pegasus_tokenizer.decode(g, skip_special_tokens=True, \n",
    "                           clean_up_tokenization_spaces=False) for g in i] for i in pegasus_summary_ids]"
   ]
  },
  {
   "cell_type": "code",
   "execution_count": 268,
   "metadata": {},
   "outputs": [],
   "source": [
    "pegasus_summaries = [i[0] for i in pegasus_summary_list]\n",
    "test_section[\"pegasus_summaries\"] = pegasus_summaries"
   ]
  },
  {
   "cell_type": "code",
   "execution_count": 271,
   "metadata": {},
   "outputs": [],
   "source": [
    "# data[\"pegasus_summaries\"] = pegasus_summaries"
   ]
  },
  {
   "cell_type": "code",
   "execution_count": 14,
   "metadata": {},
   "outputs": [
    {
     "data": {
      "text/html": [
       "<div>\n",
       "<style scoped>\n",
       "    .dataframe tbody tr th:only-of-type {\n",
       "        vertical-align: middle;\n",
       "    }\n",
       "\n",
       "    .dataframe tbody tr th {\n",
       "        vertical-align: top;\n",
       "    }\n",
       "\n",
       "    .dataframe thead th {\n",
       "        text-align: right;\n",
       "    }\n",
       "</style>\n",
       "<table border=\"1\" class=\"dataframe\">\n",
       "  <thead>\n",
       "    <tr style=\"text-align: right;\">\n",
       "      <th></th>\n",
       "      <th>index</th>\n",
       "      <th>url</th>\n",
       "      <th>q3</th>\n",
       "      <th>perceived</th>\n",
       "      <th>primary.topic</th>\n",
       "      <th>secondary.topic</th>\n",
       "      <th>democrat.vote</th>\n",
       "      <th>republican.vote</th>\n",
       "      <th>article</th>\n",
       "      <th>length</th>\n",
       "      <th>...</th>\n",
       "      <th>biascategories</th>\n",
       "      <th>text</th>\n",
       "      <th>label</th>\n",
       "      <th>BERT</th>\n",
       "      <th>RoBERTa</th>\n",
       "      <th>XLNet</th>\n",
       "      <th>ALBERT</th>\n",
       "      <th>encodedlabel</th>\n",
       "      <th>t5_summaries</th>\n",
       "      <th>pegasus_summaries</th>\n",
       "    </tr>\n",
       "  </thead>\n",
       "  <tbody>\n",
       "    <tr>\n",
       "      <th>0</th>\n",
       "      <td>7048</td>\n",
       "      <td>http://news.yahoo.com/virginia-republicans-pan...</td>\n",
       "      <td>News</td>\n",
       "      <td>1</td>\n",
       "      <td>Elections</td>\n",
       "      <td>Republican Scandals</td>\n",
       "      <td>SomewhatPositive</td>\n",
       "      <td>Negative</td>\n",
       "      <td>a minister who compared gays to pedophiles and...</td>\n",
       "      <td>600</td>\n",
       "      <td>...</td>\n",
       "      <td>1</td>\n",
       "      <td>a minister who compared gays to pedophiles and...</td>\n",
       "      <td>Biased</td>\n",
       "      <td>0</td>\n",
       "      <td>0</td>\n",
       "      <td>0</td>\n",
       "      <td>0</td>\n",
       "      <td>0</td>\n",
       "      <td>gop's ken cuccinelli has been downplaying his ...</td>\n",
       "      <td>The Republican Party in Virginia is trying to ...</td>\n",
       "    </tr>\n",
       "    <tr>\n",
       "      <th>1</th>\n",
       "      <td>2861</td>\n",
       "      <td>http://www.dailykos.com/story/2013/01/17/11796...</td>\n",
       "      <td>Opinion</td>\n",
       "      <td>0</td>\n",
       "      <td>Gun Rights Regulation</td>\n",
       "      <td>Gun Related Crimes</td>\n",
       "      <td>Neutral</td>\n",
       "      <td>Neutral</td>\n",
       "      <td>nra ad: are the president's kids more importan...</td>\n",
       "      <td>600</td>\n",
       "      <td>...</td>\n",
       "      <td>0</td>\n",
       "      <td>nra ad: are the president's kids more importan...</td>\n",
       "      <td>Neutral</td>\n",
       "      <td>0</td>\n",
       "      <td>0</td>\n",
       "      <td>0</td>\n",
       "      <td>0</td>\n",
       "      <td>1</td>\n",
       "      <td>president obama unveiled legislative proposals...</td>\n",
       "      <td>In the wake of last week's school shooting in ...</td>\n",
       "    </tr>\n",
       "    <tr>\n",
       "      <th>2</th>\n",
       "      <td>7023</td>\n",
       "      <td>http://www.washingtonpost.com/opinions/george-...</td>\n",
       "      <td>Opinion</td>\n",
       "      <td>0</td>\n",
       "      <td>International News</td>\n",
       "      <td>Gun Rights Regulation</td>\n",
       "      <td>Negative</td>\n",
       "      <td>Neutral</td>\n",
       "      <td>back to previous page obama hits a wall in ber...</td>\n",
       "      <td>600</td>\n",
       "      <td>...</td>\n",
       "      <td>-1</td>\n",
       "      <td>back to previous page obama hits a wall in ber...</td>\n",
       "      <td>Biased</td>\n",
       "      <td>0</td>\n",
       "      <td>0</td>\n",
       "      <td>0</td>\n",
       "      <td>0</td>\n",
       "      <td>0</td>\n",
       "      <td>david frum: obama's second term will be silly,...</td>\n",
       "      <td>The president of the United States of America,...</td>\n",
       "    </tr>\n",
       "    <tr>\n",
       "      <th>3</th>\n",
       "      <td>8486</td>\n",
       "      <td>http://news.yahoo.com/gop-infighting-fierce-ev...</td>\n",
       "      <td>Opinion</td>\n",
       "      <td>0</td>\n",
       "      <td>Republican Scandals</td>\n",
       "      <td>None</td>\n",
       "      <td>SomewhatPositive</td>\n",
       "      <td>SomewhatNegative</td>\n",
       "      <td>montpelier, idaho (ap) — republicans have made...</td>\n",
       "      <td>600</td>\n",
       "      <td>...</td>\n",
       "      <td>1</td>\n",
       "      <td>montpelier, idaho (ap) — republicans have made...</td>\n",
       "      <td>Biased</td>\n",
       "      <td>0</td>\n",
       "      <td>0</td>\n",
       "      <td>0</td>\n",
       "      <td>1</td>\n",
       "      <td>0</td>\n",
       "      <td>republicans have made the mountain west a stro...</td>\n",
       "      <td>In the mountains of western virginia, republic...</td>\n",
       "    </tr>\n",
       "    <tr>\n",
       "      <th>4</th>\n",
       "      <td>9055</td>\n",
       "      <td>http://www.latimes.com/news/nationworld/nation...</td>\n",
       "      <td>News</td>\n",
       "      <td>1</td>\n",
       "      <td>Elections</td>\n",
       "      <td>None</td>\n",
       "      <td>Positive</td>\n",
       "      <td>Neutral</td>\n",
       "      <td>washington — finally unburdened by worries abo...</td>\n",
       "      <td>600</td>\n",
       "      <td>...</td>\n",
       "      <td>1</td>\n",
       "      <td>washington — finally unburdened by worries abo...</td>\n",
       "      <td>Biased</td>\n",
       "      <td>0</td>\n",
       "      <td>0</td>\n",
       "      <td>0</td>\n",
       "      <td>1</td>\n",
       "      <td>0</td>\n",
       "      <td>president obama is noticeably quicker to speak...</td>\n",
       "      <td>With less than two weeks to go before American...</td>\n",
       "    </tr>\n",
       "  </tbody>\n",
       "</table>\n",
       "<p>5 rows × 24 columns</p>\n",
       "</div>"
      ],
      "text/plain": [
       "   index                                                url       q3  \\\n",
       "0   7048  http://news.yahoo.com/virginia-republicans-pan...     News   \n",
       "1   2861  http://www.dailykos.com/story/2013/01/17/11796...  Opinion   \n",
       "2   7023  http://www.washingtonpost.com/opinions/george-...  Opinion   \n",
       "3   8486  http://news.yahoo.com/gop-infighting-fierce-ev...  Opinion   \n",
       "4   9055  http://www.latimes.com/news/nationworld/nation...     News   \n",
       "\n",
       "   perceived          primary.topic        secondary.topic     democrat.vote  \\\n",
       "0          1              Elections    Republican Scandals  SomewhatPositive   \n",
       "1          0  Gun Rights Regulation     Gun Related Crimes           Neutral   \n",
       "2          0     International News  Gun Rights Regulation          Negative   \n",
       "3          0    Republican Scandals                   None  SomewhatPositive   \n",
       "4          1              Elections                   None          Positive   \n",
       "\n",
       "    republican.vote                                            article  \\\n",
       "0          Negative  a minister who compared gays to pedophiles and...   \n",
       "1           Neutral  nra ad: are the president's kids more importan...   \n",
       "2           Neutral  back to previous page obama hits a wall in ber...   \n",
       "3  SomewhatNegative  montpelier, idaho (ap) — republicans have made...   \n",
       "4           Neutral  washington — finally unburdened by worries abo...   \n",
       "\n",
       "   length  ...  biascategories  \\\n",
       "0     600  ...               1   \n",
       "1     600  ...               0   \n",
       "2     600  ...              -1   \n",
       "3     600  ...               1   \n",
       "4     600  ...               1   \n",
       "\n",
       "                                                text    label  BERT  RoBERTa  \\\n",
       "0  a minister who compared gays to pedophiles and...   Biased     0        0   \n",
       "1  nra ad: are the president's kids more importan...  Neutral     0        0   \n",
       "2  back to previous page obama hits a wall in ber...   Biased     0        0   \n",
       "3  montpelier, idaho (ap) — republicans have made...   Biased     0        0   \n",
       "4  washington — finally unburdened by worries abo...   Biased     0        0   \n",
       "\n",
       "  XLNet ALBERT  encodedlabel  \\\n",
       "0     0      0             0   \n",
       "1     0      0             1   \n",
       "2     0      0             0   \n",
       "3     0      1             0   \n",
       "4     0      1             0   \n",
       "\n",
       "                                        t5_summaries  \\\n",
       "0  gop's ken cuccinelli has been downplaying his ...   \n",
       "1  president obama unveiled legislative proposals...   \n",
       "2  david frum: obama's second term will be silly,...   \n",
       "3  republicans have made the mountain west a stro...   \n",
       "4  president obama is noticeably quicker to speak...   \n",
       "\n",
       "                                   pegasus_summaries  \n",
       "0  The Republican Party in Virginia is trying to ...  \n",
       "1  In the wake of last week's school shooting in ...  \n",
       "2  The president of the United States of America,...  \n",
       "3  In the mountains of western virginia, republic...  \n",
       "4  With less than two weeks to go before American...  \n",
       "\n",
       "[5 rows x 24 columns]"
      ]
     },
     "execution_count": 14,
     "metadata": {},
     "output_type": "execute_result"
    }
   ],
   "source": [
    "test_section.head()"
   ]
  },
  {
   "cell_type": "code",
   "execution_count": 19,
   "metadata": {},
   "outputs": [],
   "source": [
    "test_section.to_csv(\"test_dataset.csv\", sep='\\t')"
   ]
  },
  {
   "cell_type": "markdown",
   "metadata": {},
   "source": [
    "## Evaluating summary bias using XLNet"
   ]
  },
  {
   "cell_type": "code",
   "execution_count": 4,
   "metadata": {},
   "outputs": [],
   "source": [
    "from transformers import TFXLNetForSequenceClassification, XLNetTokenizer"
   ]
  },
  {
   "cell_type": "code",
   "execution_count": 5,
   "metadata": {},
   "outputs": [],
   "source": [
    "from sklearn.preprocessing import LabelEncoder\n",
    "\n",
    "le = LabelEncoder()\n",
    "train_labels = np.asarray(le.fit_transform(train_section['label']))\n",
    "val_labels = np.asarray(le.transform(val_section['label']))"
   ]
  },
  {
   "cell_type": "code",
   "execution_count": 6,
   "metadata": {},
   "outputs": [
    {
     "data": {
      "application/vnd.jupyter.widget-view+json": {
       "model_id": "621c938b091346909525429628718a32",
       "version_major": 2,
       "version_minor": 0
      },
      "text/plain": [
       "Downloading:   0%|          | 0.00/798k [00:00<?, ?B/s]"
      ]
     },
     "metadata": {},
     "output_type": "display_data"
    },
    {
     "data": {
      "application/vnd.jupyter.widget-view+json": {
       "model_id": "74768603c44c4efaad75092f647f69b7",
       "version_major": 2,
       "version_minor": 0
      },
      "text/plain": [
       "Downloading:   0%|          | 0.00/1.38M [00:00<?, ?B/s]"
      ]
     },
     "metadata": {},
     "output_type": "display_data"
    }
   ],
   "source": [
    "tokenizer_transformer = XLNetTokenizer.from_pretrained('xlnet-large-cased')"
   ]
  },
  {
   "cell_type": "code",
   "execution_count": 7,
   "metadata": {},
   "outputs": [],
   "source": [
    "MAX_LEN = 512"
   ]
  },
  {
   "cell_type": "code",
   "execution_count": 9,
   "metadata": {},
   "outputs": [],
   "source": [
    "\n",
    "def create_input_array(df, tokenizer, text):\n",
    "    sentences = df[text].values\n",
    "\n",
    "    input_ids = []\n",
    "    attention_masks = []\n",
    "    token_type_ids = []\n",
    "\n",
    "    for sent in sentences:\n",
    "        # `encode_plus` will:\n",
    "        #   (1) Tokenize the sentence.\n",
    "        #   (2) Prepend the `[CLS]` token to the start.\n",
    "        #   (3) Append the `[SEP]` token to the end.\n",
    "        #   (4) Map tokens to their IDs.\n",
    "        #   (5) Pad or truncate the sentence to `max_length`\n",
    "        #   (6) Create attention masks for [PAD] tokens.\n",
    "        encoded_dict = tokenizer.encode_plus(\n",
    "            sent,  # Sentence to encode.\n",
    "            add_special_tokens=True,  # Add '[CLS]' and '[SEP]'\n",
    "            max_length=MAX_LEN,  # Pad & truncate all sentences.\n",
    "                pad_to_max_length=True,\n",
    "                return_attention_mask=True,  # Construct attn. masks.\n",
    "                return_tensors='tf',  # Return tf tensors.\n",
    "            )\n",
    "\n",
    "        # Add the encoded sentence to the list.\n",
    "        input_ids.append(encoded_dict['input_ids'])\n",
    "\n",
    "        # And its attention mask (simply differentiates padding from non-padding).\n",
    "        attention_masks.append(encoded_dict['attention_mask'])\n",
    "\n",
    "        token_type_ids.append(encoded_dict['token_type_ids'])\n",
    "\n",
    "    input_ids = tf.convert_to_tensor(input_ids)\n",
    "    attention_masks = tf.convert_to_tensor(attention_masks)\n",
    "    token_type_ids = tf.convert_to_tensor(token_type_ids)\n",
    "\n",
    "\n",
    "    return input_ids, attention_masks, token_type_ids\n",
    "#     return input_ids, attention_masks\n",
    "\n"
   ]
  },
  {
   "cell_type": "code",
   "execution_count": 10,
   "metadata": {},
   "outputs": [],
   "source": [
    "def convert_inputs_to_tf_dataset(inputs):\n",
    "    # args.max_seq_len = 256\n",
    "    ids = inputs[0][0]\n",
    "    masks = inputs[0][1]\n",
    "    token_types = inputs[0][2]\n",
    "\n",
    "    ids = tf.reshape(ids, (-1, MAX_LEN))\n",
    "    print(\"Input ids shape: \", ids.shape)\n",
    "    masks = tf.reshape(masks, (-1, MAX_LEN))\n",
    "    print(\"Input Masks shape: \", masks.shape)\n",
    "    token_types = tf.reshape(token_types, (-1, MAX_LEN))\n",
    "    print(\"Token type ids shape: \", token_types.shape)\n",
    "\n",
    "    ids=ids.numpy()\n",
    "    masks = masks.numpy()\n",
    "    token_types = token_types.numpy()\n",
    "#     return[ids]\n",
    "#     return [ids, masks, token_types]\n",
    "    return [ids, masks]"
   ]
  },
  {
   "cell_type": "code",
   "execution_count": 13,
   "metadata": {},
   "outputs": [
    {
     "name": "stderr",
     "output_type": "stream",
     "text": [
      "All model checkpoint layers were used when initializing TFXLNetForSequenceClassification.\n",
      "\n",
      "All the layers of TFXLNetForSequenceClassification were initialized from the model checkpoint at data/experiments/BinaryXLNetmodels.\n",
      "If your task is similar to the task the model of the checkpoint was trained on, you can already use TFXLNetForSequenceClassification for predictions without further training.\n"
     ]
    }
   ],
   "source": [
    "model = TFXLNetForSequenceClassification.from_pretrained(\"data/experiments/BinaryXLNetmodels\", num_labels=len(np.unique(train_labels)))\n",
    "loss = tf.keras.losses.SparseCategoricalCrossentropy(from_logits=True)\n",
    "metric = tf.keras.metrics.SparseCategoricalAccuracy('accuracy')\n",
    "optimizer = tf.keras.optimizers.Adam(learning_rate=2e-07, epsilon=1e-08)\n",
    "\n",
    "model.compile(optimizer=optimizer, loss=loss, metrics=[metric])"
   ]
  },
  {
   "cell_type": "code",
   "execution_count": 14,
   "metadata": {},
   "outputs": [
    {
     "name": "stdout",
     "output_type": "stream",
     "text": [
      "Model: \"tfxl_net_for_sequence_classification\"\n",
      "_________________________________________________________________\n",
      "Layer (type)                 Output Shape              Param #   \n",
      "=================================================================\n",
      "transformer (TFXLNetMainLaye multiple                  360268800 \n",
      "_________________________________________________________________\n",
      "sequence_summary (TFSequence multiple                  1049600   \n",
      "_________________________________________________________________\n",
      "logits_proj (Dense)          multiple                  2050      \n",
      "=================================================================\n",
      "Total params: 361,320,450\n",
      "Trainable params: 361,320,450\n",
      "Non-trainable params: 0\n",
      "_________________________________________________________________\n"
     ]
    }
   ],
   "source": [
    "model.summary()"
   ]
  },
  {
   "cell_type": "code",
   "execution_count": null,
   "metadata": {},
   "outputs": [],
   "source": []
  },
  {
   "cell_type": "markdown",
   "metadata": {},
   "source": [
    "## Predicting T5 Summary Labels"
   ]
  },
  {
   "cell_type": "code",
   "execution_count": 66,
   "metadata": {},
   "outputs": [
    {
     "data": {
      "text/plain": [
       "0    gop's ken cuccinelli has been downplaying his ...\n",
       "1    president obama unveiled legislative proposals...\n",
       "2    david frum: obama's second term will be silly,...\n",
       "3    republicans have made the mountain west a stro...\n",
       "4    president obama is noticeably quicker to speak...\n",
       "Name: t5_summaries, dtype: object"
      ]
     },
     "execution_count": 66,
     "metadata": {},
     "output_type": "execute_result"
    }
   ],
   "source": [
    "test_section[\"t5_summaries\"].head()"
   ]
  },
  {
   "cell_type": "code",
   "execution_count": 55,
   "metadata": {},
   "outputs": [
    {
     "name": "stdout",
     "output_type": "stream",
     "text": [
      "Input ids shape:  (110, 512)\n",
      "Input Masks shape:  (110, 512)\n",
      "Token type ids shape:  (110, 512)\n"
     ]
    },
    {
     "name": "stderr",
     "output_type": "stream",
     "text": [
      "/usr/local/lib/python3.8/dist-packages/transformers/tokenization_utils_base.py:2068: FutureWarning: The `pad_to_max_length` argument is deprecated and will be removed in a future version, use `padding=True` or `padding='longest'` to pad to the longest sequence in the batch, or use `padding='max_length'` to pad to a max length. In this case, you can give a specific length with `max_length` (e.g. `max_length=45`) or leave max_length to None to pad to the maximal input size of the model (e.g. 512 for Bert).\n",
      "  warnings.warn(\n"
     ]
    }
   ],
   "source": [
    "test_labels = np.asarray(le.transform(test_section['label']))\n",
    "test_inputs = [create_input_array(test_section, tokenizer=tokenizer_transformer, text = \"t5_summaries\")]\n",
    "test_data = convert_inputs_to_tf_dataset(test_inputs)"
   ]
  },
  {
   "cell_type": "code",
   "execution_count": 56,
   "metadata": {},
   "outputs": [],
   "source": [
    "test_probs = model.predict(test_data, batch_size= 1, verbose=0)"
   ]
  },
  {
   "cell_type": "code",
   "execution_count": 57,
   "metadata": {},
   "outputs": [],
   "source": [
    "test_probs = test_probs[\"logits\"]"
   ]
  },
  {
   "cell_type": "code",
   "execution_count": 58,
   "metadata": {},
   "outputs": [],
   "source": [
    "test_classes = np.argmax(test_probs, axis = 1)"
   ]
  },
  {
   "cell_type": "code",
   "execution_count": 59,
   "metadata": {},
   "outputs": [
    {
     "data": {
      "text/plain": [
       "array([0, 0, 0, 0, 0, 0, 1, 0, 1, 1, 0, 1, 0, 0, 0, 1, 1, 1, 1, 0, 1, 1,\n",
       "       1, 1, 1, 1, 0, 1, 1, 1, 1, 1, 1, 1, 1, 1, 1, 0, 1, 1, 1, 1, 1, 1,\n",
       "       1, 1, 0, 0, 1, 1, 1, 0, 0, 1, 1, 0, 1, 1, 1, 0, 1, 1, 1, 1, 0, 1,\n",
       "       0, 0, 0, 1, 1, 1, 0, 1, 1, 1, 1, 1, 1, 1, 1, 1, 1, 0, 1, 1, 1, 1,\n",
       "       1, 1, 1, 0, 0, 0, 1, 1, 1, 1, 1, 1, 1, 1, 1, 0, 0, 1, 0, 0, 1, 1])"
      ]
     },
     "execution_count": 59,
     "metadata": {},
     "output_type": "execute_result"
    }
   ],
   "source": [
    "# t5 summaries\n",
    "test_classes"
   ]
  },
  {
   "cell_type": "code",
   "execution_count": 60,
   "metadata": {},
   "outputs": [
    {
     "data": {
      "text/plain": [
       "array([0, 1, 0, 0, 0, 1, 0, 0, 0, 1, 0, 0, 1, 0, 0, 0, 0, 0, 0, 1, 1, 0,\n",
       "       1, 1, 0, 0, 0, 1, 1, 0, 0, 1, 1, 1, 1, 1, 1, 1, 0, 1, 1, 1, 1, 1,\n",
       "       1, 1, 1, 0, 1, 1, 0, 0, 0, 1, 1, 1, 0, 1, 1, 0, 0, 1, 1, 0, 0, 0,\n",
       "       1, 0, 0, 1, 0, 1, 0, 1, 0, 1, 1, 1, 1, 1, 1, 1, 0, 0, 1, 1, 1, 1,\n",
       "       1, 1, 1, 0, 0, 1, 1, 1, 1, 1, 1, 0, 1, 0, 1, 0, 0, 0, 1, 0, 1, 0])"
      ]
     },
     "execution_count": 60,
     "metadata": {},
     "output_type": "execute_result"
    }
   ],
   "source": [
    "test_labels"
   ]
  },
  {
   "cell_type": "code",
   "execution_count": 61,
   "metadata": {},
   "outputs": [
    {
     "name": "stdout",
     "output_type": "stream",
     "text": [
      "Test accuracy:\n",
      "0.6818181818181818\n"
     ]
    }
   ],
   "source": [
    "c=0\n",
    "for i in range(test_classes.shape[0]):\n",
    "    if test_classes[i]==test_labels[i]:\n",
    "        c+=1\n",
    "print(\"Test accuracy:\")\n",
    "print(c/test_labels.shape[0])"
   ]
  },
  {
   "cell_type": "code",
   "execution_count": 11,
   "metadata": {},
   "outputs": [],
   "source": [
    "from sklearn.metrics import accuracy_score\n",
    "from sklearn.metrics import precision_score\n",
    "from sklearn.metrics import recall_score\n",
    "from sklearn.metrics import f1_score\n",
    "from sklearn.metrics import cohen_kappa_score\n",
    "from sklearn.metrics import roc_auc_score\n",
    "from sklearn.metrics import confusion_matrix"
   ]
  },
  {
   "cell_type": "code",
   "execution_count": 63,
   "metadata": {},
   "outputs": [
    {
     "name": "stdout",
     "output_type": "stream",
     "text": [
      "Accuracy: 0.681818\n",
      "Precision: 0.675325\n",
      "Recall: 0.838710\n",
      "F1 score: 0.748201\n"
     ]
    }
   ],
   "source": [
    "# accuracy: (tp + tn) / (p + n)\n",
    "t5accuracy = accuracy_score(test_labels, test_classes)\n",
    "print('Accuracy: %f' % t5accuracy)\n",
    "# precision tp / (tp + fp)\n",
    "t5precision = precision_score(test_labels, test_classes)\n",
    "print('Precision: %f' % t5precision)\n",
    "# recall: tp / (tp + fn)\n",
    "t5recall = recall_score(test_labels, test_classes)\n",
    "print('Recall: %f' % t5recall)\n",
    "# f1: 2 tp / (2 tp + fp + fn)\n",
    "t5f1 = f1_score(test_labels, test_classes)\n",
    "print('F1 score: %f' % t5f1)\n",
    " "
   ]
  },
  {
   "cell_type": "code",
   "execution_count": 64,
   "metadata": {},
   "outputs": [],
   "source": [
    "t5metrics = [t5accuracy, t5precision, t5recall, t5f1]"
   ]
  },
  {
   "cell_type": "markdown",
   "metadata": {},
   "source": [
    "## Predicting Pegasus Summary Labels"
   ]
  },
  {
   "cell_type": "code",
   "execution_count": 65,
   "metadata": {},
   "outputs": [
    {
     "data": {
      "text/plain": [
       "0    The Republican Party in Virginia is trying to ...\n",
       "1    In the wake of last week's school shooting in ...\n",
       "2    The president of the United States of America,...\n",
       "3    In the mountains of western virginia, republic...\n",
       "4    With less than two weeks to go before American...\n",
       "Name: pegasus_summaries, dtype: object"
      ]
     },
     "execution_count": 65,
     "metadata": {},
     "output_type": "execute_result"
    }
   ],
   "source": [
    "test_section[\"pegasus_summaries\"].head()"
   ]
  },
  {
   "cell_type": "code",
   "execution_count": 67,
   "metadata": {},
   "outputs": [
    {
     "name": "stdout",
     "output_type": "stream",
     "text": [
      "Input ids shape:  (110, 512)\n",
      "Input Masks shape:  (110, 512)\n",
      "Token type ids shape:  (110, 512)\n"
     ]
    },
    {
     "name": "stderr",
     "output_type": "stream",
     "text": [
      "/usr/local/lib/python3.8/dist-packages/transformers/tokenization_utils_base.py:2068: FutureWarning: The `pad_to_max_length` argument is deprecated and will be removed in a future version, use `padding=True` or `padding='longest'` to pad to the longest sequence in the batch, or use `padding='max_length'` to pad to a max length. In this case, you can give a specific length with `max_length` (e.g. `max_length=45`) or leave max_length to None to pad to the maximal input size of the model (e.g. 512 for Bert).\n",
      "  warnings.warn(\n"
     ]
    }
   ],
   "source": [
    "test_labels = np.asarray(le.transform(test_section['label']))\n",
    "test_inputs = [create_input_array(test_section, tokenizer=tokenizer_transformer, text = \"pegasus_summaries\")]\n",
    "test_data = convert_inputs_to_tf_dataset(test_inputs)"
   ]
  },
  {
   "cell_type": "code",
   "execution_count": 68,
   "metadata": {},
   "outputs": [],
   "source": [
    "test_probs = model.predict(test_data, batch_size= 1, verbose=0)"
   ]
  },
  {
   "cell_type": "code",
   "execution_count": 69,
   "metadata": {},
   "outputs": [],
   "source": [
    "test_probs = test_probs[\"logits\"]"
   ]
  },
  {
   "cell_type": "code",
   "execution_count": 70,
   "metadata": {},
   "outputs": [],
   "source": [
    "test_classes = np.argmax(test_probs, axis = 1)"
   ]
  },
  {
   "cell_type": "code",
   "execution_count": 71,
   "metadata": {},
   "outputs": [
    {
     "data": {
      "text/plain": [
       "array([0, 1, 1, 0, 0, 1, 1, 1, 1, 1, 0, 0, 1, 1, 1, 0, 0, 1, 0, 1, 1, 1,\n",
       "       1, 1, 1, 1, 1, 1, 1, 0, 0, 1, 1, 1, 1, 1, 1, 1, 1, 1, 1, 1, 1, 1,\n",
       "       1, 1, 1, 0, 1, 1, 1, 1, 1, 1, 1, 1, 0, 1, 1, 0, 1, 1, 1, 1, 1, 1,\n",
       "       1, 1, 1, 1, 1, 1, 0, 1, 1, 1, 1, 1, 1, 1, 1, 1, 0, 0, 1, 1, 1, 1,\n",
       "       1, 1, 1, 0, 0, 1, 1, 1, 1, 0, 1, 1, 1, 1, 1, 1, 1, 1, 1, 1, 1, 0])"
      ]
     },
     "execution_count": 71,
     "metadata": {},
     "output_type": "execute_result"
    }
   ],
   "source": [
    "test_classes"
   ]
  },
  {
   "cell_type": "code",
   "execution_count": 73,
   "metadata": {},
   "outputs": [
    {
     "data": {
      "text/plain": [
       "array([0, 1, 0, 0, 0, 1, 0, 0, 0, 1, 0, 0, 1, 0, 0, 0, 0, 0, 0, 1, 1, 0,\n",
       "       1, 1, 0, 0, 0, 1, 1, 0, 0, 1, 1, 1, 1, 1, 1, 1, 0, 1, 1, 1, 1, 1,\n",
       "       1, 1, 1, 0, 1, 1, 0, 0, 0, 1, 1, 1, 0, 1, 1, 0, 0, 1, 1, 0, 0, 0,\n",
       "       1, 0, 0, 1, 0, 1, 0, 1, 0, 1, 1, 1, 1, 1, 1, 1, 0, 0, 1, 1, 1, 1,\n",
       "       1, 1, 1, 0, 0, 1, 1, 1, 1, 1, 1, 0, 1, 0, 1, 0, 0, 0, 1, 0, 1, 0])"
      ]
     },
     "execution_count": 73,
     "metadata": {},
     "output_type": "execute_result"
    }
   ],
   "source": [
    "test_labels"
   ]
  },
  {
   "cell_type": "code",
   "execution_count": 74,
   "metadata": {},
   "outputs": [
    {
     "name": "stdout",
     "output_type": "stream",
     "text": [
      "Test accuracy:\n",
      "0.7272727272727273\n"
     ]
    }
   ],
   "source": [
    "c=0\n",
    "for i in range(test_classes.shape[0]):\n",
    "    if test_classes[i]==test_labels[i]:\n",
    "        c+=1\n",
    "print(\"Test accuracy:\")\n",
    "print(c/test_labels.shape[0])"
   ]
  },
  {
   "cell_type": "code",
   "execution_count": 75,
   "metadata": {},
   "outputs": [
    {
     "name": "stdout",
     "output_type": "stream",
     "text": [
      "Accuracy: 0.727273\n",
      "Precision: 0.677778\n",
      "Recall: 0.983871\n",
      "F1 score: 0.802632\n"
     ]
    }
   ],
   "source": [
    "# accuracy: (tp + tn) / (p + n)\n",
    "pegasusaccuracy = accuracy_score(test_labels, test_classes)\n",
    "print('Accuracy: %f' % pegasusaccuracy)\n",
    "# precision tp / (tp + fp)\n",
    "pegasusprecision = precision_score(test_labels, test_classes)\n",
    "print('Precision: %f' % pegasusprecision)\n",
    "# recall: tp / (tp + fn)\n",
    "pegasusrecall = recall_score(test_labels, test_classes)\n",
    "print('Recall: %f' % pegasusrecall)\n",
    "# f1: 2 tp / (2 tp + fp + fn)\n",
    "pegasusf1 = f1_score(test_labels, test_classes)\n",
    "print('F1 score: %f' % pegasusf1)\n",
    " "
   ]
  },
  {
   "cell_type": "code",
   "execution_count": 76,
   "metadata": {},
   "outputs": [],
   "source": [
    "pegasusmetrics = [pegasusaccuracy, pegasusprecision, pegasusrecall, pegasusf1]"
   ]
  },
  {
   "cell_type": "markdown",
   "metadata": {},
   "source": [
    "## Double checking our loaded model is the correct model"
   ]
  },
  {
   "cell_type": "code",
   "execution_count": 34,
   "metadata": {},
   "outputs": [
    {
     "name": "stderr",
     "output_type": "stream",
     "text": [
      "/usr/local/lib/python3.8/dist-packages/transformers/tokenization_utils_base.py:2068: FutureWarning: The `pad_to_max_length` argument is deprecated and will be removed in a future version, use `padding=True` or `padding='longest'` to pad to the longest sequence in the batch, or use `padding='max_length'` to pad to a max length. In this case, you can give a specific length with `max_length` (e.g. `max_length=45`) or leave max_length to None to pad to the maximal input size of the model (e.g. 512 for Bert).\n",
      "  warnings.warn(\n"
     ]
    },
    {
     "name": "stdout",
     "output_type": "stream",
     "text": [
      "Input ids shape:  (110, 512)\n",
      "Input Masks shape:  (110, 512)\n",
      "Token type ids shape:  (110, 512)\n"
     ]
    }
   ],
   "source": [
    "test_labels = np.asarray(le.transform(test_section['label']))\n",
    "test_inputs = [create_input_array(test_section, tokenizer=tokenizer_transformer, text = \"text\")]\n",
    "test_data = convert_inputs_to_tf_dataset(test_inputs)\n",
    "\n",
    "test_probs = model.predict(test_data, batch_size= 1, verbose=0)"
   ]
  },
  {
   "cell_type": "code",
   "execution_count": 35,
   "metadata": {},
   "outputs": [],
   "source": [
    "test_probs = test_probs[\"logits\"]"
   ]
  },
  {
   "cell_type": "code",
   "execution_count": 36,
   "metadata": {},
   "outputs": [],
   "source": [
    "test_classes = np.argmax(test_probs, axis = 1)"
   ]
  },
  {
   "cell_type": "code",
   "execution_count": 37,
   "metadata": {},
   "outputs": [
    {
     "data": {
      "text/plain": [
       "array([0, 0, 0, 0, 0, 0, 0, 0, 0, 0, 0, 1, 1, 0, 0, 0, 1, 0, 1, 1, 1, 1,\n",
       "       1, 1, 1, 1, 0, 1, 1, 0, 0, 1, 1, 1, 1, 1, 1, 1, 0, 1, 1, 1, 1, 1,\n",
       "       1, 1, 1, 0, 1, 1, 1, 1, 0, 1, 1, 0, 0, 1, 1, 0, 0, 1, 1, 1, 0, 0,\n",
       "       1, 0, 0, 0, 0, 1, 0, 1, 1, 1, 1, 1, 1, 1, 1, 1, 0, 0, 1, 1, 1, 1,\n",
       "       1, 1, 0, 0, 0, 0, 1, 1, 1, 1, 1, 0, 1, 1, 1, 1, 0, 0, 0, 1, 1, 0])"
      ]
     },
     "execution_count": 37,
     "metadata": {},
     "output_type": "execute_result"
    }
   ],
   "source": [
    "test_classes"
   ]
  },
  {
   "cell_type": "code",
   "execution_count": 45,
   "metadata": {},
   "outputs": [
    {
     "data": {
      "text/plain": [
       "array([ True,  True,  True,  True,  True,  True,  True,  True,  True,\n",
       "        True,  True,  True,  True,  True,  True,  True,  True,  True,\n",
       "        True,  True,  True,  True,  True,  True,  True,  True,  True,\n",
       "        True,  True,  True,  True,  True,  True,  True,  True,  True,\n",
       "        True,  True,  True,  True,  True,  True,  True,  True,  True,\n",
       "        True,  True,  True,  True,  True,  True,  True,  True,  True,\n",
       "        True,  True,  True,  True,  True,  True,  True,  True,  True,\n",
       "        True,  True,  True,  True,  True,  True,  True,  True,  True,\n",
       "        True,  True,  True,  True,  True,  True,  True,  True,  True,\n",
       "        True,  True,  True,  True,  True,  True,  True,  True,  True,\n",
       "        True,  True,  True,  True,  True,  True,  True,  True,  True,\n",
       "        True,  True,  True,  True,  True,  True,  True,  True,  True,\n",
       "        True,  True])"
      ]
     },
     "execution_count": 45,
     "metadata": {},
     "output_type": "execute_result"
    }
   ],
   "source": [
    "test_classes == list(test_section[\"XLNet\"])"
   ]
  },
  {
   "cell_type": "markdown",
   "metadata": {},
   "source": [
    "## TF-IDF Label Prediction"
   ]
  },
  {
   "cell_type": "code",
   "execution_count": 77,
   "metadata": {},
   "outputs": [
    {
     "name": "stderr",
     "output_type": "stream",
     "text": [
      "[nltk_data] Downloading package stopwords to /root/nltk_data...\n",
      "[nltk_data]   Package stopwords is already up-to-date!\n",
      "[nltk_data] Downloading package punkt to /root/nltk_data...\n",
      "[nltk_data]   Package punkt is already up-to-date!\n"
     ]
    },
    {
     "data": {
      "text/plain": [
       "True"
      ]
     },
     "execution_count": 77,
     "metadata": {},
     "output_type": "execute_result"
    }
   ],
   "source": [
    "from nltk.corpus import stopwords\n",
    "from nltk.tokenize import word_tokenize\n",
    "from nltk.stem import PorterStemmer\n",
    "from collections import Counter\n",
    "from num2words import num2words\n",
    "\n",
    "import nltk\n",
    "nltk.download('stopwords')\n",
    "nltk.download('punkt')"
   ]
  },
  {
   "cell_type": "code",
   "execution_count": 78,
   "metadata": {},
   "outputs": [],
   "source": [
    "# tf-idf processing from https://github.com/williamscott701/Information-Retrieval/blob/master/2.%20TF-IDF%20Ranking%20-%20Cosine%20Similarity%2C%20Matching%20Score/TF-IDF.ipynb\n",
    "\n",
    "def remove_stop_words(data):\n",
    "    stop_words = stopwords.words('english')\n",
    "    words = word_tokenize(str(data))\n",
    "    new_text = \"\"\n",
    "    for w in words:\n",
    "        if w not in stop_words and len(w) > 1:\n",
    "            new_text = new_text + \" \" + w\n",
    "    return new_text\n",
    "\n",
    "\n",
    "def remove_punctuation(data):\n",
    "    symbols = \"!\\\"#$%&()*+-./:;<=>?@[\\]^_`{|}~\\n\"\n",
    "    for i in range(len(symbols)):\n",
    "        data = np.char.replace(data, symbols[i], ' ')\n",
    "        data = np.char.replace(data, \"  \", \" \")\n",
    "    data = np.char.replace(data, ',', '')\n",
    "    return data\n",
    "\n",
    "def remove_apostrophe(data):\n",
    "    return np.char.replace(data, \"'\", \"\")\n",
    "\n",
    "\n",
    "def stemming(data):\n",
    "    stemmer= PorterStemmer()\n",
    "    \n",
    "    tokens = word_tokenize(str(data))\n",
    "    new_text = \"\"\n",
    "    for w in tokens:\n",
    "        new_text = new_text + \" \" + stemmer.stem(w)\n",
    "    return new_text\n",
    "\n",
    "\n",
    "def convert_numbers(data):\n",
    "    tokens = word_tokenize(str(data))\n",
    "    new_text = \"\"\n",
    "    for w in tokens:\n",
    "        try:\n",
    "            w = num2words(int(w))\n",
    "        except:\n",
    "            a = 0\n",
    "        new_text = new_text + \" \" + w\n",
    "    new_text = np.char.replace(new_text, \"-\", \" \")\n",
    "    return new_text\n",
    "\n",
    "\n",
    "def preprocess(data):\n",
    "    data = remove_punctuation(data) #remove comma seperately\n",
    "    data = remove_apostrophe(data)\n",
    "    data = remove_stop_words(data)\n",
    "    data = convert_numbers(data)\n",
    "    data = stemming(data)\n",
    "    data = remove_punctuation(data)\n",
    "    data = convert_numbers(data)\n",
    "    data = stemming(data) #needed again as we need to stem the words\n",
    "    data = remove_punctuation(data) #needed again as num2word is giving few hypens and commas fourty-one\n",
    "    data = remove_stop_words(data) #needed again as num2word is giving stop words 101 - one hundred and one\n",
    "    return data"
   ]
  },
  {
   "cell_type": "code",
   "execution_count": 79,
   "metadata": {},
   "outputs": [],
   "source": [
    "train_dataset = list(train_section[\"text\"])\n",
    "val_dataset = list(val_section[\"text\"])\n",
    "test_dataset = list(test_section[\"text\"])\n"
   ]
  },
  {
   "cell_type": "code",
   "execution_count": 80,
   "metadata": {},
   "outputs": [],
   "source": [
    "def process(dataset):\n",
    "    processed_text = []\n",
    "    for i in dataset:\n",
    "#         processed_text.append(word_tokenize(str(preprocess(i))))\n",
    "        processed_text.append(str(preprocess(i)))\n",
    "    return processed_text\n"
   ]
  },
  {
   "cell_type": "code",
   "execution_count": 81,
   "metadata": {},
   "outputs": [],
   "source": [
    "train_dataset = process(train_dataset)\n",
    "val_dataset = process(val_dataset)\n",
    "test_dataset = process(test_dataset)"
   ]
  },
  {
   "cell_type": "code",
   "execution_count": 82,
   "metadata": {},
   "outputs": [],
   "source": [
    "# tf-idf from https://stackabuse.com/text-classification-with-python-and-scikit-learn/\n",
    "from sklearn.feature_extraction.text import CountVectorizer\n",
    "\n",
    "vectorizer = CountVectorizer(max_features=1500, min_df=5, max_df=0.7, stop_words=stopwords.words('english'))\n",
    "trainX = vectorizer.fit_transform(train_dataset).toarray()\n",
    "valX = vectorizer.transform(val_dataset).toarray()\n",
    "testX = vectorizer.transform(test_dataset).toarray()"
   ]
  },
  {
   "cell_type": "code",
   "execution_count": 83,
   "metadata": {},
   "outputs": [],
   "source": [
    "from sklearn.feature_extraction.text import TfidfTransformer\n",
    "tfidfconverter = TfidfTransformer()\n",
    "trainX = tfidfconverter.fit_transform(trainX).toarray()\n",
    "valX = tfidfconverter.transform(valX).toarray()\n",
    "testX = tfidfconverter.transform(testX).toarray()"
   ]
  },
  {
   "cell_type": "code",
   "execution_count": null,
   "metadata": {},
   "outputs": [],
   "source": [
    "\n",
    "# train_labels = np.asarray(le.transform(train_section['label']))\n",
    "# val_labels = np.asarray(le.transform(val_section['label']))\n",
    "# test_labels = np.asarray(le.transform(test_section['label']))"
   ]
  },
  {
   "cell_type": "code",
   "execution_count": 84,
   "metadata": {},
   "outputs": [
    {
     "data": {
      "text/plain": [
       "RandomForestClassifier(n_estimators=1000, random_state=0)"
      ]
     },
     "execution_count": 84,
     "metadata": {},
     "output_type": "execute_result"
    }
   ],
   "source": [
    "from sklearn.ensemble import RandomForestClassifier\n",
    "\n",
    "classifier = RandomForestClassifier(n_estimators=1000, random_state=0)\n",
    "classifier.fit(trainX, train_labels) "
   ]
  },
  {
   "cell_type": "code",
   "execution_count": 85,
   "metadata": {},
   "outputs": [
    {
     "data": {
      "text/plain": [
       "array([0, 0, 0, 0, 0, 1, 0, 0, 0, 0, 0, 0, 1, 0, 0, 0, 1, 0, 0, 1, 0, 1,\n",
       "       1, 1, 0, 1, 0, 1, 1, 0, 0, 1, 1, 1, 0, 0, 1, 0, 0, 1, 1, 1, 1, 1,\n",
       "       1, 1, 1, 0, 1, 1, 1, 0, 1, 1, 1, 0, 0, 0, 0, 0, 0, 1, 1, 1, 1, 0,\n",
       "       0, 0, 0, 0, 0, 1, 0, 1, 1, 1, 1, 1, 1, 1, 1, 1, 0, 0, 1, 1, 1, 0,\n",
       "       1, 1, 1, 0, 0, 0, 1, 1, 0, 0, 1, 0, 1, 0, 1, 0, 0, 0, 0, 1, 1, 0])"
      ]
     },
     "execution_count": 85,
     "metadata": {},
     "output_type": "execute_result"
    }
   ],
   "source": [
    "y_pred = classifier.predict(testX)\n",
    "y_pred"
   ]
  },
  {
   "cell_type": "markdown",
   "metadata": {},
   "source": [
    "#### TF-IDF T5 Summary Label Prediction"
   ]
  },
  {
   "cell_type": "code",
   "execution_count": 87,
   "metadata": {},
   "outputs": [
    {
     "data": {
      "text/plain": [
       "0    gop's ken cuccinelli has been downplaying his ...\n",
       "1    president obama unveiled legislative proposals...\n",
       "2    david frum: obama's second term will be silly,...\n",
       "3    republicans have made the mountain west a stro...\n",
       "4    president obama is noticeably quicker to speak...\n",
       "Name: t5_summaries, dtype: object"
      ]
     },
     "execution_count": 87,
     "metadata": {},
     "output_type": "execute_result"
    }
   ],
   "source": [
    "test_section[\"t5_summaries\"].head()"
   ]
  },
  {
   "cell_type": "code",
   "execution_count": 92,
   "metadata": {},
   "outputs": [],
   "source": [
    "t5_summary_dataset = process(list(test_section[\"t5_summaries\"]))\n",
    "t5_summary_dataset = vectorizer.transform(t5_summary_dataset).toarray()\n",
    "t5_summary_dataset = tfidfconverter.transform(t5_summary_dataset).toarray()"
   ]
  },
  {
   "cell_type": "code",
   "execution_count": 93,
   "metadata": {},
   "outputs": [
    {
     "data": {
      "text/plain": [
       "array([0, 1, 0, 0, 1, 1, 1, 1, 1, 1, 0, 1, 1, 0, 1, 1, 1, 1, 1, 0, 1, 1,\n",
       "       1, 1, 1, 1, 0, 1, 1, 1, 1, 1, 1, 1, 1, 1, 1, 1, 1, 1, 1, 1, 1, 1,\n",
       "       1, 1, 1, 1, 1, 1, 1, 1, 0, 1, 1, 0, 1, 1, 1, 0, 1, 1, 1, 1, 1, 0,\n",
       "       1, 1, 0, 1, 1, 1, 0, 1, 1, 1, 1, 1, 1, 1, 1, 1, 1, 0, 1, 1, 1, 1,\n",
       "       1, 1, 1, 0, 0, 1, 1, 1, 1, 1, 1, 1, 1, 1, 1, 1, 0, 1, 0, 1, 1, 1])"
      ]
     },
     "execution_count": 93,
     "metadata": {},
     "output_type": "execute_result"
    }
   ],
   "source": [
    "t5_pred = classifier.predict(t5_summary_dataset)\n",
    "t5_pred"
   ]
  },
  {
   "cell_type": "code",
   "execution_count": null,
   "metadata": {},
   "outputs": [],
   "source": []
  },
  {
   "cell_type": "markdown",
   "metadata": {},
   "source": [
    "#### TF-IDF Pegasus Summary Label Prediction"
   ]
  },
  {
   "cell_type": "code",
   "execution_count": 98,
   "metadata": {},
   "outputs": [
    {
     "data": {
      "text/plain": [
       "0    The Republican Party in Virginia is trying to ...\n",
       "1    In the wake of last week's school shooting in ...\n",
       "2    The president of the United States of America,...\n",
       "3    In the mountains of western virginia, republic...\n",
       "4    With less than two weeks to go before American...\n",
       "Name: pegasus_summaries, dtype: object"
      ]
     },
     "execution_count": 98,
     "metadata": {},
     "output_type": "execute_result"
    }
   ],
   "source": [
    "test_section[\"pegasus_summaries\"].head()"
   ]
  },
  {
   "cell_type": "code",
   "execution_count": 99,
   "metadata": {},
   "outputs": [],
   "source": [
    "pegasus_summary_dataset = process(list(test_section[\"pegasus_summaries\"]))\n",
    "pegasus_summary_dataset = vectorizer.transform(pegasus_summary_dataset).toarray()\n",
    "pegasus_summary_dataset = tfidfconverter.transform(pegasus_summary_dataset).toarray()"
   ]
  },
  {
   "cell_type": "code",
   "execution_count": 100,
   "metadata": {},
   "outputs": [
    {
     "data": {
      "text/plain": [
       "array([1, 1, 1, 0, 0, 1, 1, 1, 1, 1, 0, 1, 1, 1, 1, 1, 1, 1, 1, 1, 1, 1,\n",
       "       1, 1, 1, 1, 1, 1, 1, 1, 1, 1, 1, 1, 1, 1, 1, 1, 1, 1, 1, 1, 1, 1,\n",
       "       1, 1, 1, 1, 1, 1, 1, 1, 0, 1, 1, 0, 1, 1, 1, 1, 1, 1, 1, 1, 1, 1,\n",
       "       1, 0, 1, 1, 1, 1, 1, 1, 1, 1, 1, 1, 1, 1, 1, 1, 1, 0, 1, 1, 1, 1,\n",
       "       1, 1, 1, 0, 1, 1, 1, 1, 1, 1, 1, 1, 1, 1, 1, 1, 1, 1, 1, 1, 1, 1])"
      ]
     },
     "execution_count": 100,
     "metadata": {},
     "output_type": "execute_result"
    }
   ],
   "source": [
    "pegasus_pred = classifier.predict(pegasus_summary_dataset)\n",
    "pegasus_pred"
   ]
  },
  {
   "cell_type": "code",
   "execution_count": null,
   "metadata": {},
   "outputs": [],
   "source": []
  },
  {
   "cell_type": "code",
   "execution_count": null,
   "metadata": {},
   "outputs": [],
   "source": []
  },
  {
   "cell_type": "markdown",
   "metadata": {},
   "source": [
    "## Data Analysis"
   ]
  },
  {
   "cell_type": "code",
   "execution_count": 203,
   "metadata": {},
   "outputs": [],
   "source": [
    "t5_xlnet_predicted_labels = [0, 0, 0, 0, 0, 0, 1, 0, 1, 1, 0, 1, 0, 0, 0, 1, 1, 1, 1, 0, 1, 1,\n",
    "       1, 1, 1, 1, 0, 1, 1, 1, 1, 1, 1, 1, 1, 1, 1, 0, 1, 1, 1, 1, 1, 1,\n",
    "       1, 1, 0, 0, 1, 1, 1, 0, 0, 1, 1, 0, 1, 1, 1, 0, 1, 1, 1, 1, 0, 1,\n",
    "       0, 0, 0, 1, 1, 1, 0, 1, 1, 1, 1, 1, 1, 1, 1, 1, 1, 0, 1, 1, 1, 1,\n",
    "       1, 1, 1, 0, 0, 0, 1, 1, 1, 1, 1, 1, 1, 1, 1, 0, 0, 1, 0, 0, 1, 1]"
   ]
  },
  {
   "cell_type": "code",
   "execution_count": 204,
   "metadata": {},
   "outputs": [],
   "source": [
    "pegasus_xlnet_predicted_labels = [0, 1, 1, 0, 0, 1, 1, 1, 1, 1, 0, 0, 1, 1, 1, 0, 0, 1, 0, 1, 1, 1,\n",
    "       1, 1, 1, 1, 1, 1, 1, 0, 0, 1, 1, 1, 1, 1, 1, 1, 1, 1, 1, 1, 1, 1,\n",
    "       1, 1, 1, 0, 1, 1, 1, 1, 1, 1, 1, 1, 0, 1, 1, 0, 1, 1, 1, 1, 1, 1,\n",
    "       1, 1, 1, 1, 1, 1, 0, 1, 1, 1, 1, 1, 1, 1, 1, 1, 0, 0, 1, 1, 1, 1,\n",
    "       1, 1, 1, 0, 0, 1, 1, 1, 1, 0, 1, 1, 1, 1, 1, 1, 1, 1, 1, 1, 1, 0]"
   ]
  },
  {
   "cell_type": "code",
   "execution_count": 205,
   "metadata": {},
   "outputs": [],
   "source": [
    "text_xlnet_predicted_labels = test_section[\"XLNet\"]"
   ]
  },
  {
   "cell_type": "code",
   "execution_count": null,
   "metadata": {},
   "outputs": [],
   "source": []
  },
  {
   "cell_type": "code",
   "execution_count": 206,
   "metadata": {},
   "outputs": [],
   "source": [
    "t5_tfidf_predicted_labels = [0, 1, 0, 0, 1, 1, 1, 1, 1, 1, 0, 1, 1, 0, 1, 1, 1, 1, 1, 0, 1, 1,\n",
    "       1, 1, 1, 1, 0, 1, 1, 1, 1, 1, 1, 1, 1, 1, 1, 1, 1, 1, 1, 1, 1, 1,\n",
    "       1, 1, 1, 1, 1, 1, 1, 1, 0, 1, 1, 0, 1, 1, 1, 0, 1, 1, 1, 1, 1, 0,\n",
    "       1, 1, 0, 1, 1, 1, 0, 1, 1, 1, 1, 1, 1, 1, 1, 1, 1, 0, 1, 1, 1, 1,\n",
    "       1, 1, 1, 0, 0, 1, 1, 1, 1, 1, 1, 1, 1, 1, 1, 1, 0, 1, 0, 1, 1, 1]"
   ]
  },
  {
   "cell_type": "code",
   "execution_count": 207,
   "metadata": {},
   "outputs": [],
   "source": [
    "pegasus_tfidf_predicted_labels = [1, 1, 1, 0, 0, 1, 1, 1, 1, 1, 0, 1, 1, 1, 1, 1, 1, 1, 1, 1, 1, 1,\n",
    "       1, 1, 1, 1, 1, 1, 1, 1, 1, 1, 1, 1, 1, 1, 1, 1, 1, 1, 1, 1, 1, 1,\n",
    "       1, 1, 1, 1, 1, 1, 1, 1, 0, 1, 1, 0, 1, 1, 1, 1, 1, 1, 1, 1, 1, 1,\n",
    "       1, 0, 1, 1, 1, 1, 1, 1, 1, 1, 1, 1, 1, 1, 1, 1, 1, 0, 1, 1, 1, 1,\n",
    "       1, 1, 1, 0, 1, 1, 1, 1, 1, 1, 1, 1, 1, 1, 1, 1, 1, 1, 1, 1, 1, 1]"
   ]
  },
  {
   "cell_type": "code",
   "execution_count": 208,
   "metadata": {},
   "outputs": [],
   "source": [
    "text_tfidf_predicted_labels = test_section[\"TFIDF\"]"
   ]
  },
  {
   "cell_type": "code",
   "execution_count": 209,
   "metadata": {},
   "outputs": [],
   "source": [
    "test_labels = [0, 1, 0, 0, 0, 1, 0, 0, 0, 1, 0, 0, 1, 0, 0, 0, 0, 0, 0, 1, 1, 0,\n",
    "       1, 1, 0, 0, 0, 1, 1, 0, 0, 1, 1, 1, 1, 1, 1, 1, 0, 1, 1, 1, 1, 1,\n",
    "       1, 1, 1, 0, 1, 1, 0, 0, 0, 1, 1, 1, 0, 1, 1, 0, 0, 1, 1, 0, 0, 0,\n",
    "       1, 0, 0, 1, 0, 1, 0, 1, 0, 1, 1, 1, 1, 1, 1, 1, 0, 0, 1, 1, 1, 1,\n",
    "       1, 1, 1, 0, 0, 1, 1, 1, 1, 1, 1, 0, 1, 0, 1, 0, 0, 0, 1, 0, 1, 0]"
   ]
  },
  {
   "cell_type": "code",
   "execution_count": 210,
   "metadata": {},
   "outputs": [],
   "source": [
    "predlist = [t5_xlnet_predicted_labels, \n",
    "            pegasus_xlnet_predicted_labels, \n",
    "            text_xlnet_predicted_labels, \n",
    "            t5_tfidf_predicted_labels, \n",
    "            pegasus_tfidf_predicted_labels,\n",
    "            text_tfidf_predicted_labels]"
   ]
  },
  {
   "cell_type": "code",
   "execution_count": 211,
   "metadata": {},
   "outputs": [],
   "source": [
    "namelist = [\"XLNet (T5)\",\n",
    "           \"XLNet (Pegasus)\",\n",
    "           \"XLNet (Full Article)\",\n",
    "           \"TF-IDF (T5)\",\n",
    "           \"TF-IDF (Pegasus)\",\n",
    "           \"TF-IDF (Full Article)\"]"
   ]
  },
  {
   "cell_type": "code",
   "execution_count": 212,
   "metadata": {},
   "outputs": [],
   "source": [
    "for i in range(len(predlist)):\n",
    "    predlist[i] = 1-np.array(predlist[i])\n",
    "test_labels =1-np.array(test_labels)"
   ]
  },
  {
   "cell_type": "code",
   "execution_count": 213,
   "metadata": {},
   "outputs": [],
   "source": [
    "t5_xlnet_predicted_labels = predlist[0]\n",
    "pegasus_xlnet_predicted_labels = predlist[1]\n",
    "text_xlnet_predicted_labels = predlist[2]\n",
    "t5_tfidf_predicted_labels = predlist[3]\n",
    "pegasus_tfidf_predicted_labels = predlist[4]\n",
    "text_tfidf_predicted_labels = predlist[5]"
   ]
  },
  {
   "cell_type": "code",
   "execution_count": 276,
   "metadata": {},
   "outputs": [],
   "source": [
    "test_section[\"pegasus_summaries\"] = pegasus_summaries\n",
    "test_section[\"t5_summaries\"] = t5_summaries"
   ]
  },
  {
   "cell_type": "code",
   "execution_count": 214,
   "metadata": {},
   "outputs": [],
   "source": [
    "test_section['t5_xlnet_predicted_labels'] = t5_xlnet_predicted_labels\n",
    "test_section['pegasus_xlnet_predicted_labels'] = pegasus_xlnet_predicted_labels\n",
    "test_section['t5_tfidf_predicted_labels'] = t5_tfidf_predicted_labels\n",
    "test_section['pegasus_tfidf_predicted_labels'] = pegasus_tfidf_predicted_labels\n",
    "test_section['test_labels'] = test_labels\n",
    "test_section.to_csv(\"test_dataset_final.csv\", sep='\\t')"
   ]
  },
  {
   "cell_type": "code",
   "execution_count": null,
   "metadata": {},
   "outputs": [],
   "source": [
    "data[\"pegasus_summaries\"] = pegasus_summaries"
   ]
  },
  {
   "cell_type": "code",
   "execution_count": 6,
   "metadata": {},
   "outputs": [
    {
     "data": {
      "text/html": [
       "<div>\n",
       "<style scoped>\n",
       "    .dataframe tbody tr th:only-of-type {\n",
       "        vertical-align: middle;\n",
       "    }\n",
       "\n",
       "    .dataframe tbody tr th {\n",
       "        vertical-align: top;\n",
       "    }\n",
       "\n",
       "    .dataframe thead th {\n",
       "        text-align: right;\n",
       "    }\n",
       "</style>\n",
       "<table border=\"1\" class=\"dataframe\">\n",
       "  <thead>\n",
       "    <tr style=\"text-align: right;\">\n",
       "      <th></th>\n",
       "      <th>index</th>\n",
       "      <th>url</th>\n",
       "      <th>q3</th>\n",
       "      <th>perceived</th>\n",
       "      <th>primary.topic</th>\n",
       "      <th>secondary.topic</th>\n",
       "      <th>democrat.vote</th>\n",
       "      <th>republican.vote</th>\n",
       "      <th>article</th>\n",
       "      <th>length</th>\n",
       "      <th>...</th>\n",
       "      <th>ALBERT</th>\n",
       "      <th>encodedlabel</th>\n",
       "      <th>TFIDF</th>\n",
       "      <th>t5_xlnet_predicted_labels</th>\n",
       "      <th>pegasus_xlnet_predicted_labels</th>\n",
       "      <th>t5_tfidf_predicted_labels</th>\n",
       "      <th>pegasus_tfidf_predicted_labels</th>\n",
       "      <th>test_labels</th>\n",
       "      <th>t5_summaries</th>\n",
       "      <th>pegasus_summaries</th>\n",
       "    </tr>\n",
       "  </thead>\n",
       "  <tbody>\n",
       "    <tr>\n",
       "      <th>0</th>\n",
       "      <td>7048</td>\n",
       "      <td>http://news.yahoo.com/virginia-republicans-pan...</td>\n",
       "      <td>News</td>\n",
       "      <td>1</td>\n",
       "      <td>Elections</td>\n",
       "      <td>Republican Scandals</td>\n",
       "      <td>SomewhatPositive</td>\n",
       "      <td>Negative</td>\n",
       "      <td>a minister who compared gays to pedophiles and...</td>\n",
       "      <td>600</td>\n",
       "      <td>...</td>\n",
       "      <td>0</td>\n",
       "      <td>0</td>\n",
       "      <td>0</td>\n",
       "      <td>1</td>\n",
       "      <td>1</td>\n",
       "      <td>1</td>\n",
       "      <td>0</td>\n",
       "      <td>1</td>\n",
       "      <td>gop's ken cuccinelli has been downplaying his ...</td>\n",
       "      <td>The Republican Party in Virginia is trying to ...</td>\n",
       "    </tr>\n",
       "    <tr>\n",
       "      <th>1</th>\n",
       "      <td>2861</td>\n",
       "      <td>http://www.dailykos.com/story/2013/01/17/11796...</td>\n",
       "      <td>Opinion</td>\n",
       "      <td>0</td>\n",
       "      <td>Gun Rights Regulation</td>\n",
       "      <td>Gun Related Crimes</td>\n",
       "      <td>Neutral</td>\n",
       "      <td>Neutral</td>\n",
       "      <td>nra ad: are the president's kids more importan...</td>\n",
       "      <td>600</td>\n",
       "      <td>...</td>\n",
       "      <td>0</td>\n",
       "      <td>1</td>\n",
       "      <td>0</td>\n",
       "      <td>1</td>\n",
       "      <td>0</td>\n",
       "      <td>0</td>\n",
       "      <td>0</td>\n",
       "      <td>0</td>\n",
       "      <td>president obama unveiled legislative proposals...</td>\n",
       "      <td>In the wake of last week's school shooting in ...</td>\n",
       "    </tr>\n",
       "    <tr>\n",
       "      <th>2</th>\n",
       "      <td>7023</td>\n",
       "      <td>http://www.washingtonpost.com/opinions/george-...</td>\n",
       "      <td>Opinion</td>\n",
       "      <td>0</td>\n",
       "      <td>International News</td>\n",
       "      <td>Gun Rights Regulation</td>\n",
       "      <td>Negative</td>\n",
       "      <td>Neutral</td>\n",
       "      <td>back to previous page obama hits a wall in ber...</td>\n",
       "      <td>600</td>\n",
       "      <td>...</td>\n",
       "      <td>0</td>\n",
       "      <td>0</td>\n",
       "      <td>0</td>\n",
       "      <td>1</td>\n",
       "      <td>0</td>\n",
       "      <td>1</td>\n",
       "      <td>0</td>\n",
       "      <td>1</td>\n",
       "      <td>david frum: obama's second term will be silly,...</td>\n",
       "      <td>The president of the United States of America,...</td>\n",
       "    </tr>\n",
       "    <tr>\n",
       "      <th>3</th>\n",
       "      <td>8486</td>\n",
       "      <td>http://news.yahoo.com/gop-infighting-fierce-ev...</td>\n",
       "      <td>Opinion</td>\n",
       "      <td>0</td>\n",
       "      <td>Republican Scandals</td>\n",
       "      <td>None</td>\n",
       "      <td>SomewhatPositive</td>\n",
       "      <td>SomewhatNegative</td>\n",
       "      <td>montpelier, idaho (ap) — republicans have made...</td>\n",
       "      <td>600</td>\n",
       "      <td>...</td>\n",
       "      <td>1</td>\n",
       "      <td>0</td>\n",
       "      <td>0</td>\n",
       "      <td>1</td>\n",
       "      <td>1</td>\n",
       "      <td>1</td>\n",
       "      <td>1</td>\n",
       "      <td>1</td>\n",
       "      <td>republicans have made the mountain west a stro...</td>\n",
       "      <td>In the mountains of western virginia, republic...</td>\n",
       "    </tr>\n",
       "    <tr>\n",
       "      <th>4</th>\n",
       "      <td>9055</td>\n",
       "      <td>http://www.latimes.com/news/nationworld/nation...</td>\n",
       "      <td>News</td>\n",
       "      <td>1</td>\n",
       "      <td>Elections</td>\n",
       "      <td>None</td>\n",
       "      <td>Positive</td>\n",
       "      <td>Neutral</td>\n",
       "      <td>washington — finally unburdened by worries abo...</td>\n",
       "      <td>600</td>\n",
       "      <td>...</td>\n",
       "      <td>1</td>\n",
       "      <td>0</td>\n",
       "      <td>0</td>\n",
       "      <td>1</td>\n",
       "      <td>1</td>\n",
       "      <td>0</td>\n",
       "      <td>1</td>\n",
       "      <td>1</td>\n",
       "      <td>president obama is noticeably quicker to speak...</td>\n",
       "      <td>With less than two weeks to go before American...</td>\n",
       "    </tr>\n",
       "  </tbody>\n",
       "</table>\n",
       "<p>5 rows × 30 columns</p>\n",
       "</div>"
      ],
      "text/plain": [
       "   index                                                url       q3  \\\n",
       "0   7048  http://news.yahoo.com/virginia-republicans-pan...     News   \n",
       "1   2861  http://www.dailykos.com/story/2013/01/17/11796...  Opinion   \n",
       "2   7023  http://www.washingtonpost.com/opinions/george-...  Opinion   \n",
       "3   8486  http://news.yahoo.com/gop-infighting-fierce-ev...  Opinion   \n",
       "4   9055  http://www.latimes.com/news/nationworld/nation...     News   \n",
       "\n",
       "   perceived          primary.topic        secondary.topic     democrat.vote  \\\n",
       "0          1              Elections    Republican Scandals  SomewhatPositive   \n",
       "1          0  Gun Rights Regulation     Gun Related Crimes           Neutral   \n",
       "2          0     International News  Gun Rights Regulation          Negative   \n",
       "3          0    Republican Scandals                   None  SomewhatPositive   \n",
       "4          1              Elections                   None          Positive   \n",
       "\n",
       "    republican.vote                                            article  \\\n",
       "0          Negative  a minister who compared gays to pedophiles and...   \n",
       "1           Neutral  nra ad: are the president's kids more importan...   \n",
       "2           Neutral  back to previous page obama hits a wall in ber...   \n",
       "3  SomewhatNegative  montpelier, idaho (ap) — republicans have made...   \n",
       "4           Neutral  washington — finally unburdened by worries abo...   \n",
       "\n",
       "   length  ...  ALBERT  encodedlabel TFIDF  t5_xlnet_predicted_labels  \\\n",
       "0     600  ...       0             0     0                          1   \n",
       "1     600  ...       0             1     0                          1   \n",
       "2     600  ...       0             0     0                          1   \n",
       "3     600  ...       1             0     0                          1   \n",
       "4     600  ...       1             0     0                          1   \n",
       "\n",
       "   pegasus_xlnet_predicted_labels t5_tfidf_predicted_labels  \\\n",
       "0                               1                         1   \n",
       "1                               0                         0   \n",
       "2                               0                         1   \n",
       "3                               1                         1   \n",
       "4                               1                         0   \n",
       "\n",
       "  pegasus_tfidf_predicted_labels  test_labels  \\\n",
       "0                              0            1   \n",
       "1                              0            0   \n",
       "2                              0            1   \n",
       "3                              1            1   \n",
       "4                              1            1   \n",
       "\n",
       "                                        t5_summaries  \\\n",
       "0  gop's ken cuccinelli has been downplaying his ...   \n",
       "1  president obama unveiled legislative proposals...   \n",
       "2  david frum: obama's second term will be silly,...   \n",
       "3  republicans have made the mountain west a stro...   \n",
       "4  president obama is noticeably quicker to speak...   \n",
       "\n",
       "                                   pegasus_summaries  \n",
       "0  The Republican Party in Virginia is trying to ...  \n",
       "1  In the wake of last week's school shooting in ...  \n",
       "2  The president of the United States of America,...  \n",
       "3  In the mountains of western virginia, republic...  \n",
       "4  With less than two weeks to go before American...  \n",
       "\n",
       "[5 rows x 30 columns]"
      ]
     },
     "execution_count": 6,
     "metadata": {},
     "output_type": "execute_result"
    }
   ],
   "source": [
    "data = pd.read_table(\"test_dataset_final.csv\", sep='\\t', index_col=0)\n",
    "data.head()"
   ]
  },
  {
   "cell_type": "code",
   "execution_count": 216,
   "metadata": {},
   "outputs": [
    {
     "name": "stdout",
     "output_type": "stream",
     "text": [
      "Metrics for Biased as baseline class (0):\n",
      "\n",
      "XLNet (T5) Metrics:\n",
      "Accuracy: 0.681818\n",
      "Precision: 0.696970\n",
      "Recall: 0.479167\n",
      "F1 score: 0.567901\n",
      "\n",
      "XLNet (Pegasus) Metrics:\n",
      "Accuracy: 0.727273\n",
      "Precision: 0.950000\n",
      "Recall: 0.395833\n",
      "F1 score: 0.558824\n",
      "\n",
      "XLNet (Full Article) Metrics:\n",
      "Accuracy: 0.809091\n",
      "Precision: 0.813953\n",
      "Recall: 0.729167\n",
      "F1 score: 0.769231\n",
      "\n",
      "TF-IDF (T5) Metrics:\n",
      "Accuracy: 0.672727\n",
      "Precision: 0.833333\n",
      "Recall: 0.312500\n",
      "F1 score: 0.454545\n",
      "\n",
      "TF-IDF (Pegasus) Metrics:\n",
      "Accuracy: 0.618182\n",
      "Precision: 0.875000\n",
      "Recall: 0.145833\n",
      "F1 score: 0.250000\n",
      "\n",
      "TF-IDF (Full Article) Metrics:\n",
      "Accuracy: 0.772727\n",
      "Precision: 0.709091\n",
      "Recall: 0.812500\n",
      "F1 score: 0.757282\n",
      "\n"
     ]
    }
   ],
   "source": [
    "modelaccuracylist = []\n",
    "modelnamelist = []\n",
    "modelprecisionlist = []\n",
    "modelrecalllist = []\n",
    "modelf1list = []\n",
    "mlist = []\n",
    "print(\"Metrics for Biased as baseline class (0):\")\n",
    "print()\n",
    "for i in range(len(predlist)):\n",
    "    test_classes = predlist[i]\n",
    "    modelname = namelist[i]\n",
    "    modelnamelist.append(modelname)\n",
    "    print(modelname +\" Metrics:\")\n",
    "    # accuracy: (tp + tn) / (p + n)\n",
    "    accuracy = accuracy_score(test_labels, test_classes)\n",
    "    print('Accuracy: %f' % accuracy)\n",
    "    modelaccuracylist.append(accuracy)\n",
    "    # precision tp / (tp + fp)\n",
    "    precision = precision_score(test_labels, test_classes)\n",
    "    print('Precision: %f' % precision)\n",
    "    modelprecisionlist.append(precision)\n",
    "    # recall: tp / (tp + fn)\n",
    "    recall = recall_score(test_labels, test_classes)\n",
    "    print('Recall: %f' % recall)\n",
    "    modelrecalllist.append(recall)\n",
    "    # f1: 2 tp / (2 tp + fp + fn)\n",
    "    f1 = f1_score(test_labels, test_classes)\n",
    "    modelf1list.append(f1)\n",
    "    print('F1 score: %f' % f1)\n",
    "    mlist.append([accuracy, precision, recall, f1])\n",
    "#     print(classification_report(test_labels,test_classes))\n",
    "    print(\"\")\n",
    " "
   ]
  },
  {
   "cell_type": "code",
   "execution_count": 287,
   "metadata": {},
   "outputs": [
    {
     "data": {
      "text/html": [
       "<div>\n",
       "<style scoped>\n",
       "    .dataframe tbody tr th:only-of-type {\n",
       "        vertical-align: middle;\n",
       "    }\n",
       "\n",
       "    .dataframe tbody tr th {\n",
       "        vertical-align: top;\n",
       "    }\n",
       "\n",
       "    .dataframe thead th {\n",
       "        text-align: right;\n",
       "    }\n",
       "</style>\n",
       "<table border=\"1\" class=\"dataframe\">\n",
       "  <thead>\n",
       "    <tr style=\"text-align: right;\">\n",
       "      <th></th>\n",
       "      <th>XLNet (T5)</th>\n",
       "      <th>XLNet (Pegasus)</th>\n",
       "      <th>XLNet (Full Article)</th>\n",
       "      <th>TF-IDF (T5)</th>\n",
       "      <th>TF-IDF (Pegasus)</th>\n",
       "      <th>TF-IDF (Full Article)</th>\n",
       "    </tr>\n",
       "  </thead>\n",
       "  <tbody>\n",
       "    <tr>\n",
       "      <th>Accuracy</th>\n",
       "      <td>0.681818</td>\n",
       "      <td>0.727273</td>\n",
       "      <td>0.809091</td>\n",
       "      <td>0.672727</td>\n",
       "      <td>0.618182</td>\n",
       "      <td>0.772727</td>\n",
       "    </tr>\n",
       "    <tr>\n",
       "      <th>Precision</th>\n",
       "      <td>0.696970</td>\n",
       "      <td>0.950000</td>\n",
       "      <td>0.813953</td>\n",
       "      <td>0.833333</td>\n",
       "      <td>0.875000</td>\n",
       "      <td>0.709091</td>\n",
       "    </tr>\n",
       "    <tr>\n",
       "      <th>Recall</th>\n",
       "      <td>0.479167</td>\n",
       "      <td>0.395833</td>\n",
       "      <td>0.729167</td>\n",
       "      <td>0.312500</td>\n",
       "      <td>0.145833</td>\n",
       "      <td>0.812500</td>\n",
       "    </tr>\n",
       "    <tr>\n",
       "      <th>F1</th>\n",
       "      <td>0.567901</td>\n",
       "      <td>0.558824</td>\n",
       "      <td>0.769231</td>\n",
       "      <td>0.454545</td>\n",
       "      <td>0.250000</td>\n",
       "      <td>0.757282</td>\n",
       "    </tr>\n",
       "  </tbody>\n",
       "</table>\n",
       "</div>"
      ],
      "text/plain": [
       "           XLNet (T5)  XLNet (Pegasus)  XLNet (Full Article)  TF-IDF (T5)  \\\n",
       "Accuracy     0.681818         0.727273              0.809091     0.672727   \n",
       "Precision    0.696970         0.950000              0.813953     0.833333   \n",
       "Recall       0.479167         0.395833              0.729167     0.312500   \n",
       "F1           0.567901         0.558824              0.769231     0.454545   \n",
       "\n",
       "           TF-IDF (Pegasus)  TF-IDF (Full Article)  \n",
       "Accuracy           0.618182               0.772727  \n",
       "Precision          0.875000               0.709091  \n",
       "Recall             0.145833               0.812500  \n",
       "F1                 0.250000               0.757282  "
      ]
     },
     "execution_count": 287,
     "metadata": {},
     "output_type": "execute_result"
    }
   ],
   "source": [
    "df = pd.DataFrame(columns = modelnamelist)\n",
    "df.loc['Accuracy'] = modelaccuracylist\n",
    "df.loc['Precision'] = modelprecisionlist\n",
    "df.loc['Recall'] = modelrecalllist\n",
    "df.loc['F1'] = modelf1list\n",
    "df.head()"
   ]
  },
  {
   "cell_type": "code",
   "execution_count": 180,
   "metadata": {},
   "outputs": [
    {
     "data": {
      "image/png": "[encoded data removed]",
      "text/plain": [
       "<Figure size 468x504 with 1 Axes>"
      ]
     },
     "metadata": {
      "needs_background": "light"
     },
     "output_type": "display_data"
    }
   ],
   "source": [
    "ax = df.plot.bar(rot=0)\n",
    "ax.set_ylim(ymin=0.3)\n",
    "ax.figure.set_size_inches(6.5, 7)\n",
    "plt.title('Metric Comparison')\n",
    "# plt.show()\n",
    "plt.savefig('predlabelmodelmetriccomparison.jpg')"
   ]
  },
  {
   "cell_type": "code",
   "execution_count": 340,
   "metadata": {},
   "outputs": [
    {
     "data": {
      "image/png": "[encoded data removed]",
      "text/plain": [
       "<Figure size 432x288 with 1 Axes>"
      ]
     },
     "metadata": {
      "needs_background": "light"
     },
     "output_type": "display_data"
    }
   ],
   "source": [
    "\n",
    "ax = df[[\"XLNet (T5)\",\n",
    "           \"XLNet (Pegasus)\",\n",
    "           \"TF-IDF (T5)\",\n",
    "           \"TF-IDF (Pegasus)\"]].plot.bar(rot=0)\n",
    "ax.set_ylim(ymin=0.1)\n",
    "ax.figure.set_size_inches(6, 4)\n",
    "plt.title('Metric Comparison')\n",
    "# plt.show()\n",
    "plt.savefig('predlabelevalmodelmetriccomparison.jpg')"
   ]
  },
  {
   "cell_type": "code",
   "execution_count": 223,
   "metadata": {},
   "outputs": [
    {
     "data": {
      "text/plain": [
       "Text(0.5, 1.0, 'Metric Comparison')"
      ]
     },
     "execution_count": 223,
     "metadata": {},
     "output_type": "execute_result"
    },
    {
     "data": {
      "image/png": "[encoded data removed]",
      "text/plain": [
       "<Figure size 504x432 with 1 Axes>"
      ]
     },
     "metadata": {
      "needs_background": "light"
     },
     "output_type": "display_data"
    }
   ],
   "source": [
    "ax = df[[\"XLNet Pred. Labels (T5)\", \"XLNet Pred. Labels (Pegasus)\", \"XLNet Pred. Labels (Full Article)\"]].plot.bar(rot=0)\n",
    "ax.set_ylim(ymin=0.3)\n",
    "ax.figure.set_size_inches(7, 6)\n",
    "plt.title('Metric Comparison')"
   ]
  },
  {
   "cell_type": "code",
   "execution_count": 222,
   "metadata": {},
   "outputs": [
    {
     "data": {
      "text/plain": [
       "Text(0.5, 1.0, 'Metric Comparison')"
      ]
     },
     "execution_count": 222,
     "metadata": {},
     "output_type": "execute_result"
    },
    {
     "data": {
      "image/png": "[encoded data removed]",
      "text/plain": [
       "<Figure size 504x432 with 1 Axes>"
      ]
     },
     "metadata": {
      "needs_background": "light"
     },
     "output_type": "display_data"
    }
   ],
   "source": [
    "ax = df[[\"TF-IDF Pred. Labels (T5)\", \"TF-IDF Pred. Labels (Pegasus)\", \"TF-IDF Pred. Labels (Full Article)\"]].plot.bar(rot=0)\n",
    "ax.set_ylim(ymin=0.3)\n",
    "ax.figure.set_size_inches(7, 6)\n",
    "plt.title('Metric Comparison')"
   ]
  },
  {
   "cell_type": "code",
   "execution_count": 224,
   "metadata": {},
   "outputs": [],
   "source": [
    "def calculateproportions(df, colname):\n",
    "    biases = df[df[colname] == 1]\n",
    "    neutrals = df[df[colname] == 0]\n",
    "    length = df.shape[0]\n",
    "    return biases.shape[0]/length, neutrals.shape[0]/length"
   ]
  },
  {
   "cell_type": "code",
   "execution_count": 337,
   "metadata": {},
   "outputs": [
    {
     "data": {
      "image/png": "[encoded data removed]",
      "text/plain": [
       "<Figure size 432x288 with 2 Axes>"
      ]
     },
     "metadata": {
      "needs_background": "light"
     },
     "output_type": "display_data"
    }
   ],
   "source": [
    "\n",
    "realbiasproportions, realneutralproportions = calculateproportions(data, \"test_labels\")\n",
    "xlnett5biasproportions, xlnett5neutralproportions = calculateproportions(data, \"t5_xlnet_predicted_labels\")\n",
    "xlnetpbiasproportions, xlnetpneutralproportions = calculateproportions(data, \"pegasus_xlnet_predicted_labels\")\n",
    "xlnetbiasproportions, xlnetneutralproportions = calculateproportions(data, \"XLNet\")\n",
    "tft5biasproportions, tft5neutralproportions = calculateproportions(data, \"t5_tfidf_predicted_labels\")\n",
    "tfpbiasproportions, tfpneutralproportions = calculateproportions(data, \"pegasus_tfidf_predicted_labels\")\n",
    "tfbiasproportions, tfneutralproportions = calculateproportions(data, \"TFIDF\")\n",
    "\n",
    "# namelist = [\"XLNet Pred. Labels (T5)\",\n",
    "#            \"XLNet Pred. Labels (Pegasus)\",\n",
    "#            \"XLNet Pred. Labels (Full Article)\",\n",
    "#            \"TF-IDF Pred. Labels (T5)\",\n",
    "#            \"TF-IDF Pred. Labels (Pegasus)\",\n",
    "#            \"TF-IDF Pred. Labels (Full Article)\"]\n",
    "\n",
    "# t5_xlnet_predicted_labels'] = t5_xlnet_predicted_labels\n",
    "# test_section['pegasus_xlnet_predicted_labels'] = pegasus_xlnet_predicted_labels\n",
    "# test_section['t5_tfidf_predicted_labels'] = t5_tfidf_predicted_labels\n",
    "# test_section['pegasus_tfidf_predicted_labels'] = pegasus_tfidf_predicted_labels\n",
    "\n",
    "biasproplist = [realbiasproportions,\n",
    "               xlnett5biasproportions,\n",
    "               xlnetpbiasproportions,\n",
    "                xlnetbiasproportions,\n",
    "                tft5biasproportions,\n",
    "               tfpbiasproportions,\n",
    "                tfbiasproportions]\n",
    "                \n",
    "neutralproplist = [realneutralproportions,\n",
    "               xlnett5neutralproportions,\n",
    "               xlnetpneutralproportions,\n",
    "                xlnetneutralproportions,\n",
    "                tft5neutralproportions,\n",
    "               tfpneutralproportions,\n",
    "                tfneutralproportions]\n",
    "                \n",
    "totalnames = [\"Data\"]\n",
    "totalnames = totalnames + namelist\n",
    "\n",
    "plt.figure(figsize=(6, 4))\n",
    "plt.subplot(1, 2, 1)\n",
    "\n",
    "plt.bar(range(0, len(biasproplist)), biasproplist, color = \"orange\", width = 0.5, tick_label = totalnames)\n",
    "plt.ylim(ymin=0)\n",
    "plt.title('Proportions of Biased Labels')\n",
    "plt.xticks(rotation=90)\n",
    "\n",
    "plt.subplot(1, 2, 2)\n",
    "plt.bar(range(0, len(neutralproplist)), neutralproplist, width = 0.5, tick_label = totalnames)\n",
    "plt.ylim(ymin=0)\n",
    "plt.title('Proportions of Neutral Labels')\n",
    "plt.xticks(rotation=90)\n",
    "plt.savefig('modelsummarylabelproportioncomparison.jpg')\n"
   ]
  },
  {
   "cell_type": "code",
   "execution_count": 344,
   "metadata": {},
   "outputs": [
    {
     "data": {
      "text/html": [
       "<div>\n",
       "<style scoped>\n",
       "    .dataframe tbody tr th:only-of-type {\n",
       "        vertical-align: middle;\n",
       "    }\n",
       "\n",
       "    .dataframe tbody tr th {\n",
       "        vertical-align: top;\n",
       "    }\n",
       "\n",
       "    .dataframe thead th {\n",
       "        text-align: right;\n",
       "    }\n",
       "</style>\n",
       "<table border=\"1\" class=\"dataframe\">\n",
       "  <thead>\n",
       "    <tr style=\"text-align: right;\">\n",
       "      <th></th>\n",
       "      <th>index</th>\n",
       "      <th>url</th>\n",
       "      <th>q3</th>\n",
       "      <th>perceived</th>\n",
       "      <th>primary.topic</th>\n",
       "      <th>secondary.topic</th>\n",
       "      <th>democrat.vote</th>\n",
       "      <th>republican.vote</th>\n",
       "      <th>article</th>\n",
       "      <th>length</th>\n",
       "      <th>...</th>\n",
       "      <th>ALBERT</th>\n",
       "      <th>encodedlabel</th>\n",
       "      <th>TFIDF</th>\n",
       "      <th>t5_xlnet_predicted_labels</th>\n",
       "      <th>pegasus_xlnet_predicted_labels</th>\n",
       "      <th>t5_tfidf_predicted_labels</th>\n",
       "      <th>pegasus_tfidf_predicted_labels</th>\n",
       "      <th>test_labels</th>\n",
       "      <th>t5_summaries</th>\n",
       "      <th>pegasus_summaries</th>\n",
       "    </tr>\n",
       "  </thead>\n",
       "  <tbody>\n",
       "    <tr>\n",
       "      <th>11</th>\n",
       "      <td>8703</td>\n",
       "      <td>http://www.washingtonpost.com/business/economy...</td>\n",
       "      <td>News</td>\n",
       "      <td>0</td>\n",
       "      <td>Economy</td>\n",
       "      <td>None</td>\n",
       "      <td>SomewhatPositive</td>\n",
       "      <td>SomewhatNegative</td>\n",
       "      <td>congress approved a plan to end washington’s l...</td>\n",
       "      <td>600</td>\n",
       "      <td>...</td>\n",
       "      <td>1</td>\n",
       "      <td>0</td>\n",
       "      <td>0</td>\n",
       "      <td>0</td>\n",
       "      <td>1</td>\n",
       "      <td>0</td>\n",
       "      <td>0</td>\n",
       "      <td>1</td>\n",
       "      <td>house votes 257 to 167 in favor of sending tax...</td>\n",
       "      <td>President Barack Obama has signed into law a b...</td>\n",
       "    </tr>\n",
       "    <tr>\n",
       "      <th>15</th>\n",
       "      <td>5068</td>\n",
       "      <td>http://www.huffingtonpost.com/2013/04/27/whcd-...</td>\n",
       "      <td>News</td>\n",
       "      <td>0</td>\n",
       "      <td>None</td>\n",
       "      <td>None</td>\n",
       "      <td>Positive</td>\n",
       "      <td>Neutral</td>\n",
       "      <td>president obama zinged  SOURCE ,  SOURCE  and ...</td>\n",
       "      <td>337</td>\n",
       "      <td>...</td>\n",
       "      <td>1</td>\n",
       "      <td>0</td>\n",
       "      <td>0</td>\n",
       "      <td>0</td>\n",
       "      <td>1</td>\n",
       "      <td>0</td>\n",
       "      <td>0</td>\n",
       "      <td>1</td>\n",
       "      <td>obama praises boston globe for its coverage of...</td>\n",
       "      <td>President Barack Obama poked fun at himself an...</td>\n",
       "    </tr>\n",
       "    <tr>\n",
       "      <th>16</th>\n",
       "      <td>9741</td>\n",
       "      <td>http://www.nytimes.com/2013/09/30/opinion/birt...</td>\n",
       "      <td>Opinion</td>\n",
       "      <td>1</td>\n",
       "      <td>Healthcare</td>\n",
       "      <td>None</td>\n",
       "      <td>SomewhatPositive</td>\n",
       "      <td>SomewhatNegative</td>\n",
       "      <td>the obama administration’s rule requiring empl...</td>\n",
       "      <td>301</td>\n",
       "      <td>...</td>\n",
       "      <td>0</td>\n",
       "      <td>0</td>\n",
       "      <td>1</td>\n",
       "      <td>0</td>\n",
       "      <td>1</td>\n",
       "      <td>0</td>\n",
       "      <td>0</td>\n",
       "      <td>1</td>\n",
       "      <td>three federal appeals courts have ruled on the...</td>\n",
       "      <td>Supreme Court rulings on the Patient Protectio...</td>\n",
       "    </tr>\n",
       "    <tr>\n",
       "      <th>18</th>\n",
       "      <td>1867</td>\n",
       "      <td>http://www.nytimes.com/2013/08/19/opinion/kell...</td>\n",
       "      <td>Opinion</td>\n",
       "      <td>0</td>\n",
       "      <td>Education</td>\n",
       "      <td>Republican Scandals</td>\n",
       "      <td>Neutral</td>\n",
       "      <td>Negative</td>\n",
       "      <td>so let’s take a look at this fiendish federal ...</td>\n",
       "      <td>401</td>\n",
       "      <td>...</td>\n",
       "      <td>0</td>\n",
       "      <td>0</td>\n",
       "      <td>0</td>\n",
       "      <td>0</td>\n",
       "      <td>1</td>\n",
       "      <td>0</td>\n",
       "      <td>0</td>\n",
       "      <td>1</td>\n",
       "      <td>ruben navarrette: common core is not federal; ...</td>\n",
       "      <td>The myth that the federal government takes ove...</td>\n",
       "    </tr>\n",
       "    <tr>\n",
       "      <th>29</th>\n",
       "      <td>3413</td>\n",
       "      <td>http://www.cnn.com/2013/08/16/opinion/brazile-...</td>\n",
       "      <td>News</td>\n",
       "      <td>1</td>\n",
       "      <td>None</td>\n",
       "      <td>None</td>\n",
       "      <td>SomewhatPositive</td>\n",
       "      <td>SomewhatNegative</td>\n",
       "      <td>SOURCE a website, slap hillary, invites the pu...</td>\n",
       "      <td>600</td>\n",
       "      <td>...</td>\n",
       "      <td>0</td>\n",
       "      <td>0</td>\n",
       "      <td>0</td>\n",
       "      <td>0</td>\n",
       "      <td>1</td>\n",
       "      <td>0</td>\n",
       "      <td>0</td>\n",
       "      <td>1</td>\n",
       "      <td>satire and mockery are part of politics, but s...</td>\n",
       "      <td>The following is a round-up of some of the peo...</td>\n",
       "    </tr>\n",
       "    <tr>\n",
       "      <th>30</th>\n",
       "      <td>9282</td>\n",
       "      <td>http://www.nbcnews.com/id/52254133/t/republica...</td>\n",
       "      <td>Opinion</td>\n",
       "      <td>1</td>\n",
       "      <td>Civil Rights</td>\n",
       "      <td>Economy</td>\n",
       "      <td>Negative</td>\n",
       "      <td>Positive</td>\n",
       "      <td>a staffer to texas republican rep. steve stock...</td>\n",
       "      <td>600</td>\n",
       "      <td>...</td>\n",
       "      <td>1</td>\n",
       "      <td>0</td>\n",
       "      <td>0</td>\n",
       "      <td>0</td>\n",
       "      <td>1</td>\n",
       "      <td>0</td>\n",
       "      <td>0</td>\n",
       "      <td>1</td>\n",
       "      <td>staffer for texas gop rep. stockman \"debunked\"...</td>\n",
       "      <td>Republican congressman Steve ferguson says he’...</td>\n",
       "    </tr>\n",
       "    <tr>\n",
       "      <th>56</th>\n",
       "      <td>9566</td>\n",
       "      <td>http://www.huffingtonpost.com/2013/04/26/louie...</td>\n",
       "      <td>Opinion</td>\n",
       "      <td>0</td>\n",
       "      <td>Democrat Scandals</td>\n",
       "      <td>International News</td>\n",
       "      <td>Negative</td>\n",
       "      <td>Neutral</td>\n",
       "      <td>rep. louie gohmert (r-texas) said he thinks \"m...</td>\n",
       "      <td>235</td>\n",
       "      <td>...</td>\n",
       "      <td>1</td>\n",
       "      <td>0</td>\n",
       "      <td>0</td>\n",
       "      <td>0</td>\n",
       "      <td>1</td>\n",
       "      <td>0</td>\n",
       "      <td>0</td>\n",
       "      <td>1</td>\n",
       "      <td>rep. louie gohmert said he thinks \"muslim brot...</td>\n",
       "      <td>President Barack Obama's administration has be...</td>\n",
       "    </tr>\n",
       "    <tr>\n",
       "      <th>82</th>\n",
       "      <td>8537</td>\n",
       "      <td>http://www.washingtonpost.com/blogs/post-parti...</td>\n",
       "      <td>Opinion</td>\n",
       "      <td>0</td>\n",
       "      <td>None</td>\n",
       "      <td>Democrat Scandals</td>\n",
       "      <td>Negative</td>\n",
       "      <td>Neutral</td>\n",
       "      <td>for much to happen in washington, there needs ...</td>\n",
       "      <td>273</td>\n",
       "      <td>...</td>\n",
       "      <td>0</td>\n",
       "      <td>0</td>\n",
       "      <td>0</td>\n",
       "      <td>0</td>\n",
       "      <td>1</td>\n",
       "      <td>0</td>\n",
       "      <td>0</td>\n",
       "      <td>1</td>\n",
       "      <td>a poll shows that only 21 percent of americans...</td>\n",
       "      <td>President Obama’s approval ratings have fallen...</td>\n",
       "    </tr>\n",
       "    <tr>\n",
       "      <th>97</th>\n",
       "      <td>1404</td>\n",
       "      <td>http://www.breitbart.com/Big-Government/2013/1...</td>\n",
       "      <td>Opinion</td>\n",
       "      <td>1</td>\n",
       "      <td>Civil Rights</td>\n",
       "      <td>Civil Rights</td>\n",
       "      <td>Neutral</td>\n",
       "      <td>Neutral</td>\n",
       "      <td>u.s. immigration citizenship and immigration s...</td>\n",
       "      <td>600</td>\n",
       "      <td>...</td>\n",
       "      <td>0</td>\n",
       "      <td>1</td>\n",
       "      <td>0</td>\n",
       "      <td>0</td>\n",
       "      <td>1</td>\n",
       "      <td>0</td>\n",
       "      <td>0</td>\n",
       "      <td>0</td>\n",
       "      <td>uscis council president kenneth palinkas expre...</td>\n",
       "      <td>Republican leaders in the US House of Represen...</td>\n",
       "    </tr>\n",
       "    <tr>\n",
       "      <th>109</th>\n",
       "      <td>2086</td>\n",
       "      <td>http://www.breitbart.com/Big-Journalism/2013/0...</td>\n",
       "      <td>Opinion</td>\n",
       "      <td>1</td>\n",
       "      <td>Democrat Scandals</td>\n",
       "      <td>None</td>\n",
       "      <td>Negative</td>\n",
       "      <td>Positive</td>\n",
       "      <td>eight months into president george w. bush’s s...</td>\n",
       "      <td>473</td>\n",
       "      <td>...</td>\n",
       "      <td>0</td>\n",
       "      <td>0</td>\n",
       "      <td>0</td>\n",
       "      <td>0</td>\n",
       "      <td>1</td>\n",
       "      <td>0</td>\n",
       "      <td>0</td>\n",
       "      <td>1</td>\n",
       "      <td>president george w. bush spent more time outsi...</td>\n",
       "      <td>As President Barack Obama prepares to leave th...</td>\n",
       "    </tr>\n",
       "  </tbody>\n",
       "</table>\n",
       "<p>10 rows × 30 columns</p>\n",
       "</div>"
      ],
      "text/plain": [
       "     index                                                url       q3  \\\n",
       "11    8703  http://www.washingtonpost.com/business/economy...     News   \n",
       "15    5068  http://www.huffingtonpost.com/2013/04/27/whcd-...     News   \n",
       "16    9741  http://www.nytimes.com/2013/09/30/opinion/birt...  Opinion   \n",
       "18    1867  http://www.nytimes.com/2013/08/19/opinion/kell...  Opinion   \n",
       "29    3413  http://www.cnn.com/2013/08/16/opinion/brazile-...     News   \n",
       "30    9282  http://www.nbcnews.com/id/52254133/t/republica...  Opinion   \n",
       "56    9566  http://www.huffingtonpost.com/2013/04/26/louie...  Opinion   \n",
       "82    8537  http://www.washingtonpost.com/blogs/post-parti...  Opinion   \n",
       "97    1404  http://www.breitbart.com/Big-Government/2013/1...  Opinion   \n",
       "109   2086  http://www.breitbart.com/Big-Journalism/2013/0...  Opinion   \n",
       "\n",
       "     perceived      primary.topic      secondary.topic     democrat.vote  \\\n",
       "11           0            Economy                 None  SomewhatPositive   \n",
       "15           0               None                 None          Positive   \n",
       "16           1         Healthcare                 None  SomewhatPositive   \n",
       "18           0          Education  Republican Scandals           Neutral   \n",
       "29           1               None                 None  SomewhatPositive   \n",
       "30           1       Civil Rights              Economy          Negative   \n",
       "56           0  Democrat Scandals   International News          Negative   \n",
       "82           0               None    Democrat Scandals          Negative   \n",
       "97           1       Civil Rights         Civil Rights           Neutral   \n",
       "109          1  Democrat Scandals                 None          Negative   \n",
       "\n",
       "      republican.vote                                            article  \\\n",
       "11   SomewhatNegative  congress approved a plan to end washington’s l...   \n",
       "15            Neutral  president obama zinged  SOURCE ,  SOURCE  and ...   \n",
       "16   SomewhatNegative  the obama administration’s rule requiring empl...   \n",
       "18           Negative  so let’s take a look at this fiendish federal ...   \n",
       "29   SomewhatNegative  SOURCE a website, slap hillary, invites the pu...   \n",
       "30           Positive  a staffer to texas republican rep. steve stock...   \n",
       "56            Neutral  rep. louie gohmert (r-texas) said he thinks \"m...   \n",
       "82            Neutral  for much to happen in washington, there needs ...   \n",
       "97            Neutral  u.s. immigration citizenship and immigration s...   \n",
       "109          Positive  eight months into president george w. bush’s s...   \n",
       "\n",
       "     length  ...  ALBERT  encodedlabel TFIDF  t5_xlnet_predicted_labels  \\\n",
       "11      600  ...       1             0     0                          0   \n",
       "15      337  ...       1             0     0                          0   \n",
       "16      301  ...       0             0     1                          0   \n",
       "18      401  ...       0             0     0                          0   \n",
       "29      600  ...       0             0     0                          0   \n",
       "30      600  ...       1             0     0                          0   \n",
       "56      235  ...       1             0     0                          0   \n",
       "82      273  ...       0             0     0                          0   \n",
       "97      600  ...       0             1     0                          0   \n",
       "109     473  ...       0             0     0                          0   \n",
       "\n",
       "     pegasus_xlnet_predicted_labels t5_tfidf_predicted_labels  \\\n",
       "11                                1                         0   \n",
       "15                                1                         0   \n",
       "16                                1                         0   \n",
       "18                                1                         0   \n",
       "29                                1                         0   \n",
       "30                                1                         0   \n",
       "56                                1                         0   \n",
       "82                                1                         0   \n",
       "97                                1                         0   \n",
       "109                               1                         0   \n",
       "\n",
       "    pegasus_tfidf_predicted_labels  test_labels  \\\n",
       "11                               0            1   \n",
       "15                               0            1   \n",
       "16                               0            1   \n",
       "18                               0            1   \n",
       "29                               0            1   \n",
       "30                               0            1   \n",
       "56                               0            1   \n",
       "82                               0            1   \n",
       "97                               0            0   \n",
       "109                              0            1   \n",
       "\n",
       "                                          t5_summaries  \\\n",
       "11   house votes 257 to 167 in favor of sending tax...   \n",
       "15   obama praises boston globe for its coverage of...   \n",
       "16   three federal appeals courts have ruled on the...   \n",
       "18   ruben navarrette: common core is not federal; ...   \n",
       "29   satire and mockery are part of politics, but s...   \n",
       "30   staffer for texas gop rep. stockman \"debunked\"...   \n",
       "56   rep. louie gohmert said he thinks \"muslim brot...   \n",
       "82   a poll shows that only 21 percent of americans...   \n",
       "97   uscis council president kenneth palinkas expre...   \n",
       "109  president george w. bush spent more time outsi...   \n",
       "\n",
       "                                     pegasus_summaries  \n",
       "11   President Barack Obama has signed into law a b...  \n",
       "15   President Barack Obama poked fun at himself an...  \n",
       "16   Supreme Court rulings on the Patient Protectio...  \n",
       "18   The myth that the federal government takes ove...  \n",
       "29   The following is a round-up of some of the peo...  \n",
       "30   Republican congressman Steve ferguson says he’...  \n",
       "56   President Barack Obama's administration has be...  \n",
       "82   President Obama’s approval ratings have fallen...  \n",
       "97   Republican leaders in the US House of Represen...  \n",
       "109  As President Barack Obama prepares to leave th...  \n",
       "\n",
       "[10 rows x 30 columns]"
      ]
     },
     "execution_count": 344,
     "metadata": {},
     "output_type": "execute_result"
    }
   ],
   "source": [
    "data[(data[\"t5_xlnet_predicted_labels\"] != data[\"pegasus_xlnet_predicted_labels\"]) & (data[\"pegasus_xlnet_predicted_labels\"]==1)]"
   ]
  },
  {
   "cell_type": "code",
   "execution_count": 345,
   "metadata": {},
   "outputs": [
    {
     "data": {
      "text/plain": [
       "'president george w. bush spent more time outside of washington than his predecessor, said the post in 2005 and 2006 respectively–but nearly all were trips back to their ranch or family vacation homes as well-asked for by other members on families with kids at home from school (and secret service) white house tours have been shut down since last spring because they are too expensive'"
      ]
     },
     "execution_count": 345,
     "metadata": {},
     "output_type": "execute_result"
    }
   ],
   "source": [
    "data[\"t5_summaries\"].iloc[109]"
   ]
  },
  {
   "cell_type": "code",
   "execution_count": 346,
   "metadata": {},
   "outputs": [
    {
     "data": {
      "text/plain": [
       "'As President Barack Obama prepares to leave the White House for an eight-month summer vacation at his ranch in Crawford, Texas, the president’s aides and reporters are trying to figure out how to cover up his lavish summer vacations.'"
      ]
     },
     "execution_count": 346,
     "metadata": {},
     "output_type": "execute_result"
    }
   ],
   "source": [
    "data[\"pegasus_summaries\"].iloc[109]"
   ]
  },
  {
   "cell_type": "code",
   "execution_count": 350,
   "metadata": {},
   "outputs": [
    {
     "data": {
      "text/plain": [
       "(33, 30)"
      ]
     },
     "execution_count": 350,
     "metadata": {},
     "output_type": "execute_result"
    }
   ],
   "source": [
    "data[(data[\"t5_xlnet_predicted_labels\"] != data[\"pegasus_xlnet_predicted_labels\"])].shape"
   ]
  },
  {
   "cell_type": "code",
   "execution_count": 347,
   "metadata": {},
   "outputs": [
    {
     "data": {
      "text/html": [
       "<div>\n",
       "<style scoped>\n",
       "    .dataframe tbody tr th:only-of-type {\n",
       "        vertical-align: middle;\n",
       "    }\n",
       "\n",
       "    .dataframe tbody tr th {\n",
       "        vertical-align: top;\n",
       "    }\n",
       "\n",
       "    .dataframe thead th {\n",
       "        text-align: right;\n",
       "    }\n",
       "</style>\n",
       "<table border=\"1\" class=\"dataframe\">\n",
       "  <thead>\n",
       "    <tr style=\"text-align: right;\">\n",
       "      <th></th>\n",
       "      <th>index</th>\n",
       "      <th>url</th>\n",
       "      <th>q3</th>\n",
       "      <th>perceived</th>\n",
       "      <th>primary.topic</th>\n",
       "      <th>secondary.topic</th>\n",
       "      <th>democrat.vote</th>\n",
       "      <th>republican.vote</th>\n",
       "      <th>article</th>\n",
       "      <th>length</th>\n",
       "      <th>...</th>\n",
       "      <th>ALBERT</th>\n",
       "      <th>encodedlabel</th>\n",
       "      <th>TFIDF</th>\n",
       "      <th>t5_xlnet_predicted_labels</th>\n",
       "      <th>pegasus_xlnet_predicted_labels</th>\n",
       "      <th>t5_tfidf_predicted_labels</th>\n",
       "      <th>pegasus_tfidf_predicted_labels</th>\n",
       "      <th>test_labels</th>\n",
       "      <th>t5_summaries</th>\n",
       "      <th>pegasus_summaries</th>\n",
       "    </tr>\n",
       "  </thead>\n",
       "  <tbody>\n",
       "    <tr>\n",
       "      <th>1</th>\n",
       "      <td>2861</td>\n",
       "      <td>http://www.dailykos.com/story/2013/01/17/11796...</td>\n",
       "      <td>Opinion</td>\n",
       "      <td>0</td>\n",
       "      <td>Gun Rights Regulation</td>\n",
       "      <td>Gun Related Crimes</td>\n",
       "      <td>Neutral</td>\n",
       "      <td>Neutral</td>\n",
       "      <td>nra ad: are the president's kids more importan...</td>\n",
       "      <td>600</td>\n",
       "      <td>...</td>\n",
       "      <td>0</td>\n",
       "      <td>1</td>\n",
       "      <td>0</td>\n",
       "      <td>1</td>\n",
       "      <td>0</td>\n",
       "      <td>0</td>\n",
       "      <td>0</td>\n",
       "      <td>0</td>\n",
       "      <td>president obama unveiled legislative proposals...</td>\n",
       "      <td>In the wake of last week's school shooting in ...</td>\n",
       "    </tr>\n",
       "    <tr>\n",
       "      <th>2</th>\n",
       "      <td>7023</td>\n",
       "      <td>http://www.washingtonpost.com/opinions/george-...</td>\n",
       "      <td>Opinion</td>\n",
       "      <td>0</td>\n",
       "      <td>International News</td>\n",
       "      <td>Gun Rights Regulation</td>\n",
       "      <td>Negative</td>\n",
       "      <td>Neutral</td>\n",
       "      <td>back to previous page obama hits a wall in ber...</td>\n",
       "      <td>600</td>\n",
       "      <td>...</td>\n",
       "      <td>0</td>\n",
       "      <td>0</td>\n",
       "      <td>0</td>\n",
       "      <td>1</td>\n",
       "      <td>0</td>\n",
       "      <td>1</td>\n",
       "      <td>0</td>\n",
       "      <td>1</td>\n",
       "      <td>david frum: obama's second term will be silly,...</td>\n",
       "      <td>The president of the United States of America,...</td>\n",
       "    </tr>\n",
       "    <tr>\n",
       "      <th>5</th>\n",
       "      <td>933</td>\n",
       "      <td>http://www.foxnews.com/politics/2013/07/24/fox...</td>\n",
       "      <td>News</td>\n",
       "      <td>1</td>\n",
       "      <td>Economy</td>\n",
       "      <td>None</td>\n",
       "      <td>Neutral</td>\n",
       "      <td>Neutral</td>\n",
       "      <td>most voters are unhappy with the way things ar...</td>\n",
       "      <td>600</td>\n",
       "      <td>...</td>\n",
       "      <td>1</td>\n",
       "      <td>1</td>\n",
       "      <td>1</td>\n",
       "      <td>1</td>\n",
       "      <td>0</td>\n",
       "      <td>0</td>\n",
       "      <td>0</td>\n",
       "      <td>0</td>\n",
       "      <td>obama's job approval is below 50 percent, acco...</td>\n",
       "      <td>A new poll from the Associated Press-NORC Cent...</td>\n",
       "    </tr>\n",
       "    <tr>\n",
       "      <th>7</th>\n",
       "      <td>3620</td>\n",
       "      <td>http://www.breitbart.com/Big-Government/2013/0...</td>\n",
       "      <td>News</td>\n",
       "      <td>0</td>\n",
       "      <td>Republican Scandals</td>\n",
       "      <td>None</td>\n",
       "      <td>Neutral</td>\n",
       "      <td>Negative</td>\n",
       "      <td>“karl rove is bad news for the republican part...</td>\n",
       "      <td>387</td>\n",
       "      <td>...</td>\n",
       "      <td>0</td>\n",
       "      <td>0</td>\n",
       "      <td>0</td>\n",
       "      <td>1</td>\n",
       "      <td>0</td>\n",
       "      <td>0</td>\n",
       "      <td>0</td>\n",
       "      <td>1</td>\n",
       "      <td>donald trump appeared on the mark levin show t...</td>\n",
       "      <td>Donald Trump’s new ally in the ongoing battle ...</td>\n",
       "    </tr>\n",
       "    <tr>\n",
       "      <th>12</th>\n",
       "      <td>1394</td>\n",
       "      <td>http://news.yahoo.com/irs-replaces-official-te...</td>\n",
       "      <td>News</td>\n",
       "      <td>0</td>\n",
       "      <td>None</td>\n",
       "      <td>None</td>\n",
       "      <td>Neutral</td>\n",
       "      <td>Neutral</td>\n",
       "      <td>washington (ap) — moving quickly to stem a rag...</td>\n",
       "      <td>600</td>\n",
       "      <td>...</td>\n",
       "      <td>1</td>\n",
       "      <td>1</td>\n",
       "      <td>1</td>\n",
       "      <td>1</td>\n",
       "      <td>0</td>\n",
       "      <td>0</td>\n",
       "      <td>0</td>\n",
       "      <td>0</td>\n",
       "      <td>new irs acting commissioner danny werfel has n...</td>\n",
       "      <td>Here's a round-up of the key stories from the ...</td>\n",
       "    </tr>\n",
       "    <tr>\n",
       "      <th>13</th>\n",
       "      <td>8862</td>\n",
       "      <td>http://www.breitbart.com/Big-Journalism/2013/0...</td>\n",
       "      <td>Opinion</td>\n",
       "      <td>1</td>\n",
       "      <td>Democrat Scandals</td>\n",
       "      <td>Elections</td>\n",
       "      <td>Negative</td>\n",
       "      <td>Neutral</td>\n",
       "      <td>president barack obama rarely makes himself av...</td>\n",
       "      <td>600</td>\n",
       "      <td>...</td>\n",
       "      <td>0</td>\n",
       "      <td>0</td>\n",
       "      <td>0</td>\n",
       "      <td>1</td>\n",
       "      <td>0</td>\n",
       "      <td>1</td>\n",
       "      <td>0</td>\n",
       "      <td>1</td>\n",
       "      <td>president barack obama is scheduled to speak a...</td>\n",
       "      <td>Here is a guide to the most common questions P...</td>\n",
       "    </tr>\n",
       "    <tr>\n",
       "      <th>14</th>\n",
       "      <td>2269</td>\n",
       "      <td>http://www.breitbart.com/Big-Government/2013/0...</td>\n",
       "      <td>News</td>\n",
       "      <td>0</td>\n",
       "      <td>Elections</td>\n",
       "      <td>Economy</td>\n",
       "      <td>SomewhatNegative</td>\n",
       "      <td>SomewhatPositive</td>\n",
       "      <td>a republican in california won a state senate ...</td>\n",
       "      <td>398</td>\n",
       "      <td>...</td>\n",
       "      <td>1</td>\n",
       "      <td>0</td>\n",
       "      <td>0</td>\n",
       "      <td>1</td>\n",
       "      <td>0</td>\n",
       "      <td>0</td>\n",
       "      <td>0</td>\n",
       "      <td>1</td>\n",
       "      <td>republican andy vidak won the special election...</td>\n",
       "      <td>Voters in California’s 16th district, which in...</td>\n",
       "    </tr>\n",
       "    <tr>\n",
       "      <th>19</th>\n",
       "      <td>2975</td>\n",
       "      <td>http://www.usatoday.com/story/news/politics/20...</td>\n",
       "      <td>News</td>\n",
       "      <td>0</td>\n",
       "      <td>Economy</td>\n",
       "      <td>None</td>\n",
       "      <td>Neutral</td>\n",
       "      <td>Neutral</td>\n",
       "      <td>david jackson   SOURCE   president obama to me...</td>\n",
       "      <td>449</td>\n",
       "      <td>...</td>\n",
       "      <td>1</td>\n",
       "      <td>1</td>\n",
       "      <td>1</td>\n",
       "      <td>1</td>\n",
       "      <td>0</td>\n",
       "      <td>1</td>\n",
       "      <td>0</td>\n",
       "      <td>0</td>\n",
       "      <td>president obama plans to meet with democratic ...</td>\n",
       "      <td>US President Barack Obama has met with leaders...</td>\n",
       "    </tr>\n",
       "    <tr>\n",
       "      <th>26</th>\n",
       "      <td>2675</td>\n",
       "      <td>http://news.yahoo.com/republican-infighting-fu...</td>\n",
       "      <td>News</td>\n",
       "      <td>0</td>\n",
       "      <td>Economy</td>\n",
       "      <td>None</td>\n",
       "      <td>Neutral</td>\n",
       "      <td>Negative</td>\n",
       "      <td>by rachelle younglai washington ( SOURCE ) - r...</td>\n",
       "      <td>589</td>\n",
       "      <td>...</td>\n",
       "      <td>1</td>\n",
       "      <td>0</td>\n",
       "      <td>0</td>\n",
       "      <td>1</td>\n",
       "      <td>0</td>\n",
       "      <td>1</td>\n",
       "      <td>0</td>\n",
       "      <td>1</td>\n",
       "      <td>bob corker accuses cruz of using fiscal deadli...</td>\n",
       "      <td>The US Senate has failed to pass a budget for ...</td>\n",
       "    </tr>\n",
       "    <tr>\n",
       "      <th>37</th>\n",
       "      <td>547</td>\n",
       "      <td>http://www.latimes.com/news/world/worldnow/la-...</td>\n",
       "      <td>News</td>\n",
       "      <td>1</td>\n",
       "      <td>International News</td>\n",
       "      <td>None</td>\n",
       "      <td>Neutral</td>\n",
       "      <td>Neutral</td>\n",
       "      <td>barack obama’s first trip to israel as preside...</td>\n",
       "      <td>600</td>\n",
       "      <td>...</td>\n",
       "      <td>0</td>\n",
       "      <td>1</td>\n",
       "      <td>0</td>\n",
       "      <td>1</td>\n",
       "      <td>0</td>\n",
       "      <td>0</td>\n",
       "      <td>0</td>\n",
       "      <td>0</td>\n",
       "      <td>barack obama's first trip to the middle east h...</td>\n",
       "      <td>US President Barack Obama’s first trip to the ...</td>\n",
       "    </tr>\n",
       "    <tr>\n",
       "      <th>46</th>\n",
       "      <td>354</td>\n",
       "      <td>http://www.cnn.com/2013/09/09/opinion/rothkopf...</td>\n",
       "      <td>Opinion</td>\n",
       "      <td>0</td>\n",
       "      <td>National Security</td>\n",
       "      <td>None</td>\n",
       "      <td>Neutral</td>\n",
       "      <td>Neutral</td>\n",
       "      <td>SOURCE david rothkopf: kerry, clinton collabor...</td>\n",
       "      <td>600</td>\n",
       "      <td>...</td>\n",
       "      <td>0</td>\n",
       "      <td>1</td>\n",
       "      <td>1</td>\n",
       "      <td>1</td>\n",
       "      <td>0</td>\n",
       "      <td>0</td>\n",
       "      <td>0</td>\n",
       "      <td>0</td>\n",
       "      <td>obama's two secretaries of state collaborated ...</td>\n",
       "      <td>As the crisis over a possible chemical weapons...</td>\n",
       "    </tr>\n",
       "    <tr>\n",
       "      <th>51</th>\n",
       "      <td>4044</td>\n",
       "      <td>http://www.huffingtonpost.com/2013/11/14/nancy...</td>\n",
       "      <td>News</td>\n",
       "      <td>0</td>\n",
       "      <td>None</td>\n",
       "      <td>None</td>\n",
       "      <td>SomewhatPositive</td>\n",
       "      <td>Negative</td>\n",
       "      <td>washington -- following reports that house spe...</td>\n",
       "      <td>313</td>\n",
       "      <td>...</td>\n",
       "      <td>1</td>\n",
       "      <td>0</td>\n",
       "      <td>0</td>\n",
       "      <td>1</td>\n",
       "      <td>0</td>\n",
       "      <td>0</td>\n",
       "      <td>0</td>\n",
       "      <td>1</td>\n",
       "      <td>house speaker john boehner hasn't even tried t...</td>\n",
       "      <td>The speaker of the US House of Representatives...</td>\n",
       "    </tr>\n",
       "    <tr>\n",
       "      <th>52</th>\n",
       "      <td>260</td>\n",
       "      <td>http://www.usatoday.com/story/opinion/2013/08/...</td>\n",
       "      <td>News</td>\n",
       "      <td>1</td>\n",
       "      <td>Healthcare</td>\n",
       "      <td>National Security</td>\n",
       "      <td>Positive</td>\n",
       "      <td>Neutral</td>\n",
       "      <td>SOURCE rep. nancy pelosi is a california democ...</td>\n",
       "      <td>600</td>\n",
       "      <td>...</td>\n",
       "      <td>1</td>\n",
       "      <td>0</td>\n",
       "      <td>1</td>\n",
       "      <td>1</td>\n",
       "      <td>0</td>\n",
       "      <td>1</td>\n",
       "      <td>1</td>\n",
       "      <td>1</td>\n",
       "      <td>rep. nancy pelosi: the president is trying to ...</td>\n",
       "      <td>US President Barack Obama and Republican House...</td>\n",
       "    </tr>\n",
       "    <tr>\n",
       "      <th>55</th>\n",
       "      <td>1542</td>\n",
       "      <td>http://money.cnn.com/2013/11/07/news/economy/o...</td>\n",
       "      <td>News</td>\n",
       "      <td>0</td>\n",
       "      <td>Healthcare</td>\n",
       "      <td>None</td>\n",
       "      <td>Neutral</td>\n",
       "      <td>Neutral</td>\n",
       "      <td>there's a lot to recommend marriage. but if yo...</td>\n",
       "      <td>518</td>\n",
       "      <td>...</td>\n",
       "      <td>1</td>\n",
       "      <td>1</td>\n",
       "      <td>0</td>\n",
       "      <td>1</td>\n",
       "      <td>0</td>\n",
       "      <td>1</td>\n",
       "      <td>1</td>\n",
       "      <td>0</td>\n",
       "      <td>unmarried couples may pay less for obamacare i...</td>\n",
       "      <td>Here's a guide to the key elements of the Pati...</td>\n",
       "    </tr>\n",
       "    <tr>\n",
       "      <th>64</th>\n",
       "      <td>7839</td>\n",
       "      <td>http://www.nytimes.com/2013/09/08/opinion/sund...</td>\n",
       "      <td>Opinion</td>\n",
       "      <td>0</td>\n",
       "      <td>National Security</td>\n",
       "      <td>None</td>\n",
       "      <td>Negative</td>\n",
       "      <td>Neutral</td>\n",
       "      <td>washington — the winner of the nobel peace pri...</td>\n",
       "      <td>237</td>\n",
       "      <td>...</td>\n",
       "      <td>1</td>\n",
       "      <td>0</td>\n",
       "      <td>1</td>\n",
       "      <td>1</td>\n",
       "      <td>0</td>\n",
       "      <td>0</td>\n",
       "      <td>0</td>\n",
       "      <td>1</td>\n",
       "      <td>president barack obama is trying to reconcile ...</td>\n",
       "      <td>The president of the United States of America,...</td>\n",
       "    </tr>\n",
       "    <tr>\n",
       "      <th>66</th>\n",
       "      <td>2358</td>\n",
       "      <td>http://www.latimes.com/local/lanow/la-me-ln-fi...</td>\n",
       "      <td>News</td>\n",
       "      <td>0</td>\n",
       "      <td>Democrat Scandals</td>\n",
       "      <td>None</td>\n",
       "      <td>Neutral</td>\n",
       "      <td>Neutral</td>\n",
       "      <td>san diego--as the city council prepares friday...</td>\n",
       "      <td>431</td>\n",
       "      <td>...</td>\n",
       "      <td>1</td>\n",
       "      <td>1</td>\n",
       "      <td>0</td>\n",
       "      <td>1</td>\n",
       "      <td>0</td>\n",
       "      <td>0</td>\n",
       "      <td>0</td>\n",
       "      <td>0</td>\n",
       "      <td>bronwyn ingram broke off their engagement just...</td>\n",
       "      <td>The mayor of a small city in the south-west of...</td>\n",
       "    </tr>\n",
       "    <tr>\n",
       "      <th>67</th>\n",
       "      <td>2233</td>\n",
       "      <td>http://www.breitbart.com/Big-Journalism/2013/0...</td>\n",
       "      <td>Opinion</td>\n",
       "      <td>0</td>\n",
       "      <td>Gun Related Crimes</td>\n",
       "      <td>Civil Rights</td>\n",
       "      <td>Negative</td>\n",
       "      <td>Neutral</td>\n",
       "      <td>moments after president obama made his briefin...</td>\n",
       "      <td>600</td>\n",
       "      <td>...</td>\n",
       "      <td>0</td>\n",
       "      <td>0</td>\n",
       "      <td>0</td>\n",
       "      <td>1</td>\n",
       "      <td>0</td>\n",
       "      <td>0</td>\n",
       "      <td>1</td>\n",
       "      <td>1</td>\n",
       "      <td>obama's statement about race and trayvon marti...</td>\n",
       "      <td>President Barack Obama’s surprise announcement...</td>\n",
       "    </tr>\n",
       "    <tr>\n",
       "      <th>68</th>\n",
       "      <td>1926</td>\n",
       "      <td>http://news.yahoo.com/texas-senator-ted-cruz-b...</td>\n",
       "      <td>Opinion</td>\n",
       "      <td>1</td>\n",
       "      <td>Elections</td>\n",
       "      <td>None</td>\n",
       "      <td>SomewhatNegative</td>\n",
       "      <td>SomewhatPositive</td>\n",
       "      <td>washington ( SOURCE ) - for new u.s. senators,...</td>\n",
       "      <td>600</td>\n",
       "      <td>...</td>\n",
       "      <td>1</td>\n",
       "      <td>0</td>\n",
       "      <td>0</td>\n",
       "      <td>1</td>\n",
       "      <td>0</td>\n",
       "      <td>1</td>\n",
       "      <td>0</td>\n",
       "      <td>1</td>\n",
       "      <td>texas senator from tea party has shown provoca...</td>\n",
       "      <td>As the Senate prepares to vote on President Ba...</td>\n",
       "    </tr>\n",
       "    <tr>\n",
       "      <th>93</th>\n",
       "      <td>2758</td>\n",
       "      <td>http://www.dailykos.com/story/2013/02/24/11894...</td>\n",
       "      <td>News</td>\n",
       "      <td>1</td>\n",
       "      <td>Economy</td>\n",
       "      <td>Gun Rights Regulation</td>\n",
       "      <td>Neutral</td>\n",
       "      <td>Neutral</td>\n",
       "      <td>in 2012, the state legislature narrowly passed...</td>\n",
       "      <td>600</td>\n",
       "      <td>...</td>\n",
       "      <td>0</td>\n",
       "      <td>1</td>\n",
       "      <td>0</td>\n",
       "      <td>1</td>\n",
       "      <td>0</td>\n",
       "      <td>0</td>\n",
       "      <td>0</td>\n",
       "      <td>0</td>\n",
       "      <td>in 2012, the state legislature narrowly passed...</td>\n",
       "      <td>As Kansas Governor Sam Brownback considers whe...</td>\n",
       "    </tr>\n",
       "    <tr>\n",
       "      <th>103</th>\n",
       "      <td>8088</td>\n",
       "      <td>http://www.usatoday.com/story/theoval/2013/06/...</td>\n",
       "      <td>News</td>\n",
       "      <td>0</td>\n",
       "      <td>Gun Rights Regulation</td>\n",
       "      <td>None</td>\n",
       "      <td>SomewhatPositive</td>\n",
       "      <td>SomewhatNegative</td>\n",
       "      <td>david jackson   SOURCE   the white house says ...</td>\n",
       "      <td>333</td>\n",
       "      <td>...</td>\n",
       "      <td>1</td>\n",
       "      <td>0</td>\n",
       "      <td>0</td>\n",
       "      <td>1</td>\n",
       "      <td>0</td>\n",
       "      <td>0</td>\n",
       "      <td>0</td>\n",
       "      <td>1</td>\n",
       "      <td>white house: president obama has \"completed or...</td>\n",
       "      <td>US President Barack Obama says his administrat...</td>\n",
       "    </tr>\n",
       "    <tr>\n",
       "      <th>104</th>\n",
       "      <td>5828</td>\n",
       "      <td>http://www.breitbart.com/InstaBlog/2013/09/08/...</td>\n",
       "      <td>News</td>\n",
       "      <td>0</td>\n",
       "      <td>Elections</td>\n",
       "      <td>None</td>\n",
       "      <td>Neutral</td>\n",
       "      <td>Positive</td>\n",
       "      <td>the early voting in one of the two recall elec...</td>\n",
       "      <td>248</td>\n",
       "      <td>...</td>\n",
       "      <td>0</td>\n",
       "      <td>0</td>\n",
       "      <td>0</td>\n",
       "      <td>1</td>\n",
       "      <td>0</td>\n",
       "      <td>1</td>\n",
       "      <td>0</td>\n",
       "      <td>1</td>\n",
       "      <td>the recall initiative was launched by gun righ...</td>\n",
       "      <td>Voters in Colorado go to the polls on Tuesday ...</td>\n",
       "    </tr>\n",
       "    <tr>\n",
       "      <th>106</th>\n",
       "      <td>3941</td>\n",
       "      <td>http://politicalticker.blogs.cnn.com/2013/10/0...</td>\n",
       "      <td>News</td>\n",
       "      <td>1</td>\n",
       "      <td>Healthcare</td>\n",
       "      <td>None</td>\n",
       "      <td>Neutral</td>\n",
       "      <td>Neutral</td>\n",
       "      <td>7 years ago washington ( SOURCE ) – sen. ted c...</td>\n",
       "      <td>600</td>\n",
       "      <td>...</td>\n",
       "      <td>0</td>\n",
       "      <td>1</td>\n",
       "      <td>0</td>\n",
       "      <td>1</td>\n",
       "      <td>0</td>\n",
       "      <td>1</td>\n",
       "      <td>0</td>\n",
       "      <td>0</td>\n",
       "      <td>cruz: \"he sees himself as the only truly pure ...</td>\n",
       "      <td>President Barack Obama's chief of staff, Denis...</td>\n",
       "    </tr>\n",
       "    <tr>\n",
       "      <th>107</th>\n",
       "      <td>7161</td>\n",
       "      <td>http://www.huffingtonpost.com/2013/07/08/gop-w...</td>\n",
       "      <td>News</td>\n",
       "      <td>1</td>\n",
       "      <td>Economy</td>\n",
       "      <td>None</td>\n",
       "      <td>SomewhatPositive</td>\n",
       "      <td>SomewhatNegative</td>\n",
       "      <td>washington -- the house appropriations committ...</td>\n",
       "      <td>600</td>\n",
       "      <td>...</td>\n",
       "      <td>1</td>\n",
       "      <td>0</td>\n",
       "      <td>1</td>\n",
       "      <td>1</td>\n",
       "      <td>0</td>\n",
       "      <td>0</td>\n",
       "      <td>0</td>\n",
       "      <td>1</td>\n",
       "      <td>republicans have been pressuring regulators fo...</td>\n",
       "      <td>As the US Congress prepares to return from its...</td>\n",
       "    </tr>\n",
       "  </tbody>\n",
       "</table>\n",
       "<p>23 rows × 30 columns</p>\n",
       "</div>"
      ],
      "text/plain": [
       "     index                                                url       q3  \\\n",
       "1     2861  http://www.dailykos.com/story/2013/01/17/11796...  Opinion   \n",
       "2     7023  http://www.washingtonpost.com/opinions/george-...  Opinion   \n",
       "5      933  http://www.foxnews.com/politics/2013/07/24/fox...     News   \n",
       "7     3620  http://www.breitbart.com/Big-Government/2013/0...     News   \n",
       "12    1394  http://news.yahoo.com/irs-replaces-official-te...     News   \n",
       "13    8862  http://www.breitbart.com/Big-Journalism/2013/0...  Opinion   \n",
       "14    2269  http://www.breitbart.com/Big-Government/2013/0...     News   \n",
       "19    2975  http://www.usatoday.com/story/news/politics/20...     News   \n",
       "26    2675  http://news.yahoo.com/republican-infighting-fu...     News   \n",
       "37     547  http://www.latimes.com/news/world/worldnow/la-...     News   \n",
       "46     354  http://www.cnn.com/2013/09/09/opinion/rothkopf...  Opinion   \n",
       "51    4044  http://www.huffingtonpost.com/2013/11/14/nancy...     News   \n",
       "52     260  http://www.usatoday.com/story/opinion/2013/08/...     News   \n",
       "55    1542  http://money.cnn.com/2013/11/07/news/economy/o...     News   \n",
       "64    7839  http://www.nytimes.com/2013/09/08/opinion/sund...  Opinion   \n",
       "66    2358  http://www.latimes.com/local/lanow/la-me-ln-fi...     News   \n",
       "67    2233  http://www.breitbart.com/Big-Journalism/2013/0...  Opinion   \n",
       "68    1926  http://news.yahoo.com/texas-senator-ted-cruz-b...  Opinion   \n",
       "93    2758  http://www.dailykos.com/story/2013/02/24/11894...     News   \n",
       "103   8088  http://www.usatoday.com/story/theoval/2013/06/...     News   \n",
       "104   5828  http://www.breitbart.com/InstaBlog/2013/09/08/...     News   \n",
       "106   3941  http://politicalticker.blogs.cnn.com/2013/10/0...     News   \n",
       "107   7161  http://www.huffingtonpost.com/2013/07/08/gop-w...     News   \n",
       "\n",
       "     perceived          primary.topic        secondary.topic  \\\n",
       "1            0  Gun Rights Regulation     Gun Related Crimes   \n",
       "2            0     International News  Gun Rights Regulation   \n",
       "5            1                Economy                   None   \n",
       "7            0    Republican Scandals                   None   \n",
       "12           0                   None                   None   \n",
       "13           1      Democrat Scandals              Elections   \n",
       "14           0              Elections                Economy   \n",
       "19           0                Economy                   None   \n",
       "26           0                Economy                   None   \n",
       "37           1     International News                   None   \n",
       "46           0      National Security                   None   \n",
       "51           0                   None                   None   \n",
       "52           1             Healthcare      National Security   \n",
       "55           0             Healthcare                   None   \n",
       "64           0      National Security                   None   \n",
       "66           0      Democrat Scandals                   None   \n",
       "67           0     Gun Related Crimes           Civil Rights   \n",
       "68           1              Elections                   None   \n",
       "93           1                Economy  Gun Rights Regulation   \n",
       "103          0  Gun Rights Regulation                   None   \n",
       "104          0              Elections                   None   \n",
       "106          1             Healthcare                   None   \n",
       "107          1                Economy                   None   \n",
       "\n",
       "        democrat.vote   republican.vote  \\\n",
       "1             Neutral           Neutral   \n",
       "2            Negative           Neutral   \n",
       "5             Neutral           Neutral   \n",
       "7             Neutral          Negative   \n",
       "12            Neutral           Neutral   \n",
       "13           Negative           Neutral   \n",
       "14   SomewhatNegative  SomewhatPositive   \n",
       "19            Neutral           Neutral   \n",
       "26            Neutral          Negative   \n",
       "37            Neutral           Neutral   \n",
       "46            Neutral           Neutral   \n",
       "51   SomewhatPositive          Negative   \n",
       "52           Positive           Neutral   \n",
       "55            Neutral           Neutral   \n",
       "64           Negative           Neutral   \n",
       "66            Neutral           Neutral   \n",
       "67           Negative           Neutral   \n",
       "68   SomewhatNegative  SomewhatPositive   \n",
       "93            Neutral           Neutral   \n",
       "103  SomewhatPositive  SomewhatNegative   \n",
       "104           Neutral          Positive   \n",
       "106           Neutral           Neutral   \n",
       "107  SomewhatPositive  SomewhatNegative   \n",
       "\n",
       "                                               article  length  ...  ALBERT  \\\n",
       "1    nra ad: are the president's kids more importan...     600  ...       0   \n",
       "2    back to previous page obama hits a wall in ber...     600  ...       0   \n",
       "5    most voters are unhappy with the way things ar...     600  ...       1   \n",
       "7    “karl rove is bad news for the republican part...     387  ...       0   \n",
       "12   washington (ap) — moving quickly to stem a rag...     600  ...       1   \n",
       "13   president barack obama rarely makes himself av...     600  ...       0   \n",
       "14   a republican in california won a state senate ...     398  ...       1   \n",
       "19   david jackson   SOURCE   president obama to me...     449  ...       1   \n",
       "26   by rachelle younglai washington ( SOURCE ) - r...     589  ...       1   \n",
       "37   barack obama’s first trip to israel as preside...     600  ...       0   \n",
       "46   SOURCE david rothkopf: kerry, clinton collabor...     600  ...       0   \n",
       "51   washington -- following reports that house spe...     313  ...       1   \n",
       "52   SOURCE rep. nancy pelosi is a california democ...     600  ...       1   \n",
       "55   there's a lot to recommend marriage. but if yo...     518  ...       1   \n",
       "64   washington — the winner of the nobel peace pri...     237  ...       1   \n",
       "66   san diego--as the city council prepares friday...     431  ...       1   \n",
       "67   moments after president obama made his briefin...     600  ...       0   \n",
       "68   washington ( SOURCE ) - for new u.s. senators,...     600  ...       1   \n",
       "93   in 2012, the state legislature narrowly passed...     600  ...       0   \n",
       "103  david jackson   SOURCE   the white house says ...     333  ...       1   \n",
       "104  the early voting in one of the two recall elec...     248  ...       0   \n",
       "106  7 years ago washington ( SOURCE ) – sen. ted c...     600  ...       0   \n",
       "107  washington -- the house appropriations committ...     600  ...       1   \n",
       "\n",
       "     encodedlabel TFIDF  t5_xlnet_predicted_labels  \\\n",
       "1               1     0                          1   \n",
       "2               0     0                          1   \n",
       "5               1     1                          1   \n",
       "7               0     0                          1   \n",
       "12              1     1                          1   \n",
       "13              0     0                          1   \n",
       "14              0     0                          1   \n",
       "19              1     1                          1   \n",
       "26              0     0                          1   \n",
       "37              1     0                          1   \n",
       "46              1     1                          1   \n",
       "51              0     0                          1   \n",
       "52              0     1                          1   \n",
       "55              1     0                          1   \n",
       "64              0     1                          1   \n",
       "66              1     0                          1   \n",
       "67              0     0                          1   \n",
       "68              0     0                          1   \n",
       "93              1     0                          1   \n",
       "103             0     0                          1   \n",
       "104             0     0                          1   \n",
       "106             1     0                          1   \n",
       "107             0     1                          1   \n",
       "\n",
       "     pegasus_xlnet_predicted_labels t5_tfidf_predicted_labels  \\\n",
       "1                                 0                         0   \n",
       "2                                 0                         1   \n",
       "5                                 0                         0   \n",
       "7                                 0                         0   \n",
       "12                                0                         0   \n",
       "13                                0                         1   \n",
       "14                                0                         0   \n",
       "19                                0                         1   \n",
       "26                                0                         1   \n",
       "37                                0                         0   \n",
       "46                                0                         0   \n",
       "51                                0                         0   \n",
       "52                                0                         1   \n",
       "55                                0                         1   \n",
       "64                                0                         0   \n",
       "66                                0                         0   \n",
       "67                                0                         0   \n",
       "68                                0                         1   \n",
       "93                                0                         0   \n",
       "103                               0                         0   \n",
       "104                               0                         1   \n",
       "106                               0                         1   \n",
       "107                               0                         0   \n",
       "\n",
       "    pegasus_tfidf_predicted_labels  test_labels  \\\n",
       "1                                0            0   \n",
       "2                                0            1   \n",
       "5                                0            0   \n",
       "7                                0            1   \n",
       "12                               0            0   \n",
       "13                               0            1   \n",
       "14                               0            1   \n",
       "19                               0            0   \n",
       "26                               0            1   \n",
       "37                               0            0   \n",
       "46                               0            0   \n",
       "51                               0            1   \n",
       "52                               1            1   \n",
       "55                               1            0   \n",
       "64                               0            1   \n",
       "66                               0            0   \n",
       "67                               1            1   \n",
       "68                               0            1   \n",
       "93                               0            0   \n",
       "103                              0            1   \n",
       "104                              0            1   \n",
       "106                              0            0   \n",
       "107                              0            1   \n",
       "\n",
       "                                          t5_summaries  \\\n",
       "1    president obama unveiled legislative proposals...   \n",
       "2    david frum: obama's second term will be silly,...   \n",
       "5    obama's job approval is below 50 percent, acco...   \n",
       "7    donald trump appeared on the mark levin show t...   \n",
       "12   new irs acting commissioner danny werfel has n...   \n",
       "13   president barack obama is scheduled to speak a...   \n",
       "14   republican andy vidak won the special election...   \n",
       "19   president obama plans to meet with democratic ...   \n",
       "26   bob corker accuses cruz of using fiscal deadli...   \n",
       "37   barack obama's first trip to the middle east h...   \n",
       "46   obama's two secretaries of state collaborated ...   \n",
       "51   house speaker john boehner hasn't even tried t...   \n",
       "52   rep. nancy pelosi: the president is trying to ...   \n",
       "55   unmarried couples may pay less for obamacare i...   \n",
       "64   president barack obama is trying to reconcile ...   \n",
       "66   bronwyn ingram broke off their engagement just...   \n",
       "67   obama's statement about race and trayvon marti...   \n",
       "68   texas senator from tea party has shown provoca...   \n",
       "93   in 2012, the state legislature narrowly passed...   \n",
       "103  white house: president obama has \"completed or...   \n",
       "104  the recall initiative was launched by gun righ...   \n",
       "106  cruz: \"he sees himself as the only truly pure ...   \n",
       "107  republicans have been pressuring regulators fo...   \n",
       "\n",
       "                                     pegasus_summaries  \n",
       "1    In the wake of last week's school shooting in ...  \n",
       "2    The president of the United States of America,...  \n",
       "5    A new poll from the Associated Press-NORC Cent...  \n",
       "7    Donald Trump’s new ally in the ongoing battle ...  \n",
       "12   Here's a round-up of the key stories from the ...  \n",
       "13   Here is a guide to the most common questions P...  \n",
       "14   Voters in California’s 16th district, which in...  \n",
       "19   US President Barack Obama has met with leaders...  \n",
       "26   The US Senate has failed to pass a budget for ...  \n",
       "37   US President Barack Obama’s first trip to the ...  \n",
       "46   As the crisis over a possible chemical weapons...  \n",
       "51   The speaker of the US House of Representatives...  \n",
       "52   US President Barack Obama and Republican House...  \n",
       "55   Here's a guide to the key elements of the Pati...  \n",
       "64   The president of the United States of America,...  \n",
       "66   The mayor of a small city in the south-west of...  \n",
       "67   President Barack Obama’s surprise announcement...  \n",
       "68   As the Senate prepares to vote on President Ba...  \n",
       "93   As Kansas Governor Sam Brownback considers whe...  \n",
       "103  US President Barack Obama says his administrat...  \n",
       "104  Voters in Colorado go to the polls on Tuesday ...  \n",
       "106  President Barack Obama's chief of staff, Denis...  \n",
       "107  As the US Congress prepares to return from its...  \n",
       "\n",
       "[23 rows x 30 columns]"
      ]
     },
     "execution_count": 347,
     "metadata": {},
     "output_type": "execute_result"
    }
   ],
   "source": [
    "data[(data[\"t5_xlnet_predicted_labels\"] != data[\"pegasus_xlnet_predicted_labels\"]) & (data[\"pegasus_xlnet_predicted_labels\"]==0)]"
   ]
  },
  {
   "cell_type": "code",
   "execution_count": 348,
   "metadata": {},
   "outputs": [
    {
     "data": {
      "text/plain": [
       "'republicans have been pressuring regulators for years to exempt derivative products from new rules . financial reform advocates say initiative is padding wall street profits at the expense of important public protection, and democratic support haseroded'"
      ]
     },
     "execution_count": 348,
     "metadata": {},
     "output_type": "execute_result"
    }
   ],
   "source": [
    "data[\"t5_summaries\"].iloc[107]"
   ]
  },
  {
   "cell_type": "code",
   "execution_count": 349,
   "metadata": {},
   "outputs": [
    {
     "data": {
      "text/plain": [
       "'As the US Congress prepares to return from its summer break, the fate of the Dodd-Frank financial reform law is in the hands of a small group of lawmakers and the White House.'"
      ]
     },
     "execution_count": 349,
     "metadata": {},
     "output_type": "execute_result"
    }
   ],
   "source": [
    "data[\"pegasus_summaries\"].iloc[107]"
   ]
  },
  {
   "cell_type": "code",
   "execution_count": null,
   "metadata": {},
   "outputs": [],
   "source": []
  },
  {
   "cell_type": "code",
   "execution_count": null,
   "metadata": {},
   "outputs": [],
   "source": []
  },
  {
   "cell_type": "code",
   "execution_count": 247,
   "metadata": {},
   "outputs": [
    {
     "data": {
      "text/plain": [
       "index                                                                          2861\n",
       "url                               http://www.dailykos.com/story/2013/01/17/11796...\n",
       "q3                                                                          Opinion\n",
       "perceived                                                                         0\n",
       "primary.topic                                                 Gun Rights Regulation\n",
       "secondary.topic                                                  Gun Related Crimes\n",
       "democrat.vote                                                               Neutral\n",
       "republican.vote                                                             Neutral\n",
       "article                           nra ad: are the president's kids more importan...\n",
       "length                                                                          600\n",
       "democrat.bias                                                                   0.0\n",
       "republican.bias                                                                 0.0\n",
       "biaslabel                                                                   Neutral\n",
       "isbiased                                                                          0\n",
       "biascategories                                                                    0\n",
       "text                              nra ad: are the president's kids more importan...\n",
       "label                                                                       Neutral\n",
       "BERT                                                                              0\n",
       "RoBERTa                                                                           0\n",
       "XLNet                                                                             0\n",
       "ALBERT                                                                            0\n",
       "encodedlabel                                                                      1\n",
       "TFIDF                                                                             0\n",
       "t5_xlnet_predicted_labels                                                         1\n",
       "pegasus_xlnet_predicted_labels                                                    0\n",
       "t5_tfidf_predicted_labels                                                         0\n",
       "pegasus_tfidf_predicted_labels                                                    0\n",
       "test_labels                                                                       0\n",
       "Name: 1, dtype: object"
      ]
     },
     "execution_count": 247,
     "metadata": {},
     "output_type": "execute_result"
    }
   ],
   "source": [
    "data.iloc[1]"
   ]
  },
  {
   "cell_type": "code",
   "execution_count": 284,
   "metadata": {},
   "outputs": [
    {
     "data": {
      "text/plain": [
       "'As President Barack Obama prepares to leave the White House for an eight-month summer vacation at his ranch in Crawford, Texas, the president’s aides and reporters are trying to figure out how to cover up his lavish summer vacations.'"
      ]
     },
     "execution_count": 284,
     "metadata": {},
     "output_type": "execute_result"
    }
   ],
   "source": [
    "data[\"pegasus_summaries\"].iloc[109]"
   ]
  },
  {
   "cell_type": "code",
   "execution_count": 280,
   "metadata": {},
   "outputs": [
    {
     "data": {
      "text/plain": [
       "(array([ 6., 10., 15., 20., 17., 16.,  6.,  6.,  5.,  3.,  0.,  0.,  2.,\n",
       "         0.,  1.,  1.,  1.,  0.,  0.,  1.]),\n",
       " array([141. , 150.6, 160.2, 169.8, 179.4, 189. , 198.6, 208.2, 217.8,\n",
       "        227.4, 237. , 246.6, 256.2, 265.8, 275.4, 285. , 294.6, 304.2,\n",
       "        313.8, 323.4, 333. ]),\n",
       " <BarContainer object of 20 artists>)"
      ]
     },
     "execution_count": 280,
     "metadata": {},
     "output_type": "execute_result"
    },
    {
     "data": {
      "image/png": "[encoded data removed]",
      "text/plain": [
       "<Figure size 432x288 with 1 Axes>"
      ]
     },
     "metadata": {
      "needs_background": "light"
     },
     "output_type": "display_data"
    }
   ],
   "source": [
    "plt.hist(data[\"pegasus_summaries\"].str.len(), bins=20)\n"
   ]
  },
  {
   "cell_type": "code",
   "execution_count": 281,
   "metadata": {},
   "outputs": [
    {
     "data": {
      "text/plain": [
       "(array([ 3.,  4.,  6.,  6.,  5.,  8.,  5.,  6.,  5.,  2.,  4.,  8.,  9.,\n",
       "         8.,  8., 11.,  4.,  3.,  2.,  3.]),\n",
       " array([136.  , 151.25, 166.5 , 181.75, 197.  , 212.25, 227.5 , 242.75,\n",
       "        258.  , 273.25, 288.5 , 303.75, 319.  , 334.25, 349.5 , 364.75,\n",
       "        380.  , 395.25, 410.5 , 425.75, 441.  ]),\n",
       " <BarContainer object of 20 artists>)"
      ]
     },
     "execution_count": 281,
     "metadata": {},
     "output_type": "execute_result"
    },
    {
     "data": {
      "image/png": "[encoded data removed]",
      "text/plain": [
       "<Figure size 432x288 with 1 Axes>"
      ]
     },
     "metadata": {
      "needs_background": "light"
     },
     "output_type": "display_data"
    }
   ],
   "source": [
    "plt.hist(data[\"t5_summaries\"].str.len(), bins=20)\n"
   ]
  },
  {
   "cell_type": "code",
   "execution_count": null,
   "metadata": {},
   "outputs": [],
   "source": [
    "data[\"\"]"
   ]
  },
  {
   "cell_type": "code",
   "execution_count": null,
   "metadata": {},
   "outputs": [],
   "source": []
  },
  {
   "cell_type": "code",
   "execution_count": null,
   "metadata": {},
   "outputs": [],
   "source": []
  },
  {
   "cell_type": "code",
   "execution_count": null,
   "metadata": {},
   "outputs": [],
   "source": []
  },
  {
   "cell_type": "code",
   "execution_count": null,
   "metadata": {},
   "outputs": [],
   "source": []
  },
  {
   "cell_type": "code",
   "execution_count": 295,
   "metadata": {},
   "outputs": [],
   "source": [
    "pegasus_biased = data[data[\"pegasus_xlnet_predicted_labels\"]==1]"
   ]
  },
  {
   "cell_type": "code",
   "execution_count": 306,
   "metadata": {},
   "outputs": [],
   "source": [
    "def distance(x, y):\n",
    "    return abs(x-y)"
   ]
  },
  {
   "cell_type": "code",
   "execution_count": 313,
   "metadata": {},
   "outputs": [
    {
     "data": {
      "text/plain": [
       "(array([ 1.,  0.,  0.,  0.,  0., 13.,  0.,  3.,  0.,  3.]),\n",
       " array([0. , 0.2, 0.4, 0.6, 0.8, 1. , 1.2, 1.4, 1.6, 1.8, 2. ]),\n",
       " <BarContainer object of 10 artists>)"
      ]
     },
     "execution_count": 313,
     "metadata": {},
     "output_type": "execute_result"
    },
    {
     "data": {
      "image/png": "[encoded data removed]",
      "text/plain": [
       "<Figure size 432x288 with 1 Axes>"
      ]
     },
     "metadata": {
      "needs_background": "light"
     },
     "output_type": "display_data"
    }
   ],
   "source": [
    "pegasus_biased = data[data[\"pegasus_xlnet_predicted_labels\"]==1]\n",
    "pegasus_bias_distance = pegasus_biased.apply(lambda row: distance(row[\"democrat.bias\"], row[\"republican.bias\"]), axis = 1) \n",
    "plt.hist(pegasus_bias_distance)"
   ]
  },
  {
   "cell_type": "code",
   "execution_count": 315,
   "metadata": {},
   "outputs": [
    {
     "data": {
      "text/plain": [
       "<AxesSubplot:>"
      ]
     },
     "execution_count": 315,
     "metadata": {},
     "output_type": "execute_result"
    },
    {
     "data": {
      "image/png": "[encoded data removed]",
      "text/plain": [
       "<Figure size 432x288 with 1 Axes>"
      ]
     },
     "metadata": {
      "needs_background": "light"
     },
     "output_type": "display_data"
    }
   ],
   "source": [
    "pegasus_biased[\"democrat.bias\"].hist()"
   ]
  },
  {
   "cell_type": "code",
   "execution_count": 326,
   "metadata": {},
   "outputs": [
    {
     "data": {
      "text/plain": [
       "-1.0    0.166667\n",
       " 0.5    0.145833\n",
       " 0.0    0.041667\n",
       " 1.0    0.041667\n",
       "-0.5    0.020833\n",
       "Name: democrat.bias, dtype: float64"
      ]
     },
     "execution_count": 326,
     "metadata": {},
     "output_type": "execute_result"
    }
   ],
   "source": [
    "pegasus_biasedplot = pegasus_biased[\"democrat.bias\"].value_counts()/len(real_biased)\n",
    "pegasus_biasedplot"
   ]
  },
  {
   "cell_type": "code",
   "execution_count": 328,
   "metadata": {},
   "outputs": [
    {
     "data": {
      "text/plain": [
       " 0.5    0.375000\n",
       "-1.0    0.333333\n",
       "-0.5    0.125000\n",
       " 0.0    0.104167\n",
       " 1.0    0.062500\n",
       "Name: democrat.bias, dtype: float64"
      ]
     },
     "execution_count": 328,
     "metadata": {},
     "output_type": "execute_result"
    },
    {
     "data": {
      "image/png": "[encoded data removed]",
      "text/plain": [
       "<Figure size 432x288 with 1 Axes>"
      ]
     },
     "metadata": {
      "needs_background": "light"
     },
     "output_type": "display_data"
    }
   ],
   "source": [
    "real_biased = data[data[\"test_labels\"]==1]\n",
    "real_bias_distance = real_biased.apply(lambda row: distance(row[\"democrat.bias\"], row[\"republican.bias\"]), axis = 1) \n",
    "plt.hist(real_bias_distance)\n",
    "real_biasedplot = real_biased[\"democrat.bias\"].value_counts()/len(real_biased)\n",
    "real_biasedplot"
   ]
  },
  {
   "cell_type": "code",
   "execution_count": 327,
   "metadata": {},
   "outputs": [
    {
     "data": {
      "text/plain": [
       "<AxesSubplot:>"
      ]
     },
     "execution_count": 327,
     "metadata": {},
     "output_type": "execute_result"
    },
    {
     "data": {
      "image/png": "[encoded data removed]",
      "text/plain": [
       "<Figure size 432x288 with 1 Axes>"
      ]
     },
     "metadata": {
      "needs_background": "light"
     },
     "output_type": "display_data"
    }
   ],
   "source": [
    "pegasus_biased.biascategories.hist()"
   ]
  },
  {
   "cell_type": "code",
   "execution_count": 333,
   "metadata": {},
   "outputs": [
    {
     "data": {
      "text/plain": [
       "'washington — finally unburdened by worries about running for another election, president obama is acting different these days. second-term obama is noticeably quicker to speak his mind and get personal on subjects he once avoided. his schedule at times ignores concerns about “optics,” washington-speak for what voters might perceive. advertisement on friday, for example, the president delivered an unexpectedly personal, and at times off-the-cuff, speech in chicago about the root causes of urban violence. the famously reserved president spoke bluntly about the kenyan-born father whom he barely knew, and his wayward high school days in hawaii. “i wish i had had a father who was around and involved,” he said. advertisement in the past, obama typically wove the uplifting version of his personal narrative — raised by a single mother, loved by doting grandparents — into his campaign message. he rarely admitted to having “issues,” as he did in chicago. then, over the presidents day weekend, obama headed to florida for a golf outing with the guys. the president stayed in an exclusive resort near west palm beach, fla., and hit the course with several friends and high-power donors, plus tiger woods. the president’s wife and two daughters, meanwhile, jetted west to ski in aspen, colo. advertisement obama’s vacations have been rare, brief and regularly interrupted by crises at home and overseas. most recently, he suspended his christmas holiday in hawaii to rush back to washington for a few days to deal with congressional negotiations over the so-called fiscal cliff. the white house stressed that the president took his work to the floridian yacht and golf club. advertisement “the president traveled to florida for the weekend to spend some time with friends on the golf course, but the military aides, white house staffers and secret service agents who traveled with him are a reminder that he’s never far from the responsibilities of his job,” said spokesman josh earnest. still, it is hard to imagine obama taking that sort of getaway before the election, particularly after a week when he delivered his state of the union speech and unveiled an economic plan aimed at fighting poverty and providing relief for the middle class. it’s harder still to imagine him golfing with woods — who saw his marriage, endorsement contracts and career tank in 2009 amid disclosures of sexual infidelities — while trying to woo female voters. advertisement obama’s valentine’s day date with first lady michelle obama almost certainly would have become campaign fodder a few months ago. the first couple went to minibar, a washington restaurant so avant-garde it doesn’t use capital letters, where the nightly prix fixe dinner for two runs $450, not including drinks, taxes and tips, according to its website. that’s more than a week’s pay at the $9-per-hour minimum wage obama is advocating (and which is unlikely to go anywhere in congress). presidential historians typically focus on the so-called second-term curse, the seemingly inevitable and usually self-created calamity that befalls many a president after reelection. but historian gil troy says a less-discussed phenomenon is the “second-term blessing.” advertisement “in a lot of presidential biographies and memoirs, they talk about the night before the second reelection campaign ends. there’s always a touch of nostalgia, but far more than nostalgia, there’s a tremendous sense of relief when you get a sense that you don’t have to justify yourself anymore in that way and you’re not under that kind of scrutiny,” said troy, a presidential historian at mcgill university. “and that’s the basis of the second-term blessing.” troy says presidents tend to ease up, stop living by the polls and'"
      ]
     },
     "execution_count": 333,
     "metadata": {},
     "output_type": "execute_result"
    }
   ],
   "source": [
    "pegasus_biased.text.iloc[2]"
   ]
  },
  {
   "cell_type": "code",
   "execution_count": 334,
   "metadata": {},
   "outputs": [
    {
     "data": {
      "text/plain": [
       "index                                                                          9055\n",
       "url                               http://www.latimes.com/news/nationworld/nation...\n",
       "q3                                                                             News\n",
       "perceived                                                                         1\n",
       "primary.topic                                                             Elections\n",
       "secondary.topic                                                                None\n",
       "democrat.vote                                                              Positive\n",
       "republican.vote                                                             Neutral\n",
       "article                           washington — finally unburdened by worries abo...\n",
       "length                                                                          600\n",
       "democrat.bias                                                                   1.0\n",
       "republican.bias                                                                 0.0\n",
       "biaslabel                                                                   Liberal\n",
       "isbiased                                                                          1\n",
       "biascategories                                                                    1\n",
       "text                              washington — finally unburdened by worries abo...\n",
       "label                                                                        Biased\n",
       "BERT                                                                              0\n",
       "RoBERTa                                                                           0\n",
       "XLNet                                                                             0\n",
       "ALBERT                                                                            1\n",
       "encodedlabel                                                                      0\n",
       "TFIDF                                                                             0\n",
       "t5_xlnet_predicted_labels                                                         1\n",
       "pegasus_xlnet_predicted_labels                                                    1\n",
       "t5_tfidf_predicted_labels                                                         0\n",
       "pegasus_tfidf_predicted_labels                                                    1\n",
       "test_labels                                                                       1\n",
       "t5_summaries                      president obama is noticeably quicker to speak...\n",
       "pegasus_summaries                 With less than two weeks to go before American...\n",
       "Name: 4, dtype: object"
      ]
     },
     "execution_count": 334,
     "metadata": {},
     "output_type": "execute_result"
    }
   ],
   "source": [
    "pegasus_biased.iloc[2]"
   ]
  },
  {
   "cell_type": "code",
   "execution_count": 293,
   "metadata": {},
   "outputs": [
    {
     "data": {
      "text/html": [
       "<div>\n",
       "<style scoped>\n",
       "    .dataframe tbody tr th:only-of-type {\n",
       "        vertical-align: middle;\n",
       "    }\n",
       "\n",
       "    .dataframe tbody tr th {\n",
       "        vertical-align: top;\n",
       "    }\n",
       "\n",
       "    .dataframe thead th {\n",
       "        text-align: right;\n",
       "    }\n",
       "</style>\n",
       "<table border=\"1\" class=\"dataframe\">\n",
       "  <thead>\n",
       "    <tr style=\"text-align: right;\">\n",
       "      <th></th>\n",
       "      <th>index</th>\n",
       "      <th>url</th>\n",
       "      <th>q3</th>\n",
       "      <th>perceived</th>\n",
       "      <th>primary.topic</th>\n",
       "      <th>secondary.topic</th>\n",
       "      <th>democrat.vote</th>\n",
       "      <th>republican.vote</th>\n",
       "      <th>article</th>\n",
       "      <th>length</th>\n",
       "      <th>...</th>\n",
       "      <th>ALBERT</th>\n",
       "      <th>encodedlabel</th>\n",
       "      <th>TFIDF</th>\n",
       "      <th>t5_xlnet_predicted_labels</th>\n",
       "      <th>pegasus_xlnet_predicted_labels</th>\n",
       "      <th>t5_tfidf_predicted_labels</th>\n",
       "      <th>pegasus_tfidf_predicted_labels</th>\n",
       "      <th>test_labels</th>\n",
       "      <th>t5_summaries</th>\n",
       "      <th>pegasus_summaries</th>\n",
       "    </tr>\n",
       "  </thead>\n",
       "  <tbody>\n",
       "    <tr>\n",
       "      <th>0</th>\n",
       "      <td>7048</td>\n",
       "      <td>http://news.yahoo.com/virginia-republicans-pan...</td>\n",
       "      <td>News</td>\n",
       "      <td>1</td>\n",
       "      <td>Elections</td>\n",
       "      <td>Republican Scandals</td>\n",
       "      <td>SomewhatPositive</td>\n",
       "      <td>Negative</td>\n",
       "      <td>a minister who compared gays to pedophiles and...</td>\n",
       "      <td>600</td>\n",
       "      <td>...</td>\n",
       "      <td>0</td>\n",
       "      <td>0</td>\n",
       "      <td>0</td>\n",
       "      <td>1</td>\n",
       "      <td>1</td>\n",
       "      <td>1</td>\n",
       "      <td>0</td>\n",
       "      <td>1</td>\n",
       "      <td>gop's ken cuccinelli has been downplaying his ...</td>\n",
       "      <td>The Republican Party in Virginia is trying to ...</td>\n",
       "    </tr>\n",
       "    <tr>\n",
       "      <th>1</th>\n",
       "      <td>2861</td>\n",
       "      <td>http://www.dailykos.com/story/2013/01/17/11796...</td>\n",
       "      <td>Opinion</td>\n",
       "      <td>0</td>\n",
       "      <td>Gun Rights Regulation</td>\n",
       "      <td>Gun Related Crimes</td>\n",
       "      <td>Neutral</td>\n",
       "      <td>Neutral</td>\n",
       "      <td>nra ad: are the president's kids more importan...</td>\n",
       "      <td>600</td>\n",
       "      <td>...</td>\n",
       "      <td>0</td>\n",
       "      <td>1</td>\n",
       "      <td>0</td>\n",
       "      <td>1</td>\n",
       "      <td>0</td>\n",
       "      <td>0</td>\n",
       "      <td>0</td>\n",
       "      <td>0</td>\n",
       "      <td>president obama unveiled legislative proposals...</td>\n",
       "      <td>In the wake of last week's school shooting in ...</td>\n",
       "    </tr>\n",
       "    <tr>\n",
       "      <th>2</th>\n",
       "      <td>7023</td>\n",
       "      <td>http://www.washingtonpost.com/opinions/george-...</td>\n",
       "      <td>Opinion</td>\n",
       "      <td>0</td>\n",
       "      <td>International News</td>\n",
       "      <td>Gun Rights Regulation</td>\n",
       "      <td>Negative</td>\n",
       "      <td>Neutral</td>\n",
       "      <td>back to previous page obama hits a wall in ber...</td>\n",
       "      <td>600</td>\n",
       "      <td>...</td>\n",
       "      <td>0</td>\n",
       "      <td>0</td>\n",
       "      <td>0</td>\n",
       "      <td>1</td>\n",
       "      <td>0</td>\n",
       "      <td>1</td>\n",
       "      <td>0</td>\n",
       "      <td>1</td>\n",
       "      <td>david frum: obama's second term will be silly,...</td>\n",
       "      <td>The president of the United States of America,...</td>\n",
       "    </tr>\n",
       "    <tr>\n",
       "      <th>3</th>\n",
       "      <td>8486</td>\n",
       "      <td>http://news.yahoo.com/gop-infighting-fierce-ev...</td>\n",
       "      <td>Opinion</td>\n",
       "      <td>0</td>\n",
       "      <td>Republican Scandals</td>\n",
       "      <td>None</td>\n",
       "      <td>SomewhatPositive</td>\n",
       "      <td>SomewhatNegative</td>\n",
       "      <td>montpelier, idaho (ap) — republicans have made...</td>\n",
       "      <td>600</td>\n",
       "      <td>...</td>\n",
       "      <td>1</td>\n",
       "      <td>0</td>\n",
       "      <td>0</td>\n",
       "      <td>1</td>\n",
       "      <td>1</td>\n",
       "      <td>1</td>\n",
       "      <td>1</td>\n",
       "      <td>1</td>\n",
       "      <td>republicans have made the mountain west a stro...</td>\n",
       "      <td>In the mountains of western virginia, republic...</td>\n",
       "    </tr>\n",
       "    <tr>\n",
       "      <th>4</th>\n",
       "      <td>9055</td>\n",
       "      <td>http://www.latimes.com/news/nationworld/nation...</td>\n",
       "      <td>News</td>\n",
       "      <td>1</td>\n",
       "      <td>Elections</td>\n",
       "      <td>None</td>\n",
       "      <td>Positive</td>\n",
       "      <td>Neutral</td>\n",
       "      <td>washington — finally unburdened by worries abo...</td>\n",
       "      <td>600</td>\n",
       "      <td>...</td>\n",
       "      <td>1</td>\n",
       "      <td>0</td>\n",
       "      <td>0</td>\n",
       "      <td>1</td>\n",
       "      <td>1</td>\n",
       "      <td>0</td>\n",
       "      <td>1</td>\n",
       "      <td>1</td>\n",
       "      <td>president obama is noticeably quicker to speak...</td>\n",
       "      <td>With less than two weeks to go before American...</td>\n",
       "    </tr>\n",
       "  </tbody>\n",
       "</table>\n",
       "<p>5 rows × 30 columns</p>\n",
       "</div>"
      ],
      "text/plain": [
       "   index                                                url       q3  \\\n",
       "0   7048  http://news.yahoo.com/virginia-republicans-pan...     News   \n",
       "1   2861  http://www.dailykos.com/story/2013/01/17/11796...  Opinion   \n",
       "2   7023  http://www.washingtonpost.com/opinions/george-...  Opinion   \n",
       "3   8486  http://news.yahoo.com/gop-infighting-fierce-ev...  Opinion   \n",
       "4   9055  http://www.latimes.com/news/nationworld/nation...     News   \n",
       "\n",
       "   perceived          primary.topic        secondary.topic     democrat.vote  \\\n",
       "0          1              Elections    Republican Scandals  SomewhatPositive   \n",
       "1          0  Gun Rights Regulation     Gun Related Crimes           Neutral   \n",
       "2          0     International News  Gun Rights Regulation          Negative   \n",
       "3          0    Republican Scandals                   None  SomewhatPositive   \n",
       "4          1              Elections                   None          Positive   \n",
       "\n",
       "    republican.vote                                            article  \\\n",
       "0          Negative  a minister who compared gays to pedophiles and...   \n",
       "1           Neutral  nra ad: are the president's kids more importan...   \n",
       "2           Neutral  back to previous page obama hits a wall in ber...   \n",
       "3  SomewhatNegative  montpelier, idaho (ap) — republicans have made...   \n",
       "4           Neutral  washington — finally unburdened by worries abo...   \n",
       "\n",
       "   length  ...  ALBERT  encodedlabel TFIDF  t5_xlnet_predicted_labels  \\\n",
       "0     600  ...       0             0     0                          1   \n",
       "1     600  ...       0             1     0                          1   \n",
       "2     600  ...       0             0     0                          1   \n",
       "3     600  ...       1             0     0                          1   \n",
       "4     600  ...       1             0     0                          1   \n",
       "\n",
       "   pegasus_xlnet_predicted_labels t5_tfidf_predicted_labels  \\\n",
       "0                               1                         1   \n",
       "1                               0                         0   \n",
       "2                               0                         1   \n",
       "3                               1                         1   \n",
       "4                               1                         0   \n",
       "\n",
       "  pegasus_tfidf_predicted_labels  test_labels  \\\n",
       "0                              0            1   \n",
       "1                              0            0   \n",
       "2                              0            1   \n",
       "3                              1            1   \n",
       "4                              1            1   \n",
       "\n",
       "                                        t5_summaries  \\\n",
       "0  gop's ken cuccinelli has been downplaying his ...   \n",
       "1  president obama unveiled legislative proposals...   \n",
       "2  david frum: obama's second term will be silly,...   \n",
       "3  republicans have made the mountain west a stro...   \n",
       "4  president obama is noticeably quicker to speak...   \n",
       "\n",
       "                                   pegasus_summaries  \n",
       "0  The Republican Party in Virginia is trying to ...  \n",
       "1  In the wake of last week's school shooting in ...  \n",
       "2  The president of the United States of America,...  \n",
       "3  In the mountains of western virginia, republic...  \n",
       "4  With less than two weeks to go before American...  \n",
       "\n",
       "[5 rows x 30 columns]"
      ]
     },
     "execution_count": 293,
     "metadata": {},
     "output_type": "execute_result"
    }
   ],
   "source": [
    "data.head()"
   ]
  },
  {
   "cell_type": "code",
   "execution_count": null,
   "metadata": {},
   "outputs": [],
   "source": [
    "plt.figure(figsize=(8, 8))\n",
    "\n",
    "plt.subplot(1, 2, 1)\n",
    "plt.bar()\n",
    "\n",
    "\n",
    "(epochs_range, acc, label='Training Accuracy')\n",
    "plt.plot(epochs_range, val_acc, label='Validation Accuracy')\n",
    "plt.legend(loc='lower right')\n",
    "plt.title('Training and Validation Accuracy')\n",
    "\n",
    "plt.subplot(1, 2, 2)\n",
    "plt.plot(epochs_range, loss, label='Training Loss')\n",
    "plt.plot(epochs_range, val_loss, label='Validation Loss')\n",
    "plt.legend(loc='upper right')\n",
    "plt.title('Training and Validation Loss')\n",
    "# plt.show()"
   ]
  },
  {
   "cell_type": "code",
   "execution_count": null,
   "metadata": {},
   "outputs": [],
   "source": [
    "bertmodeldata = pd.read_table(\"bertmodeldata.csv\", sep='\\t', index_col=0)\n",
    "robertamodeldata = pd.read_table(\"robertamodeldata.csv\", sep='\\t', index_col=0)\n",
    "# frozenrobertamodeldata = pd.read_table(\"frozenrobertamodeldata.csv\", sep='\\t', index_col=0)\n",
    "xlnetmodeldata = pd.read_table(\"xlnetmodeldata.csv\", sep='\\t', index_col=0)\n",
    "# frozenxlnetmodeldata = pd.read_table(\"frozenxlnetmodeldata.csv\", sep='\\t', index_col=0)\n",
    "albertmodeldata = pd.read_table(\"albertmodeldata.csv\", sep='\\t', index_col=0)\n"
   ]
  },
  {
   "cell_type": "code",
   "execution_count": null,
   "metadata": {},
   "outputs": [],
   "source": [
    "bert_val_acc = bertmodeldata['ValAccuracy']\n",
    "roberta_val_acc = robertamodeldata['ValAccuracy']\n",
    "xlnet_val_acc = xlnetmodeldata['ValAccuracy']\n",
    "albert_val_acc = albertmodeldata['ValAccuracy']\n",
    "\n",
    "bert_val_loss = bertmodeldata['Val_loss']\n",
    "roberta_val_loss = robertamodeldata['Val_loss']\n",
    "# frozenroberta_val_loss = frozenrobertamodeldata['Val_loss']\n",
    "xlnet_val_loss = xlnetmodeldata['Val_loss']\n",
    "# frozenxlnet_val_loss = frozenxlnetmodeldata['Val_loss']\n",
    "albert_val_loss = albertmodeldata['Val_loss']\n",
    "\n",
    "epochs_range = range(25)\n",
    "\n",
    "plt.figure(figsize=(8, 8))\n",
    "plt.subplot(1, 2, 1)\n",
    "plt.plot(epochs_range, bert_val_acc, label='BERT')\n",
    "plt.plot(epochs_range, roberta_val_acc, label='RoBERTa')\n",
    "# plt.plot(epochs_range, frozenroberta_val_acc, label='RoBERTa (6 layers trained)')\n",
    "plt.plot(epochs_range, xlnet_val_acc, label='XLNet')\n",
    "plt.plot(epochs_range, albert_val_loss, label='ALBERT')\n",
    "plt.legend(loc='lower right')\n",
    "plt.title('Validation Accuracy')\n",
    "\n",
    "plt.subplot(1, 2, 2)\n",
    "plt.plot(epochs_range, bert_val_loss, label='BERT')\n",
    "plt.plot(epochs_range, roberta_val_loss, label='RoBERTa')\n",
    "# plt.plot(epochs_range, frozenroberta_val_loss, label='RoBERTa (6 layers trained)')\n",
    "plt.plot(epochs_range, xlnet_val_loss, label='XLNet')\n",
    "plt.plot(epochs_range, albert_val_loss, label='ALBERT')\n",
    "plt.legend(loc='upper right')\n",
    "plt.title('Validation Loss')\n",
    "# plt.show()\n",
    "plt.savefig('modeltrainingcomparison.jpg')"
   ]
  },
  {
   "cell_type": "code",
   "execution_count": null,
   "metadata": {},
   "outputs": [],
   "source": [
    "# plot accuracy"
   ]
  },
  {
   "cell_type": "code",
   "execution_count": null,
   "metadata": {},
   "outputs": [],
   "source": [
    "def findcommonlabel(predictionlist):\n",
    "    labellist = []\n",
    "    for i in range(len(predictionlist[1])):\n",
    "        allin = True\n",
    "        labeli = predictionlist[0][i]\n",
    "        for ii in range(len(predictionlist)):\n",
    "            if predictionlist[ii][i] !=labeli:\n",
    "                allin = False\n",
    "        if allin == True:\n",
    "            labellist.append(i)\n",
    "    return labellist"
   ]
  },
  {
   "cell_type": "code",
   "execution_count": null,
   "metadata": {},
   "outputs": [],
   "source": [
    "commonpred = findcommonlabel(predictions)\n",
    "len(commonpred)"
   ]
  },
  {
   "cell_type": "code",
   "execution_count": null,
   "metadata": {},
   "outputs": [],
   "source": [
    "test_section.reset_index(inplace=True)\n",
    "test_section.head()"
   ]
  },
  {
   "cell_type": "code",
   "execution_count": null,
   "metadata": {},
   "outputs": [],
   "source": [
    "commonpreddata = test_section.iloc[commonpred]\n",
    "commonpreddata.shape"
   ]
  },
  {
   "cell_type": "code",
   "execution_count": null,
   "metadata": {},
   "outputs": [],
   "source": [
    "commonpreddata[\"label\"].value_counts().plot.bar()"
   ]
  },
  {
   "cell_type": "code",
   "execution_count": null,
   "metadata": {},
   "outputs": [],
   "source": [
    "plt.hist(commonpreddata.length)\n"
   ]
  },
  {
   "cell_type": "code",
   "execution_count": null,
   "metadata": {},
   "outputs": [],
   "source": [
    "mixedpreddata = test_section.drop(commonpred, errors='ignore')\n",
    "mixedpreddata.shape"
   ]
  },
  {
   "cell_type": "code",
   "execution_count": null,
   "metadata": {},
   "outputs": [],
   "source": [
    "mixedpreddata[\"label\"].value_counts().plot.bar()"
   ]
  },
  {
   "cell_type": "code",
   "execution_count": null,
   "metadata": {},
   "outputs": [],
   "source": [
    "plt.hist(mixedpreddata.length)\n"
   ]
  },
  {
   "cell_type": "code",
   "execution_count": null,
   "metadata": {},
   "outputs": [],
   "source": [
    "for i in range(len(names)):\n",
    "    test_section[names[i]] = predictions[i]\n",
    "test_section['encodedlabel'] = test_labels\n",
    "test_section.head()"
   ]
  },
  {
   "cell_type": "code",
   "execution_count": null,
   "metadata": {},
   "outputs": [],
   "source": [
    "def calculateproportions(df, colname):\n",
    "    biases = df[df[colname] == 0]\n",
    "    neutrals = df[df[colname] == 1]\n",
    "    length = df.shape[0]\n",
    "    return biases.shape[0]/length, neutrals.shape[0]/length"
   ]
  },
  {
   "cell_type": "code",
   "execution_count": null,
   "metadata": {},
   "outputs": [],
   "source": [
    "realbiasproportions, realneutralproportions = calculateproportions(test_section, \"encodedlabel\")\n",
    "bertbiasproportions, bertneutralproportions = calculateproportions(test_section, \"BERT\")\n",
    "robertabiasproportions, robertaneutralproportions = calculateproportions(test_section, \"RoBERTa\")\n",
    "xlnetbiasproportions, xlnetneutralproportions = calculateproportions(test_section, \"XLNet\")\n",
    "albertbiasproportions, albertneutralproportions = calculateproportions(test_section, \"ALBERT\")\n",
    "\n",
    "biasproplist = [realbiasproportions,\n",
    "               bertbiasproportions,\n",
    "               robertabiasproportions,\n",
    "                xlnetbiasproportions,\n",
    "                albertbiasproportions]\n",
    "neutralproplist = [realneutralproportions,\n",
    "               bertneutralproportions,\n",
    "               robertaneutralproportions,\n",
    "                xlnetneutralproportions,\n",
    "                albertneutralproportions]\n",
    "                \n",
    "totalnames = [\"Data\", \"BERT\",\"RoBERTa\", \"XLNet\", \"ALBERT\"]\n",
    "plt.bar(range(0, len(biasproplist)), biasproplist, width = 0.25, tick_label = totalnames)\n",
    "plt.ylim(ymin=0.3)\n",
    "plt.title('Proportions of Biased Labels')\n",
    "\n"
   ]
  },
  {
   "cell_type": "code",
   "execution_count": null,
   "metadata": {},
   "outputs": [],
   "source": [
    "plt.bar(range(0, len(neutralproplist)), neutralproplist, width = 0.25, tick_label = totalnames)\n",
    "plt.ylim(ymin=0.5)\n",
    "plt.title('Proportions of Neutral Labels')\n",
    "\n"
   ]
  },
  {
   "cell_type": "code",
   "execution_count": null,
   "metadata": {},
   "outputs": [],
   "source": [
    "test_section[:10]"
   ]
  },
  {
   "cell_type": "code",
   "execution_count": null,
   "metadata": {},
   "outputs": [],
   "source": [
    "realneutraldata = test_section[(test_section[\"encodedlabel\"] ==1)\n",
    "            & (test_section[\"BERT\"]== 0)\n",
    "             & (test_section[\"RoBERTa\"]== 0)\n",
    "             & (test_section[\"XLNet\"]== 0)\n",
    "             & (test_section[\"ALBERT\"]== 0)]\n",
    "realneutraldata"
   ]
  },
  {
   "cell_type": "code",
   "execution_count": null,
   "metadata": {},
   "outputs": [],
   "source": [
    "test_section.iloc[9].url"
   ]
  },
  {
   "cell_type": "code",
   "execution_count": null,
   "metadata": {},
   "outputs": [],
   "source": [
    "test_section.iloc[9].article"
   ]
  },
  {
   "cell_type": "code",
   "execution_count": null,
   "metadata": {},
   "outputs": [],
   "source": [
    "xlnetbiasvsneutral = test_section[(test_section[\"encodedlabel\"] ==1)\n",
    "             & (test_section[\"XLNet\"]== 0)]\n",
    "xlnetbiasvsneutral"
   ]
  },
  {
   "cell_type": "code",
   "execution_count": null,
   "metadata": {},
   "outputs": [],
   "source": [
    "realbiasdata = test_section[(test_section[\"encodedlabel\"] ==0)\n",
    "            & (test_section[\"BERT\"]== 1)\n",
    "             & (test_section[\"RoBERTa\"]== 1)\n",
    "             & (test_section[\"XLNet\"]== 1)]\n",
    "realbiasdata"
   ]
  },
  {
   "cell_type": "code",
   "execution_count": null,
   "metadata": {},
   "outputs": [],
   "source": [
    "test_section[(test_section[\"encodedlabel\"] ==0)\n",
    "            & (test_section[\"XLNet\"]== 1)]"
   ]
  },
  {
   "cell_type": "code",
   "execution_count": null,
   "metadata": {},
   "outputs": [],
   "source": []
  },
  {
   "cell_type": "code",
   "execution_count": null,
   "metadata": {},
   "outputs": [],
   "source": []
  },
  {
   "cell_type": "code",
   "execution_count": 352,
   "metadata": {},
   "outputs": [],
   "source": [
    "breitbartdata = pd.read_table(\"biaseddata.csv\", sep='\\t', index_col=0)\n"
   ]
  },
  {
   "cell_type": "code",
   "execution_count": 353,
   "metadata": {},
   "outputs": [
    {
     "data": {
      "text/html": [
       "<div>\n",
       "<style scoped>\n",
       "    .dataframe tbody tr th:only-of-type {\n",
       "        vertical-align: middle;\n",
       "    }\n",
       "\n",
       "    .dataframe tbody tr th {\n",
       "        vertical-align: top;\n",
       "    }\n",
       "\n",
       "    .dataframe thead th {\n",
       "        text-align: right;\n",
       "    }\n",
       "</style>\n",
       "<table border=\"1\" class=\"dataframe\">\n",
       "  <thead>\n",
       "    <tr style=\"text-align: right;\">\n",
       "      <th></th>\n",
       "      <th>url</th>\n",
       "      <th>q3</th>\n",
       "      <th>perceived</th>\n",
       "      <th>primary.topic</th>\n",
       "      <th>secondary.topic</th>\n",
       "      <th>democrat.vote</th>\n",
       "      <th>republican.vote</th>\n",
       "      <th>article</th>\n",
       "      <th>length</th>\n",
       "      <th>democrat.bias</th>\n",
       "      <th>republican.bias</th>\n",
       "      <th>biaslabel</th>\n",
       "      <th>isbiased</th>\n",
       "      <th>biascategories</th>\n",
       "    </tr>\n",
       "  </thead>\n",
       "  <tbody>\n",
       "    <tr>\n",
       "      <th>2625</th>\n",
       "      <td>http://www.breitbart.com/Big-Journalism/2013/1...</td>\n",
       "      <td>News</td>\n",
       "      <td>0</td>\n",
       "      <td>Democrat Scandals</td>\n",
       "      <td>International News</td>\n",
       "      <td>Negative</td>\n",
       "      <td>SomewhatPositive</td>\n",
       "      <td>on sunday evening, cbs news’ 60 minutes featur...</td>\n",
       "      <td>561</td>\n",
       "      <td>-1.0</td>\n",
       "      <td>0.5</td>\n",
       "      <td>Very Conservative</td>\n",
       "      <td>1</td>\n",
       "      <td>-1</td>\n",
       "    </tr>\n",
       "    <tr>\n",
       "      <th>3538</th>\n",
       "      <td>http://www.breitbart.com/Big-Journalism/2013/1...</td>\n",
       "      <td>News</td>\n",
       "      <td>1</td>\n",
       "      <td>International News</td>\n",
       "      <td>National Security</td>\n",
       "      <td>Neutral</td>\n",
       "      <td>Neutral</td>\n",
       "      <td>on sunday evening, cbs news’ 60 minutes featur...</td>\n",
       "      <td>561</td>\n",
       "      <td>0.0</td>\n",
       "      <td>0.0</td>\n",
       "      <td>Neutral</td>\n",
       "      <td>0</td>\n",
       "      <td>0</td>\n",
       "    </tr>\n",
       "  </tbody>\n",
       "</table>\n",
       "</div>"
      ],
      "text/plain": [
       "                                                    url    q3  perceived  \\\n",
       "2625  http://www.breitbart.com/Big-Journalism/2013/1...  News          0   \n",
       "3538  http://www.breitbart.com/Big-Journalism/2013/1...  News          1   \n",
       "\n",
       "           primary.topic     secondary.topic democrat.vote   republican.vote  \\\n",
       "2625   Democrat Scandals  International News      Negative  SomewhatPositive   \n",
       "3538  International News   National Security       Neutral           Neutral   \n",
       "\n",
       "                                                article  length  \\\n",
       "2625  on sunday evening, cbs news’ 60 minutes featur...     561   \n",
       "3538  on sunday evening, cbs news’ 60 minutes featur...     561   \n",
       "\n",
       "      democrat.bias  republican.bias          biaslabel  isbiased  \\\n",
       "2625           -1.0              0.5  Very Conservative         1   \n",
       "3538            0.0              0.0            Neutral         0   \n",
       "\n",
       "      biascategories  \n",
       "2625              -1  \n",
       "3538               0  "
      ]
     },
     "execution_count": 353,
     "metadata": {},
     "output_type": "execute_result"
    }
   ],
   "source": [
    "breitbartdata[breitbartdata['article']=='on sunday evening, cbs news’ 60 minutes featured an investigative report on the benghazi attacks by lara logan. logan’s reporting confirmed that the obama administration had been warned, months in advance, about inadequate security at the u.s. facility in benghazi, and that it knew the story about a youtube video was untrue. it was a reversal for cbs news, which played a key role in the benghazi cover-up in 2012.  a year ago, cbs news released a previously unaired clip of an interview for 60 minutes with president barack obama on sep. 12, the day after the benghazi attack, in which the president suggests clearly that the attack on the u.s. consulate was premeditated. the interview contradicted obama’s subsequent claims that the attack had been a response to an anti-islam youtube video, repeated to the public for several days.  cbs news had withheld that portion of the sep. 12 interview until oct. 19, choosing instead to release a portion in which obama criticized rival mitt romney’s condemnation of the administration’s response to events–a repeated theme as the media helped obama deflect responsibility. romney had attacked the white house’s apology for the video during the attack on the cairo embassy, not knowing of the deaths in libya.  after the election, kroft continued to insist that there was “no information that anything’s been covered up” by the media or the obama administration about the benghazi attacks. that statement was wrong based on what was known at the time, and looks even worse today, after whistleblowers testified to congress earlier this year they were pressured by clinton’s chief of staff not to cooperate with congressional investigators.  logan’s investigation featured an interview with one of those whistleblowers, greg hicks, who had been the deputy to slain u.s. ambassador chris stevens. logan also interviewed “morgan jones” (pseudonym), a former british soldier who had been advising the u.s. on security in benghazi and had warned the state department that libyan guards being trained to guard the compound were not up to the job.  morgan’s warnings came to fruition on sep. 11, 2012, when he saw the guards disperse after being told by the attackers: “we’re here to kill americans, not libyans.” morgan did what little he could to stop the attack. a second attack at the cia annex was partly fought off by a small group that saved five american lives and has since, logan reported, earned “the distinguished service cross and the navy cross” for its bravery.  yet the obama administration did not send any assistance throughout the night, and is thought to have issued a stand-down order to prevent any intervention. what logan’s report makes clear is that there is no way that president obama or his secretary of state could plausibly claim that a youtube video had inspired a spontaneous act of violence on that scale against the u.s. consulate, the cia annex and their personnel.  that story was a lie when it was told–and it was a lie aided and abetted by the mainstream media, including cbs news and 60 minutes, which could have exploded the administration’s youtube video alibi even as obama and clinton were telling it to the families of the victims, to the voting public, and to the world. the sunday night report is commendable, but as an attempt to atone for malpractice, it is far too little, too late.']"
   ]
  },
  {
   "cell_type": "code",
   "execution_count": null,
   "metadata": {},
   "outputs": [],
   "source": []
  },
  {
   "cell_type": "code",
   "execution_count": null,
   "metadata": {},
   "outputs": [],
   "source": []
  },
  {
   "cell_type": "code",
   "execution_count": 7,
   "metadata": {},
   "outputs": [
    {
     "data": {
      "text/html": [
       "<div>\n",
       "<style scoped>\n",
       "    .dataframe tbody tr th:only-of-type {\n",
       "        vertical-align: middle;\n",
       "    }\n",
       "\n",
       "    .dataframe tbody tr th {\n",
       "        vertical-align: top;\n",
       "    }\n",
       "\n",
       "    .dataframe thead th {\n",
       "        text-align: right;\n",
       "    }\n",
       "</style>\n",
       "<table border=\"1\" class=\"dataframe\">\n",
       "  <thead>\n",
       "    <tr style=\"text-align: right;\">\n",
       "      <th></th>\n",
       "      <th>index</th>\n",
       "      <th>url</th>\n",
       "      <th>q3</th>\n",
       "      <th>perceived</th>\n",
       "      <th>primary.topic</th>\n",
       "      <th>secondary.topic</th>\n",
       "      <th>democrat.vote</th>\n",
       "      <th>republican.vote</th>\n",
       "      <th>article</th>\n",
       "      <th>length</th>\n",
       "      <th>...</th>\n",
       "      <th>ALBERT</th>\n",
       "      <th>encodedlabel</th>\n",
       "      <th>TFIDF</th>\n",
       "      <th>t5_xlnet_predicted_labels</th>\n",
       "      <th>pegasus_xlnet_predicted_labels</th>\n",
       "      <th>t5_tfidf_predicted_labels</th>\n",
       "      <th>pegasus_tfidf_predicted_labels</th>\n",
       "      <th>test_labels</th>\n",
       "      <th>t5_summaries</th>\n",
       "      <th>pegasus_summaries</th>\n",
       "    </tr>\n",
       "  </thead>\n",
       "  <tbody>\n",
       "    <tr>\n",
       "      <th>0</th>\n",
       "      <td>7048</td>\n",
       "      <td>http://news.yahoo.com/virginia-republicans-pan...</td>\n",
       "      <td>News</td>\n",
       "      <td>1</td>\n",
       "      <td>Elections</td>\n",
       "      <td>Republican Scandals</td>\n",
       "      <td>SomewhatPositive</td>\n",
       "      <td>Negative</td>\n",
       "      <td>a minister who compared gays to pedophiles and...</td>\n",
       "      <td>600</td>\n",
       "      <td>...</td>\n",
       "      <td>0</td>\n",
       "      <td>0</td>\n",
       "      <td>0</td>\n",
       "      <td>1</td>\n",
       "      <td>1</td>\n",
       "      <td>1</td>\n",
       "      <td>0</td>\n",
       "      <td>1</td>\n",
       "      <td>gop's ken cuccinelli has been downplaying his ...</td>\n",
       "      <td>The Republican Party in Virginia is trying to ...</td>\n",
       "    </tr>\n",
       "    <tr>\n",
       "      <th>1</th>\n",
       "      <td>2861</td>\n",
       "      <td>http://www.dailykos.com/story/2013/01/17/11796...</td>\n",
       "      <td>Opinion</td>\n",
       "      <td>0</td>\n",
       "      <td>Gun Rights Regulation</td>\n",
       "      <td>Gun Related Crimes</td>\n",
       "      <td>Neutral</td>\n",
       "      <td>Neutral</td>\n",
       "      <td>nra ad: are the president's kids more importan...</td>\n",
       "      <td>600</td>\n",
       "      <td>...</td>\n",
       "      <td>0</td>\n",
       "      <td>1</td>\n",
       "      <td>0</td>\n",
       "      <td>1</td>\n",
       "      <td>0</td>\n",
       "      <td>0</td>\n",
       "      <td>0</td>\n",
       "      <td>0</td>\n",
       "      <td>president obama unveiled legislative proposals...</td>\n",
       "      <td>In the wake of last week's school shooting in ...</td>\n",
       "    </tr>\n",
       "    <tr>\n",
       "      <th>2</th>\n",
       "      <td>7023</td>\n",
       "      <td>http://www.washingtonpost.com/opinions/george-...</td>\n",
       "      <td>Opinion</td>\n",
       "      <td>0</td>\n",
       "      <td>International News</td>\n",
       "      <td>Gun Rights Regulation</td>\n",
       "      <td>Negative</td>\n",
       "      <td>Neutral</td>\n",
       "      <td>back to previous page obama hits a wall in ber...</td>\n",
       "      <td>600</td>\n",
       "      <td>...</td>\n",
       "      <td>0</td>\n",
       "      <td>0</td>\n",
       "      <td>0</td>\n",
       "      <td>1</td>\n",
       "      <td>0</td>\n",
       "      <td>1</td>\n",
       "      <td>0</td>\n",
       "      <td>1</td>\n",
       "      <td>david frum: obama's second term will be silly,...</td>\n",
       "      <td>The president of the United States of America,...</td>\n",
       "    </tr>\n",
       "    <tr>\n",
       "      <th>3</th>\n",
       "      <td>8486</td>\n",
       "      <td>http://news.yahoo.com/gop-infighting-fierce-ev...</td>\n",
       "      <td>Opinion</td>\n",
       "      <td>0</td>\n",
       "      <td>Republican Scandals</td>\n",
       "      <td>None</td>\n",
       "      <td>SomewhatPositive</td>\n",
       "      <td>SomewhatNegative</td>\n",
       "      <td>montpelier, idaho (ap) — republicans have made...</td>\n",
       "      <td>600</td>\n",
       "      <td>...</td>\n",
       "      <td>1</td>\n",
       "      <td>0</td>\n",
       "      <td>0</td>\n",
       "      <td>1</td>\n",
       "      <td>1</td>\n",
       "      <td>1</td>\n",
       "      <td>1</td>\n",
       "      <td>1</td>\n",
       "      <td>republicans have made the mountain west a stro...</td>\n",
       "      <td>In the mountains of western virginia, republic...</td>\n",
       "    </tr>\n",
       "    <tr>\n",
       "      <th>4</th>\n",
       "      <td>9055</td>\n",
       "      <td>http://www.latimes.com/news/nationworld/nation...</td>\n",
       "      <td>News</td>\n",
       "      <td>1</td>\n",
       "      <td>Elections</td>\n",
       "      <td>None</td>\n",
       "      <td>Positive</td>\n",
       "      <td>Neutral</td>\n",
       "      <td>washington — finally unburdened by worries abo...</td>\n",
       "      <td>600</td>\n",
       "      <td>...</td>\n",
       "      <td>1</td>\n",
       "      <td>0</td>\n",
       "      <td>0</td>\n",
       "      <td>1</td>\n",
       "      <td>1</td>\n",
       "      <td>0</td>\n",
       "      <td>1</td>\n",
       "      <td>1</td>\n",
       "      <td>president obama is noticeably quicker to speak...</td>\n",
       "      <td>With less than two weeks to go before American...</td>\n",
       "    </tr>\n",
       "  </tbody>\n",
       "</table>\n",
       "<p>5 rows × 30 columns</p>\n",
       "</div>"
      ],
      "text/plain": [
       "   index                                                url       q3  \\\n",
       "0   7048  http://news.yahoo.com/virginia-republicans-pan...     News   \n",
       "1   2861  http://www.dailykos.com/story/2013/01/17/11796...  Opinion   \n",
       "2   7023  http://www.washingtonpost.com/opinions/george-...  Opinion   \n",
       "3   8486  http://news.yahoo.com/gop-infighting-fierce-ev...  Opinion   \n",
       "4   9055  http://www.latimes.com/news/nationworld/nation...     News   \n",
       "\n",
       "   perceived          primary.topic        secondary.topic     democrat.vote  \\\n",
       "0          1              Elections    Republican Scandals  SomewhatPositive   \n",
       "1          0  Gun Rights Regulation     Gun Related Crimes           Neutral   \n",
       "2          0     International News  Gun Rights Regulation          Negative   \n",
       "3          0    Republican Scandals                   None  SomewhatPositive   \n",
       "4          1              Elections                   None          Positive   \n",
       "\n",
       "    republican.vote                                            article  \\\n",
       "0          Negative  a minister who compared gays to pedophiles and...   \n",
       "1           Neutral  nra ad: are the president's kids more importan...   \n",
       "2           Neutral  back to previous page obama hits a wall in ber...   \n",
       "3  SomewhatNegative  montpelier, idaho (ap) — republicans have made...   \n",
       "4           Neutral  washington — finally unburdened by worries abo...   \n",
       "\n",
       "   length  ...  ALBERT  encodedlabel TFIDF  t5_xlnet_predicted_labels  \\\n",
       "0     600  ...       0             0     0                          1   \n",
       "1     600  ...       0             1     0                          1   \n",
       "2     600  ...       0             0     0                          1   \n",
       "3     600  ...       1             0     0                          1   \n",
       "4     600  ...       1             0     0                          1   \n",
       "\n",
       "   pegasus_xlnet_predicted_labels t5_tfidf_predicted_labels  \\\n",
       "0                               1                         1   \n",
       "1                               0                         0   \n",
       "2                               0                         1   \n",
       "3                               1                         1   \n",
       "4                               1                         0   \n",
       "\n",
       "  pegasus_tfidf_predicted_labels  test_labels  \\\n",
       "0                              0            1   \n",
       "1                              0            0   \n",
       "2                              0            1   \n",
       "3                              1            1   \n",
       "4                              1            1   \n",
       "\n",
       "                                        t5_summaries  \\\n",
       "0  gop's ken cuccinelli has been downplaying his ...   \n",
       "1  president obama unveiled legislative proposals...   \n",
       "2  david frum: obama's second term will be silly,...   \n",
       "3  republicans have made the mountain west a stro...   \n",
       "4  president obama is noticeably quicker to speak...   \n",
       "\n",
       "                                   pegasus_summaries  \n",
       "0  The Republican Party in Virginia is trying to ...  \n",
       "1  In the wake of last week's school shooting in ...  \n",
       "2  The president of the United States of America,...  \n",
       "3  In the mountains of western virginia, republic...  \n",
       "4  With less than two weeks to go before American...  \n",
       "\n",
       "[5 rows x 30 columns]"
      ]
     },
     "execution_count": 7,
     "metadata": {},
     "output_type": "execute_result"
    }
   ],
   "source": [
    "data.head()"
   ]
  },
  {
   "cell_type": "code",
   "execution_count": null,
   "metadata": {},
   "outputs": [],
   "source": [
    "# Metrics in comparison to XLNet predicted article labels"
   ]
  },
  {
   "cell_type": "code",
   "execution_count": 8,
   "metadata": {},
   "outputs": [],
   "source": [
    "t5_xlnet_predicted_labels = data['t5_xlnet_predicted_labels']\n",
    "pegasus_xlnet_predicted_labels = data['pegasus_xlnet_predicted_labels']\n",
    "t5_tfidf_predicted_labels = data['t5_tfidf_predicted_labels']\n",
    "pegasus_tfidf_predicted_labels = data['pegasus_tfidf_predicted_labels']\n",
    "test_labels = data['XLNet'] "
   ]
  },
  {
   "cell_type": "code",
   "execution_count": 9,
   "metadata": {},
   "outputs": [],
   "source": [
    "predlist = [t5_xlnet_predicted_labels,\n",
    "           pegasus_xlnet_predicted_labels,\n",
    "           t5_tfidf_predicted_labels,\n",
    "           pegasus_tfidf_predicted_labels\n",
    "           ]\n",
    "namelist = [\"XLNet (T5)\",\n",
    "           \"XLNet (Pegasus)\",\n",
    "           \"TF-IDF (T5)\",\n",
    "           \"TF-IDF (Pegasus)\"]"
   ]
  },
  {
   "cell_type": "code",
   "execution_count": 12,
   "metadata": {},
   "outputs": [
    {
     "name": "stdout",
     "output_type": "stream",
     "text": [
      "Metrics for Biased as baseline class (0):\n",
      "\n",
      "XLNet (T5) Metrics:\n",
      "Accuracy: 0.236364\n",
      "Precision: 0.242424\n",
      "Recall: 0.119403\n",
      "F1 score: 0.160000\n",
      "\n",
      "XLNet (Pegasus) Metrics:\n",
      "Accuracy: 0.281818\n",
      "Precision: 0.200000\n",
      "Recall: 0.059701\n",
      "F1 score: 0.091954\n",
      "\n",
      "TF-IDF (T5) Metrics:\n",
      "Accuracy: 0.245455\n",
      "Precision: 0.055556\n",
      "Recall: 0.014925\n",
      "F1 score: 0.023529\n",
      "\n",
      "TF-IDF (Pegasus) Metrics:\n",
      "Accuracy: 0.318182\n",
      "Precision: 0.000000\n",
      "Recall: 0.000000\n",
      "F1 score: 0.000000\n",
      "\n"
     ]
    }
   ],
   "source": [
    "modelaccuracylist = []\n",
    "modelnamelist = []\n",
    "modelprecisionlist = []\n",
    "modelrecalllist = []\n",
    "modelf1list = []\n",
    "mlist = []\n",
    "print(\"Metrics for Biased as baseline class (0):\")\n",
    "print()\n",
    "for i in range(len(predlist)):\n",
    "    test_classes = predlist[i]\n",
    "    modelname = namelist[i]\n",
    "    modelnamelist.append(modelname)\n",
    "    print(modelname +\" Metrics:\")\n",
    "    # accuracy: (tp + tn) / (p + n)\n",
    "    accuracy = accuracy_score(test_labels, test_classes)\n",
    "    print('Accuracy: %f' % accuracy)\n",
    "    modelaccuracylist.append(accuracy)\n",
    "    # precision tp / (tp + fp)\n",
    "    precision = precision_score(test_labels, test_classes)\n",
    "    print('Precision: %f' % precision)\n",
    "    modelprecisionlist.append(precision)\n",
    "    # recall: tp / (tp + fn)\n",
    "    recall = recall_score(test_labels, test_classes)\n",
    "    print('Recall: %f' % recall)\n",
    "    modelrecalllist.append(recall)\n",
    "    # f1: 2 tp / (2 tp + fp + fn)\n",
    "    f1 = f1_score(test_labels, test_classes)\n",
    "    modelf1list.append(f1)\n",
    "    print('F1 score: %f' % f1)\n",
    "    mlist.append([accuracy, precision, recall, f1])\n",
    "#     print(classification_report(test_labels,test_classes))\n",
    "    print(\"\")\n",
    " "
   ]
  },
  {
   "cell_type": "code",
   "execution_count": 13,
   "metadata": {},
   "outputs": [
    {
     "data": {
      "text/html": [
       "<div>\n",
       "<style scoped>\n",
       "    .dataframe tbody tr th:only-of-type {\n",
       "        vertical-align: middle;\n",
       "    }\n",
       "\n",
       "    .dataframe tbody tr th {\n",
       "        vertical-align: top;\n",
       "    }\n",
       "\n",
       "    .dataframe thead th {\n",
       "        text-align: right;\n",
       "    }\n",
       "</style>\n",
       "<table border=\"1\" class=\"dataframe\">\n",
       "  <thead>\n",
       "    <tr style=\"text-align: right;\">\n",
       "      <th></th>\n",
       "      <th>XLNet (T5)</th>\n",
       "      <th>XLNet (Pegasus)</th>\n",
       "      <th>TF-IDF (T5)</th>\n",
       "      <th>TF-IDF (Pegasus)</th>\n",
       "    </tr>\n",
       "  </thead>\n",
       "  <tbody>\n",
       "    <tr>\n",
       "      <th>Accuracy</th>\n",
       "      <td>0.236364</td>\n",
       "      <td>0.281818</td>\n",
       "      <td>0.245455</td>\n",
       "      <td>0.318182</td>\n",
       "    </tr>\n",
       "    <tr>\n",
       "      <th>Precision</th>\n",
       "      <td>0.242424</td>\n",
       "      <td>0.200000</td>\n",
       "      <td>0.055556</td>\n",
       "      <td>0.000000</td>\n",
       "    </tr>\n",
       "    <tr>\n",
       "      <th>Recall</th>\n",
       "      <td>0.119403</td>\n",
       "      <td>0.059701</td>\n",
       "      <td>0.014925</td>\n",
       "      <td>0.000000</td>\n",
       "    </tr>\n",
       "    <tr>\n",
       "      <th>F1</th>\n",
       "      <td>0.160000</td>\n",
       "      <td>0.091954</td>\n",
       "      <td>0.023529</td>\n",
       "      <td>0.000000</td>\n",
       "    </tr>\n",
       "  </tbody>\n",
       "</table>\n",
       "</div>"
      ],
      "text/plain": [
       "           XLNet (T5)  XLNet (Pegasus)  TF-IDF (T5)  TF-IDF (Pegasus)\n",
       "Accuracy     0.236364         0.281818     0.245455          0.318182\n",
       "Precision    0.242424         0.200000     0.055556          0.000000\n",
       "Recall       0.119403         0.059701     0.014925          0.000000\n",
       "F1           0.160000         0.091954     0.023529          0.000000"
      ]
     },
     "execution_count": 13,
     "metadata": {},
     "output_type": "execute_result"
    }
   ],
   "source": [
    "df = pd.DataFrame(columns = modelnamelist)\n",
    "df.loc['Accuracy'] = modelaccuracylist\n",
    "df.loc['Precision'] = modelprecisionlist\n",
    "df.loc['Recall'] = modelrecalllist\n",
    "df.loc['F1'] = modelf1list\n",
    "df.head()"
   ]
  },
  {
   "cell_type": "code",
   "execution_count": 24,
   "metadata": {},
   "outputs": [
    {
     "data": {
      "image/png": "[encoded data removed]",
      "text/plain": [
       "<Figure size 468x504 with 1 Axes>"
      ]
     },
     "metadata": {
      "needs_background": "light"
     },
     "output_type": "display_data"
    }
   ],
   "source": [
    "ax = df.plot.bar(rot=0)\n",
    "ax.set_ylim()\n",
    "ax.figure.set_size_inches(6.5, 7)\n",
    "plt.title('Predicted Summary Labels Compared to XLNet-Predicted Article Labels')\n",
    "# plt.show()\n",
    "plt.savefig('predlabelmodelxlnetmetriccomparison.jpg')"
   ]
  },
  {
   "cell_type": "code",
   "execution_count": null,
   "metadata": {},
   "outputs": [],
   "source": []
  },
  {
   "cell_type": "code",
   "execution_count": null,
   "metadata": {},
   "outputs": [],
   "source": []
  },
  {
   "cell_type": "code",
   "execution_count": null,
   "metadata": {},
   "outputs": [],
   "source": [
    "# Metrics in comparison to TF-IDF predicted article labels"
   ]
  },
  {
   "cell_type": "code",
   "execution_count": 16,
   "metadata": {},
   "outputs": [],
   "source": [
    "t5_xlnet_predicted_labels = data['t5_xlnet_predicted_labels']\n",
    "pegasus_xlnet_predicted_labels = data['pegasus_xlnet_predicted_labels']\n",
    "t5_tfidf_predicted_labels = data['t5_tfidf_predicted_labels']\n",
    "pegasus_tfidf_predicted_labels = data['pegasus_tfidf_predicted_labels']\n",
    "test_labels = data['TFIDF'] "
   ]
  },
  {
   "cell_type": "code",
   "execution_count": 17,
   "metadata": {},
   "outputs": [],
   "source": [
    "predlist = [t5_xlnet_predicted_labels,\n",
    "           pegasus_xlnet_predicted_labels,\n",
    "           t5_tfidf_predicted_labels,\n",
    "           pegasus_tfidf_predicted_labels\n",
    "           ]\n",
    "namelist = [\"XLNet (T5)\",\n",
    "           \"XLNet (Pegasus)\",\n",
    "           \"TF-IDF (T5)\",\n",
    "           \"TF-IDF (Pegasus)\"]"
   ]
  },
  {
   "cell_type": "code",
   "execution_count": 18,
   "metadata": {},
   "outputs": [
    {
     "name": "stdout",
     "output_type": "stream",
     "text": [
      "Metrics for Biased as baseline class (0):\n",
      "\n",
      "XLNet (T5) Metrics:\n",
      "Accuracy: 0.327273\n",
      "Precision: 0.212121\n",
      "Recall: 0.127273\n",
      "F1 score: 0.159091\n",
      "\n",
      "XLNet (Pegasus) Metrics:\n",
      "Accuracy: 0.336364\n",
      "Precision: 0.050000\n",
      "Recall: 0.018182\n",
      "F1 score: 0.026667\n",
      "\n",
      "TF-IDF (T5) Metrics:\n",
      "Accuracy: 0.372727\n",
      "Precision: 0.111111\n",
      "Recall: 0.036364\n",
      "F1 score: 0.054795\n",
      "\n",
      "TF-IDF (Pegasus) Metrics:\n",
      "Accuracy: 0.445455\n",
      "Precision: 0.125000\n",
      "Recall: 0.018182\n",
      "F1 score: 0.031746\n",
      "\n"
     ]
    }
   ],
   "source": [
    "modelaccuracylist = []\n",
    "modelnamelist = []\n",
    "modelprecisionlist = []\n",
    "modelrecalllist = []\n",
    "modelf1list = []\n",
    "mlist = []\n",
    "print(\"Metrics for Biased as baseline class (0):\")\n",
    "print()\n",
    "for i in range(len(predlist)):\n",
    "    test_classes = predlist[i]\n",
    "    modelname = namelist[i]\n",
    "    modelnamelist.append(modelname)\n",
    "    print(modelname +\" Metrics:\")\n",
    "    # accuracy: (tp + tn) / (p + n)\n",
    "    accuracy = accuracy_score(test_labels, test_classes)\n",
    "    print('Accuracy: %f' % accuracy)\n",
    "    modelaccuracylist.append(accuracy)\n",
    "    # precision tp / (tp + fp)\n",
    "    precision = precision_score(test_labels, test_classes)\n",
    "    print('Precision: %f' % precision)\n",
    "    modelprecisionlist.append(precision)\n",
    "    # recall: tp / (tp + fn)\n",
    "    recall = recall_score(test_labels, test_classes)\n",
    "    print('Recall: %f' % recall)\n",
    "    modelrecalllist.append(recall)\n",
    "    # f1: 2 tp / (2 tp + fp + fn)\n",
    "    f1 = f1_score(test_labels, test_classes)\n",
    "    modelf1list.append(f1)\n",
    "    print('F1 score: %f' % f1)\n",
    "    mlist.append([accuracy, precision, recall, f1])\n",
    "#     print(classification_report(test_labels,test_classes))\n",
    "    print(\"\")\n",
    " "
   ]
  },
  {
   "cell_type": "code",
   "execution_count": 19,
   "metadata": {},
   "outputs": [
    {
     "data": {
      "text/html": [
       "<div>\n",
       "<style scoped>\n",
       "    .dataframe tbody tr th:only-of-type {\n",
       "        vertical-align: middle;\n",
       "    }\n",
       "\n",
       "    .dataframe tbody tr th {\n",
       "        vertical-align: top;\n",
       "    }\n",
       "\n",
       "    .dataframe thead th {\n",
       "        text-align: right;\n",
       "    }\n",
       "</style>\n",
       "<table border=\"1\" class=\"dataframe\">\n",
       "  <thead>\n",
       "    <tr style=\"text-align: right;\">\n",
       "      <th></th>\n",
       "      <th>XLNet (T5)</th>\n",
       "      <th>XLNet (Pegasus)</th>\n",
       "      <th>TF-IDF (T5)</th>\n",
       "      <th>TF-IDF (Pegasus)</th>\n",
       "    </tr>\n",
       "  </thead>\n",
       "  <tbody>\n",
       "    <tr>\n",
       "      <th>Accuracy</th>\n",
       "      <td>0.327273</td>\n",
       "      <td>0.336364</td>\n",
       "      <td>0.372727</td>\n",
       "      <td>0.445455</td>\n",
       "    </tr>\n",
       "    <tr>\n",
       "      <th>Precision</th>\n",
       "      <td>0.212121</td>\n",
       "      <td>0.050000</td>\n",
       "      <td>0.111111</td>\n",
       "      <td>0.125000</td>\n",
       "    </tr>\n",
       "    <tr>\n",
       "      <th>Recall</th>\n",
       "      <td>0.127273</td>\n",
       "      <td>0.018182</td>\n",
       "      <td>0.036364</td>\n",
       "      <td>0.018182</td>\n",
       "    </tr>\n",
       "    <tr>\n",
       "      <th>F1</th>\n",
       "      <td>0.159091</td>\n",
       "      <td>0.026667</td>\n",
       "      <td>0.054795</td>\n",
       "      <td>0.031746</td>\n",
       "    </tr>\n",
       "  </tbody>\n",
       "</table>\n",
       "</div>"
      ],
      "text/plain": [
       "           XLNet (T5)  XLNet (Pegasus)  TF-IDF (T5)  TF-IDF (Pegasus)\n",
       "Accuracy     0.327273         0.336364     0.372727          0.445455\n",
       "Precision    0.212121         0.050000     0.111111          0.125000\n",
       "Recall       0.127273         0.018182     0.036364          0.018182\n",
       "F1           0.159091         0.026667     0.054795          0.031746"
      ]
     },
     "execution_count": 19,
     "metadata": {},
     "output_type": "execute_result"
    }
   ],
   "source": [
    "df = pd.DataFrame(columns = modelnamelist)\n",
    "df.loc['Accuracy'] = modelaccuracylist\n",
    "df.loc['Precision'] = modelprecisionlist\n",
    "df.loc['Recall'] = modelrecalllist\n",
    "df.loc['F1'] = modelf1list\n",
    "df.head()"
   ]
  },
  {
   "cell_type": "code",
   "execution_count": 25,
   "metadata": {},
   "outputs": [
    {
     "data": {
      "image/png": "[encoded data removed]",
      "text/plain": [
       "<Figure size 468x504 with 1 Axes>"
      ]
     },
     "metadata": {
      "needs_background": "light"
     },
     "output_type": "display_data"
    }
   ],
   "source": [
    "ax = df.plot.bar(rot=0)\n",
    "ax.set_ylim()\n",
    "ax.figure.set_size_inches(6.5, 7)\n",
    "plt.title('Predicted Summary Labels Compared to TF-IDF-Predicted Article Labels')\n",
    "# plt.show()\n",
    "plt.savefig('predlabelmodelTFIDFmetriccomparison.jpg')"
   ]
  },
  {
   "cell_type": "code",
   "execution_count": null,
   "metadata": {},
   "outputs": [],
   "source": []
  }
 ],
 "metadata": {
  "kernelspec": {
   "display_name": "Python 3",
   "language": "python",
   "name": "python3"
  },
  "language_info": {
   "codemirror_mode": {
    "name": "ipython",
    "version": 3
   },
   "file_extension": ".py",
   "mimetype": "text/x-python",
   "name": "python",
   "nbconvert_exporter": "python",
   "pygments_lexer": "ipython3",
   "version": "3.8.5"
  }
 },
 "nbformat": 4,
 "nbformat_minor": 5
}
