{
 "cells": [
  {
   "cell_type": "code",
   "execution_count": 1,
   "metadata": {},
   "outputs": [],
   "source": [
    "import json\n",
    "import pandas as pd\n",
    "import numpy as np\n",
    "import os\n",
    "import sys\n",
    "import tensorflow as tf\n",
    "from time import time\n",
    "import io\n",
    "import re\n",
    "\n",
    "import pickle\n",
    "from csv import reader\n",
    "import matplotlib.pyplot as plt\n",
    "\n",
    "import matplotlib.pyplot as plt\n",
    "from matplotlib import colors\n",
    "from matplotlib.ticker import PercentFormatter\n",
    "\n",
    "from tensorflow.keras import layers\n",
    "from tensorflow.keras.backend import sparse_categorical_crossentropy\n",
    "from tensorflow.keras.layers import Dense, Flatten\n",
    "from tensorflow.keras.utils import plot_model\n",
    "\n",
    "# physical_devices = tf.config.list_physical_devices('GPU') \n",
    "# tf.config.experimental.set_memory_growth(physical_devices[0], True)\n",
    "\n",
    "from datetime import datetime\n",
    "from collections import defaultdict\n",
    "\n",
    "from sklearn.model_selection import train_test_split\n",
    "\n"
   ]
  },
  {
   "cell_type": "code",
   "execution_count": 2,
   "metadata": {},
   "outputs": [],
   "source": [
    "from transformers import TFXLNetForSequenceClassification, XLNetTokenizer, T5Tokenizer, TFT5ForConditionalGeneration, PegasusTokenizer, TFPegasusForConditionalGeneration"
   ]
  },
  {
   "cell_type": "markdown",
   "metadata": {},
   "source": [
    "# Data"
   ]
  },
  {
   "cell_type": "code",
   "execution_count": 117,
   "metadata": {},
   "outputs": [],
   "source": [
    "train_section = pd.read_table(\"train_dataset.csv\", sep='\\t', index_col=0)\n",
    "val_section = pd.read_table(\"val_dataset.csv\", sep='\\t', index_col=0)\n",
    "test_section = pd.read_table(\"test_dataset.csv\", sep='\\t', index_col=0)"
   ]
  },
  {
   "cell_type": "code",
   "execution_count": 4,
   "metadata": {},
   "outputs": [],
   "source": [
    "test_article_text = list(test_section[\"text\"])\n"
   ]
  },
  {
   "cell_type": "markdown",
   "metadata": {},
   "source": [
    "## Model"
   ]
  },
  {
   "cell_type": "code",
   "execution_count": 5,
   "metadata": {},
   "outputs": [
    {
     "name": "stderr",
     "output_type": "stream",
     "text": [
      "All model checkpoint layers were used when initializing TFT5ForConditionalGeneration.\n",
      "\n",
      "All the layers of TFT5ForConditionalGeneration were initialized from the model checkpoint at t5-large.\n",
      "If your task is similar to the task the model of the checkpoint was trained on, you can already use TFT5ForConditionalGeneration for predictions without further training.\n"
     ]
    },
    {
     "name": "stdout",
     "output_type": "stream",
     "text": [
      "Model: \"tf_t5for_conditional_generation\"\n",
      "_________________________________________________________________\n",
      "Layer (type)                 Output Shape              Param #   \n",
      "=================================================================\n",
      "shared (TFSharedEmbeddings)  multiple                  32899072  \n",
      "_________________________________________________________________\n",
      "encoder (TFT5MainLayer)      multiple                  302040576 \n",
      "_________________________________________________________________\n",
      "decoder (TFT5MainLayer)      multiple                  402728448 \n",
      "=================================================================\n",
      "Total params: 737,668,096\n",
      "Trainable params: 737,668,096\n",
      "Non-trainable params: 0\n",
      "_________________________________________________________________\n"
     ]
    }
   ],
   "source": [
    "t5_model = TFT5ForConditionalGeneration.from_pretrained('t5-large')\n",
    "t5_tokenizer = T5Tokenizer.from_pretrained('t5-large')\n",
    "\n",
    "t5_model.summary()"
   ]
  },
  {
   "cell_type": "code",
   "execution_count": 6,
   "metadata": {},
   "outputs": [],
   "source": [
    "t5_test_article_text = [\"summarize: \" + i for i in test_article_text]"
   ]
  },
  {
   "cell_type": "code",
   "execution_count": 7,
   "metadata": {},
   "outputs": [],
   "source": [
    "t5_input_list = [ t5_tokenizer([i],  max_length=512,  truncation=True, return_tensors='tf') for i in t5_test_article_text]"
   ]
  },
  {
   "cell_type": "code",
   "execution_count": 8,
   "metadata": {},
   "outputs": [],
   "source": [
    "t5_summary_ids =  [t5_model.generate(i['input_ids'],\n",
    "                                    num_beams=3,\n",
    "                                    no_repeat_ngram_size=1,\n",
    "                                    min_length=35,\n",
    "                                    max_length=80) for i in t5_input_list]\n"
   ]
  },
  {
   "cell_type": "code",
   "execution_count": 9,
   "metadata": {},
   "outputs": [],
   "source": [
    "t5_summary_list = [[t5_tokenizer.decode(g, skip_special_tokens=True, \n",
    "                           clean_up_tokenization_spaces=False) for g in i] for i in t5_summary_ids]"
   ]
  },
  {
   "cell_type": "code",
   "execution_count": 10,
   "metadata": {},
   "outputs": [],
   "source": [
    "t5_summaries = [i[0] for i in t5_summary_list]"
   ]
  },
  {
   "cell_type": "code",
   "execution_count": 11,
   "metadata": {},
   "outputs": [],
   "source": [
    "test_section[\"t5_summaries\"] = t5_summaries"
   ]
  },
  {
   "cell_type": "code",
   "execution_count": 16,
   "metadata": {},
   "outputs": [],
   "source": [
    "test_section.to_csv(\"test_dataset.csv\", sep='\\t')"
   ]
  },
  {
   "cell_type": "code",
   "execution_count": 17,
   "metadata": {},
   "outputs": [],
   "source": [
    "tf.keras.backend.clear_session()"
   ]
  },
  {
   "cell_type": "code",
   "execution_count": null,
   "metadata": {},
   "outputs": [],
   "source": []
  },
  {
   "cell_type": "code",
   "execution_count": null,
   "metadata": {},
   "outputs": [],
   "source": []
  },
  {
   "cell_type": "code",
   "execution_count": null,
   "metadata": {},
   "outputs": [],
   "source": []
  },
  {
   "cell_type": "code",
   "execution_count": 6,
   "metadata": {},
   "outputs": [
    {
     "name": "stderr",
     "output_type": "stream",
     "text": [
      "All model checkpoint layers were used when initializing TFPegasusForConditionalGeneration.\n",
      "\n",
      "All the layers of TFPegasusForConditionalGeneration were initialized from the model checkpoint at google/pegasus-xsum.\n",
      "If your task is similar to the task the model of the checkpoint was trained on, you can already use TFPegasusForConditionalGeneration for predictions without further training.\n"
     ]
    },
    {
     "name": "stdout",
     "output_type": "stream",
     "text": [
      "Model: \"tf_pegasus_for_conditional_generation\"\n",
      "_________________________________________________________________\n",
      "Layer (type)                 Output Shape              Param #   \n",
      "=================================================================\n",
      "model (TFPegasusMainLayer)   multiple                  569748480 \n",
      "=================================================================\n",
      "Total params: 569,844,583\n",
      "Trainable params: 569,748,480\n",
      "Non-trainable params: 96,103\n",
      "_________________________________________________________________\n"
     ]
    }
   ],
   "source": [
    "pegasus_model = TFPegasusForConditionalGeneration.from_pretrained('google/pegasus-xsum')\n",
    "pegasus_tokenizer = PegasusTokenizer.from_pretrained('google/pegasus-xsum')\n",
    "\n",
    "pegasus_model.summary()"
   ]
  },
  {
   "cell_type": "code",
   "execution_count": 9,
   "metadata": {},
   "outputs": [],
   "source": [
    "pegasus_input_list = [pegasus_tokenizer([i], max_length=512, truncation=True, return_tensors='tf') for i in test_article_text]"
   ]
  },
  {
   "cell_type": "code",
   "execution_count": 11,
   "metadata": {},
   "outputs": [],
   "source": [
    "pegasus_summary_ids =  [pegasus_model.generate(i['input_ids'], \n",
    "                                    no_repeat_ngram_size=2,\n",
    "                                    min_length=35,\n",
    "                                    max_length=80,\n",
    "                                    early_stopping=True) for i in pegasus_input_list]"
   ]
  },
  {
   "cell_type": "code",
   "execution_count": 12,
   "metadata": {},
   "outputs": [],
   "source": [
    "pegasus_summary_list = [[pegasus_tokenizer.decode(g, skip_special_tokens=True, \n",
    "                           clean_up_tokenization_spaces=False) for g in i] for i in pegasus_summary_ids]"
   ]
  },
  {
   "cell_type": "code",
   "execution_count": 16,
   "metadata": {},
   "outputs": [],
   "source": [
    "pegasus_summaries = [i[0] for i in pegasus_summary_list]\n",
    "test_section[\"pegasus_summaries\"] = pegasus_summaries"
   ]
  },
  {
   "cell_type": "code",
   "execution_count": 14,
   "metadata": {},
   "outputs": [
    {
     "data": {
      "text/html": [
       "<div>\n",
       "<style scoped>\n",
       "    .dataframe tbody tr th:only-of-type {\n",
       "        vertical-align: middle;\n",
       "    }\n",
       "\n",
       "    .dataframe tbody tr th {\n",
       "        vertical-align: top;\n",
       "    }\n",
       "\n",
       "    .dataframe thead th {\n",
       "        text-align: right;\n",
       "    }\n",
       "</style>\n",
       "<table border=\"1\" class=\"dataframe\">\n",
       "  <thead>\n",
       "    <tr style=\"text-align: right;\">\n",
       "      <th></th>\n",
       "      <th>index</th>\n",
       "      <th>url</th>\n",
       "      <th>q3</th>\n",
       "      <th>perceived</th>\n",
       "      <th>primary.topic</th>\n",
       "      <th>secondary.topic</th>\n",
       "      <th>democrat.vote</th>\n",
       "      <th>republican.vote</th>\n",
       "      <th>article</th>\n",
       "      <th>length</th>\n",
       "      <th>...</th>\n",
       "      <th>biascategories</th>\n",
       "      <th>text</th>\n",
       "      <th>label</th>\n",
       "      <th>BERT</th>\n",
       "      <th>RoBERTa</th>\n",
       "      <th>XLNet</th>\n",
       "      <th>ALBERT</th>\n",
       "      <th>encodedlabel</th>\n",
       "      <th>t5_summaries</th>\n",
       "      <th>pegasus_summaries</th>\n",
       "    </tr>\n",
       "  </thead>\n",
       "  <tbody>\n",
       "    <tr>\n",
       "      <th>0</th>\n",
       "      <td>7048</td>\n",
       "      <td>http://news.yahoo.com/virginia-republicans-pan...</td>\n",
       "      <td>News</td>\n",
       "      <td>1</td>\n",
       "      <td>Elections</td>\n",
       "      <td>Republican Scandals</td>\n",
       "      <td>SomewhatPositive</td>\n",
       "      <td>Negative</td>\n",
       "      <td>a minister who compared gays to pedophiles and...</td>\n",
       "      <td>600</td>\n",
       "      <td>...</td>\n",
       "      <td>1</td>\n",
       "      <td>a minister who compared gays to pedophiles and...</td>\n",
       "      <td>Biased</td>\n",
       "      <td>0</td>\n",
       "      <td>0</td>\n",
       "      <td>0</td>\n",
       "      <td>0</td>\n",
       "      <td>0</td>\n",
       "      <td>gop's ken cuccinelli has been downplaying his ...</td>\n",
       "      <td>The Republican Party in Virginia is trying to ...</td>\n",
       "    </tr>\n",
       "    <tr>\n",
       "      <th>1</th>\n",
       "      <td>2861</td>\n",
       "      <td>http://www.dailykos.com/story/2013/01/17/11796...</td>\n",
       "      <td>Opinion</td>\n",
       "      <td>0</td>\n",
       "      <td>Gun Rights Regulation</td>\n",
       "      <td>Gun Related Crimes</td>\n",
       "      <td>Neutral</td>\n",
       "      <td>Neutral</td>\n",
       "      <td>nra ad: are the president's kids more importan...</td>\n",
       "      <td>600</td>\n",
       "      <td>...</td>\n",
       "      <td>0</td>\n",
       "      <td>nra ad: are the president's kids more importan...</td>\n",
       "      <td>Neutral</td>\n",
       "      <td>0</td>\n",
       "      <td>0</td>\n",
       "      <td>0</td>\n",
       "      <td>0</td>\n",
       "      <td>1</td>\n",
       "      <td>president obama unveiled legislative proposals...</td>\n",
       "      <td>In the wake of last week's school shooting in ...</td>\n",
       "    </tr>\n",
       "    <tr>\n",
       "      <th>2</th>\n",
       "      <td>7023</td>\n",
       "      <td>http://www.washingtonpost.com/opinions/george-...</td>\n",
       "      <td>Opinion</td>\n",
       "      <td>0</td>\n",
       "      <td>International News</td>\n",
       "      <td>Gun Rights Regulation</td>\n",
       "      <td>Negative</td>\n",
       "      <td>Neutral</td>\n",
       "      <td>back to previous page obama hits a wall in ber...</td>\n",
       "      <td>600</td>\n",
       "      <td>...</td>\n",
       "      <td>-1</td>\n",
       "      <td>back to previous page obama hits a wall in ber...</td>\n",
       "      <td>Biased</td>\n",
       "      <td>0</td>\n",
       "      <td>0</td>\n",
       "      <td>0</td>\n",
       "      <td>0</td>\n",
       "      <td>0</td>\n",
       "      <td>david frum: obama's second term will be silly,...</td>\n",
       "      <td>The president of the United States of America,...</td>\n",
       "    </tr>\n",
       "    <tr>\n",
       "      <th>3</th>\n",
       "      <td>8486</td>\n",
       "      <td>http://news.yahoo.com/gop-infighting-fierce-ev...</td>\n",
       "      <td>Opinion</td>\n",
       "      <td>0</td>\n",
       "      <td>Republican Scandals</td>\n",
       "      <td>None</td>\n",
       "      <td>SomewhatPositive</td>\n",
       "      <td>SomewhatNegative</td>\n",
       "      <td>montpelier, idaho (ap) — republicans have made...</td>\n",
       "      <td>600</td>\n",
       "      <td>...</td>\n",
       "      <td>1</td>\n",
       "      <td>montpelier, idaho (ap) — republicans have made...</td>\n",
       "      <td>Biased</td>\n",
       "      <td>0</td>\n",
       "      <td>0</td>\n",
       "      <td>0</td>\n",
       "      <td>1</td>\n",
       "      <td>0</td>\n",
       "      <td>republicans have made the mountain west a stro...</td>\n",
       "      <td>In the mountains of western virginia, republic...</td>\n",
       "    </tr>\n",
       "    <tr>\n",
       "      <th>4</th>\n",
       "      <td>9055</td>\n",
       "      <td>http://www.latimes.com/news/nationworld/nation...</td>\n",
       "      <td>News</td>\n",
       "      <td>1</td>\n",
       "      <td>Elections</td>\n",
       "      <td>None</td>\n",
       "      <td>Positive</td>\n",
       "      <td>Neutral</td>\n",
       "      <td>washington — finally unburdened by worries abo...</td>\n",
       "      <td>600</td>\n",
       "      <td>...</td>\n",
       "      <td>1</td>\n",
       "      <td>washington — finally unburdened by worries abo...</td>\n",
       "      <td>Biased</td>\n",
       "      <td>0</td>\n",
       "      <td>0</td>\n",
       "      <td>0</td>\n",
       "      <td>1</td>\n",
       "      <td>0</td>\n",
       "      <td>president obama is noticeably quicker to speak...</td>\n",
       "      <td>With less than two weeks to go before American...</td>\n",
       "    </tr>\n",
       "  </tbody>\n",
       "</table>\n",
       "<p>5 rows × 24 columns</p>\n",
       "</div>"
      ],
      "text/plain": [
       "   index                                                url       q3  \\\n",
       "0   7048  http://news.yahoo.com/virginia-republicans-pan...     News   \n",
       "1   2861  http://www.dailykos.com/story/2013/01/17/11796...  Opinion   \n",
       "2   7023  http://www.washingtonpost.com/opinions/george-...  Opinion   \n",
       "3   8486  http://news.yahoo.com/gop-infighting-fierce-ev...  Opinion   \n",
       "4   9055  http://www.latimes.com/news/nationworld/nation...     News   \n",
       "\n",
       "   perceived          primary.topic        secondary.topic     democrat.vote  \\\n",
       "0          1              Elections    Republican Scandals  SomewhatPositive   \n",
       "1          0  Gun Rights Regulation     Gun Related Crimes           Neutral   \n",
       "2          0     International News  Gun Rights Regulation          Negative   \n",
       "3          0    Republican Scandals                   None  SomewhatPositive   \n",
       "4          1              Elections                   None          Positive   \n",
       "\n",
       "    republican.vote                                            article  \\\n",
       "0          Negative  a minister who compared gays to pedophiles and...   \n",
       "1           Neutral  nra ad: are the president's kids more importan...   \n",
       "2           Neutral  back to previous page obama hits a wall in ber...   \n",
       "3  SomewhatNegative  montpelier, idaho (ap) — republicans have made...   \n",
       "4           Neutral  washington — finally unburdened by worries abo...   \n",
       "\n",
       "   length  ...  biascategories  \\\n",
       "0     600  ...               1   \n",
       "1     600  ...               0   \n",
       "2     600  ...              -1   \n",
       "3     600  ...               1   \n",
       "4     600  ...               1   \n",
       "\n",
       "                                                text    label  BERT  RoBERTa  \\\n",
       "0  a minister who compared gays to pedophiles and...   Biased     0        0   \n",
       "1  nra ad: are the president's kids more importan...  Neutral     0        0   \n",
       "2  back to previous page obama hits a wall in ber...   Biased     0        0   \n",
       "3  montpelier, idaho (ap) — republicans have made...   Biased     0        0   \n",
       "4  washington — finally unburdened by worries abo...   Biased     0        0   \n",
       "\n",
       "  XLNet ALBERT  encodedlabel  \\\n",
       "0     0      0             0   \n",
       "1     0      0             1   \n",
       "2     0      0             0   \n",
       "3     0      1             0   \n",
       "4     0      1             0   \n",
       "\n",
       "                                        t5_summaries  \\\n",
       "0  gop's ken cuccinelli has been downplaying his ...   \n",
       "1  president obama unveiled legislative proposals...   \n",
       "2  david frum: obama's second term will be silly,...   \n",
       "3  republicans have made the mountain west a stro...   \n",
       "4  president obama is noticeably quicker to speak...   \n",
       "\n",
       "                                   pegasus_summaries  \n",
       "0  The Republican Party in Virginia is trying to ...  \n",
       "1  In the wake of last week's school shooting in ...  \n",
       "2  The president of the United States of America,...  \n",
       "3  In the mountains of western virginia, republic...  \n",
       "4  With less than two weeks to go before American...  \n",
       "\n",
       "[5 rows x 24 columns]"
      ]
     },
     "execution_count": 14,
     "metadata": {},
     "output_type": "execute_result"
    }
   ],
   "source": [
    "test_section.head()"
   ]
  },
  {
   "cell_type": "code",
   "execution_count": 19,
   "metadata": {},
   "outputs": [],
   "source": [
    "test_section.to_csv(\"test_dataset.csv\", sep='\\t')"
   ]
  },
  {
   "cell_type": "code",
   "execution_count": null,
   "metadata": {},
   "outputs": [],
   "source": []
  },
  {
   "cell_type": "markdown",
   "metadata": {},
   "source": [
    "## Evaluating summary bias using XLNet"
   ]
  },
  {
   "cell_type": "code",
   "execution_count": 4,
   "metadata": {},
   "outputs": [],
   "source": [
    "from transformers import TFXLNetForSequenceClassification, XLNetTokenizer"
   ]
  },
  {
   "cell_type": "code",
   "execution_count": 5,
   "metadata": {},
   "outputs": [],
   "source": [
    "from sklearn.preprocessing import LabelEncoder\n",
    "\n",
    "le = LabelEncoder()\n",
    "train_labels = np.asarray(le.fit_transform(train_section['label']))\n",
    "val_labels = np.asarray(le.transform(val_section['label']))"
   ]
  },
  {
   "cell_type": "code",
   "execution_count": 6,
   "metadata": {},
   "outputs": [
    {
     "data": {
      "application/vnd.jupyter.widget-view+json": {
       "model_id": "621c938b091346909525429628718a32",
       "version_major": 2,
       "version_minor": 0
      },
      "text/plain": [
       "Downloading:   0%|          | 0.00/798k [00:00<?, ?B/s]"
      ]
     },
     "metadata": {},
     "output_type": "display_data"
    },
    {
     "data": {
      "application/vnd.jupyter.widget-view+json": {
       "model_id": "74768603c44c4efaad75092f647f69b7",
       "version_major": 2,
       "version_minor": 0
      },
      "text/plain": [
       "Downloading:   0%|          | 0.00/1.38M [00:00<?, ?B/s]"
      ]
     },
     "metadata": {},
     "output_type": "display_data"
    }
   ],
   "source": [
    "tokenizer_transformer = XLNetTokenizer.from_pretrained('xlnet-large-cased')"
   ]
  },
  {
   "cell_type": "code",
   "execution_count": 7,
   "metadata": {},
   "outputs": [],
   "source": [
    "MAX_LEN = 512"
   ]
  },
  {
   "cell_type": "code",
   "execution_count": 9,
   "metadata": {},
   "outputs": [],
   "source": [
    "\n",
    "def create_input_array(df, tokenizer, text):\n",
    "    sentences = df[text].values\n",
    "\n",
    "    input_ids = []\n",
    "    attention_masks = []\n",
    "    token_type_ids = []\n",
    "\n",
    "    for sent in sentences:\n",
    "        # `encode_plus` will:\n",
    "        #   (1) Tokenize the sentence.\n",
    "        #   (2) Prepend the `[CLS]` token to the start.\n",
    "        #   (3) Append the `[SEP]` token to the end.\n",
    "        #   (4) Map tokens to their IDs.\n",
    "        #   (5) Pad or truncate the sentence to `max_length`\n",
    "        #   (6) Create attention masks for [PAD] tokens.\n",
    "        encoded_dict = tokenizer.encode_plus(\n",
    "            sent,  # Sentence to encode.\n",
    "            add_special_tokens=True,  # Add '[CLS]' and '[SEP]'\n",
    "            max_length=MAX_LEN,  # Pad & truncate all sentences.\n",
    "                pad_to_max_length=True,\n",
    "                return_attention_mask=True,  # Construct attn. masks.\n",
    "                return_tensors='tf',  # Return tf tensors.\n",
    "            )\n",
    "\n",
    "        # Add the encoded sentence to the list.\n",
    "        input_ids.append(encoded_dict['input_ids'])\n",
    "\n",
    "        # And its attention mask (simply differentiates padding from non-padding).\n",
    "        attention_masks.append(encoded_dict['attention_mask'])\n",
    "\n",
    "        token_type_ids.append(encoded_dict['token_type_ids'])\n",
    "\n",
    "    input_ids = tf.convert_to_tensor(input_ids)\n",
    "    attention_masks = tf.convert_to_tensor(attention_masks)\n",
    "    token_type_ids = tf.convert_to_tensor(token_type_ids)\n",
    "\n",
    "\n",
    "    return input_ids, attention_masks, token_type_ids\n",
    "#     return input_ids, attention_masks\n",
    "\n"
   ]
  },
  {
   "cell_type": "code",
   "execution_count": 10,
   "metadata": {},
   "outputs": [],
   "source": [
    "def convert_inputs_to_tf_dataset(inputs):\n",
    "    # args.max_seq_len = 256\n",
    "    ids = inputs[0][0]\n",
    "    masks = inputs[0][1]\n",
    "    token_types = inputs[0][2]\n",
    "\n",
    "    ids = tf.reshape(ids, (-1, MAX_LEN))\n",
    "    print(\"Input ids shape: \", ids.shape)\n",
    "    masks = tf.reshape(masks, (-1, MAX_LEN))\n",
    "    print(\"Input Masks shape: \", masks.shape)\n",
    "    token_types = tf.reshape(token_types, (-1, MAX_LEN))\n",
    "    print(\"Token type ids shape: \", token_types.shape)\n",
    "\n",
    "    ids=ids.numpy()\n",
    "    masks = masks.numpy()\n",
    "    token_types = token_types.numpy()\n",
    "#     return[ids]\n",
    "#     return [ids, masks, token_types]\n",
    "    return [ids, masks]"
   ]
  },
  {
   "cell_type": "code",
   "execution_count": 13,
   "metadata": {},
   "outputs": [
    {
     "name": "stderr",
     "output_type": "stream",
     "text": [
      "All model checkpoint layers were used when initializing TFXLNetForSequenceClassification.\n",
      "\n",
      "All the layers of TFXLNetForSequenceClassification were initialized from the model checkpoint at data/experiments/BinaryXLNetmodels.\n",
      "If your task is similar to the task the model of the checkpoint was trained on, you can already use TFXLNetForSequenceClassification for predictions without further training.\n"
     ]
    }
   ],
   "source": [
    "model = TFXLNetForSequenceClassification.from_pretrained(\"data/experiments/BinaryXLNetmodels\", num_labels=len(np.unique(train_labels)))\n",
    "loss = tf.keras.losses.SparseCategoricalCrossentropy(from_logits=True)\n",
    "metric = tf.keras.metrics.SparseCategoricalAccuracy('accuracy')\n",
    "optimizer = tf.keras.optimizers.Adam(learning_rate=2e-07, epsilon=1e-08)\n",
    "\n",
    "model.compile(optimizer=optimizer, loss=loss, metrics=[metric])"
   ]
  },
  {
   "cell_type": "code",
   "execution_count": 14,
   "metadata": {},
   "outputs": [
    {
     "name": "stdout",
     "output_type": "stream",
     "text": [
      "Model: \"tfxl_net_for_sequence_classification\"\n",
      "_________________________________________________________________\n",
      "Layer (type)                 Output Shape              Param #   \n",
      "=================================================================\n",
      "transformer (TFXLNetMainLaye multiple                  360268800 \n",
      "_________________________________________________________________\n",
      "sequence_summary (TFSequence multiple                  1049600   \n",
      "_________________________________________________________________\n",
      "logits_proj (Dense)          multiple                  2050      \n",
      "=================================================================\n",
      "Total params: 361,320,450\n",
      "Trainable params: 361,320,450\n",
      "Non-trainable params: 0\n",
      "_________________________________________________________________\n"
     ]
    }
   ],
   "source": [
    "model.summary()"
   ]
  },
  {
   "cell_type": "code",
   "execution_count": null,
   "metadata": {},
   "outputs": [],
   "source": []
  },
  {
   "cell_type": "markdown",
   "metadata": {},
   "source": [
    "## Predicting T5 Summary Labels"
   ]
  },
  {
   "cell_type": "code",
   "execution_count": 66,
   "metadata": {},
   "outputs": [
    {
     "data": {
      "text/plain": [
       "0    gop's ken cuccinelli has been downplaying his ...\n",
       "1    president obama unveiled legislative proposals...\n",
       "2    david frum: obama's second term will be silly,...\n",
       "3    republicans have made the mountain west a stro...\n",
       "4    president obama is noticeably quicker to speak...\n",
       "Name: t5_summaries, dtype: object"
      ]
     },
     "execution_count": 66,
     "metadata": {},
     "output_type": "execute_result"
    }
   ],
   "source": [
    "test_section[\"t5_summaries\"].head()"
   ]
  },
  {
   "cell_type": "code",
   "execution_count": 55,
   "metadata": {},
   "outputs": [
    {
     "name": "stdout",
     "output_type": "stream",
     "text": [
      "Input ids shape:  (110, 512)\n",
      "Input Masks shape:  (110, 512)\n",
      "Token type ids shape:  (110, 512)\n"
     ]
    },
    {
     "name": "stderr",
     "output_type": "stream",
     "text": [
      "/usr/local/lib/python3.8/dist-packages/transformers/tokenization_utils_base.py:2068: FutureWarning: The `pad_to_max_length` argument is deprecated and will be removed in a future version, use `padding=True` or `padding='longest'` to pad to the longest sequence in the batch, or use `padding='max_length'` to pad to a max length. In this case, you can give a specific length with `max_length` (e.g. `max_length=45`) or leave max_length to None to pad to the maximal input size of the model (e.g. 512 for Bert).\n",
      "  warnings.warn(\n"
     ]
    }
   ],
   "source": [
    "test_labels = np.asarray(le.transform(test_section['label']))\n",
    "test_inputs = [create_input_array(test_section, tokenizer=tokenizer_transformer, text = \"t5_summaries\")]\n",
    "test_data = convert_inputs_to_tf_dataset(test_inputs)"
   ]
  },
  {
   "cell_type": "code",
   "execution_count": 56,
   "metadata": {},
   "outputs": [],
   "source": [
    "test_probs = model.predict(test_data, batch_size= 1, verbose=0)"
   ]
  },
  {
   "cell_type": "code",
   "execution_count": 57,
   "metadata": {},
   "outputs": [],
   "source": [
    "test_probs = test_probs[\"logits\"]"
   ]
  },
  {
   "cell_type": "code",
   "execution_count": 58,
   "metadata": {},
   "outputs": [],
   "source": [
    "test_classes = np.argmax(test_probs, axis = 1)"
   ]
  },
  {
   "cell_type": "code",
   "execution_count": 59,
   "metadata": {},
   "outputs": [
    {
     "data": {
      "text/plain": [
       "array([0, 0, 0, 0, 0, 0, 1, 0, 1, 1, 0, 1, 0, 0, 0, 1, 1, 1, 1, 0, 1, 1,\n",
       "       1, 1, 1, 1, 0, 1, 1, 1, 1, 1, 1, 1, 1, 1, 1, 0, 1, 1, 1, 1, 1, 1,\n",
       "       1, 1, 0, 0, 1, 1, 1, 0, 0, 1, 1, 0, 1, 1, 1, 0, 1, 1, 1, 1, 0, 1,\n",
       "       0, 0, 0, 1, 1, 1, 0, 1, 1, 1, 1, 1, 1, 1, 1, 1, 1, 0, 1, 1, 1, 1,\n",
       "       1, 1, 1, 0, 0, 0, 1, 1, 1, 1, 1, 1, 1, 1, 1, 0, 0, 1, 0, 0, 1, 1])"
      ]
     },
     "execution_count": 59,
     "metadata": {},
     "output_type": "execute_result"
    }
   ],
   "source": [
    "# t5 summaries\n",
    "test_classes"
   ]
  },
  {
   "cell_type": "code",
   "execution_count": 60,
   "metadata": {},
   "outputs": [
    {
     "data": {
      "text/plain": [
       "array([0, 1, 0, 0, 0, 1, 0, 0, 0, 1, 0, 0, 1, 0, 0, 0, 0, 0, 0, 1, 1, 0,\n",
       "       1, 1, 0, 0, 0, 1, 1, 0, 0, 1, 1, 1, 1, 1, 1, 1, 0, 1, 1, 1, 1, 1,\n",
       "       1, 1, 1, 0, 1, 1, 0, 0, 0, 1, 1, 1, 0, 1, 1, 0, 0, 1, 1, 0, 0, 0,\n",
       "       1, 0, 0, 1, 0, 1, 0, 1, 0, 1, 1, 1, 1, 1, 1, 1, 0, 0, 1, 1, 1, 1,\n",
       "       1, 1, 1, 0, 0, 1, 1, 1, 1, 1, 1, 0, 1, 0, 1, 0, 0, 0, 1, 0, 1, 0])"
      ]
     },
     "execution_count": 60,
     "metadata": {},
     "output_type": "execute_result"
    }
   ],
   "source": [
    "test_labels"
   ]
  },
  {
   "cell_type": "code",
   "execution_count": 61,
   "metadata": {},
   "outputs": [
    {
     "name": "stdout",
     "output_type": "stream",
     "text": [
      "Test accuracy:\n",
      "0.6818181818181818\n"
     ]
    }
   ],
   "source": [
    "c=0\n",
    "for i in range(test_classes.shape[0]):\n",
    "    if test_classes[i]==test_labels[i]:\n",
    "        c+=1\n",
    "print(\"Test accuracy:\")\n",
    "print(c/test_labels.shape[0])"
   ]
  },
  {
   "cell_type": "code",
   "execution_count": 62,
   "metadata": {},
   "outputs": [],
   "source": [
    "from sklearn.metrics import accuracy_score\n",
    "from sklearn.metrics import precision_score\n",
    "from sklearn.metrics import recall_score\n",
    "from sklearn.metrics import f1_score\n",
    "from sklearn.metrics import cohen_kappa_score\n",
    "from sklearn.metrics import roc_auc_score\n",
    "from sklearn.metrics import confusion_matrix"
   ]
  },
  {
   "cell_type": "code",
   "execution_count": 63,
   "metadata": {},
   "outputs": [
    {
     "name": "stdout",
     "output_type": "stream",
     "text": [
      "Accuracy: 0.681818\n",
      "Precision: 0.675325\n",
      "Recall: 0.838710\n",
      "F1 score: 0.748201\n"
     ]
    }
   ],
   "source": [
    "# accuracy: (tp + tn) / (p + n)\n",
    "t5accuracy = accuracy_score(test_labels, test_classes)\n",
    "print('Accuracy: %f' % t5accuracy)\n",
    "# precision tp / (tp + fp)\n",
    "t5precision = precision_score(test_labels, test_classes)\n",
    "print('Precision: %f' % t5precision)\n",
    "# recall: tp / (tp + fn)\n",
    "t5recall = recall_score(test_labels, test_classes)\n",
    "print('Recall: %f' % t5recall)\n",
    "# f1: 2 tp / (2 tp + fp + fn)\n",
    "t5f1 = f1_score(test_labels, test_classes)\n",
    "print('F1 score: %f' % t5f1)\n",
    " "
   ]
  },
  {
   "cell_type": "code",
   "execution_count": 64,
   "metadata": {},
   "outputs": [],
   "source": [
    "t5metrics = [t5accuracy, t5precision, t5recall, t5f1]"
   ]
  },
  {
   "cell_type": "markdown",
   "metadata": {},
   "source": [
    "## Predicting Pegasus Summary Labels"
   ]
  },
  {
   "cell_type": "code",
   "execution_count": 65,
   "metadata": {},
   "outputs": [
    {
     "data": {
      "text/plain": [
       "0    The Republican Party in Virginia is trying to ...\n",
       "1    In the wake of last week's school shooting in ...\n",
       "2    The president of the United States of America,...\n",
       "3    In the mountains of western virginia, republic...\n",
       "4    With less than two weeks to go before American...\n",
       "Name: pegasus_summaries, dtype: object"
      ]
     },
     "execution_count": 65,
     "metadata": {},
     "output_type": "execute_result"
    }
   ],
   "source": [
    "test_section[\"pegasus_summaries\"].head()"
   ]
  },
  {
   "cell_type": "code",
   "execution_count": 67,
   "metadata": {},
   "outputs": [
    {
     "name": "stdout",
     "output_type": "stream",
     "text": [
      "Input ids shape:  (110, 512)\n",
      "Input Masks shape:  (110, 512)\n",
      "Token type ids shape:  (110, 512)\n"
     ]
    },
    {
     "name": "stderr",
     "output_type": "stream",
     "text": [
      "/usr/local/lib/python3.8/dist-packages/transformers/tokenization_utils_base.py:2068: FutureWarning: The `pad_to_max_length` argument is deprecated and will be removed in a future version, use `padding=True` or `padding='longest'` to pad to the longest sequence in the batch, or use `padding='max_length'` to pad to a max length. In this case, you can give a specific length with `max_length` (e.g. `max_length=45`) or leave max_length to None to pad to the maximal input size of the model (e.g. 512 for Bert).\n",
      "  warnings.warn(\n"
     ]
    }
   ],
   "source": [
    "test_labels = np.asarray(le.transform(test_section['label']))\n",
    "test_inputs = [create_input_array(test_section, tokenizer=tokenizer_transformer, text = \"pegasus_summaries\")]\n",
    "test_data = convert_inputs_to_tf_dataset(test_inputs)"
   ]
  },
  {
   "cell_type": "code",
   "execution_count": 68,
   "metadata": {},
   "outputs": [],
   "source": [
    "test_probs = model.predict(test_data, batch_size= 1, verbose=0)"
   ]
  },
  {
   "cell_type": "code",
   "execution_count": 69,
   "metadata": {},
   "outputs": [],
   "source": [
    "test_probs = test_probs[\"logits\"]"
   ]
  },
  {
   "cell_type": "code",
   "execution_count": 70,
   "metadata": {},
   "outputs": [],
   "source": [
    "test_classes = np.argmax(test_probs, axis = 1)"
   ]
  },
  {
   "cell_type": "code",
   "execution_count": 71,
   "metadata": {},
   "outputs": [
    {
     "data": {
      "text/plain": [
       "array([0, 1, 1, 0, 0, 1, 1, 1, 1, 1, 0, 0, 1, 1, 1, 0, 0, 1, 0, 1, 1, 1,\n",
       "       1, 1, 1, 1, 1, 1, 1, 0, 0, 1, 1, 1, 1, 1, 1, 1, 1, 1, 1, 1, 1, 1,\n",
       "       1, 1, 1, 0, 1, 1, 1, 1, 1, 1, 1, 1, 0, 1, 1, 0, 1, 1, 1, 1, 1, 1,\n",
       "       1, 1, 1, 1, 1, 1, 0, 1, 1, 1, 1, 1, 1, 1, 1, 1, 0, 0, 1, 1, 1, 1,\n",
       "       1, 1, 1, 0, 0, 1, 1, 1, 1, 0, 1, 1, 1, 1, 1, 1, 1, 1, 1, 1, 1, 0])"
      ]
     },
     "execution_count": 71,
     "metadata": {},
     "output_type": "execute_result"
    }
   ],
   "source": [
    "test_classes"
   ]
  },
  {
   "cell_type": "code",
   "execution_count": 73,
   "metadata": {},
   "outputs": [
    {
     "data": {
      "text/plain": [
       "array([0, 1, 0, 0, 0, 1, 0, 0, 0, 1, 0, 0, 1, 0, 0, 0, 0, 0, 0, 1, 1, 0,\n",
       "       1, 1, 0, 0, 0, 1, 1, 0, 0, 1, 1, 1, 1, 1, 1, 1, 0, 1, 1, 1, 1, 1,\n",
       "       1, 1, 1, 0, 1, 1, 0, 0, 0, 1, 1, 1, 0, 1, 1, 0, 0, 1, 1, 0, 0, 0,\n",
       "       1, 0, 0, 1, 0, 1, 0, 1, 0, 1, 1, 1, 1, 1, 1, 1, 0, 0, 1, 1, 1, 1,\n",
       "       1, 1, 1, 0, 0, 1, 1, 1, 1, 1, 1, 0, 1, 0, 1, 0, 0, 0, 1, 0, 1, 0])"
      ]
     },
     "execution_count": 73,
     "metadata": {},
     "output_type": "execute_result"
    }
   ],
   "source": [
    "test_labels"
   ]
  },
  {
   "cell_type": "code",
   "execution_count": 74,
   "metadata": {},
   "outputs": [
    {
     "name": "stdout",
     "output_type": "stream",
     "text": [
      "Test accuracy:\n",
      "0.7272727272727273\n"
     ]
    }
   ],
   "source": [
    "c=0\n",
    "for i in range(test_classes.shape[0]):\n",
    "    if test_classes[i]==test_labels[i]:\n",
    "        c+=1\n",
    "print(\"Test accuracy:\")\n",
    "print(c/test_labels.shape[0])"
   ]
  },
  {
   "cell_type": "code",
   "execution_count": 75,
   "metadata": {},
   "outputs": [
    {
     "name": "stdout",
     "output_type": "stream",
     "text": [
      "Accuracy: 0.727273\n",
      "Precision: 0.677778\n",
      "Recall: 0.983871\n",
      "F1 score: 0.802632\n"
     ]
    }
   ],
   "source": [
    "# accuracy: (tp + tn) / (p + n)\n",
    "pegasusaccuracy = accuracy_score(test_labels, test_classes)\n",
    "print('Accuracy: %f' % pegasusaccuracy)\n",
    "# precision tp / (tp + fp)\n",
    "pegasusprecision = precision_score(test_labels, test_classes)\n",
    "print('Precision: %f' % pegasusprecision)\n",
    "# recall: tp / (tp + fn)\n",
    "pegasusrecall = recall_score(test_labels, test_classes)\n",
    "print('Recall: %f' % pegasusrecall)\n",
    "# f1: 2 tp / (2 tp + fp + fn)\n",
    "pegasusf1 = f1_score(test_labels, test_classes)\n",
    "print('F1 score: %f' % pegasusf1)\n",
    " "
   ]
  },
  {
   "cell_type": "code",
   "execution_count": 76,
   "metadata": {},
   "outputs": [],
   "source": [
    "pegasusmetrics = [pegasusaccuracy, pegasusprecision, pegasusrecall, pegasusf1]"
   ]
  },
  {
   "cell_type": "markdown",
   "metadata": {},
   "source": [
    "## Double checking our loaded model is the correct model"
   ]
  },
  {
   "cell_type": "code",
   "execution_count": 34,
   "metadata": {},
   "outputs": [
    {
     "name": "stderr",
     "output_type": "stream",
     "text": [
      "/usr/local/lib/python3.8/dist-packages/transformers/tokenization_utils_base.py:2068: FutureWarning: The `pad_to_max_length` argument is deprecated and will be removed in a future version, use `padding=True` or `padding='longest'` to pad to the longest sequence in the batch, or use `padding='max_length'` to pad to a max length. In this case, you can give a specific length with `max_length` (e.g. `max_length=45`) or leave max_length to None to pad to the maximal input size of the model (e.g. 512 for Bert).\n",
      "  warnings.warn(\n"
     ]
    },
    {
     "name": "stdout",
     "output_type": "stream",
     "text": [
      "Input ids shape:  (110, 512)\n",
      "Input Masks shape:  (110, 512)\n",
      "Token type ids shape:  (110, 512)\n"
     ]
    }
   ],
   "source": [
    "test_labels = np.asarray(le.transform(test_section['label']))\n",
    "test_inputs = [create_input_array(test_section, tokenizer=tokenizer_transformer, text = \"text\")]\n",
    "test_data = convert_inputs_to_tf_dataset(test_inputs)\n",
    "\n",
    "test_probs = model.predict(test_data, batch_size= 1, verbose=0)"
   ]
  },
  {
   "cell_type": "code",
   "execution_count": 35,
   "metadata": {},
   "outputs": [],
   "source": [
    "test_probs = test_probs[\"logits\"]"
   ]
  },
  {
   "cell_type": "code",
   "execution_count": 36,
   "metadata": {},
   "outputs": [],
   "source": [
    "test_classes = np.argmax(test_probs, axis = 1)"
   ]
  },
  {
   "cell_type": "code",
   "execution_count": 37,
   "metadata": {},
   "outputs": [
    {
     "data": {
      "text/plain": [
       "array([0, 0, 0, 0, 0, 0, 0, 0, 0, 0, 0, 1, 1, 0, 0, 0, 1, 0, 1, 1, 1, 1,\n",
       "       1, 1, 1, 1, 0, 1, 1, 0, 0, 1, 1, 1, 1, 1, 1, 1, 0, 1, 1, 1, 1, 1,\n",
       "       1, 1, 1, 0, 1, 1, 1, 1, 0, 1, 1, 0, 0, 1, 1, 0, 0, 1, 1, 1, 0, 0,\n",
       "       1, 0, 0, 0, 0, 1, 0, 1, 1, 1, 1, 1, 1, 1, 1, 1, 0, 0, 1, 1, 1, 1,\n",
       "       1, 1, 0, 0, 0, 0, 1, 1, 1, 1, 1, 0, 1, 1, 1, 1, 0, 0, 0, 1, 1, 0])"
      ]
     },
     "execution_count": 37,
     "metadata": {},
     "output_type": "execute_result"
    }
   ],
   "source": [
    "test_classes"
   ]
  },
  {
   "cell_type": "code",
   "execution_count": 45,
   "metadata": {},
   "outputs": [
    {
     "data": {
      "text/plain": [
       "array([ True,  True,  True,  True,  True,  True,  True,  True,  True,\n",
       "        True,  True,  True,  True,  True,  True,  True,  True,  True,\n",
       "        True,  True,  True,  True,  True,  True,  True,  True,  True,\n",
       "        True,  True,  True,  True,  True,  True,  True,  True,  True,\n",
       "        True,  True,  True,  True,  True,  True,  True,  True,  True,\n",
       "        True,  True,  True,  True,  True,  True,  True,  True,  True,\n",
       "        True,  True,  True,  True,  True,  True,  True,  True,  True,\n",
       "        True,  True,  True,  True,  True,  True,  True,  True,  True,\n",
       "        True,  True,  True,  True,  True,  True,  True,  True,  True,\n",
       "        True,  True,  True,  True,  True,  True,  True,  True,  True,\n",
       "        True,  True,  True,  True,  True,  True,  True,  True,  True,\n",
       "        True,  True,  True,  True,  True,  True,  True,  True,  True,\n",
       "        True,  True])"
      ]
     },
     "execution_count": 45,
     "metadata": {},
     "output_type": "execute_result"
    }
   ],
   "source": [
    "test_classes == list(test_section[\"XLNet\"])"
   ]
  },
  {
   "cell_type": "code",
   "execution_count": null,
   "metadata": {},
   "outputs": [],
   "source": []
  },
  {
   "cell_type": "code",
   "execution_count": null,
   "metadata": {},
   "outputs": [],
   "source": []
  },
  {
   "cell_type": "markdown",
   "metadata": {},
   "source": [
    "## TF-IDF Label Prediction"
   ]
  },
  {
   "cell_type": "code",
   "execution_count": 77,
   "metadata": {},
   "outputs": [
    {
     "name": "stderr",
     "output_type": "stream",
     "text": [
      "[nltk_data] Downloading package stopwords to /root/nltk_data...\n",
      "[nltk_data]   Package stopwords is already up-to-date!\n",
      "[nltk_data] Downloading package punkt to /root/nltk_data...\n",
      "[nltk_data]   Package punkt is already up-to-date!\n"
     ]
    },
    {
     "data": {
      "text/plain": [
       "True"
      ]
     },
     "execution_count": 77,
     "metadata": {},
     "output_type": "execute_result"
    }
   ],
   "source": [
    "from nltk.corpus import stopwords\n",
    "from nltk.tokenize import word_tokenize\n",
    "from nltk.stem import PorterStemmer\n",
    "from collections import Counter\n",
    "from num2words import num2words\n",
    "\n",
    "import nltk\n",
    "nltk.download('stopwords')\n",
    "nltk.download('punkt')"
   ]
  },
  {
   "cell_type": "code",
   "execution_count": 78,
   "metadata": {},
   "outputs": [],
   "source": [
    "# tf-idf processing from https://github.com/williamscott701/Information-Retrieval/blob/master/2.%20TF-IDF%20Ranking%20-%20Cosine%20Similarity%2C%20Matching%20Score/TF-IDF.ipynb\n",
    "\n",
    "def remove_stop_words(data):\n",
    "    stop_words = stopwords.words('english')\n",
    "    words = word_tokenize(str(data))\n",
    "    new_text = \"\"\n",
    "    for w in words:\n",
    "        if w not in stop_words and len(w) > 1:\n",
    "            new_text = new_text + \" \" + w\n",
    "    return new_text\n",
    "\n",
    "\n",
    "def remove_punctuation(data):\n",
    "    symbols = \"!\\\"#$%&()*+-./:;<=>?@[\\]^_`{|}~\\n\"\n",
    "    for i in range(len(symbols)):\n",
    "        data = np.char.replace(data, symbols[i], ' ')\n",
    "        data = np.char.replace(data, \"  \", \" \")\n",
    "    data = np.char.replace(data, ',', '')\n",
    "    return data\n",
    "\n",
    "def remove_apostrophe(data):\n",
    "    return np.char.replace(data, \"'\", \"\")\n",
    "\n",
    "\n",
    "def stemming(data):\n",
    "    stemmer= PorterStemmer()\n",
    "    \n",
    "    tokens = word_tokenize(str(data))\n",
    "    new_text = \"\"\n",
    "    for w in tokens:\n",
    "        new_text = new_text + \" \" + stemmer.stem(w)\n",
    "    return new_text\n",
    "\n",
    "\n",
    "def convert_numbers(data):\n",
    "    tokens = word_tokenize(str(data))\n",
    "    new_text = \"\"\n",
    "    for w in tokens:\n",
    "        try:\n",
    "            w = num2words(int(w))\n",
    "        except:\n",
    "            a = 0\n",
    "        new_text = new_text + \" \" + w\n",
    "    new_text = np.char.replace(new_text, \"-\", \" \")\n",
    "    return new_text\n",
    "\n",
    "\n",
    "def preprocess(data):\n",
    "    data = remove_punctuation(data) #remove comma seperately\n",
    "    data = remove_apostrophe(data)\n",
    "#     data = remove_stop_words(data)\n",
    "    data = convert_numbers(data)\n",
    "    data = stemming(data)\n",
    "    data = remove_punctuation(data)\n",
    "    data = convert_numbers(data)\n",
    "    data = stemming(data) #needed again as we need to stem the words\n",
    "    data = remove_punctuation(data) #needed again as num2word is giving few hypens and commas fourty-one\n",
    "    data = remove_stop_words(data) #needed again as num2word is giving stop words 101 - one hundred and one\n",
    "    return data"
   ]
  },
  {
   "cell_type": "code",
   "execution_count": 79,
   "metadata": {},
   "outputs": [],
   "source": [
    "train_dataset = list(train_section[\"text\"])\n",
    "val_dataset = list(val_section[\"text\"])\n",
    "test_dataset = list(test_section[\"text\"])\n"
   ]
  },
  {
   "cell_type": "code",
   "execution_count": 80,
   "metadata": {},
   "outputs": [],
   "source": [
    "def process(dataset):\n",
    "    processed_text = []\n",
    "    for i in dataset:\n",
    "#         processed_text.append(word_tokenize(str(preprocess(i))))\n",
    "        processed_text.append(str(preprocess(i)))\n",
    "    return processed_text\n"
   ]
  },
  {
   "cell_type": "code",
   "execution_count": 81,
   "metadata": {},
   "outputs": [],
   "source": [
    "train_dataset = process(train_dataset)\n",
    "val_dataset = process(val_dataset)\n",
    "test_dataset = process(test_dataset)"
   ]
  },
  {
   "cell_type": "code",
   "execution_count": 82,
   "metadata": {},
   "outputs": [],
   "source": [
    "# tf-idf from https://stackabuse.com/text-classification-with-python-and-scikit-learn/\n",
    "from sklearn.feature_extraction.text import CountVectorizer\n",
    "\n",
    "vectorizer = CountVectorizer(max_features=1500, min_df=5, max_df=0.7, stop_words=stopwords.words('english'))\n",
    "trainX = vectorizer.fit_transform(train_dataset).toarray()\n",
    "valX = vectorizer.transform(val_dataset).toarray()\n",
    "testX = vectorizer.transform(test_dataset).toarray()"
   ]
  },
  {
   "cell_type": "code",
   "execution_count": 83,
   "metadata": {},
   "outputs": [],
   "source": [
    "from sklearn.feature_extraction.text import TfidfTransformer\n",
    "tfidfconverter = TfidfTransformer()\n",
    "trainX = tfidfconverter.fit_transform(trainX).toarray()\n",
    "valX = tfidfconverter.transform(valX).toarray()\n",
    "testX = tfidfconverter.transform(testX).toarray()"
   ]
  },
  {
   "cell_type": "code",
   "execution_count": null,
   "metadata": {},
   "outputs": [],
   "source": [
    "\n",
    "# train_labels = np.asarray(le.transform(train_section['label']))\n",
    "# val_labels = np.asarray(le.transform(val_section['label']))\n",
    "# test_labels = np.asarray(le.transform(test_section['label']))"
   ]
  },
  {
   "cell_type": "code",
   "execution_count": 84,
   "metadata": {},
   "outputs": [
    {
     "data": {
      "text/plain": [
       "RandomForestClassifier(n_estimators=1000, random_state=0)"
      ]
     },
     "execution_count": 84,
     "metadata": {},
     "output_type": "execute_result"
    }
   ],
   "source": [
    "from sklearn.ensemble import RandomForestClassifier\n",
    "\n",
    "classifier = RandomForestClassifier(n_estimators=1000, random_state=0)\n",
    "classifier.fit(trainX, train_labels) "
   ]
  },
  {
   "cell_type": "code",
   "execution_count": 85,
   "metadata": {},
   "outputs": [
    {
     "data": {
      "text/plain": [
       "array([0, 0, 0, 0, 0, 1, 0, 0, 0, 0, 0, 0, 1, 0, 0, 0, 1, 0, 0, 1, 0, 1,\n",
       "       1, 1, 0, 1, 0, 1, 1, 0, 0, 1, 1, 1, 0, 0, 1, 0, 0, 1, 1, 1, 1, 1,\n",
       "       1, 1, 1, 0, 1, 1, 1, 0, 1, 1, 1, 0, 0, 0, 0, 0, 0, 1, 1, 1, 1, 0,\n",
       "       0, 0, 0, 0, 0, 1, 0, 1, 1, 1, 1, 1, 1, 1, 1, 1, 0, 0, 1, 1, 1, 0,\n",
       "       1, 1, 1, 0, 0, 0, 1, 1, 0, 0, 1, 0, 1, 0, 1, 0, 0, 0, 0, 1, 1, 0])"
      ]
     },
     "execution_count": 85,
     "metadata": {},
     "output_type": "execute_result"
    }
   ],
   "source": [
    "y_pred = classifier.predict(testX)\n",
    "y_pred"
   ]
  },
  {
   "cell_type": "markdown",
   "metadata": {},
   "source": [
    "#### TF-IDF T5 Summary Label Prediction"
   ]
  },
  {
   "cell_type": "code",
   "execution_count": 87,
   "metadata": {},
   "outputs": [
    {
     "data": {
      "text/plain": [
       "0    gop's ken cuccinelli has been downplaying his ...\n",
       "1    president obama unveiled legislative proposals...\n",
       "2    david frum: obama's second term will be silly,...\n",
       "3    republicans have made the mountain west a stro...\n",
       "4    president obama is noticeably quicker to speak...\n",
       "Name: t5_summaries, dtype: object"
      ]
     },
     "execution_count": 87,
     "metadata": {},
     "output_type": "execute_result"
    }
   ],
   "source": [
    "test_section[\"t5_summaries\"].head()"
   ]
  },
  {
   "cell_type": "code",
   "execution_count": 92,
   "metadata": {},
   "outputs": [],
   "source": [
    "t5_summary_dataset = process(list(test_section[\"t5_summaries\"]))\n",
    "t5_summary_dataset = vectorizer.transform(t5_summary_dataset).toarray()\n",
    "t5_summary_dataset = tfidfconverter.transform(t5_summary_dataset).toarray()"
   ]
  },
  {
   "cell_type": "code",
   "execution_count": 93,
   "metadata": {},
   "outputs": [
    {
     "data": {
      "text/plain": [
       "array([0, 1, 0, 0, 1, 1, 1, 1, 1, 1, 0, 1, 1, 0, 1, 1, 1, 1, 1, 0, 1, 1,\n",
       "       1, 1, 1, 1, 0, 1, 1, 1, 1, 1, 1, 1, 1, 1, 1, 1, 1, 1, 1, 1, 1, 1,\n",
       "       1, 1, 1, 1, 1, 1, 1, 1, 0, 1, 1, 0, 1, 1, 1, 0, 1, 1, 1, 1, 1, 0,\n",
       "       1, 1, 0, 1, 1, 1, 0, 1, 1, 1, 1, 1, 1, 1, 1, 1, 1, 0, 1, 1, 1, 1,\n",
       "       1, 1, 1, 0, 0, 1, 1, 1, 1, 1, 1, 1, 1, 1, 1, 1, 0, 1, 0, 1, 1, 1])"
      ]
     },
     "execution_count": 93,
     "metadata": {},
     "output_type": "execute_result"
    }
   ],
   "source": [
    "t5_pred = classifier.predict(t5_summary_dataset)\n",
    "t5_pred"
   ]
  },
  {
   "cell_type": "code",
   "execution_count": null,
   "metadata": {},
   "outputs": [],
   "source": []
  },
  {
   "cell_type": "markdown",
   "metadata": {},
   "source": [
    "#### TF-IDF Pegasus Summary Label Prediction"
   ]
  },
  {
   "cell_type": "code",
   "execution_count": 98,
   "metadata": {},
   "outputs": [
    {
     "data": {
      "text/plain": [
       "0    The Republican Party in Virginia is trying to ...\n",
       "1    In the wake of last week's school shooting in ...\n",
       "2    The president of the United States of America,...\n",
       "3    In the mountains of western virginia, republic...\n",
       "4    With less than two weeks to go before American...\n",
       "Name: pegasus_summaries, dtype: object"
      ]
     },
     "execution_count": 98,
     "metadata": {},
     "output_type": "execute_result"
    }
   ],
   "source": [
    "test_section[\"pegasus_summaries\"].head()"
   ]
  },
  {
   "cell_type": "code",
   "execution_count": 99,
   "metadata": {},
   "outputs": [],
   "source": [
    "pegasus_summary_dataset = process(list(test_section[\"pegasus_summaries\"]))\n",
    "pegasus_summary_dataset = vectorizer.transform(pegasus_summary_dataset).toarray()\n",
    "pegasus_summary_dataset = tfidfconverter.transform(pegasus_summary_dataset).toarray()"
   ]
  },
  {
   "cell_type": "code",
   "execution_count": 100,
   "metadata": {},
   "outputs": [
    {
     "data": {
      "text/plain": [
       "array([1, 1, 1, 0, 0, 1, 1, 1, 1, 1, 0, 1, 1, 1, 1, 1, 1, 1, 1, 1, 1, 1,\n",
       "       1, 1, 1, 1, 1, 1, 1, 1, 1, 1, 1, 1, 1, 1, 1, 1, 1, 1, 1, 1, 1, 1,\n",
       "       1, 1, 1, 1, 1, 1, 1, 1, 0, 1, 1, 0, 1, 1, 1, 1, 1, 1, 1, 1, 1, 1,\n",
       "       1, 0, 1, 1, 1, 1, 1, 1, 1, 1, 1, 1, 1, 1, 1, 1, 1, 0, 1, 1, 1, 1,\n",
       "       1, 1, 1, 0, 1, 1, 1, 1, 1, 1, 1, 1, 1, 1, 1, 1, 1, 1, 1, 1, 1, 1])"
      ]
     },
     "execution_count": 100,
     "metadata": {},
     "output_type": "execute_result"
    }
   ],
   "source": [
    "pegasus_pred = classifier.predict(pegasus_summary_dataset)\n",
    "pegasus_pred"
   ]
  },
  {
   "cell_type": "code",
   "execution_count": null,
   "metadata": {},
   "outputs": [],
   "source": []
  },
  {
   "cell_type": "code",
   "execution_count": null,
   "metadata": {},
   "outputs": [],
   "source": []
  },
  {
   "cell_type": "markdown",
   "metadata": {},
   "source": [
    "## Data Analysis"
   ]
  },
  {
   "cell_type": "code",
   "execution_count": 118,
   "metadata": {},
   "outputs": [],
   "source": [
    "t5_xlnet_predicted_labels = [0, 0, 0, 0, 0, 0, 1, 0, 1, 1, 0, 1, 0, 0, 0, 1, 1, 1, 1, 0, 1, 1,\n",
    "       1, 1, 1, 1, 0, 1, 1, 1, 1, 1, 1, 1, 1, 1, 1, 0, 1, 1, 1, 1, 1, 1,\n",
    "       1, 1, 0, 0, 1, 1, 1, 0, 0, 1, 1, 0, 1, 1, 1, 0, 1, 1, 1, 1, 0, 1,\n",
    "       0, 0, 0, 1, 1, 1, 0, 1, 1, 1, 1, 1, 1, 1, 1, 1, 1, 0, 1, 1, 1, 1,\n",
    "       1, 1, 1, 0, 0, 0, 1, 1, 1, 1, 1, 1, 1, 1, 1, 0, 0, 1, 0, 0, 1, 1]"
   ]
  },
  {
   "cell_type": "code",
   "execution_count": 119,
   "metadata": {},
   "outputs": [],
   "source": [
    "pegasus_xlnet_predicted_labels = [0, 1, 1, 0, 0, 1, 1, 1, 1, 1, 0, 0, 1, 1, 1, 0, 0, 1, 0, 1, 1, 1,\n",
    "       1, 1, 1, 1, 1, 1, 1, 0, 0, 1, 1, 1, 1, 1, 1, 1, 1, 1, 1, 1, 1, 1,\n",
    "       1, 1, 1, 0, 1, 1, 1, 1, 1, 1, 1, 1, 0, 1, 1, 0, 1, 1, 1, 1, 1, 1,\n",
    "       1, 1, 1, 1, 1, 1, 0, 1, 1, 1, 1, 1, 1, 1, 1, 1, 0, 0, 1, 1, 1, 1,\n",
    "       1, 1, 1, 0, 0, 1, 1, 1, 1, 0, 1, 1, 1, 1, 1, 1, 1, 1, 1, 1, 1, 0]"
   ]
  },
  {
   "cell_type": "code",
   "execution_count": 120,
   "metadata": {},
   "outputs": [],
   "source": [
    "text_xlnet_predicted_labels = test_section[\"XLNet\"]"
   ]
  },
  {
   "cell_type": "code",
   "execution_count": 121,
   "metadata": {},
   "outputs": [],
   "source": [
    "text_tfidf_predicted_labels = test_section[\"TFIDF\"]"
   ]
  },
  {
   "cell_type": "code",
   "execution_count": 122,
   "metadata": {},
   "outputs": [],
   "source": [
    "t5_tfidf_predicted_labels = [0, 1, 0, 0, 1, 1, 1, 1, 1, 1, 0, 1, 1, 0, 1, 1, 1, 1, 1, 0, 1, 1,\n",
    "       1, 1, 1, 1, 0, 1, 1, 1, 1, 1, 1, 1, 1, 1, 1, 1, 1, 1, 1, 1, 1, 1,\n",
    "       1, 1, 1, 1, 1, 1, 1, 1, 0, 1, 1, 0, 1, 1, 1, 0, 1, 1, 1, 1, 1, 0,\n",
    "       1, 1, 0, 1, 1, 1, 0, 1, 1, 1, 1, 1, 1, 1, 1, 1, 1, 0, 1, 1, 1, 1,\n",
    "       1, 1, 1, 0, 0, 1, 1, 1, 1, 1, 1, 1, 1, 1, 1, 1, 0, 1, 0, 1, 1, 1]"
   ]
  },
  {
   "cell_type": "code",
   "execution_count": 123,
   "metadata": {},
   "outputs": [],
   "source": [
    "pegasus_tfidf_predicted_labels = [1, 1, 1, 0, 0, 1, 1, 1, 1, 1, 0, 1, 1, 1, 1, 1, 1, 1, 1, 1, 1, 1,\n",
    "       1, 1, 1, 1, 1, 1, 1, 1, 1, 1, 1, 1, 1, 1, 1, 1, 1, 1, 1, 1, 1, 1,\n",
    "       1, 1, 1, 1, 1, 1, 1, 1, 0, 1, 1, 0, 1, 1, 1, 1, 1, 1, 1, 1, 1, 1,\n",
    "       1, 0, 1, 1, 1, 1, 1, 1, 1, 1, 1, 1, 1, 1, 1, 1, 1, 0, 1, 1, 1, 1,\n",
    "       1, 1, 1, 0, 1, 1, 1, 1, 1, 1, 1, 1, 1, 1, 1, 1, 1, 1, 1, 1, 1, 1]"
   ]
  },
  {
   "cell_type": "code",
   "execution_count": null,
   "metadata": {},
   "outputs": [],
   "source": []
  },
  {
   "cell_type": "code",
   "execution_count": 126,
   "metadata": {},
   "outputs": [],
   "source": [
    "predlist = [t5_xlnet_predicted_labels, \n",
    "            pegasus_xlnet_predicted_labels, \n",
    "            text_xlnet_predicted_labels, \n",
    "            t5_tfidf_predicted_labels, \n",
    "            pegasus_tfidf_predicted_labels,\n",
    "            text_tfidf_predicted_labels]"
   ]
  },
  {
   "cell_type": "code",
   "execution_count": 127,
   "metadata": {},
   "outputs": [],
   "source": [
    "namelist = [\"XLNet Pred. Labels (T5)\",\n",
    "           \"XLNet Pred. Labels (Pegasus)\",\n",
    "           \"XLNet Pred. Labels (Full Article)\",\n",
    "           \"TF-IDF Pred. Labels (T5)\",\n",
    "           \"TF-IDF Pred. Labels (Pegasus)\",\n",
    "           \"TF-IDF Pred. Labels (Full Article)\"]"
   ]
  },
  {
   "cell_type": "code",
   "execution_count": 128,
   "metadata": {},
   "outputs": [],
   "source": [
    "test_section['t5_xlnet_predicted_labels'] = t5_xlnet_predicted_labels\n",
    "test_section['pegasus_xlnet_predicted_labels'] = pegasus_xlnet_predicted_labels\n",
    "test_section['t5_tfidf_predicted_labels'] = t5_tfidf_predicted_labels\n",
    "test_section['pegasus_tfidf_predicted_labels'] = pegasus_tfidf_predicted_labels\n",
    "test_section.to_csv(\"test_dataset_final.csv\", sep='\\t')"
   ]
  },
  {
   "cell_type": "code",
   "execution_count": 129,
   "metadata": {},
   "outputs": [
    {
     "data": {
      "text/html": [
       "<div>\n",
       "<style scoped>\n",
       "    .dataframe tbody tr th:only-of-type {\n",
       "        vertical-align: middle;\n",
       "    }\n",
       "\n",
       "    .dataframe tbody tr th {\n",
       "        vertical-align: top;\n",
       "    }\n",
       "\n",
       "    .dataframe thead th {\n",
       "        text-align: right;\n",
       "    }\n",
       "</style>\n",
       "<table border=\"1\" class=\"dataframe\">\n",
       "  <thead>\n",
       "    <tr style=\"text-align: right;\">\n",
       "      <th></th>\n",
       "      <th>index</th>\n",
       "      <th>url</th>\n",
       "      <th>q3</th>\n",
       "      <th>perceived</th>\n",
       "      <th>primary.topic</th>\n",
       "      <th>secondary.topic</th>\n",
       "      <th>democrat.vote</th>\n",
       "      <th>republican.vote</th>\n",
       "      <th>article</th>\n",
       "      <th>length</th>\n",
       "      <th>...</th>\n",
       "      <th>BERT</th>\n",
       "      <th>RoBERTa</th>\n",
       "      <th>XLNet</th>\n",
       "      <th>ALBERT</th>\n",
       "      <th>encodedlabel</th>\n",
       "      <th>TFIDF</th>\n",
       "      <th>t5_xlnet_predicted_labels</th>\n",
       "      <th>pegasus_xlnet_predicted_labels</th>\n",
       "      <th>t5_tfidf_predicted_labels</th>\n",
       "      <th>pegasus_tfidf_predicted_labels</th>\n",
       "    </tr>\n",
       "  </thead>\n",
       "  <tbody>\n",
       "    <tr>\n",
       "      <th>0</th>\n",
       "      <td>7048</td>\n",
       "      <td>http://news.yahoo.com/virginia-republicans-pan...</td>\n",
       "      <td>News</td>\n",
       "      <td>1</td>\n",
       "      <td>Elections</td>\n",
       "      <td>Republican Scandals</td>\n",
       "      <td>SomewhatPositive</td>\n",
       "      <td>Negative</td>\n",
       "      <td>a minister who compared gays to pedophiles and...</td>\n",
       "      <td>600</td>\n",
       "      <td>...</td>\n",
       "      <td>0</td>\n",
       "      <td>0</td>\n",
       "      <td>0</td>\n",
       "      <td>0</td>\n",
       "      <td>0</td>\n",
       "      <td>0</td>\n",
       "      <td>0</td>\n",
       "      <td>0</td>\n",
       "      <td>0</td>\n",
       "      <td>1</td>\n",
       "    </tr>\n",
       "    <tr>\n",
       "      <th>1</th>\n",
       "      <td>2861</td>\n",
       "      <td>http://www.dailykos.com/story/2013/01/17/11796...</td>\n",
       "      <td>Opinion</td>\n",
       "      <td>0</td>\n",
       "      <td>Gun Rights Regulation</td>\n",
       "      <td>Gun Related Crimes</td>\n",
       "      <td>Neutral</td>\n",
       "      <td>Neutral</td>\n",
       "      <td>nra ad: are the president's kids more importan...</td>\n",
       "      <td>600</td>\n",
       "      <td>...</td>\n",
       "      <td>0</td>\n",
       "      <td>0</td>\n",
       "      <td>0</td>\n",
       "      <td>0</td>\n",
       "      <td>1</td>\n",
       "      <td>0</td>\n",
       "      <td>0</td>\n",
       "      <td>1</td>\n",
       "      <td>1</td>\n",
       "      <td>1</td>\n",
       "    </tr>\n",
       "    <tr>\n",
       "      <th>2</th>\n",
       "      <td>7023</td>\n",
       "      <td>http://www.washingtonpost.com/opinions/george-...</td>\n",
       "      <td>Opinion</td>\n",
       "      <td>0</td>\n",
       "      <td>International News</td>\n",
       "      <td>Gun Rights Regulation</td>\n",
       "      <td>Negative</td>\n",
       "      <td>Neutral</td>\n",
       "      <td>back to previous page obama hits a wall in ber...</td>\n",
       "      <td>600</td>\n",
       "      <td>...</td>\n",
       "      <td>0</td>\n",
       "      <td>0</td>\n",
       "      <td>0</td>\n",
       "      <td>0</td>\n",
       "      <td>0</td>\n",
       "      <td>0</td>\n",
       "      <td>0</td>\n",
       "      <td>1</td>\n",
       "      <td>0</td>\n",
       "      <td>1</td>\n",
       "    </tr>\n",
       "    <tr>\n",
       "      <th>3</th>\n",
       "      <td>8486</td>\n",
       "      <td>http://news.yahoo.com/gop-infighting-fierce-ev...</td>\n",
       "      <td>Opinion</td>\n",
       "      <td>0</td>\n",
       "      <td>Republican Scandals</td>\n",
       "      <td>None</td>\n",
       "      <td>SomewhatPositive</td>\n",
       "      <td>SomewhatNegative</td>\n",
       "      <td>montpelier, idaho (ap) — republicans have made...</td>\n",
       "      <td>600</td>\n",
       "      <td>...</td>\n",
       "      <td>0</td>\n",
       "      <td>0</td>\n",
       "      <td>0</td>\n",
       "      <td>1</td>\n",
       "      <td>0</td>\n",
       "      <td>0</td>\n",
       "      <td>0</td>\n",
       "      <td>0</td>\n",
       "      <td>0</td>\n",
       "      <td>0</td>\n",
       "    </tr>\n",
       "    <tr>\n",
       "      <th>4</th>\n",
       "      <td>9055</td>\n",
       "      <td>http://www.latimes.com/news/nationworld/nation...</td>\n",
       "      <td>News</td>\n",
       "      <td>1</td>\n",
       "      <td>Elections</td>\n",
       "      <td>None</td>\n",
       "      <td>Positive</td>\n",
       "      <td>Neutral</td>\n",
       "      <td>washington — finally unburdened by worries abo...</td>\n",
       "      <td>600</td>\n",
       "      <td>...</td>\n",
       "      <td>0</td>\n",
       "      <td>0</td>\n",
       "      <td>0</td>\n",
       "      <td>1</td>\n",
       "      <td>0</td>\n",
       "      <td>0</td>\n",
       "      <td>0</td>\n",
       "      <td>0</td>\n",
       "      <td>1</td>\n",
       "      <td>0</td>\n",
       "    </tr>\n",
       "  </tbody>\n",
       "</table>\n",
       "<p>5 rows × 27 columns</p>\n",
       "</div>"
      ],
      "text/plain": [
       "   index                                                url       q3  \\\n",
       "0   7048  http://news.yahoo.com/virginia-republicans-pan...     News   \n",
       "1   2861  http://www.dailykos.com/story/2013/01/17/11796...  Opinion   \n",
       "2   7023  http://www.washingtonpost.com/opinions/george-...  Opinion   \n",
       "3   8486  http://news.yahoo.com/gop-infighting-fierce-ev...  Opinion   \n",
       "4   9055  http://www.latimes.com/news/nationworld/nation...     News   \n",
       "\n",
       "   perceived          primary.topic        secondary.topic     democrat.vote  \\\n",
       "0          1              Elections    Republican Scandals  SomewhatPositive   \n",
       "1          0  Gun Rights Regulation     Gun Related Crimes           Neutral   \n",
       "2          0     International News  Gun Rights Regulation          Negative   \n",
       "3          0    Republican Scandals                   None  SomewhatPositive   \n",
       "4          1              Elections                   None          Positive   \n",
       "\n",
       "    republican.vote                                            article  \\\n",
       "0          Negative  a minister who compared gays to pedophiles and...   \n",
       "1           Neutral  nra ad: are the president's kids more importan...   \n",
       "2           Neutral  back to previous page obama hits a wall in ber...   \n",
       "3  SomewhatNegative  montpelier, idaho (ap) — republicans have made...   \n",
       "4           Neutral  washington — finally unburdened by worries abo...   \n",
       "\n",
       "   length  ...  BERT  RoBERTa XLNet  ALBERT  encodedlabel TFIDF  \\\n",
       "0     600  ...     0        0     0       0             0     0   \n",
       "1     600  ...     0        0     0       0             1     0   \n",
       "2     600  ...     0        0     0       0             0     0   \n",
       "3     600  ...     0        0     0       1             0     0   \n",
       "4     600  ...     0        0     0       1             0     0   \n",
       "\n",
       "  t5_xlnet_predicted_labels  pegasus_xlnet_predicted_labels  \\\n",
       "0                         0                               0   \n",
       "1                         0                               1   \n",
       "2                         0                               1   \n",
       "3                         0                               0   \n",
       "4                         0                               0   \n",
       "\n",
       "   t5_tfidf_predicted_labels  pegasus_tfidf_predicted_labels  \n",
       "0                          0                               1  \n",
       "1                          1                               1  \n",
       "2                          0                               1  \n",
       "3                          0                               0  \n",
       "4                          1                               0  \n",
       "\n",
       "[5 rows x 27 columns]"
      ]
     },
     "execution_count": 129,
     "metadata": {},
     "output_type": "execute_result"
    }
   ],
   "source": [
    "data = pd.read_table(\"test_dataset_final.csv\", sep='\\t', index_col=0)\n",
    "data.head()"
   ]
  },
  {
   "cell_type": "code",
   "execution_count": 131,
   "metadata": {},
   "outputs": [
    {
     "name": "stdout",
     "output_type": "stream",
     "text": [
      "Metrics for Biased as baseline class (0):\n",
      "\n",
      "XLNet Pred. Labels (T5) Metrics:\n",
      "Accuracy: 0.681818\n",
      "Precision: 0.675325\n",
      "Recall: 0.838710\n",
      "F1 score: 0.748201\n",
      "\n",
      "XLNet Pred. Labels (Pegasus) Metrics:\n",
      "Accuracy: 0.727273\n",
      "Precision: 0.677778\n",
      "Recall: 0.983871\n",
      "F1 score: 0.802632\n",
      "\n",
      "XLNet Pred. Labels (Full Article) Metrics:\n",
      "Accuracy: 0.809091\n",
      "Precision: 0.805970\n",
      "Recall: 0.870968\n",
      "F1 score: 0.837209\n",
      "\n",
      "TF-IDF Pred. Labels (T5) Metrics:\n",
      "Accuracy: 0.672727\n",
      "Precision: 0.641304\n",
      "Recall: 0.951613\n",
      "F1 score: 0.766234\n",
      "\n",
      "TF-IDF Pred. Labels (Pegasus) Metrics:\n",
      "Accuracy: 0.618182\n",
      "Precision: 0.598039\n",
      "Recall: 0.983871\n",
      "F1 score: 0.743902\n",
      "\n",
      "TF-IDF Pred. Labels (Full Article) Metrics:\n",
      "Accuracy: 0.772727\n",
      "Precision: 0.836364\n",
      "Recall: 0.741935\n",
      "F1 score: 0.786325\n",
      "\n"
     ]
    }
   ],
   "source": [
    "modelaccuracylist = []\n",
    "modelnamelist = []\n",
    "modelprecisionlist = []\n",
    "modelrecalllist = []\n",
    "modelf1list = []\n",
    "mlist = []\n",
    "print(\"Metrics for Biased as baseline class (0):\")\n",
    "print()\n",
    "for i in range(len(predlist)):\n",
    "    test_classes = predlist[i]\n",
    "    modelname = namelist[i]\n",
    "    modelnamelist.append(modelname)\n",
    "    print(modelname +\" Metrics:\")\n",
    "    # accuracy: (tp + tn) / (p + n)\n",
    "    accuracy = accuracy_score(test_labels, test_classes)\n",
    "    print('Accuracy: %f' % accuracy)\n",
    "    modelaccuracylist.append(accuracy)\n",
    "    # precision tp / (tp + fp)\n",
    "    precision = precision_score(test_labels, test_classes)\n",
    "    print('Precision: %f' % precision)\n",
    "    modelprecisionlist.append(precision)\n",
    "    # recall: tp / (tp + fn)\n",
    "    recall = recall_score(test_labels, test_classes)\n",
    "    print('Recall: %f' % recall)\n",
    "    modelrecalllist.append(recall)\n",
    "    # f1: 2 tp / (2 tp + fp + fn)\n",
    "    f1 = f1_score(test_labels, test_classes)\n",
    "    modelf1list.append(f1)\n",
    "    print('F1 score: %f' % f1)\n",
    "    mlist.append([accuracy, precision, recall, f1])\n",
    "#     print(classification_report(test_labels,test_classes))\n",
    "    print(\"\")\n",
    " "
   ]
  },
  {
   "cell_type": "code",
   "execution_count": 132,
   "metadata": {},
   "outputs": [
    {
     "data": {
      "text/html": [
       "<div>\n",
       "<style scoped>\n",
       "    .dataframe tbody tr th:only-of-type {\n",
       "        vertical-align: middle;\n",
       "    }\n",
       "\n",
       "    .dataframe tbody tr th {\n",
       "        vertical-align: top;\n",
       "    }\n",
       "\n",
       "    .dataframe thead th {\n",
       "        text-align: right;\n",
       "    }\n",
       "</style>\n",
       "<table border=\"1\" class=\"dataframe\">\n",
       "  <thead>\n",
       "    <tr style=\"text-align: right;\">\n",
       "      <th></th>\n",
       "      <th>XLNet Pred. Labels (T5)</th>\n",
       "      <th>XLNet Pred. Labels (Pegasus)</th>\n",
       "      <th>XLNet Pred. Labels (Full Article)</th>\n",
       "      <th>TF-IDF Pred. Labels (T5)</th>\n",
       "      <th>TF-IDF Pred. Labels (Pegasus)</th>\n",
       "      <th>TF-IDF Pred. Labels (Full Article)</th>\n",
       "    </tr>\n",
       "  </thead>\n",
       "  <tbody>\n",
       "    <tr>\n",
       "      <th>Accuracy</th>\n",
       "      <td>0.681818</td>\n",
       "      <td>0.727273</td>\n",
       "      <td>0.809091</td>\n",
       "      <td>0.672727</td>\n",
       "      <td>0.618182</td>\n",
       "      <td>0.772727</td>\n",
       "    </tr>\n",
       "    <tr>\n",
       "      <th>Precision</th>\n",
       "      <td>0.675325</td>\n",
       "      <td>0.677778</td>\n",
       "      <td>0.805970</td>\n",
       "      <td>0.641304</td>\n",
       "      <td>0.598039</td>\n",
       "      <td>0.836364</td>\n",
       "    </tr>\n",
       "    <tr>\n",
       "      <th>Recall</th>\n",
       "      <td>0.838710</td>\n",
       "      <td>0.983871</td>\n",
       "      <td>0.870968</td>\n",
       "      <td>0.951613</td>\n",
       "      <td>0.983871</td>\n",
       "      <td>0.741935</td>\n",
       "    </tr>\n",
       "    <tr>\n",
       "      <th>F1</th>\n",
       "      <td>0.748201</td>\n",
       "      <td>0.802632</td>\n",
       "      <td>0.837209</td>\n",
       "      <td>0.766234</td>\n",
       "      <td>0.743902</td>\n",
       "      <td>0.786325</td>\n",
       "    </tr>\n",
       "  </tbody>\n",
       "</table>\n",
       "</div>"
      ],
      "text/plain": [
       "           XLNet Pred. Labels (T5)  XLNet Pred. Labels (Pegasus)  \\\n",
       "Accuracy                  0.681818                      0.727273   \n",
       "Precision                 0.675325                      0.677778   \n",
       "Recall                    0.838710                      0.983871   \n",
       "F1                        0.748201                      0.802632   \n",
       "\n",
       "           XLNet Pred. Labels (Full Article)  TF-IDF Pred. Labels (T5)  \\\n",
       "Accuracy                            0.809091                  0.672727   \n",
       "Precision                           0.805970                  0.641304   \n",
       "Recall                              0.870968                  0.951613   \n",
       "F1                                  0.837209                  0.766234   \n",
       "\n",
       "           TF-IDF Pred. Labels (Pegasus)  TF-IDF Pred. Labels (Full Article)  \n",
       "Accuracy                        0.618182                            0.772727  \n",
       "Precision                       0.598039                            0.836364  \n",
       "Recall                          0.983871                            0.741935  \n",
       "F1                              0.743902                            0.786325  "
      ]
     },
     "execution_count": 132,
     "metadata": {},
     "output_type": "execute_result"
    }
   ],
   "source": [
    "df = pd.DataFrame(columns = modelnamelist)\n",
    "df.loc['Accuracy'] = modelaccuracylist\n",
    "df.loc['Precision'] = modelprecisionlist\n",
    "df.loc['Recall'] = modelrecalllist\n",
    "df.loc['F1'] = modelf1list\n",
    "df.head()"
   ]
  },
  {
   "cell_type": "code",
   "execution_count": 135,
   "metadata": {},
   "outputs": [
    {
     "data": {
      "image/png": "[encoded data removed]",
      "text/plain": [
       "<Figure size 504x360 with 1 Axes>"
      ]
     },
     "metadata": {
      "needs_background": "light"
     },
     "output_type": "display_data"
    }
   ],
   "source": [
    "ax = df.plot.bar(rot=0)\n",
    "ax.set_ylim(ymin=0.6)\n",
    "ax.figure.set_size_inches(7, 5)\n",
    "plt.title('Metric Comparison')\n",
    "# plt.show()\n",
    "plt.savefig('predlabelmodelmetriccomparison.jpg')"
   ]
  },
  {
   "cell_type": "code",
   "execution_count": 136,
   "metadata": {},
   "outputs": [
    {
     "data": {
      "text/plain": [
       "Text(0.5, 1.0, 'Metric Comparison')"
      ]
     },
     "execution_count": 136,
     "metadata": {},
     "output_type": "execute_result"
    },
    {
     "data": {
      "image/png": "[encoded data removed]",
      "text/plain": [
       "<Figure size 504x360 with 1 Axes>"
      ]
     },
     "metadata": {
      "needs_background": "light"
     },
     "output_type": "display_data"
    }
   ],
   "source": [
    "ax = df[[\"XLNet Pred. Labels (T5)\", \"XLNet Pred. Labels (Pegasus)\", \"XLNet Pred. Labels (Full Article)\"]].plot.bar(rot=0)\n",
    "ax.set_ylim(ymin=0.6)\n",
    "ax.figure.set_size_inches(7, 5)\n",
    "plt.title('Metric Comparison')"
   ]
  },
  {
   "cell_type": "code",
   "execution_count": 137,
   "metadata": {},
   "outputs": [
    {
     "data": {
      "text/plain": [
       "Text(0.5, 1.0, 'Metric Comparison')"
      ]
     },
     "execution_count": 137,
     "metadata": {},
     "output_type": "execute_result"
    },
    {
     "data": {
      "image/png": "[encoded data removed]",
      "text/plain": [
       "<Figure size 504x360 with 1 Axes>"
      ]
     },
     "metadata": {
      "needs_background": "light"
     },
     "output_type": "display_data"
    }
   ],
   "source": [
    "ax = df[[\"TF-IDF Pred. Labels (T5)\", \"TF-IDF Pred. Labels (Pegasus)\", \"TF-IDF Pred. Labels (Full Article)\"]].plot.bar(rot=0)\n",
    "ax.set_ylim(ymin=0.6)\n",
    "ax.figure.set_size_inches(7, 5)\n",
    "plt.title('Metric Comparison')"
   ]
  },
  {
   "cell_type": "code",
   "execution_count": null,
   "metadata": {},
   "outputs": [],
   "source": [
    "plt.figure(figsize=(8, 8))\n",
    "\n",
    "plt.subplot(1, 2, 1)\n",
    "plt.bar()\n",
    "\n",
    "\n",
    "(epochs_range, acc, label='Training Accuracy')\n",
    "plt.plot(epochs_range, val_acc, label='Validation Accuracy')\n",
    "plt.legend(loc='lower right')\n",
    "plt.title('Training and Validation Accuracy')\n",
    "\n",
    "plt.subplot(1, 2, 2)\n",
    "plt.plot(epochs_range, loss, label='Training Loss')\n",
    "plt.plot(epochs_range, val_loss, label='Validation Loss')\n",
    "plt.legend(loc='upper right')\n",
    "plt.title('Training and Validation Loss')\n",
    "# plt.show()"
   ]
  },
  {
   "cell_type": "code",
   "execution_count": null,
   "metadata": {},
   "outputs": [],
   "source": [
    "bertmodeldata = pd.read_table(\"bertmodeldata.csv\", sep='\\t', index_col=0)\n",
    "robertamodeldata = pd.read_table(\"robertamodeldata.csv\", sep='\\t', index_col=0)\n",
    "# frozenrobertamodeldata = pd.read_table(\"frozenrobertamodeldata.csv\", sep='\\t', index_col=0)\n",
    "xlnetmodeldata = pd.read_table(\"xlnetmodeldata.csv\", sep='\\t', index_col=0)\n",
    "# frozenxlnetmodeldata = pd.read_table(\"frozenxlnetmodeldata.csv\", sep='\\t', index_col=0)\n",
    "albertmodeldata = pd.read_table(\"albertmodeldata.csv\", sep='\\t', index_col=0)\n"
   ]
  },
  {
   "cell_type": "code",
   "execution_count": null,
   "metadata": {},
   "outputs": [],
   "source": [
    "bert_val_acc = bertmodeldata['ValAccuracy']\n",
    "roberta_val_acc = robertamodeldata['ValAccuracy']\n",
    "xlnet_val_acc = xlnetmodeldata['ValAccuracy']\n",
    "albert_val_acc = albertmodeldata['ValAccuracy']\n",
    "\n",
    "bert_val_loss = bertmodeldata['Val_loss']\n",
    "roberta_val_loss = robertamodeldata['Val_loss']\n",
    "# frozenroberta_val_loss = frozenrobertamodeldata['Val_loss']\n",
    "xlnet_val_loss = xlnetmodeldata['Val_loss']\n",
    "# frozenxlnet_val_loss = frozenxlnetmodeldata['Val_loss']\n",
    "albert_val_loss = albertmodeldata['Val_loss']\n",
    "\n",
    "epochs_range = range(25)\n",
    "\n",
    "plt.figure(figsize=(8, 8))\n",
    "plt.subplot(1, 2, 1)\n",
    "plt.plot(epochs_range, bert_val_acc, label='BERT')\n",
    "plt.plot(epochs_range, roberta_val_acc, label='RoBERTa')\n",
    "# plt.plot(epochs_range, frozenroberta_val_acc, label='RoBERTa (6 layers trained)')\n",
    "plt.plot(epochs_range, xlnet_val_acc, label='XLNet')\n",
    "plt.plot(epochs_range, albert_val_loss, label='ALBERT')\n",
    "plt.legend(loc='lower right')\n",
    "plt.title('Validation Accuracy')\n",
    "\n",
    "plt.subplot(1, 2, 2)\n",
    "plt.plot(epochs_range, bert_val_loss, label='BERT')\n",
    "plt.plot(epochs_range, roberta_val_loss, label='RoBERTa')\n",
    "# plt.plot(epochs_range, frozenroberta_val_loss, label='RoBERTa (6 layers trained)')\n",
    "plt.plot(epochs_range, xlnet_val_loss, label='XLNet')\n",
    "plt.plot(epochs_range, albert_val_loss, label='ALBERT')\n",
    "plt.legend(loc='upper right')\n",
    "plt.title('Validation Loss')\n",
    "# plt.show()\n",
    "plt.savefig('modeltrainingcomparison.jpg')"
   ]
  },
  {
   "cell_type": "code",
   "execution_count": null,
   "metadata": {},
   "outputs": [],
   "source": [
    "# plot accuracy"
   ]
  },
  {
   "cell_type": "code",
   "execution_count": null,
   "metadata": {},
   "outputs": [],
   "source": [
    "def findcommonlabel(predictionlist):\n",
    "    labellist = []\n",
    "    for i in range(len(predictionlist[1])):\n",
    "        allin = True\n",
    "        labeli = predictionlist[0][i]\n",
    "        for ii in range(len(predictionlist)):\n",
    "            if predictionlist[ii][i] !=labeli:\n",
    "                allin = False\n",
    "        if allin == True:\n",
    "            labellist.append(i)\n",
    "    return labellist"
   ]
  },
  {
   "cell_type": "code",
   "execution_count": null,
   "metadata": {},
   "outputs": [],
   "source": [
    "commonpred = findcommonlabel(predictions)\n",
    "len(commonpred)"
   ]
  },
  {
   "cell_type": "code",
   "execution_count": null,
   "metadata": {},
   "outputs": [],
   "source": [
    "test_section.reset_index(inplace=True)\n",
    "test_section.head()"
   ]
  },
  {
   "cell_type": "code",
   "execution_count": null,
   "metadata": {},
   "outputs": [],
   "source": [
    "commonpreddata = test_section.iloc[commonpred]\n",
    "commonpreddata.shape"
   ]
  },
  {
   "cell_type": "code",
   "execution_count": null,
   "metadata": {},
   "outputs": [],
   "source": [
    "commonpreddata[\"label\"].value_counts().plot.bar()"
   ]
  },
  {
   "cell_type": "code",
   "execution_count": null,
   "metadata": {},
   "outputs": [],
   "source": [
    "plt.hist(commonpreddata.length)\n"
   ]
  },
  {
   "cell_type": "code",
   "execution_count": null,
   "metadata": {},
   "outputs": [],
   "source": [
    "mixedpreddata = test_section.drop(commonpred, errors='ignore')\n",
    "mixedpreddata.shape"
   ]
  },
  {
   "cell_type": "code",
   "execution_count": null,
   "metadata": {},
   "outputs": [],
   "source": [
    "mixedpreddata[\"label\"].value_counts().plot.bar()"
   ]
  },
  {
   "cell_type": "code",
   "execution_count": null,
   "metadata": {},
   "outputs": [],
   "source": [
    "plt.hist(mixedpreddata.length)\n"
   ]
  },
  {
   "cell_type": "code",
   "execution_count": null,
   "metadata": {},
   "outputs": [],
   "source": [
    "for i in range(len(names)):\n",
    "    test_section[names[i]] = predictions[i]\n",
    "test_section['encodedlabel'] = test_labels\n",
    "test_section.head()"
   ]
  },
  {
   "cell_type": "code",
   "execution_count": null,
   "metadata": {},
   "outputs": [],
   "source": [
    "def calculateproportions(df, colname):\n",
    "    biases = df[df[colname] == 0]\n",
    "    neutrals = df[df[colname] == 1]\n",
    "    length = df.shape[0]\n",
    "    return biases.shape[0]/length, neutrals.shape[0]/length"
   ]
  },
  {
   "cell_type": "code",
   "execution_count": null,
   "metadata": {},
   "outputs": [],
   "source": [
    "realbiasproportions, realneutralproportions = calculateproportions(test_section, \"encodedlabel\")\n",
    "bertbiasproportions, bertneutralproportions = calculateproportions(test_section, \"BERT\")\n",
    "robertabiasproportions, robertaneutralproportions = calculateproportions(test_section, \"RoBERTa\")\n",
    "xlnetbiasproportions, xlnetneutralproportions = calculateproportions(test_section, \"XLNet\")\n",
    "albertbiasproportions, albertneutralproportions = calculateproportions(test_section, \"ALBERT\")\n",
    "\n",
    "biasproplist = [realbiasproportions,\n",
    "               bertbiasproportions,\n",
    "               robertabiasproportions,\n",
    "                xlnetbiasproportions,\n",
    "                albertbiasproportions]\n",
    "neutralproplist = [realneutralproportions,\n",
    "               bertneutralproportions,\n",
    "               robertaneutralproportions,\n",
    "                xlnetneutralproportions,\n",
    "                albertneutralproportions]\n",
    "                \n",
    "totalnames = [\"Data\", \"BERT\",\"RoBERTa\", \"XLNet\", \"ALBERT\"]\n",
    "plt.bar(range(0, len(biasproplist)), biasproplist, width = 0.25, tick_label = totalnames)\n",
    "plt.ylim(ymin=0.3)\n",
    "plt.title('Proportions of Biased Labels')\n",
    "\n"
   ]
  },
  {
   "cell_type": "code",
   "execution_count": null,
   "metadata": {},
   "outputs": [],
   "source": [
    "plt.bar(range(0, len(neutralproplist)), neutralproplist, width = 0.25, tick_label = totalnames)\n",
    "plt.ylim(ymin=0.5)\n",
    "plt.title('Proportions of Neutral Labels')\n",
    "\n"
   ]
  },
  {
   "cell_type": "code",
   "execution_count": null,
   "metadata": {},
   "outputs": [],
   "source": [
    "test_section[:10]"
   ]
  },
  {
   "cell_type": "code",
   "execution_count": null,
   "metadata": {},
   "outputs": [],
   "source": [
    "realneutraldata = test_section[(test_section[\"encodedlabel\"] ==1)\n",
    "            & (test_section[\"BERT\"]== 0)\n",
    "             & (test_section[\"RoBERTa\"]== 0)\n",
    "             & (test_section[\"XLNet\"]== 0)\n",
    "             & (test_section[\"ALBERT\"]== 0)]\n",
    "realneutraldata"
   ]
  },
  {
   "cell_type": "code",
   "execution_count": null,
   "metadata": {},
   "outputs": [],
   "source": [
    "test_section.iloc[9].url"
   ]
  },
  {
   "cell_type": "code",
   "execution_count": null,
   "metadata": {},
   "outputs": [],
   "source": [
    "test_section.iloc[9].article"
   ]
  },
  {
   "cell_type": "code",
   "execution_count": null,
   "metadata": {},
   "outputs": [],
   "source": [
    "xlnetbiasvsneutral = test_section[(test_section[\"encodedlabel\"] ==1)\n",
    "             & (test_section[\"XLNet\"]== 0)]\n",
    "xlnetbiasvsneutral"
   ]
  },
  {
   "cell_type": "code",
   "execution_count": null,
   "metadata": {},
   "outputs": [],
   "source": [
    "realbiasdata = test_section[(test_section[\"encodedlabel\"] ==0)\n",
    "            & (test_section[\"BERT\"]== 1)\n",
    "             & (test_section[\"RoBERTa\"]== 1)\n",
    "             & (test_section[\"XLNet\"]== 1)]\n",
    "realbiasdata"
   ]
  },
  {
   "cell_type": "code",
   "execution_count": null,
   "metadata": {},
   "outputs": [],
   "source": [
    "test_section[(test_section[\"encodedlabel\"] ==0)\n",
    "            & (test_section[\"XLNet\"]== 1)]"
   ]
  },
  {
   "cell_type": "code",
   "execution_count": null,
   "metadata": {},
   "outputs": [],
   "source": []
  }
 ],
 "metadata": {
  "kernelspec": {
   "display_name": "Python 3",
   "language": "python",
   "name": "python3"
  },
  "language_info": {
   "codemirror_mode": {
    "name": "ipython",
    "version": 3
   },
   "file_extension": ".py",
   "mimetype": "text/x-python",
   "name": "python",
   "nbconvert_exporter": "python",
   "pygments_lexer": "ipython3",
   "version": "3.8.5"
  }
 },
 "nbformat": 4,
 "nbformat_minor": 5
}
