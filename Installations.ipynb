{
 "cells": [
  {
   "cell_type": "markdown",
   "metadata": {},
   "source": [
    "# Install Required Packages"
   ]
  },
  {
   "cell_type": "code",
   "execution_count": null,
   "metadata": {},
   "outputs": [],
   "source": [
    "!pip install newspaper3k\n",
    "!pip install pandas\n",
    "!pip install matplotlib\n",
    "!pip install transformers\n",
    "!pip install nltk\n",
    "!pip install sentencepiece\n",
    "!pip install wordpiece\n",
    "!pip install ipywidgets\n",
    "!pip install -U scikit-learn\n",
    "!pip install tqdm\n",
    "!pip install pydot\n",
    "!pip install num2words\n",
    "!pip install rouge\n",
    "# using nvidia-docker image from https://ngc.nvidia.com/catalog/containers/nvidia:tensorflow/tags\n",
    "# using release 21.02-tf2-py3\""
   ]
  }
 ],
 "metadata": {
  "kernelspec": {
   "display_name": "Python 3",
   "language": "python",
   "name": "python3"
  },
  "language_info": {
   "codemirror_mode": {
    "name": "ipython",
    "version": 3
   },
   "file_extension": ".py",
   "mimetype": "text/x-python",
   "name": "python",
   "nbconvert_exporter": "python",
   "pygments_lexer": "ipython3",
   "version": "3.8.5"
  }
 },
 "nbformat": 4,
 "nbformat_minor": 4
}
