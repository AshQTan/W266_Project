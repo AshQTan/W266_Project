{
 "cells": [
  {
   "cell_type": "code",
   "execution_count": 1,
   "metadata": {},
   "outputs": [],
   "source": [
    "import json\n",
    "import pandas as pd\n",
    "import numpy as np\n",
    "import os\n",
    "import sys\n",
    "import tensorflow as tf\n",
    "from time import time\n",
    "import io\n",
    "import re\n",
    "\n",
    "import pickle\n",
    "from csv import reader\n",
    "import matplotlib.pyplot as plt\n",
    "\n",
    "import matplotlib.pyplot as plt\n",
    "from matplotlib import colors\n",
    "from matplotlib.ticker import PercentFormatter\n",
    "\n",
    "from tensorflow.keras import layers\n",
    "from tensorflow.keras.backend import sparse_categorical_crossentropy\n",
    "from tensorflow.keras.layers import Dense, Flatten\n",
    "from tensorflow.keras.utils import plot_model\n",
    "\n",
    "# physical_devices = tf.config.list_physical_devices('GPU') \n",
    "# tf.config.experimental.set_memory_growth(physical_devices[0], True)\n",
    "\n",
    "from datetime import datetime\n",
    "from collections import defaultdict\n",
    "\n",
    "from sklearn.model_selection import train_test_split\n",
    "\n"
   ]
  },
  {
   "cell_type": "code",
   "execution_count": 2,
   "metadata": {},
   "outputs": [
    {
     "name": "stdout",
     "output_type": "stream",
     "text": [
      "Num GPUs Available:  1\n"
     ]
    }
   ],
   "source": [
    "print(\"Num GPUs Available: \", len(tf.config.experimental.list_physical_devices('GPU')))"
   ]
  },
  {
   "cell_type": "code",
   "execution_count": 3,
   "metadata": {},
   "outputs": [
    {
     "data": {
      "text/plain": [
       "[PhysicalDevice(name='/physical_device:CPU:0', device_type='CPU'),\n",
       " PhysicalDevice(name='/physical_device:GPU:0', device_type='GPU')]"
      ]
     },
     "execution_count": 3,
     "metadata": {},
     "output_type": "execute_result"
    }
   ],
   "source": [
    "tf.config.list_physical_devices()"
   ]
  },
  {
   "cell_type": "code",
   "execution_count": 4,
   "metadata": {},
   "outputs": [],
   "source": [
    "from transformers import TFXLNetForSequenceClassification, XLNetTokenizer"
   ]
  },
  {
   "cell_type": "markdown",
   "metadata": {},
   "source": [
    "## Data"
   ]
  },
  {
   "cell_type": "code",
   "execution_count": 5,
   "metadata": {},
   "outputs": [],
   "source": [
    "train_section = pd.read_table(\"train_dataset.csv\", sep='\\t', index_col=0)\n",
    "val_section = pd.read_table(\"val_dataset.csv\", sep='\\t', index_col=0)\n",
    "test_section = pd.read_table(\"test_dataset.csv\", sep='\\t', index_col=0)"
   ]
  },
  {
   "cell_type": "markdown",
   "metadata": {},
   "source": [
    "## Hyperparameters"
   ]
  },
  {
   "cell_type": "code",
   "execution_count": 6,
   "metadata": {},
   "outputs": [],
   "source": [
    "MAX_LEN = 512\n",
    "nepochs = 50\n",
    "nbatch = 16"
   ]
  },
  {
   "cell_type": "code",
   "execution_count": 7,
   "metadata": {},
   "outputs": [],
   "source": [
    "data_dir = \"./data\"\n",
    "log_dir = f\"{data_dir}/experiments/logs\"\n",
    "save_path = f\"{data_dir}/experiments/BinaryXLNetmodels\"\n",
    "cache_path_train = f\"{data_dir}/cache/BinaryXLNetmodel.train\"\n",
    "cache_path_test = f\"{data_dir}/cache/BinaryXLNetmodel.test\""
   ]
  },
  {
   "cell_type": "markdown",
   "metadata": {},
   "source": [
    "## Transforming Data"
   ]
  },
  {
   "cell_type": "code",
   "execution_count": 8,
   "metadata": {},
   "outputs": [],
   "source": [
    "from sklearn.preprocessing import LabelEncoder\n",
    "\n",
    "le = LabelEncoder()\n",
    "train_labels = np.asarray(le.fit_transform(train_section['label']))\n",
    "val_labels = np.asarray(le.transform(val_section['label']))"
   ]
  },
  {
   "cell_type": "code",
   "execution_count": 9,
   "metadata": {},
   "outputs": [],
   "source": [
    "# le.inverse_transform(val_labels)[:20]"
   ]
  },
  {
   "cell_type": "code",
   "execution_count": 10,
   "metadata": {},
   "outputs": [
    {
     "data": {
      "text/plain": [
       "2"
      ]
     },
     "execution_count": 10,
     "metadata": {},
     "output_type": "execute_result"
    }
   ],
   "source": [
    "len(np.unique(train_labels))"
   ]
  },
  {
   "cell_type": "code",
   "execution_count": 11,
   "metadata": {},
   "outputs": [],
   "source": [
    "tokenizer_transformer = XLNetTokenizer.from_pretrained('xlnet-large-cased')"
   ]
  },
  {
   "cell_type": "code",
   "execution_count": 12,
   "metadata": {},
   "outputs": [],
   "source": [
    "\n",
    "def create_input_array(df, tokenizer):\n",
    "    sentences = df.text.values\n",
    "\n",
    "    input_ids = []\n",
    "    attention_masks = []\n",
    "    token_type_ids = []\n",
    "\n",
    "    for sent in sentences:\n",
    "        # `encode_plus` will:\n",
    "        #   (1) Tokenize the sentence.\n",
    "        #   (2) Prepend the `[CLS]` token to the start.\n",
    "        #   (3) Append the `[SEP]` token to the end.\n",
    "        #   (4) Map tokens to their IDs.\n",
    "        #   (5) Pad or truncate the sentence to `max_length`\n",
    "        #   (6) Create attention masks for [PAD] tokens.\n",
    "        encoded_dict = tokenizer.encode_plus(\n",
    "            sent,  # Sentence to encode.\n",
    "            add_special_tokens=True,  # Add '[CLS]' and '[SEP]'\n",
    "            max_length=MAX_LEN,  # Pad & truncate all sentences.\n",
    "                pad_to_max_length=True,\n",
    "                return_attention_mask=True,  # Construct attn. masks.\n",
    "                return_tensors='tf',  # Return tf tensors.\n",
    "            )\n",
    "\n",
    "        # Add the encoded sentence to the list.\n",
    "        input_ids.append(encoded_dict['input_ids'])\n",
    "\n",
    "        # And its attention mask (simply differentiates padding from non-padding).\n",
    "        attention_masks.append(encoded_dict['attention_mask'])\n",
    "\n",
    "        token_type_ids.append(encoded_dict['token_type_ids'])\n",
    "\n",
    "    input_ids = tf.convert_to_tensor(input_ids)\n",
    "    attention_masks = tf.convert_to_tensor(attention_masks)\n",
    "    token_type_ids = tf.convert_to_tensor(token_type_ids)\n",
    "\n",
    "\n",
    "    return input_ids, attention_masks, token_type_ids\n",
    "#     return input_ids, attention_masks\n",
    "\n"
   ]
  },
  {
   "cell_type": "code",
   "execution_count": 13,
   "metadata": {},
   "outputs": [
    {
     "name": "stderr",
     "output_type": "stream",
     "text": [
      "Truncation was not explicitly activated but `max_length` is provided a specific value, please use `truncation=True` to explicitly truncate examples to max length. Defaulting to 'longest_first' truncation strategy. If you encode pairs of sequences (GLUE-style) with the tokenizer you can select this strategy more precisely by providing a specific strategy to `truncation`.\n",
      "/usr/local/lib/python3.8/dist-packages/transformers/tokenization_utils_base.py:2068: FutureWarning: The `pad_to_max_length` argument is deprecated and will be removed in a future version, use `padding=True` or `padding='longest'` to pad to the longest sequence in the batch, or use `padding='max_length'` to pad to a max length. In this case, you can give a specific length with `max_length` (e.g. `max_length=45`) or leave max_length to None to pad to the maximal input size of the model (e.g. 512 for Bert).\n",
      "  warnings.warn(\n"
     ]
    }
   ],
   "source": [
    "train_inputs = [create_input_array(train_section, tokenizer=tokenizer_transformer)]\n",
    "val_inputs = [create_input_array(val_section, tokenizer=tokenizer_transformer)]"
   ]
  },
  {
   "cell_type": "code",
   "execution_count": 14,
   "metadata": {},
   "outputs": [],
   "source": [
    "def convert_inputs_to_tf_dataset(inputs):\n",
    "    # args.max_seq_len = 256\n",
    "    ids = inputs[0][0]\n",
    "    masks = inputs[0][1]\n",
    "    token_types = inputs[0][2]\n",
    "\n",
    "    ids = tf.reshape(ids, (-1, MAX_LEN))\n",
    "    print(\"Input ids shape: \", ids.shape)\n",
    "    masks = tf.reshape(masks, (-1, MAX_LEN))\n",
    "    print(\"Input Masks shape: \", masks.shape)\n",
    "    token_types = tf.reshape(token_types, (-1, MAX_LEN))\n",
    "    print(\"Token type ids shape: \", token_types.shape)\n",
    "\n",
    "    ids=ids.numpy()\n",
    "    masks = masks.numpy()\n",
    "    token_types = token_types.numpy()\n",
    "#     return[ids]\n",
    "#     return [ids, masks, token_types]\n",
    "    return [ids, masks]"
   ]
  },
  {
   "cell_type": "code",
   "execution_count": 15,
   "metadata": {},
   "outputs": [
    {
     "name": "stdout",
     "output_type": "stream",
     "text": [
      "Input ids shape:  (4000, 512)\n",
      "Input Masks shape:  (4000, 512)\n",
      "Token type ids shape:  (4000, 512)\n",
      "Input ids shape:  (500, 512)\n",
      "Input Masks shape:  (500, 512)\n",
      "Token type ids shape:  (500, 512)\n"
     ]
    }
   ],
   "source": [
    "train_data = convert_inputs_to_tf_dataset(train_inputs)\n",
    "val_data = convert_inputs_to_tf_dataset(val_inputs)"
   ]
  },
  {
   "cell_type": "code",
   "execution_count": 16,
   "metadata": {},
   "outputs": [
    {
     "data": {
      "text/plain": [
       "[array([[11048,   577,    17, ...,  1841,     4,     3],\n",
       "        [   39,  1156,    17, ...,    89,     4,     3],\n",
       "        [  480, 23785,    23, ...,  6420,     4,     3],\n",
       "        ...,\n",
       "        [11048,   577,    17, ...,  4419,     4,     3],\n",
       "        [   17,    83, 17273, ...,  1674,     4,     3],\n",
       "        [    5,     5,     5, ...,     9,     4,     3]], dtype=int32),\n",
       " array([[1, 1, 1, ..., 1, 1, 1],\n",
       "        [1, 1, 1, ..., 1, 1, 1],\n",
       "        [1, 1, 1, ..., 1, 1, 1],\n",
       "        ...,\n",
       "        [1, 1, 1, ..., 1, 1, 1],\n",
       "        [1, 1, 1, ..., 1, 1, 1],\n",
       "        [0, 0, 0, ..., 1, 1, 1]], dtype=int32)]"
      ]
     },
     "execution_count": 16,
     "metadata": {},
     "output_type": "execute_result"
    }
   ],
   "source": [
    "train_data"
   ]
  },
  {
   "cell_type": "code",
   "execution_count": 17,
   "metadata": {},
   "outputs": [
    {
     "name": "stderr",
     "output_type": "stream",
     "text": [
      "Some layers from the model checkpoint at xlnet-large-cased were not used when initializing TFXLNetForSequenceClassification: ['lm_loss']\n",
      "- This IS expected if you are initializing TFXLNetForSequenceClassification from the checkpoint of a model trained on another task or with another architecture (e.g. initializing a BertForSequenceClassification model from a BertForPreTraining model).\n",
      "- This IS NOT expected if you are initializing TFXLNetForSequenceClassification from the checkpoint of a model that you expect to be exactly identical (initializing a BertForSequenceClassification model from a BertForSequenceClassification model).\n",
      "Some layers of TFXLNetForSequenceClassification were not initialized from the model checkpoint at xlnet-large-cased and are newly initialized: ['sequence_summary', 'logits_proj']\n",
      "You should probably TRAIN this model on a down-stream task to be able to use it for predictions and inference.\n"
     ]
    }
   ],
   "source": [
    "model = TFXLNetForSequenceClassification.from_pretrained(\"xlnet-large-cased\", num_labels=len(np.unique(train_labels)))\n"
   ]
  },
  {
   "cell_type": "code",
   "execution_count": 18,
   "metadata": {},
   "outputs": [
    {
     "name": "stdout",
     "output_type": "stream",
     "text": [
      "Model: \"tfxl_net_for_sequence_classification\"\n",
      "_________________________________________________________________\n",
      "Layer (type)                 Output Shape              Param #   \n",
      "=================================================================\n",
      "transformer (TFXLNetMainLaye multiple                  360268800 \n",
      "_________________________________________________________________\n",
      "sequence_summary (TFSequence multiple                  1049600   \n",
      "_________________________________________________________________\n",
      "logits_proj (Dense)          multiple                  2050      \n",
      "=================================================================\n",
      "Total params: 361,320,450\n",
      "Trainable params: 361,320,450\n",
      "Non-trainable params: 0\n",
      "_________________________________________________________________\n"
     ]
    }
   ],
   "source": [
    "model.summary()"
   ]
  },
  {
   "cell_type": "code",
   "execution_count": 19,
   "metadata": {},
   "outputs": [
    {
     "name": "stdout",
     "output_type": "stream",
     "text": [
      "Epoch 1/25\n",
      "WARNING:tensorflow:The parameters `output_attentions`, `output_hidden_states` and `use_cache` cannot be updated when calling a model.They have to be set to True/False in the config object (i.e.: `config=XConfig.from_pretrained('name', output_attentions=True)`).\n",
      "WARNING:tensorflow:AutoGraph could not transform <bound method Socket.send of <zmq.sugar.socket.Socket object at 0x7f018cb0e040>> and will run it as-is.\n",
      "Please report this to the TensorFlow team. When filing the bug, set the verbosity to 10 (on Linux, `export AUTOGRAPH_VERBOSITY=10`) and attach the full output.\n",
      "Cause: module, class, method, function, traceback, frame, or code object was expected, got cython_function_or_method\n",
      "To silence this warning, decorate the function with @tf.autograph.experimental.do_not_convert\n",
      "WARNING: AutoGraph could not transform <bound method Socket.send of <zmq.sugar.socket.Socket object at 0x7f018cb0e040>> and will run it as-is.\n",
      "Please report this to the TensorFlow team. When filing the bug, set the verbosity to 10 (on Linux, `export AUTOGRAPH_VERBOSITY=10`) and attach the full output.\n",
      "Cause: module, class, method, function, traceback, frame, or code object was expected, got cython_function_or_method\n",
      "To silence this warning, decorate the function with @tf.autograph.experimental.do_not_convert\n",
      "WARNING:tensorflow:Gradients do not exist for variables ['tfxl_net_for_sequence_classification/transformer/mask_emb:0', 'tfxl_net_for_sequence_classification/transformer/layer_._0/rel_attn/r_s_bias:0', 'tfxl_net_for_sequence_classification/transformer/layer_._0/rel_attn/seg_embed:0', 'tfxl_net_for_sequence_classification/transformer/layer_._1/rel_attn/r_s_bias:0', 'tfxl_net_for_sequence_classification/transformer/layer_._1/rel_attn/seg_embed:0', 'tfxl_net_for_sequence_classification/transformer/layer_._2/rel_attn/r_s_bias:0', 'tfxl_net_for_sequence_classification/transformer/layer_._2/rel_attn/seg_embed:0', 'tfxl_net_for_sequence_classification/transformer/layer_._3/rel_attn/r_s_bias:0', 'tfxl_net_for_sequence_classification/transformer/layer_._3/rel_attn/seg_embed:0', 'tfxl_net_for_sequence_classification/transformer/layer_._4/rel_attn/r_s_bias:0', 'tfxl_net_for_sequence_classification/transformer/layer_._4/rel_attn/seg_embed:0', 'tfxl_net_for_sequence_classification/transformer/layer_._5/rel_attn/r_s_bias:0', 'tfxl_net_for_sequence_classification/transformer/layer_._5/rel_attn/seg_embed:0', 'tfxl_net_for_sequence_classification/transformer/layer_._6/rel_attn/r_s_bias:0', 'tfxl_net_for_sequence_classification/transformer/layer_._6/rel_attn/seg_embed:0', 'tfxl_net_for_sequence_classification/transformer/layer_._7/rel_attn/r_s_bias:0', 'tfxl_net_for_sequence_classification/transformer/layer_._7/rel_attn/seg_embed:0', 'tfxl_net_for_sequence_classification/transformer/layer_._8/rel_attn/r_s_bias:0', 'tfxl_net_for_sequence_classification/transformer/layer_._8/rel_attn/seg_embed:0', 'tfxl_net_for_sequence_classification/transformer/layer_._9/rel_attn/r_s_bias:0', 'tfxl_net_for_sequence_classification/transformer/layer_._9/rel_attn/seg_embed:0', 'tfxl_net_for_sequence_classification/transformer/layer_._10/rel_attn/r_s_bias:0', 'tfxl_net_for_sequence_classification/transformer/layer_._10/rel_attn/seg_embed:0', 'tfxl_net_for_sequence_classification/transformer/layer_._11/rel_attn/r_s_bias:0', 'tfxl_net_for_sequence_classification/transformer/layer_._11/rel_attn/seg_embed:0', 'tfxl_net_for_sequence_classification/transformer/layer_._12/rel_attn/r_s_bias:0', 'tfxl_net_for_sequence_classification/transformer/layer_._12/rel_attn/seg_embed:0', 'tfxl_net_for_sequence_classification/transformer/layer_._13/rel_attn/r_s_bias:0', 'tfxl_net_for_sequence_classification/transformer/layer_._13/rel_attn/seg_embed:0', 'tfxl_net_for_sequence_classification/transformer/layer_._14/rel_attn/r_s_bias:0', 'tfxl_net_for_sequence_classification/transformer/layer_._14/rel_attn/seg_embed:0', 'tfxl_net_for_sequence_classification/transformer/layer_._15/rel_attn/r_s_bias:0', 'tfxl_net_for_sequence_classification/transformer/layer_._15/rel_attn/seg_embed:0', 'tfxl_net_for_sequence_classification/transformer/layer_._16/rel_attn/r_s_bias:0', 'tfxl_net_for_sequence_classification/transformer/layer_._16/rel_attn/seg_embed:0', 'tfxl_net_for_sequence_classification/transformer/layer_._17/rel_attn/r_s_bias:0', 'tfxl_net_for_sequence_classification/transformer/layer_._17/rel_attn/seg_embed:0', 'tfxl_net_for_sequence_classification/transformer/layer_._18/rel_attn/r_s_bias:0', 'tfxl_net_for_sequence_classification/transformer/layer_._18/rel_attn/seg_embed:0', 'tfxl_net_for_sequence_classification/transformer/layer_._19/rel_attn/r_s_bias:0', 'tfxl_net_for_sequence_classification/transformer/layer_._19/rel_attn/seg_embed:0', 'tfxl_net_for_sequence_classification/transformer/layer_._20/rel_attn/r_s_bias:0', 'tfxl_net_for_sequence_classification/transformer/layer_._20/rel_attn/seg_embed:0', 'tfxl_net_for_sequence_classification/transformer/layer_._21/rel_attn/r_s_bias:0', 'tfxl_net_for_sequence_classification/transformer/layer_._21/rel_attn/seg_embed:0', 'tfxl_net_for_sequence_classification/transformer/layer_._22/rel_attn/r_s_bias:0', 'tfxl_net_for_sequence_classification/transformer/layer_._22/rel_attn/seg_embed:0', 'tfxl_net_for_sequence_classification/transformer/layer_._23/rel_attn/r_s_bias:0', 'tfxl_net_for_sequence_classification/transformer/layer_._23/rel_attn/seg_embed:0'] when minimizing the loss.\n",
      "WARNING:tensorflow:The parameters `output_attentions`, `output_hidden_states` and `use_cache` cannot be updated when calling a model.They have to be set to True/False in the config object (i.e.: `config=XConfig.from_pretrained('name', output_attentions=True)`).\n",
      "WARNING:tensorflow:Gradients do not exist for variables ['tfxl_net_for_sequence_classification/transformer/mask_emb:0', 'tfxl_net_for_sequence_classification/transformer/layer_._0/rel_attn/r_s_bias:0', 'tfxl_net_for_sequence_classification/transformer/layer_._0/rel_attn/seg_embed:0', 'tfxl_net_for_sequence_classification/transformer/layer_._1/rel_attn/r_s_bias:0', 'tfxl_net_for_sequence_classification/transformer/layer_._1/rel_attn/seg_embed:0', 'tfxl_net_for_sequence_classification/transformer/layer_._2/rel_attn/r_s_bias:0', 'tfxl_net_for_sequence_classification/transformer/layer_._2/rel_attn/seg_embed:0', 'tfxl_net_for_sequence_classification/transformer/layer_._3/rel_attn/r_s_bias:0', 'tfxl_net_for_sequence_classification/transformer/layer_._3/rel_attn/seg_embed:0', 'tfxl_net_for_sequence_classification/transformer/layer_._4/rel_attn/r_s_bias:0', 'tfxl_net_for_sequence_classification/transformer/layer_._4/rel_attn/seg_embed:0', 'tfxl_net_for_sequence_classification/transformer/layer_._5/rel_attn/r_s_bias:0', 'tfxl_net_for_sequence_classification/transformer/layer_._5/rel_attn/seg_embed:0', 'tfxl_net_for_sequence_classification/transformer/layer_._6/rel_attn/r_s_bias:0', 'tfxl_net_for_sequence_classification/transformer/layer_._6/rel_attn/seg_embed:0', 'tfxl_net_for_sequence_classification/transformer/layer_._7/rel_attn/r_s_bias:0', 'tfxl_net_for_sequence_classification/transformer/layer_._7/rel_attn/seg_embed:0', 'tfxl_net_for_sequence_classification/transformer/layer_._8/rel_attn/r_s_bias:0', 'tfxl_net_for_sequence_classification/transformer/layer_._8/rel_attn/seg_embed:0', 'tfxl_net_for_sequence_classification/transformer/layer_._9/rel_attn/r_s_bias:0', 'tfxl_net_for_sequence_classification/transformer/layer_._9/rel_attn/seg_embed:0', 'tfxl_net_for_sequence_classification/transformer/layer_._10/rel_attn/r_s_bias:0', 'tfxl_net_for_sequence_classification/transformer/layer_._10/rel_attn/seg_embed:0', 'tfxl_net_for_sequence_classification/transformer/layer_._11/rel_attn/r_s_bias:0', 'tfxl_net_for_sequence_classification/transformer/layer_._11/rel_attn/seg_embed:0', 'tfxl_net_for_sequence_classification/transformer/layer_._12/rel_attn/r_s_bias:0', 'tfxl_net_for_sequence_classification/transformer/layer_._12/rel_attn/seg_embed:0', 'tfxl_net_for_sequence_classification/transformer/layer_._13/rel_attn/r_s_bias:0', 'tfxl_net_for_sequence_classification/transformer/layer_._13/rel_attn/seg_embed:0', 'tfxl_net_for_sequence_classification/transformer/layer_._14/rel_attn/r_s_bias:0', 'tfxl_net_for_sequence_classification/transformer/layer_._14/rel_attn/seg_embed:0', 'tfxl_net_for_sequence_classification/transformer/layer_._15/rel_attn/r_s_bias:0', 'tfxl_net_for_sequence_classification/transformer/layer_._15/rel_attn/seg_embed:0', 'tfxl_net_for_sequence_classification/transformer/layer_._16/rel_attn/r_s_bias:0', 'tfxl_net_for_sequence_classification/transformer/layer_._16/rel_attn/seg_embed:0', 'tfxl_net_for_sequence_classification/transformer/layer_._17/rel_attn/r_s_bias:0', 'tfxl_net_for_sequence_classification/transformer/layer_._17/rel_attn/seg_embed:0', 'tfxl_net_for_sequence_classification/transformer/layer_._18/rel_attn/r_s_bias:0', 'tfxl_net_for_sequence_classification/transformer/layer_._18/rel_attn/seg_embed:0', 'tfxl_net_for_sequence_classification/transformer/layer_._19/rel_attn/r_s_bias:0', 'tfxl_net_for_sequence_classification/transformer/layer_._19/rel_attn/seg_embed:0', 'tfxl_net_for_sequence_classification/transformer/layer_._20/rel_attn/r_s_bias:0', 'tfxl_net_for_sequence_classification/transformer/layer_._20/rel_attn/seg_embed:0', 'tfxl_net_for_sequence_classification/transformer/layer_._21/rel_attn/r_s_bias:0', 'tfxl_net_for_sequence_classification/transformer/layer_._21/rel_attn/seg_embed:0', 'tfxl_net_for_sequence_classification/transformer/layer_._22/rel_attn/r_s_bias:0', 'tfxl_net_for_sequence_classification/transformer/layer_._22/rel_attn/seg_embed:0', 'tfxl_net_for_sequence_classification/transformer/layer_._23/rel_attn/r_s_bias:0', 'tfxl_net_for_sequence_classification/transformer/layer_._23/rel_attn/seg_embed:0'] when minimizing the loss.\n",
      "800/800 [==============================] - ETA: 0s - loss: 0.7360 - accuracy: 0.4874WARNING:tensorflow:The parameters `output_attentions`, `output_hidden_states` and `use_cache` cannot be updated when calling a model.They have to be set to True/False in the config object (i.e.: `config=XConfig.from_pretrained('name', output_attentions=True)`).\n",
      "800/800 [==============================] - 692s 843ms/step - loss: 0.7360 - accuracy: 0.4875 - val_loss: 0.6805 - val_accuracy: 0.5680\n",
      "Epoch 2/25\n",
      "800/800 [==============================] - 678s 847ms/step - loss: 0.6952 - accuracy: 0.5317 - val_loss: 0.6683 - val_accuracy: 0.6040\n",
      "Epoch 3/25\n",
      "800/800 [==============================] - 680s 849ms/step - loss: 0.6687 - accuracy: 0.5947 - val_loss: 0.6459 - val_accuracy: 0.6740\n",
      "Epoch 4/25\n",
      "800/800 [==============================] - 673s 841ms/step - loss: 0.6483 - accuracy: 0.6365 - val_loss: 0.6195 - val_accuracy: 0.6940\n",
      "Epoch 5/25\n",
      "800/800 [==============================] - 665s 831ms/step - loss: 0.6220 - accuracy: 0.6660 - val_loss: 0.6011 - val_accuracy: 0.7060\n",
      "Epoch 6/25\n",
      "800/800 [==============================] - 683s 854ms/step - loss: 0.5964 - accuracy: 0.6860 - val_loss: 0.5817 - val_accuracy: 0.7020\n",
      "Epoch 7/25\n",
      "800/800 [==============================] - 685s 857ms/step - loss: 0.5904 - accuracy: 0.6921 - val_loss: 0.5649 - val_accuracy: 0.7200\n",
      "Epoch 8/25\n",
      "800/800 [==============================] - 686s 858ms/step - loss: 0.5688 - accuracy: 0.7098 - val_loss: 0.5504 - val_accuracy: 0.7260\n",
      "Epoch 9/25\n",
      "800/800 [==============================] - 687s 859ms/step - loss: 0.5630 - accuracy: 0.7121 - val_loss: 0.5417 - val_accuracy: 0.7300\n",
      "Epoch 10/25\n",
      "800/800 [==============================] - 689s 861ms/step - loss: 0.5592 - accuracy: 0.7205 - val_loss: 0.5319 - val_accuracy: 0.7300\n",
      "Epoch 11/25\n",
      "800/800 [==============================] - 690s 862ms/step - loss: 0.5379 - accuracy: 0.7315 - val_loss: 0.5235 - val_accuracy: 0.7360\n",
      "Epoch 12/25\n",
      "800/800 [==============================] - 690s 862ms/step - loss: 0.5381 - accuracy: 0.7248 - val_loss: 0.5170 - val_accuracy: 0.7380\n",
      "Epoch 13/25\n",
      "800/800 [==============================] - 690s 862ms/step - loss: 0.5270 - accuracy: 0.7318 - val_loss: 0.5136 - val_accuracy: 0.7360\n",
      "Epoch 14/25\n",
      "800/800 [==============================] - 684s 855ms/step - loss: 0.5245 - accuracy: 0.7428 - val_loss: 0.5137 - val_accuracy: 0.7340\n",
      "Epoch 15/25\n",
      "800/800 [==============================] - 684s 856ms/step - loss: 0.5355 - accuracy: 0.7338 - val_loss: 0.5117 - val_accuracy: 0.7380\n",
      "Epoch 16/25\n",
      "800/800 [==============================] - 685s 857ms/step - loss: 0.5165 - accuracy: 0.7395 - val_loss: 0.4997 - val_accuracy: 0.7360\n",
      "Epoch 17/25\n",
      "800/800 [==============================] - 687s 858ms/step - loss: 0.5082 - accuracy: 0.7414 - val_loss: 0.5006 - val_accuracy: 0.7360\n",
      "Epoch 18/25\n",
      "800/800 [==============================] - 688s 860ms/step - loss: 0.5359 - accuracy: 0.7417 - val_loss: 0.4947 - val_accuracy: 0.7380\n",
      "Epoch 19/25\n",
      "800/800 [==============================] - 684s 855ms/step - loss: 0.5112 - accuracy: 0.7510 - val_loss: 0.4950 - val_accuracy: 0.7420\n",
      "Epoch 20/25\n",
      "800/800 [==============================] - 677s 846ms/step - loss: 0.5086 - accuracy: 0.7497 - val_loss: 0.4904 - val_accuracy: 0.7360\n",
      "Epoch 21/25\n",
      "800/800 [==============================] - 678s 847ms/step - loss: 0.4939 - accuracy: 0.7605 - val_loss: 0.4948 - val_accuracy: 0.7460\n",
      "Epoch 22/25\n",
      "800/800 [==============================] - 679s 849ms/step - loss: 0.5092 - accuracy: 0.7464 - val_loss: 0.4879 - val_accuracy: 0.7400\n",
      "Epoch 23/25\n",
      "800/800 [==============================] - 680s 850ms/step - loss: 0.4863 - accuracy: 0.7660 - val_loss: 0.4881 - val_accuracy: 0.7460\n",
      "Epoch 24/25\n",
      "800/800 [==============================] - 682s 852ms/step - loss: 0.5061 - accuracy: 0.7544 - val_loss: 0.4894 - val_accuracy: 0.7480\n",
      "Epoch 25/25\n",
      "800/800 [==============================] - 683s 853ms/step - loss: 0.5055 - accuracy: 0.7455 - val_loss: 0.4873 - val_accuracy: 0.7420\n"
     ]
    }
   ],
   "source": [
    "loss = tf.keras.losses.SparseCategoricalCrossentropy(from_logits=True)\n",
    "metric = tf.keras.metrics.SparseCategoricalAccuracy('accuracy')\n",
    "optimizer = tf.keras.optimizers.Adam(learning_rate=2e-07, epsilon=1e-08)\n",
    "\n",
    "model.compile(optimizer=optimizer, loss=loss, metrics=[metric])\n",
    "history = model.fit(x = train_data, \n",
    "          y = train_labels,\n",
    "          validation_data= (val_data, val_labels), \n",
    "          epochs = 25, \n",
    "          batch_size = 5)"
   ]
  },
  {
   "cell_type": "code",
   "execution_count": 20,
   "metadata": {},
   "outputs": [
    {
     "data": {
      "image/png": "[encoded data removed]",
      "text/plain": [
       "<Figure size 576x576 with 2 Axes>"
      ]
     },
     "metadata": {
      "needs_background": "light"
     },
     "output_type": "display_data"
    }
   ],
   "source": [
    "acc = history.history['accuracy']\n",
    "val_acc = history.history['val_accuracy']\n",
    "\n",
    "loss = history.history['loss']\n",
    "val_loss = history.history['val_loss']\n",
    "\n",
    "epochs_range = range(25)\n",
    "\n",
    "plt.figure(figsize=(8, 8))\n",
    "plt.subplot(1, 2, 1)\n",
    "plt.plot(epochs_range, acc, label='Training Accuracy')\n",
    "plt.plot(epochs_range, val_acc, label='Validation Accuracy')\n",
    "plt.legend(loc='lower right')\n",
    "plt.title('Training and Validation Accuracy')\n",
    "\n",
    "plt.subplot(1, 2, 2)\n",
    "plt.plot(epochs_range, loss, label='Training Loss')\n",
    "plt.plot(epochs_range, val_loss, label='Validation Loss')\n",
    "plt.legend(loc='upper right')\n",
    "plt.title('Training and Validation Loss')\n",
    "# plt.show()\n",
    "plt.savefig('xlnetlargebinary.jpg')"
   ]
  },
  {
   "cell_type": "code",
   "execution_count": 21,
   "metadata": {},
   "outputs": [
    {
     "data": {
      "text/html": [
       "<div>\n",
       "<style scoped>\n",
       "    .dataframe tbody tr th:only-of-type {\n",
       "        vertical-align: middle;\n",
       "    }\n",
       "\n",
       "    .dataframe tbody tr th {\n",
       "        vertical-align: top;\n",
       "    }\n",
       "\n",
       "    .dataframe thead th {\n",
       "        text-align: right;\n",
       "    }\n",
       "</style>\n",
       "<table border=\"1\" class=\"dataframe\">\n",
       "  <thead>\n",
       "    <tr style=\"text-align: right;\">\n",
       "      <th></th>\n",
       "      <th>Accuracy</th>\n",
       "      <th>ValAccuracy</th>\n",
       "      <th>Loss</th>\n",
       "      <th>Val_loss</th>\n",
       "    </tr>\n",
       "  </thead>\n",
       "  <tbody>\n",
       "    <tr>\n",
       "      <th>0</th>\n",
       "      <td>0.51375</td>\n",
       "      <td>0.568</td>\n",
       "      <td>0.713227</td>\n",
       "      <td>0.680530</td>\n",
       "    </tr>\n",
       "    <tr>\n",
       "      <th>1</th>\n",
       "      <td>0.55500</td>\n",
       "      <td>0.604</td>\n",
       "      <td>0.685114</td>\n",
       "      <td>0.668284</td>\n",
       "    </tr>\n",
       "    <tr>\n",
       "      <th>2</th>\n",
       "      <td>0.60450</td>\n",
       "      <td>0.674</td>\n",
       "      <td>0.662209</td>\n",
       "      <td>0.645876</td>\n",
       "    </tr>\n",
       "    <tr>\n",
       "      <th>3</th>\n",
       "      <td>0.64200</td>\n",
       "      <td>0.694</td>\n",
       "      <td>0.642402</td>\n",
       "      <td>0.619509</td>\n",
       "    </tr>\n",
       "    <tr>\n",
       "      <th>4</th>\n",
       "      <td>0.67750</td>\n",
       "      <td>0.706</td>\n",
       "      <td>0.616118</td>\n",
       "      <td>0.601092</td>\n",
       "    </tr>\n",
       "  </tbody>\n",
       "</table>\n",
       "</div>"
      ],
      "text/plain": [
       "   Accuracy  ValAccuracy      Loss  Val_loss\n",
       "0   0.51375        0.568  0.713227  0.680530\n",
       "1   0.55500        0.604  0.685114  0.668284\n",
       "2   0.60450        0.674  0.662209  0.645876\n",
       "3   0.64200        0.694  0.642402  0.619509\n",
       "4   0.67750        0.706  0.616118  0.601092"
      ]
     },
     "execution_count": 21,
     "metadata": {},
     "output_type": "execute_result"
    }
   ],
   "source": [
    "xlnetmodeldata = pd.DataFrame(list(zip(acc, val_acc, loss, val_loss)),\n",
    "               columns =['Accuracy', 'ValAccuracy', 'Loss', 'Val_loss'])\n",
    "xlnetmodeldata.head()"
   ]
  },
  {
   "cell_type": "code",
   "execution_count": 22,
   "metadata": {},
   "outputs": [],
   "source": [
    "xlnetmodeldata.to_csv(\"xlnetmodeldata.csv\", sep='\\t')"
   ]
  },
  {
   "cell_type": "code",
   "execution_count": 23,
   "metadata": {},
   "outputs": [
    {
     "data": {
      "text/plain": [
       "(110, 16)"
      ]
     },
     "execution_count": 23,
     "metadata": {},
     "output_type": "execute_result"
    }
   ],
   "source": [
    "test_section.shape"
   ]
  },
  {
   "cell_type": "code",
   "execution_count": 24,
   "metadata": {},
   "outputs": [
    {
     "data": {
      "text/plain": [
       "(110, 16)"
      ]
     },
     "execution_count": 24,
     "metadata": {},
     "output_type": "execute_result"
    }
   ],
   "source": [
    "test_section = test_section[:110]\n",
    "test_section.shape"
   ]
  },
  {
   "cell_type": "code",
   "execution_count": 25,
   "metadata": {},
   "outputs": [
    {
     "name": "stderr",
     "output_type": "stream",
     "text": [
      "/usr/local/lib/python3.8/dist-packages/transformers/tokenization_utils_base.py:2068: FutureWarning: The `pad_to_max_length` argument is deprecated and will be removed in a future version, use `padding=True` or `padding='longest'` to pad to the longest sequence in the batch, or use `padding='max_length'` to pad to a max length. In this case, you can give a specific length with `max_length` (e.g. `max_length=45`) or leave max_length to None to pad to the maximal input size of the model (e.g. 512 for Bert).\n",
      "  warnings.warn(\n"
     ]
    },
    {
     "name": "stdout",
     "output_type": "stream",
     "text": [
      "Input ids shape:  (110, 512)\n",
      "Input Masks shape:  (110, 512)\n",
      "Token type ids shape:  (110, 512)\n"
     ]
    }
   ],
   "source": [
    "test_labels = np.asarray(le.transform(test_section['label']))\n",
    "test_inputs = [create_input_array(test_section, tokenizer=tokenizer_transformer)]\n",
    "test_data = convert_inputs_to_tf_dataset(test_inputs)"
   ]
  },
  {
   "cell_type": "code",
   "execution_count": 35,
   "metadata": {},
   "outputs": [
    {
     "name": "stdout",
     "output_type": "stream",
     "text": [
      "Evaluate on test data\n",
      "22/22 [==============================] - 4s 177ms/step - loss: 0.4462 - accuracy: 0.8091\n",
      "test loss, test acc: [0.44617000222206116, 0.8090909123420715]\n"
     ]
    }
   ],
   "source": [
    "print(\"Evaluate on test data\")\n",
    "results = model.evaluate(test_data, test_labels, batch_size=5)\n",
    "print(\"test loss, test acc:\", results)\n"
   ]
  },
  {
   "cell_type": "code",
   "execution_count": 42,
   "metadata": {},
   "outputs": [
    {
     "name": "stderr",
     "output_type": "stream",
     "text": [
      "All model checkpoint layers were used when initializing TFXLNetForSequenceClassification.\n",
      "\n",
      "All the layers of TFXLNetForSequenceClassification were initialized from the model checkpoint at data/experiments/BinaryXLNetmodels.\n",
      "If your task is similar to the task the model of the checkpoint was trained on, you can already use TFXLNetForSequenceClassification for predictions without further training.\n"
     ]
    }
   ],
   "source": [
    "testmodel = TFXLNetForSequenceClassification.from_pretrained(\"data/experiments/BinaryXLNetmodels\", num_labels=len(np.unique(train_labels)))\n"
   ]
  },
  {
   "cell_type": "code",
   "execution_count": 46,
   "metadata": {},
   "outputs": [],
   "source": [
    "loss = tf.keras.losses.SparseCategoricalCrossentropy(from_logits=True)\n",
    "metric = tf.keras.metrics.SparseCategoricalAccuracy('accuracy')\n",
    "optimizer = tf.keras.optimizers.Adam(learning_rate=2e-07, epsilon=1e-08)\n",
    "\n",
    "testmodel.compile(optimizer=optimizer, loss=loss, metrics=[metric])"
   ]
  },
  {
   "cell_type": "code",
   "execution_count": 26,
   "metadata": {},
   "outputs": [
    {
     "name": "stdout",
     "output_type": "stream",
     "text": [
      "WARNING:tensorflow:The parameters `output_attentions`, `output_hidden_states` and `use_cache` cannot be updated when calling a model.They have to be set to True/False in the config object (i.e.: `config=XConfig.from_pretrained('name', output_attentions=True)`).\n"
     ]
    }
   ],
   "source": [
    "# predict probabilities for test set\n",
    "test_probs = model.predict(test_data, batch_size= 1, verbose=0)"
   ]
  },
  {
   "cell_type": "code",
   "execution_count": 27,
   "metadata": {},
   "outputs": [],
   "source": [
    "test_probs = test_probs[\"logits\"]"
   ]
  },
  {
   "cell_type": "code",
   "execution_count": 28,
   "metadata": {},
   "outputs": [],
   "source": [
    "test_classes = np.argmax(test_probs, axis = 1)"
   ]
  },
  {
   "cell_type": "code",
   "execution_count": 29,
   "metadata": {},
   "outputs": [
    {
     "data": {
      "text/plain": [
       "array([0, 0, 0, 0, 0, 0, 0, 0, 0, 0, 0, 1, 1, 0, 0, 0, 1, 0, 1, 1, 1, 1,\n",
       "       1, 1, 1, 1, 0, 1, 1, 0, 0, 1, 1, 1, 1, 1, 1, 1, 0, 1, 1, 1, 1, 1,\n",
       "       1, 1, 1, 0, 1, 1, 1, 1, 0, 1, 1, 0, 0, 1, 1, 0, 0, 1, 1, 1, 0, 0,\n",
       "       1, 0, 0, 0, 0, 1, 0, 1, 1, 1, 1, 1, 1, 1, 1, 1, 0, 0, 1, 1, 1, 1,\n",
       "       1, 1, 0, 0, 0, 0, 1, 1, 1, 1, 1, 0, 1, 1, 1, 1, 0, 0, 0, 1, 1, 0])"
      ]
     },
     "execution_count": 29,
     "metadata": {},
     "output_type": "execute_result"
    }
   ],
   "source": [
    "test_classes"
   ]
  },
  {
   "cell_type": "code",
   "execution_count": 30,
   "metadata": {},
   "outputs": [
    {
     "data": {
      "text/plain": [
       "array([0, 1, 0, 0, 0, 1, 0, 0, 0, 1, 0, 0, 1, 0, 0, 0, 0, 0, 0, 1, 1, 0,\n",
       "       1, 1, 0, 0, 0, 1, 1, 0, 0, 1, 1, 1, 1, 1, 1, 1, 0, 1, 1, 1, 1, 1,\n",
       "       1, 1, 1, 0, 1, 1, 0, 0, 0, 1, 1, 1, 0, 1, 1, 0, 0, 1, 1, 0, 0, 0,\n",
       "       1, 0, 0, 1, 0, 1, 0, 1, 0, 1, 1, 1, 1, 1, 1, 1, 0, 0, 1, 1, 1, 1,\n",
       "       1, 1, 1, 0, 0, 1, 1, 1, 1, 1, 1, 0, 1, 0, 1, 0, 0, 0, 1, 0, 1, 0])"
      ]
     },
     "execution_count": 30,
     "metadata": {},
     "output_type": "execute_result"
    }
   ],
   "source": [
    "test_labels"
   ]
  },
  {
   "cell_type": "code",
   "execution_count": 31,
   "metadata": {},
   "outputs": [
    {
     "name": "stdout",
     "output_type": "stream",
     "text": [
      "Test accuracy:\n",
      "0.8090909090909091\n"
     ]
    }
   ],
   "source": [
    "c=0\n",
    "for i in range(test_classes.shape[0]):\n",
    "    if test_classes[i]==test_labels[i]:\n",
    "        c+=1\n",
    "print(\"Test accuracy:\")\n",
    "print(c/test_labels.shape[0])"
   ]
  },
  {
   "cell_type": "code",
   "execution_count": 32,
   "metadata": {},
   "outputs": [],
   "source": [
    "from sklearn.metrics import accuracy_score\n",
    "from sklearn.metrics import precision_score\n",
    "from sklearn.metrics import recall_score\n",
    "from sklearn.metrics import f1_score\n",
    "from sklearn.metrics import cohen_kappa_score\n",
    "from sklearn.metrics import roc_auc_score\n",
    "from sklearn.metrics import confusion_matrix"
   ]
  },
  {
   "cell_type": "code",
   "execution_count": 33,
   "metadata": {},
   "outputs": [
    {
     "name": "stdout",
     "output_type": "stream",
     "text": [
      "Accuracy: 0.809091\n",
      "Precision: 0.805970\n",
      "Recall: 0.870968\n",
      "F1 score: 0.837209\n"
     ]
    }
   ],
   "source": [
    "# accuracy: (tp + tn) / (p + n)\n",
    "accuracy = accuracy_score(test_labels, test_classes)\n",
    "print('Accuracy: %f' % accuracy)\n",
    "# precision tp / (tp + fp)\n",
    "precision = precision_score(test_labels, test_classes)\n",
    "print('Precision: %f' % precision)\n",
    "# recall: tp / (tp + fn)\n",
    "recall = recall_score(test_labels, test_classes)\n",
    "print('Recall: %f' % recall)\n",
    "# f1: 2 tp / (2 tp + fp + fn)\n",
    "f1 = f1_score(test_labels, test_classes)\n",
    "print('F1 score: %f' % f1)\n",
    " "
   ]
  },
  {
   "cell_type": "code",
   "execution_count": 71,
   "metadata": {},
   "outputs": [],
   "source": [
    "train_section.to_csv(\"train_dataset.csv\", sep='\\t')\n",
    "val_section.to_csv(\"val_dataset.csv\", sep='\\t')\n",
    "test_section.to_csv(\"test_dataset.csv\", sep='\\t')"
   ]
  },
  {
   "cell_type": "code",
   "execution_count": null,
   "metadata": {},
   "outputs": [],
   "source": []
  },
  {
   "cell_type": "code",
   "execution_count": 34,
   "metadata": {},
   "outputs": [],
   "source": [
    "model.save_pretrained(save_path)"
   ]
  },
  {
   "cell_type": "code",
   "execution_count": null,
   "metadata": {},
   "outputs": [],
   "source": []
  },
  {
   "cell_type": "code",
   "execution_count": 77,
   "metadata": {},
   "outputs": [],
   "source": [
    "tf.keras.backend.clear_session()"
   ]
  },
  {
   "cell_type": "code",
   "execution_count": null,
   "metadata": {},
   "outputs": [],
   "source": []
  },
  {
   "cell_type": "code",
   "execution_count": null,
   "metadata": {},
   "outputs": [],
   "source": []
  },
  {
   "cell_type": "code",
   "execution_count": null,
   "metadata": {},
   "outputs": [],
   "source": []
  },
  {
   "cell_type": "code",
   "execution_count": null,
   "metadata": {},
   "outputs": [],
   "source": []
  },
  {
   "cell_type": "code",
   "execution_count": null,
   "metadata": {},
   "outputs": [],
   "source": []
  },
  {
   "cell_type": "code",
   "execution_count": null,
   "metadata": {},
   "outputs": [],
   "source": []
  }
 ],
 "metadata": {
  "kernelspec": {
   "display_name": "Python 3",
   "language": "python",
   "name": "python3"
  },
  "language_info": {
   "codemirror_mode": {
    "name": "ipython",
    "version": 3
   },
   "file_extension": ".py",
   "mimetype": "text/x-python",
   "name": "python",
   "nbconvert_exporter": "python",
   "pygments_lexer": "ipython3",
   "version": "3.8.5"
  }
 },
 "nbformat": 4,
 "nbformat_minor": 5
}
