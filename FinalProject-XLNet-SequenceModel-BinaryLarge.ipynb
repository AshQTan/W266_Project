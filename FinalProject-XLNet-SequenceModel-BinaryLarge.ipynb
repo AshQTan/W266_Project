{
 "cells": [
  {
   "cell_type": "code",
   "execution_count": null,
   "metadata": {
    "scrolled": true
   },
   "outputs": [],
   "source": [
    "!pip install newspaper3k\n",
    "!pip install pandas\n",
    "!pip install matplotlib\n",
    "!pip install transformers\n",
    "!pip install nltk\n",
    "!pip install sentencepiece\n",
    "!pip install wordpiece\n",
    "!pip install ipywidgets\n",
    "!pip install -U scikit-learn\n",
    "!pip install tqdm\n",
    "!pip install pydot\n",
    "# using nvidia-docker image from https://ngc.nvidia.com/catalog/containers/nvidia:tensorflow/tags\n",
    "# using release 21.02-tf2-py3\""
   ]
  },
  {
   "cell_type": "code",
   "execution_count": 1,
   "metadata": {},
   "outputs": [],
   "source": [
    "import json\n",
    "import pandas as pd\n",
    "import numpy as np\n",
    "import os\n",
    "import sys\n",
    "import tensorflow as tf\n",
    "from time import time\n",
    "import io\n",
    "import re\n",
    "\n",
    "import pickle\n",
    "from csv import reader\n",
    "import matplotlib.pyplot as plt\n",
    "\n",
    "import matplotlib.pyplot as plt\n",
    "from matplotlib import colors\n",
    "from matplotlib.ticker import PercentFormatter\n",
    "\n",
    "from tensorflow.keras import layers\n",
    "from tensorflow.keras.backend import sparse_categorical_crossentropy\n",
    "from tensorflow.keras.layers import Dense, Flatten\n",
    "from tensorflow.keras.utils import plot_model\n",
    "\n",
    "# physical_devices = tf.config.list_physical_devices('GPU') \n",
    "# tf.config.experimental.set_memory_growth(physical_devices[0], True)\n",
    "\n",
    "from datetime import datetime\n",
    "from collections import defaultdict\n",
    "\n",
    "from sklearn.model_selection import train_test_split\n",
    "\n"
   ]
  },
  {
   "cell_type": "code",
   "execution_count": 2,
   "metadata": {},
   "outputs": [
    {
     "name": "stdout",
     "output_type": "stream",
     "text": [
      "Num GPUs Available:  1\n"
     ]
    }
   ],
   "source": [
    "print(\"Num GPUs Available: \", len(tf.config.experimental.list_physical_devices('GPU')))"
   ]
  },
  {
   "cell_type": "code",
   "execution_count": 3,
   "metadata": {},
   "outputs": [
    {
     "data": {
      "text/plain": [
       "[PhysicalDevice(name='/physical_device:CPU:0', device_type='CPU'),\n",
       " PhysicalDevice(name='/physical_device:GPU:0', device_type='GPU')]"
      ]
     },
     "execution_count": 3,
     "metadata": {},
     "output_type": "execute_result"
    }
   ],
   "source": [
    "tf.config.list_physical_devices()"
   ]
  },
  {
   "cell_type": "code",
   "execution_count": 4,
   "metadata": {},
   "outputs": [],
   "source": [
    "from transformers import TFXLNetForSequenceClassification, XLNetTokenizer"
   ]
  },
  {
   "cell_type": "markdown",
   "metadata": {},
   "source": [
    "# Data Exploration"
   ]
  },
  {
   "cell_type": "code",
   "execution_count": 6,
   "metadata": {},
   "outputs": [
    {
     "data": {
      "text/html": [
       "<div>\n",
       "<style scoped>\n",
       "    .dataframe tbody tr th:only-of-type {\n",
       "        vertical-align: middle;\n",
       "    }\n",
       "\n",
       "    .dataframe tbody tr th {\n",
       "        vertical-align: top;\n",
       "    }\n",
       "\n",
       "    .dataframe thead th {\n",
       "        text-align: right;\n",
       "    }\n",
       "</style>\n",
       "<table border=\"1\" class=\"dataframe\">\n",
       "  <thead>\n",
       "    <tr style=\"text-align: right;\">\n",
       "      <th></th>\n",
       "      <th>url</th>\n",
       "      <th>q3</th>\n",
       "      <th>perceived</th>\n",
       "      <th>primary.topic</th>\n",
       "      <th>secondary.topic</th>\n",
       "      <th>democrat.vote</th>\n",
       "      <th>republican.vote</th>\n",
       "      <th>article</th>\n",
       "      <th>length</th>\n",
       "      <th>democrat.bias</th>\n",
       "      <th>republican.bias</th>\n",
       "      <th>biaslabel</th>\n",
       "      <th>isbiased</th>\n",
       "      <th>biascategories</th>\n",
       "    </tr>\n",
       "  </thead>\n",
       "  <tbody>\n",
       "    <tr>\n",
       "      <th>0</th>\n",
       "      <td>http://www.usatoday.com/story/news/nation/2013...</td>\n",
       "      <td>other</td>\n",
       "      <td>1</td>\n",
       "      <td>Civil Rights</td>\n",
       "      <td>Civil Rights</td>\n",
       "      <td>Neutral</td>\n",
       "      <td>Neutral</td>\n",
       "      <td>maggie clark pew SOURCE staff writer 21 states...</td>\n",
       "      <td>600</td>\n",
       "      <td>0.0</td>\n",
       "      <td>0.0</td>\n",
       "      <td>Neutral</td>\n",
       "      <td>0</td>\n",
       "      <td>0</td>\n",
       "    </tr>\n",
       "    <tr>\n",
       "      <th>1</th>\n",
       "      <td>http://www.huffingtonpost.com/2013/05/21/senat...</td>\n",
       "      <td>News</td>\n",
       "      <td>0</td>\n",
       "      <td>Civil Rights</td>\n",
       "      <td>Civil Rights</td>\n",
       "      <td>Neutral</td>\n",
       "      <td>Neutral</td>\n",
       "      <td>washington -- the senate judiciary committee a...</td>\n",
       "      <td>600</td>\n",
       "      <td>0.0</td>\n",
       "      <td>0.0</td>\n",
       "      <td>Neutral</td>\n",
       "      <td>0</td>\n",
       "      <td>0</td>\n",
       "    </tr>\n",
       "    <tr>\n",
       "      <th>2</th>\n",
       "      <td>http://www.washingtonpost.com/opinions/dont-le...</td>\n",
       "      <td>Opinion</td>\n",
       "      <td>1</td>\n",
       "      <td>Civil Rights</td>\n",
       "      <td>Civil Rights</td>\n",
       "      <td>Neutral</td>\n",
       "      <td>Neutral</td>\n",
       "      <td>david cole is a professor of constitutional la...</td>\n",
       "      <td>600</td>\n",
       "      <td>0.0</td>\n",
       "      <td>0.0</td>\n",
       "      <td>Neutral</td>\n",
       "      <td>0</td>\n",
       "      <td>0</td>\n",
       "    </tr>\n",
       "    <tr>\n",
       "      <th>3</th>\n",
       "      <td>http://www.foxnews.com/politics/2013/04/03/oba...</td>\n",
       "      <td>Opinion</td>\n",
       "      <td>1</td>\n",
       "      <td>Civil Rights</td>\n",
       "      <td>Civil Rights</td>\n",
       "      <td>Neutral</td>\n",
       "      <td>Neutral</td>\n",
       "      <td>parts of obamacare are starting to fray, even ...</td>\n",
       "      <td>600</td>\n",
       "      <td>0.0</td>\n",
       "      <td>0.0</td>\n",
       "      <td>Neutral</td>\n",
       "      <td>0</td>\n",
       "      <td>0</td>\n",
       "    </tr>\n",
       "    <tr>\n",
       "      <th>4</th>\n",
       "      <td>http://www.breitbart.com/Big-Government/2013/1...</td>\n",
       "      <td>Opinion</td>\n",
       "      <td>1</td>\n",
       "      <td>Civil Rights</td>\n",
       "      <td>Civil Rights</td>\n",
       "      <td>Neutral</td>\n",
       "      <td>Neutral</td>\n",
       "      <td>u.s. immigration citizenship and immigration s...</td>\n",
       "      <td>600</td>\n",
       "      <td>0.0</td>\n",
       "      <td>0.0</td>\n",
       "      <td>Neutral</td>\n",
       "      <td>0</td>\n",
       "      <td>0</td>\n",
       "    </tr>\n",
       "    <tr>\n",
       "      <th>...</th>\n",
       "      <td>...</td>\n",
       "      <td>...</td>\n",
       "      <td>...</td>\n",
       "      <td>...</td>\n",
       "      <td>...</td>\n",
       "      <td>...</td>\n",
       "      <td>...</td>\n",
       "      <td>...</td>\n",
       "      <td>...</td>\n",
       "      <td>...</td>\n",
       "      <td>...</td>\n",
       "      <td>...</td>\n",
       "      <td>...</td>\n",
       "      <td>...</td>\n",
       "    </tr>\n",
       "    <tr>\n",
       "      <th>12345</th>\n",
       "      <td>http://www.washingtonpost.com/opinions/dana-mi...</td>\n",
       "      <td>News</td>\n",
       "      <td>1</td>\n",
       "      <td>Republican Scandals</td>\n",
       "      <td>Republican Scandals</td>\n",
       "      <td>SomewhatPositive</td>\n",
       "      <td>SomewhatNegative</td>\n",
       "      <td>president obama won reelection in part by beat...</td>\n",
       "      <td>600</td>\n",
       "      <td>0.5</td>\n",
       "      <td>-0.5</td>\n",
       "      <td>Liberal</td>\n",
       "      <td>1</td>\n",
       "      <td>1</td>\n",
       "    </tr>\n",
       "    <tr>\n",
       "      <th>12346</th>\n",
       "      <td>http://news.yahoo.com/republicans-hatred-obama...</td>\n",
       "      <td>Opinion</td>\n",
       "      <td>1</td>\n",
       "      <td>Republican Scandals</td>\n",
       "      <td>Republican Scandals</td>\n",
       "      <td>SomewhatPositive</td>\n",
       "      <td>SomewhatNegative</td>\n",
       "      <td>red-faced republicans, circling and preparing ...</td>\n",
       "      <td>600</td>\n",
       "      <td>0.5</td>\n",
       "      <td>-0.5</td>\n",
       "      <td>Liberal</td>\n",
       "      <td>1</td>\n",
       "      <td>1</td>\n",
       "    </tr>\n",
       "    <tr>\n",
       "      <th>12347</th>\n",
       "      <td>http://www.washingtonpost.com/opinions/dana-mi...</td>\n",
       "      <td>News</td>\n",
       "      <td>1</td>\n",
       "      <td>Republican Scandals</td>\n",
       "      <td>Republican Scandals</td>\n",
       "      <td>Neutral</td>\n",
       "      <td>Neutral</td>\n",
       "      <td>rep. steve stockman’s moment as a viable senat...</td>\n",
       "      <td>600</td>\n",
       "      <td>0.0</td>\n",
       "      <td>0.0</td>\n",
       "      <td>Neutral</td>\n",
       "      <td>0</td>\n",
       "      <td>0</td>\n",
       "    </tr>\n",
       "    <tr>\n",
       "      <th>12348</th>\n",
       "      <td>http://www.washingtonpost.com/opinions/ej-dion...</td>\n",
       "      <td>News</td>\n",
       "      <td>1</td>\n",
       "      <td>Republican Scandals</td>\n",
       "      <td>Republican Scandals</td>\n",
       "      <td>SomewhatPositive</td>\n",
       "      <td>SomewhatNegative</td>\n",
       "      <td>we interrupt this highly partisan and ideologi...</td>\n",
       "      <td>600</td>\n",
       "      <td>0.5</td>\n",
       "      <td>-0.5</td>\n",
       "      <td>Liberal</td>\n",
       "      <td>1</td>\n",
       "      <td>1</td>\n",
       "    </tr>\n",
       "    <tr>\n",
       "      <th>12349</th>\n",
       "      <td>http://www.huffingtonpost.com/2013/08/11/this-...</td>\n",
       "      <td>Opinion</td>\n",
       "      <td>1</td>\n",
       "      <td>Republican Scandals</td>\n",
       "      <td>Republican Scandals</td>\n",
       "      <td>SomewhatPositive</td>\n",
       "      <td>SomewhatNegative</td>\n",
       "      <td>file - in this sept. 27, 2012 file photo, dona...</td>\n",
       "      <td>358</td>\n",
       "      <td>0.5</td>\n",
       "      <td>-0.5</td>\n",
       "      <td>Liberal</td>\n",
       "      <td>1</td>\n",
       "      <td>1</td>\n",
       "    </tr>\n",
       "  </tbody>\n",
       "</table>\n",
       "<p>12350 rows × 14 columns</p>\n",
       "</div>"
      ],
      "text/plain": [
       "                                                     url       q3  perceived  \\\n",
       "0      http://www.usatoday.com/story/news/nation/2013...    other          1   \n",
       "1      http://www.huffingtonpost.com/2013/05/21/senat...     News          0   \n",
       "2      http://www.washingtonpost.com/opinions/dont-le...  Opinion          1   \n",
       "3      http://www.foxnews.com/politics/2013/04/03/oba...  Opinion          1   \n",
       "4      http://www.breitbart.com/Big-Government/2013/1...  Opinion          1   \n",
       "...                                                  ...      ...        ...   \n",
       "12345  http://www.washingtonpost.com/opinions/dana-mi...     News          1   \n",
       "12346  http://news.yahoo.com/republicans-hatred-obama...  Opinion          1   \n",
       "12347  http://www.washingtonpost.com/opinions/dana-mi...     News          1   \n",
       "12348  http://www.washingtonpost.com/opinions/ej-dion...     News          1   \n",
       "12349  http://www.huffingtonpost.com/2013/08/11/this-...  Opinion          1   \n",
       "\n",
       "             primary.topic      secondary.topic     democrat.vote  \\\n",
       "0             Civil Rights         Civil Rights           Neutral   \n",
       "1             Civil Rights         Civil Rights           Neutral   \n",
       "2             Civil Rights         Civil Rights           Neutral   \n",
       "3             Civil Rights         Civil Rights           Neutral   \n",
       "4             Civil Rights         Civil Rights           Neutral   \n",
       "...                    ...                  ...               ...   \n",
       "12345  Republican Scandals  Republican Scandals  SomewhatPositive   \n",
       "12346  Republican Scandals  Republican Scandals  SomewhatPositive   \n",
       "12347  Republican Scandals  Republican Scandals           Neutral   \n",
       "12348  Republican Scandals  Republican Scandals  SomewhatPositive   \n",
       "12349  Republican Scandals  Republican Scandals  SomewhatPositive   \n",
       "\n",
       "        republican.vote                                            article  \\\n",
       "0               Neutral  maggie clark pew SOURCE staff writer 21 states...   \n",
       "1               Neutral  washington -- the senate judiciary committee a...   \n",
       "2               Neutral  david cole is a professor of constitutional la...   \n",
       "3               Neutral  parts of obamacare are starting to fray, even ...   \n",
       "4               Neutral  u.s. immigration citizenship and immigration s...   \n",
       "...                 ...                                                ...   \n",
       "12345  SomewhatNegative  president obama won reelection in part by beat...   \n",
       "12346  SomewhatNegative  red-faced republicans, circling and preparing ...   \n",
       "12347           Neutral  rep. steve stockman’s moment as a viable senat...   \n",
       "12348  SomewhatNegative  we interrupt this highly partisan and ideologi...   \n",
       "12349  SomewhatNegative  file - in this sept. 27, 2012 file photo, dona...   \n",
       "\n",
       "       length  democrat.bias  republican.bias biaslabel  isbiased  \\\n",
       "0         600            0.0              0.0   Neutral         0   \n",
       "1         600            0.0              0.0   Neutral         0   \n",
       "2         600            0.0              0.0   Neutral         0   \n",
       "3         600            0.0              0.0   Neutral         0   \n",
       "4         600            0.0              0.0   Neutral         0   \n",
       "...       ...            ...              ...       ...       ...   \n",
       "12345     600            0.5             -0.5   Liberal         1   \n",
       "12346     600            0.5             -0.5   Liberal         1   \n",
       "12347     600            0.0              0.0   Neutral         0   \n",
       "12348     600            0.5             -0.5   Liberal         1   \n",
       "12349     358            0.5             -0.5   Liberal         1   \n",
       "\n",
       "       biascategories  \n",
       "0                   0  \n",
       "1                   0  \n",
       "2                   0  \n",
       "3                   0  \n",
       "4                   0  \n",
       "...               ...  \n",
       "12345               1  \n",
       "12346               1  \n",
       "12347               0  \n",
       "12348               1  \n",
       "12349               1  \n",
       "\n",
       "[12350 rows x 14 columns]"
      ]
     },
     "execution_count": 6,
     "metadata": {},
     "output_type": "execute_result"
    }
   ],
   "source": [
    "data = pd.read_table(\"biaseddata.csv\", sep='\\t', index_col=0)\n",
    "# data = pd.read_table(\"processedbiasdata.csv\", sep='\\t', index_col=0)\n",
    "data"
   ]
  },
  {
   "cell_type": "code",
   "execution_count": 7,
   "metadata": {},
   "outputs": [
    {
     "data": {
      "text/plain": [
       "(12350, 14)"
      ]
     },
     "execution_count": 7,
     "metadata": {},
     "output_type": "execute_result"
    }
   ],
   "source": [
    "data.shape"
   ]
  },
  {
   "cell_type": "code",
   "execution_count": 8,
   "metadata": {},
   "outputs": [
    {
     "name": "stdout",
     "output_type": "stream",
     "text": [
      "(12350, 16)\n"
     ]
    },
    {
     "data": {
      "text/html": [
       "<div>\n",
       "<style scoped>\n",
       "    .dataframe tbody tr th:only-of-type {\n",
       "        vertical-align: middle;\n",
       "    }\n",
       "\n",
       "    .dataframe tbody tr th {\n",
       "        vertical-align: top;\n",
       "    }\n",
       "\n",
       "    .dataframe thead th {\n",
       "        text-align: right;\n",
       "    }\n",
       "</style>\n",
       "<table border=\"1\" class=\"dataframe\">\n",
       "  <thead>\n",
       "    <tr style=\"text-align: right;\">\n",
       "      <th></th>\n",
       "      <th>url</th>\n",
       "      <th>q3</th>\n",
       "      <th>perceived</th>\n",
       "      <th>primary.topic</th>\n",
       "      <th>secondary.topic</th>\n",
       "      <th>democrat.vote</th>\n",
       "      <th>republican.vote</th>\n",
       "      <th>article</th>\n",
       "      <th>length</th>\n",
       "      <th>democrat.bias</th>\n",
       "      <th>republican.bias</th>\n",
       "      <th>biaslabel</th>\n",
       "      <th>isbiased</th>\n",
       "      <th>biascategories</th>\n",
       "      <th>text</th>\n",
       "      <th>label</th>\n",
       "    </tr>\n",
       "  </thead>\n",
       "  <tbody>\n",
       "    <tr>\n",
       "      <th>0</th>\n",
       "      <td>http://www.washingtonpost.com/politics/obama-v...</td>\n",
       "      <td>News</td>\n",
       "      <td>1</td>\n",
       "      <td>Democrat Scandals</td>\n",
       "      <td>None</td>\n",
       "      <td>SomewhatNegative</td>\n",
       "      <td>Neutral</td>\n",
       "      <td>during a joint press conference with turkish p...</td>\n",
       "      <td>600</td>\n",
       "      <td>-0.5</td>\n",
       "      <td>0.0</td>\n",
       "      <td>Somewhat Conservative</td>\n",
       "      <td>1</td>\n",
       "      <td>-1</td>\n",
       "      <td>during a joint press conference with turkish p...</td>\n",
       "      <td>Somewhat Conservative</td>\n",
       "    </tr>\n",
       "    <tr>\n",
       "      <th>1</th>\n",
       "      <td>http://www.huffingtonpost.com/2013/06/06/ny-ti...</td>\n",
       "      <td>News</td>\n",
       "      <td>1</td>\n",
       "      <td>Civil Rights</td>\n",
       "      <td>National Security</td>\n",
       "      <td>Negative</td>\n",
       "      <td>Neutral</td>\n",
       "      <td>the times became one of the more influential v...</td>\n",
       "      <td>285</td>\n",
       "      <td>-1.0</td>\n",
       "      <td>0.0</td>\n",
       "      <td>Conservative</td>\n",
       "      <td>1</td>\n",
       "      <td>-1</td>\n",
       "      <td>the times became one of the more influential v...</td>\n",
       "      <td>Conservative</td>\n",
       "    </tr>\n",
       "    <tr>\n",
       "      <th>2</th>\n",
       "      <td>http://www.foxnews.com/politics/2013/11/28/dem...</td>\n",
       "      <td>Opinion</td>\n",
       "      <td>1</td>\n",
       "      <td>Elections</td>\n",
       "      <td>Healthcare</td>\n",
       "      <td>SomewhatNegative</td>\n",
       "      <td>Neutral</td>\n",
       "      <td>a month after emerging from a government shutd...</td>\n",
       "      <td>600</td>\n",
       "      <td>-0.5</td>\n",
       "      <td>0.0</td>\n",
       "      <td>Somewhat Conservative</td>\n",
       "      <td>1</td>\n",
       "      <td>-1</td>\n",
       "      <td>a month after emerging from a government shutd...</td>\n",
       "      <td>Somewhat Conservative</td>\n",
       "    </tr>\n",
       "    <tr>\n",
       "      <th>3</th>\n",
       "      <td>http://www.foxnews.com/opinion/2013/04/23/immi...</td>\n",
       "      <td>Opinion</td>\n",
       "      <td>0</td>\n",
       "      <td>Civil Rights</td>\n",
       "      <td>None</td>\n",
       "      <td>SomewhatNegative</td>\n",
       "      <td>SomewhatPositive</td>\n",
       "      <td>americans believe in the value of immigration....</td>\n",
       "      <td>600</td>\n",
       "      <td>-0.5</td>\n",
       "      <td>0.5</td>\n",
       "      <td>Conservative</td>\n",
       "      <td>1</td>\n",
       "      <td>-1</td>\n",
       "      <td>americans believe in the value of immigration....</td>\n",
       "      <td>Conservative</td>\n",
       "    </tr>\n",
       "    <tr>\n",
       "      <th>4</th>\n",
       "      <td>http://www.washingtonpost.com/blogs/plum-line/...</td>\n",
       "      <td>News</td>\n",
       "      <td>0</td>\n",
       "      <td>Healthcare</td>\n",
       "      <td>None</td>\n",
       "      <td>Neutral</td>\n",
       "      <td>SomewhatNegative</td>\n",
       "      <td>looking at the polls in that light suddenly sh...</td>\n",
       "      <td>234</td>\n",
       "      <td>0.0</td>\n",
       "      <td>-0.5</td>\n",
       "      <td>Somewhat Liberal</td>\n",
       "      <td>1</td>\n",
       "      <td>1</td>\n",
       "      <td>looking at the polls in that light suddenly sh...</td>\n",
       "      <td>Somewhat Liberal</td>\n",
       "    </tr>\n",
       "  </tbody>\n",
       "</table>\n",
       "</div>"
      ],
      "text/plain": [
       "                                                 url       q3  perceived  \\\n",
       "0  http://www.washingtonpost.com/politics/obama-v...     News          1   \n",
       "1  http://www.huffingtonpost.com/2013/06/06/ny-ti...     News          1   \n",
       "2  http://www.foxnews.com/politics/2013/11/28/dem...  Opinion          1   \n",
       "3  http://www.foxnews.com/opinion/2013/04/23/immi...  Opinion          0   \n",
       "4  http://www.washingtonpost.com/blogs/plum-line/...     News          0   \n",
       "\n",
       "       primary.topic    secondary.topic     democrat.vote   republican.vote  \\\n",
       "0  Democrat Scandals               None  SomewhatNegative           Neutral   \n",
       "1       Civil Rights  National Security          Negative           Neutral   \n",
       "2          Elections         Healthcare  SomewhatNegative           Neutral   \n",
       "3       Civil Rights               None  SomewhatNegative  SomewhatPositive   \n",
       "4         Healthcare               None           Neutral  SomewhatNegative   \n",
       "\n",
       "                                             article  length  democrat.bias  \\\n",
       "0  during a joint press conference with turkish p...     600           -0.5   \n",
       "1  the times became one of the more influential v...     285           -1.0   \n",
       "2  a month after emerging from a government shutd...     600           -0.5   \n",
       "3  americans believe in the value of immigration....     600           -0.5   \n",
       "4  looking at the polls in that light suddenly sh...     234            0.0   \n",
       "\n",
       "   republican.bias              biaslabel  isbiased  biascategories  \\\n",
       "0              0.0  Somewhat Conservative         1              -1   \n",
       "1              0.0           Conservative         1              -1   \n",
       "2              0.0  Somewhat Conservative         1              -1   \n",
       "3              0.5           Conservative         1              -1   \n",
       "4             -0.5       Somewhat Liberal         1               1   \n",
       "\n",
       "                                                text                  label  \n",
       "0  during a joint press conference with turkish p...  Somewhat Conservative  \n",
       "1  the times became one of the more influential v...           Conservative  \n",
       "2  a month after emerging from a government shutd...  Somewhat Conservative  \n",
       "3  americans believe in the value of immigration....           Conservative  \n",
       "4  looking at the polls in that light suddenly sh...       Somewhat Liberal  "
      ]
     },
     "execution_count": 8,
     "metadata": {},
     "output_type": "execute_result"
    }
   ],
   "source": [
    "# tfdf = data[['article','biaslabel']]\n",
    "tfdf = data.sample(frac=1)\n",
    "tfdf['text'] = data['article']\n",
    "tfdf['label'] = data['biaslabel']\n",
    "# tfdf['label'] = data['democrat.vote']\n",
    "# tfdf = tfdf[['text','label']]\n",
    "# tfdf = tfdf.sample(frac=1)\n",
    "tfdf = tfdf.reset_index(drop=True)\n",
    "\n",
    "print(tfdf.shape)\n",
    "tfdf.head()"
   ]
  },
  {
   "cell_type": "code",
   "execution_count": 9,
   "metadata": {},
   "outputs": [],
   "source": [
    "one_hot_encoded = pd.get_dummies(tfdf['label'])\n",
    "col_names = list(one_hot_encoded.columns)\n",
    "\n",
    "# tfdf = pd.concat([tfdf, one_hot_encoded], axis =1)\n",
    "# tfdf"
   ]
  },
  {
   "cell_type": "code",
   "execution_count": 10,
   "metadata": {},
   "outputs": [
    {
     "data": {
      "text/plain": [
       "['Conservative',\n",
       " 'Liberal',\n",
       " 'Neutral',\n",
       " 'Somewhat Conservative',\n",
       " 'Somewhat Liberal',\n",
       " 'Very Conservative',\n",
       " 'Very Liberal']"
      ]
     },
     "execution_count": 10,
     "metadata": {},
     "output_type": "execute_result"
    }
   ],
   "source": [
    "col_names"
   ]
  },
  {
   "cell_type": "code",
   "execution_count": 11,
   "metadata": {},
   "outputs": [
    {
     "data": {
      "text/html": [
       "<div>\n",
       "<style scoped>\n",
       "    .dataframe tbody tr th:only-of-type {\n",
       "        vertical-align: middle;\n",
       "    }\n",
       "\n",
       "    .dataframe tbody tr th {\n",
       "        vertical-align: top;\n",
       "    }\n",
       "\n",
       "    .dataframe thead th {\n",
       "        text-align: right;\n",
       "    }\n",
       "</style>\n",
       "<table border=\"1\" class=\"dataframe\">\n",
       "  <thead>\n",
       "    <tr style=\"text-align: right;\">\n",
       "      <th></th>\n",
       "      <th>url</th>\n",
       "      <th>q3</th>\n",
       "      <th>perceived</th>\n",
       "      <th>primary.topic</th>\n",
       "      <th>secondary.topic</th>\n",
       "      <th>democrat.vote</th>\n",
       "      <th>republican.vote</th>\n",
       "      <th>article</th>\n",
       "      <th>length</th>\n",
       "      <th>democrat.bias</th>\n",
       "      <th>republican.bias</th>\n",
       "      <th>biaslabel</th>\n",
       "      <th>isbiased</th>\n",
       "      <th>biascategories</th>\n",
       "      <th>text</th>\n",
       "      <th>label</th>\n",
       "    </tr>\n",
       "  </thead>\n",
       "  <tbody>\n",
       "    <tr>\n",
       "      <th>1</th>\n",
       "      <td>http://www.huffingtonpost.com/2013/06/06/ny-ti...</td>\n",
       "      <td>News</td>\n",
       "      <td>1</td>\n",
       "      <td>Civil Rights</td>\n",
       "      <td>National Security</td>\n",
       "      <td>Negative</td>\n",
       "      <td>Neutral</td>\n",
       "      <td>the times became one of the more influential v...</td>\n",
       "      <td>285</td>\n",
       "      <td>-1.0</td>\n",
       "      <td>0.0</td>\n",
       "      <td>Conservative</td>\n",
       "      <td>1</td>\n",
       "      <td>-1</td>\n",
       "      <td>the times became one of the more influential v...</td>\n",
       "      <td>Conservative</td>\n",
       "    </tr>\n",
       "    <tr>\n",
       "      <th>3</th>\n",
       "      <td>http://www.foxnews.com/opinion/2013/04/23/immi...</td>\n",
       "      <td>Opinion</td>\n",
       "      <td>0</td>\n",
       "      <td>Civil Rights</td>\n",
       "      <td>None</td>\n",
       "      <td>SomewhatNegative</td>\n",
       "      <td>SomewhatPositive</td>\n",
       "      <td>americans believe in the value of immigration....</td>\n",
       "      <td>600</td>\n",
       "      <td>-0.5</td>\n",
       "      <td>0.5</td>\n",
       "      <td>Conservative</td>\n",
       "      <td>1</td>\n",
       "      <td>-1</td>\n",
       "      <td>americans believe in the value of immigration....</td>\n",
       "      <td>Conservative</td>\n",
       "    </tr>\n",
       "    <tr>\n",
       "      <th>5</th>\n",
       "      <td>http://www.usatoday.com/story/opinion/2013/02/...</td>\n",
       "      <td>other</td>\n",
       "      <td>1</td>\n",
       "      <td>Economy</td>\n",
       "      <td>Economy</td>\n",
       "      <td>Neutral</td>\n",
       "      <td>Neutral</td>\n",
       "      <td>fredric rolando  the effort by postmaster gene...</td>\n",
       "      <td>390</td>\n",
       "      <td>0.0</td>\n",
       "      <td>0.0</td>\n",
       "      <td>Neutral</td>\n",
       "      <td>0</td>\n",
       "      <td>0</td>\n",
       "      <td>fredric rolando  the effort by postmaster gene...</td>\n",
       "      <td>Neutral</td>\n",
       "    </tr>\n",
       "    <tr>\n",
       "      <th>6</th>\n",
       "      <td>http://www.huffingtonpost.com/2013/05/01/pat-t...</td>\n",
       "      <td>Opinion</td>\n",
       "      <td>1</td>\n",
       "      <td>Gun Rights Regulation</td>\n",
       "      <td>None</td>\n",
       "      <td>SomewhatPositive</td>\n",
       "      <td>Negative</td>\n",
       "      <td>sen. pat toomey (r-pa.) revealed that some mem...</td>\n",
       "      <td>398</td>\n",
       "      <td>0.5</td>\n",
       "      <td>-1.0</td>\n",
       "      <td>Very Liberal</td>\n",
       "      <td>1</td>\n",
       "      <td>1</td>\n",
       "      <td>sen. pat toomey (r-pa.) revealed that some mem...</td>\n",
       "      <td>Very Liberal</td>\n",
       "    </tr>\n",
       "    <tr>\n",
       "      <th>7</th>\n",
       "      <td>http://www.foxnews.com/us/2013/07/05/terrorist...</td>\n",
       "      <td>News</td>\n",
       "      <td>0</td>\n",
       "      <td>National Security</td>\n",
       "      <td>International News</td>\n",
       "      <td>Neutral</td>\n",
       "      <td>Neutral</td>\n",
       "      <td>a kansas city man and two other aspiring holy ...</td>\n",
       "      <td>600</td>\n",
       "      <td>0.0</td>\n",
       "      <td>0.0</td>\n",
       "      <td>Neutral</td>\n",
       "      <td>0</td>\n",
       "      <td>0</td>\n",
       "      <td>a kansas city man and two other aspiring holy ...</td>\n",
       "      <td>Neutral</td>\n",
       "    </tr>\n",
       "    <tr>\n",
       "      <th>...</th>\n",
       "      <td>...</td>\n",
       "      <td>...</td>\n",
       "      <td>...</td>\n",
       "      <td>...</td>\n",
       "      <td>...</td>\n",
       "      <td>...</td>\n",
       "      <td>...</td>\n",
       "      <td>...</td>\n",
       "      <td>...</td>\n",
       "      <td>...</td>\n",
       "      <td>...</td>\n",
       "      <td>...</td>\n",
       "      <td>...</td>\n",
       "      <td>...</td>\n",
       "      <td>...</td>\n",
       "      <td>...</td>\n",
       "    </tr>\n",
       "    <tr>\n",
       "      <th>12342</th>\n",
       "      <td>http://news.yahoo.com/world-welcomes-us-budget...</td>\n",
       "      <td>News</td>\n",
       "      <td>1</td>\n",
       "      <td>Economy</td>\n",
       "      <td>None</td>\n",
       "      <td>Neutral</td>\n",
       "      <td>Neutral</td>\n",
       "      <td>london (ap) — the world's disbelief at the pol...</td>\n",
       "      <td>600</td>\n",
       "      <td>0.0</td>\n",
       "      <td>0.0</td>\n",
       "      <td>Neutral</td>\n",
       "      <td>0</td>\n",
       "      <td>0</td>\n",
       "      <td>london (ap) — the world's disbelief at the pol...</td>\n",
       "      <td>Neutral</td>\n",
       "    </tr>\n",
       "    <tr>\n",
       "      <th>12345</th>\n",
       "      <td>http://www.breitbart.com/Big-Journalism/2013/0...</td>\n",
       "      <td>News</td>\n",
       "      <td>0</td>\n",
       "      <td>Education</td>\n",
       "      <td>None</td>\n",
       "      <td>Neutral</td>\n",
       "      <td>Neutral</td>\n",
       "      <td>the mainstream media in the united states have...</td>\n",
       "      <td>295</td>\n",
       "      <td>0.0</td>\n",
       "      <td>0.0</td>\n",
       "      <td>Neutral</td>\n",
       "      <td>0</td>\n",
       "      <td>0</td>\n",
       "      <td>the mainstream media in the united states have...</td>\n",
       "      <td>Neutral</td>\n",
       "    </tr>\n",
       "    <tr>\n",
       "      <th>12347</th>\n",
       "      <td>http://news.yahoo.com/nc-protests-split-bibles...</td>\n",
       "      <td>News</td>\n",
       "      <td>0</td>\n",
       "      <td>Civil Rights</td>\n",
       "      <td>None</td>\n",
       "      <td>Neutral</td>\n",
       "      <td>Neutral</td>\n",
       "      <td>raleigh, n.c. (ap) — over the last two months,...</td>\n",
       "      <td>600</td>\n",
       "      <td>0.0</td>\n",
       "      <td>0.0</td>\n",
       "      <td>Neutral</td>\n",
       "      <td>0</td>\n",
       "      <td>0</td>\n",
       "      <td>raleigh, n.c. (ap) — over the last two months,...</td>\n",
       "      <td>Neutral</td>\n",
       "    </tr>\n",
       "    <tr>\n",
       "      <th>12348</th>\n",
       "      <td>http://www.nytimes.com/2013/12/01/us/politics/...</td>\n",
       "      <td>News</td>\n",
       "      <td>1</td>\n",
       "      <td>Healthcare</td>\n",
       "      <td>None</td>\n",
       "      <td>Neutral</td>\n",
       "      <td>Neutral</td>\n",
       "      <td>when the problems occur — and they still do — ...</td>\n",
       "      <td>386</td>\n",
       "      <td>0.0</td>\n",
       "      <td>0.0</td>\n",
       "      <td>Neutral</td>\n",
       "      <td>0</td>\n",
       "      <td>0</td>\n",
       "      <td>when the problems occur — and they still do — ...</td>\n",
       "      <td>Neutral</td>\n",
       "    </tr>\n",
       "    <tr>\n",
       "      <th>12349</th>\n",
       "      <td>http://www.nytimes.com/2013/06/02/opinion/sund...</td>\n",
       "      <td>Opinion</td>\n",
       "      <td>0</td>\n",
       "      <td>International News</td>\n",
       "      <td>National Security</td>\n",
       "      <td>SomewhatPositive</td>\n",
       "      <td>SomewhatNegative</td>\n",
       "      <td>for instance, china won’t sharply reduce green...</td>\n",
       "      <td>422</td>\n",
       "      <td>0.5</td>\n",
       "      <td>-0.5</td>\n",
       "      <td>Liberal</td>\n",
       "      <td>1</td>\n",
       "      <td>1</td>\n",
       "      <td>for instance, china won’t sharply reduce green...</td>\n",
       "      <td>Liberal</td>\n",
       "    </tr>\n",
       "  </tbody>\n",
       "</table>\n",
       "<p>9220 rows × 16 columns</p>\n",
       "</div>"
      ],
      "text/plain": [
       "                                                     url       q3  perceived  \\\n",
       "1      http://www.huffingtonpost.com/2013/06/06/ny-ti...     News          1   \n",
       "3      http://www.foxnews.com/opinion/2013/04/23/immi...  Opinion          0   \n",
       "5      http://www.usatoday.com/story/opinion/2013/02/...    other          1   \n",
       "6      http://www.huffingtonpost.com/2013/05/01/pat-t...  Opinion          1   \n",
       "7      http://www.foxnews.com/us/2013/07/05/terrorist...     News          0   \n",
       "...                                                  ...      ...        ...   \n",
       "12342  http://news.yahoo.com/world-welcomes-us-budget...     News          1   \n",
       "12345  http://www.breitbart.com/Big-Journalism/2013/0...     News          0   \n",
       "12347  http://news.yahoo.com/nc-protests-split-bibles...     News          0   \n",
       "12348  http://www.nytimes.com/2013/12/01/us/politics/...     News          1   \n",
       "12349  http://www.nytimes.com/2013/06/02/opinion/sund...  Opinion          0   \n",
       "\n",
       "               primary.topic     secondary.topic     democrat.vote  \\\n",
       "1               Civil Rights   National Security          Negative   \n",
       "3               Civil Rights                None  SomewhatNegative   \n",
       "5                    Economy             Economy           Neutral   \n",
       "6      Gun Rights Regulation                None  SomewhatPositive   \n",
       "7          National Security  International News           Neutral   \n",
       "...                      ...                 ...               ...   \n",
       "12342                Economy                None           Neutral   \n",
       "12345              Education                None           Neutral   \n",
       "12347           Civil Rights                None           Neutral   \n",
       "12348             Healthcare                None           Neutral   \n",
       "12349     International News   National Security  SomewhatPositive   \n",
       "\n",
       "        republican.vote                                            article  \\\n",
       "1               Neutral  the times became one of the more influential v...   \n",
       "3      SomewhatPositive  americans believe in the value of immigration....   \n",
       "5               Neutral  fredric rolando  the effort by postmaster gene...   \n",
       "6              Negative  sen. pat toomey (r-pa.) revealed that some mem...   \n",
       "7               Neutral  a kansas city man and two other aspiring holy ...   \n",
       "...                 ...                                                ...   \n",
       "12342           Neutral  london (ap) — the world's disbelief at the pol...   \n",
       "12345           Neutral  the mainstream media in the united states have...   \n",
       "12347           Neutral  raleigh, n.c. (ap) — over the last two months,...   \n",
       "12348           Neutral  when the problems occur — and they still do — ...   \n",
       "12349  SomewhatNegative  for instance, china won’t sharply reduce green...   \n",
       "\n",
       "       length  democrat.bias  republican.bias     biaslabel  isbiased  \\\n",
       "1         285           -1.0              0.0  Conservative         1   \n",
       "3         600           -0.5              0.5  Conservative         1   \n",
       "5         390            0.0              0.0       Neutral         0   \n",
       "6         398            0.5             -1.0  Very Liberal         1   \n",
       "7         600            0.0              0.0       Neutral         0   \n",
       "...       ...            ...              ...           ...       ...   \n",
       "12342     600            0.0              0.0       Neutral         0   \n",
       "12345     295            0.0              0.0       Neutral         0   \n",
       "12347     600            0.0              0.0       Neutral         0   \n",
       "12348     386            0.0              0.0       Neutral         0   \n",
       "12349     422            0.5             -0.5       Liberal         1   \n",
       "\n",
       "       biascategories                                               text  \\\n",
       "1                  -1  the times became one of the more influential v...   \n",
       "3                  -1  americans believe in the value of immigration....   \n",
       "5                   0  fredric rolando  the effort by postmaster gene...   \n",
       "6                   1  sen. pat toomey (r-pa.) revealed that some mem...   \n",
       "7                   0  a kansas city man and two other aspiring holy ...   \n",
       "...               ...                                                ...   \n",
       "12342               0  london (ap) — the world's disbelief at the pol...   \n",
       "12345               0  the mainstream media in the united states have...   \n",
       "12347               0  raleigh, n.c. (ap) — over the last two months,...   \n",
       "12348               0  when the problems occur — and they still do — ...   \n",
       "12349               1  for instance, china won’t sharply reduce green...   \n",
       "\n",
       "              label  \n",
       "1      Conservative  \n",
       "3      Conservative  \n",
       "5           Neutral  \n",
       "6      Very Liberal  \n",
       "7           Neutral  \n",
       "...             ...  \n",
       "12342       Neutral  \n",
       "12345       Neutral  \n",
       "12347       Neutral  \n",
       "12348       Neutral  \n",
       "12349       Liberal  \n",
       "\n",
       "[9220 rows x 16 columns]"
      ]
     },
     "execution_count": 11,
     "metadata": {},
     "output_type": "execute_result"
    }
   ],
   "source": [
    "tfdf = tfdf[(tfdf['label']!='Somewhat Conservative') & (tfdf['label']!='Somewhat Liberal')]\n",
    "tfdf"
   ]
  },
  {
   "cell_type": "code",
   "execution_count": 12,
   "metadata": {},
   "outputs": [
    {
     "data": {
      "text/plain": [
       "<AxesSubplot:>"
      ]
     },
     "execution_count": 12,
     "metadata": {},
     "output_type": "execute_result"
    },
    {
     "data": {
      "image/png": "[encoded data removed]",
      "text/plain": [
       "<Figure size 432x288 with 1 Axes>"
      ]
     },
     "metadata": {
      "needs_background": "light"
     },
     "output_type": "display_data"
    }
   ],
   "source": [
    "tfdf[\"label\"].value_counts().plot.bar()"
   ]
  },
  {
   "cell_type": "code",
   "execution_count": 13,
   "metadata": {},
   "outputs": [
    {
     "data": {
      "text/html": [
       "<div>\n",
       "<style scoped>\n",
       "    .dataframe tbody tr th:only-of-type {\n",
       "        vertical-align: middle;\n",
       "    }\n",
       "\n",
       "    .dataframe tbody tr th {\n",
       "        vertical-align: top;\n",
       "    }\n",
       "\n",
       "    .dataframe thead th {\n",
       "        text-align: right;\n",
       "    }\n",
       "</style>\n",
       "<table border=\"1\" class=\"dataframe\">\n",
       "  <thead>\n",
       "    <tr style=\"text-align: right;\">\n",
       "      <th></th>\n",
       "      <th>url</th>\n",
       "      <th>q3</th>\n",
       "      <th>perceived</th>\n",
       "      <th>primary.topic</th>\n",
       "      <th>secondary.topic</th>\n",
       "      <th>democrat.vote</th>\n",
       "      <th>republican.vote</th>\n",
       "      <th>article</th>\n",
       "      <th>length</th>\n",
       "      <th>democrat.bias</th>\n",
       "      <th>republican.bias</th>\n",
       "      <th>biaslabel</th>\n",
       "      <th>isbiased</th>\n",
       "      <th>biascategories</th>\n",
       "      <th>text</th>\n",
       "      <th>label</th>\n",
       "    </tr>\n",
       "  </thead>\n",
       "  <tbody>\n",
       "    <tr>\n",
       "      <th>1</th>\n",
       "      <td>http://www.huffingtonpost.com/2013/06/06/ny-ti...</td>\n",
       "      <td>News</td>\n",
       "      <td>1</td>\n",
       "      <td>Civil Rights</td>\n",
       "      <td>National Security</td>\n",
       "      <td>Negative</td>\n",
       "      <td>Neutral</td>\n",
       "      <td>the times became one of the more influential v...</td>\n",
       "      <td>285</td>\n",
       "      <td>-1.0</td>\n",
       "      <td>0.0</td>\n",
       "      <td>Conservative</td>\n",
       "      <td>1</td>\n",
       "      <td>-1</td>\n",
       "      <td>the times became one of the more influential v...</td>\n",
       "      <td>Biased</td>\n",
       "    </tr>\n",
       "    <tr>\n",
       "      <th>3</th>\n",
       "      <td>http://www.foxnews.com/opinion/2013/04/23/immi...</td>\n",
       "      <td>Opinion</td>\n",
       "      <td>0</td>\n",
       "      <td>Civil Rights</td>\n",
       "      <td>None</td>\n",
       "      <td>SomewhatNegative</td>\n",
       "      <td>SomewhatPositive</td>\n",
       "      <td>americans believe in the value of immigration....</td>\n",
       "      <td>600</td>\n",
       "      <td>-0.5</td>\n",
       "      <td>0.5</td>\n",
       "      <td>Conservative</td>\n",
       "      <td>1</td>\n",
       "      <td>-1</td>\n",
       "      <td>americans believe in the value of immigration....</td>\n",
       "      <td>Biased</td>\n",
       "    </tr>\n",
       "    <tr>\n",
       "      <th>5</th>\n",
       "      <td>http://www.usatoday.com/story/opinion/2013/02/...</td>\n",
       "      <td>other</td>\n",
       "      <td>1</td>\n",
       "      <td>Economy</td>\n",
       "      <td>Economy</td>\n",
       "      <td>Neutral</td>\n",
       "      <td>Neutral</td>\n",
       "      <td>fredric rolando  the effort by postmaster gene...</td>\n",
       "      <td>390</td>\n",
       "      <td>0.0</td>\n",
       "      <td>0.0</td>\n",
       "      <td>Neutral</td>\n",
       "      <td>0</td>\n",
       "      <td>0</td>\n",
       "      <td>fredric rolando  the effort by postmaster gene...</td>\n",
       "      <td>Neutral</td>\n",
       "    </tr>\n",
       "    <tr>\n",
       "      <th>6</th>\n",
       "      <td>http://www.huffingtonpost.com/2013/05/01/pat-t...</td>\n",
       "      <td>Opinion</td>\n",
       "      <td>1</td>\n",
       "      <td>Gun Rights Regulation</td>\n",
       "      <td>None</td>\n",
       "      <td>SomewhatPositive</td>\n",
       "      <td>Negative</td>\n",
       "      <td>sen. pat toomey (r-pa.) revealed that some mem...</td>\n",
       "      <td>398</td>\n",
       "      <td>0.5</td>\n",
       "      <td>-1.0</td>\n",
       "      <td>Very Liberal</td>\n",
       "      <td>1</td>\n",
       "      <td>1</td>\n",
       "      <td>sen. pat toomey (r-pa.) revealed that some mem...</td>\n",
       "      <td>Biased</td>\n",
       "    </tr>\n",
       "    <tr>\n",
       "      <th>7</th>\n",
       "      <td>http://www.foxnews.com/us/2013/07/05/terrorist...</td>\n",
       "      <td>News</td>\n",
       "      <td>0</td>\n",
       "      <td>National Security</td>\n",
       "      <td>International News</td>\n",
       "      <td>Neutral</td>\n",
       "      <td>Neutral</td>\n",
       "      <td>a kansas city man and two other aspiring holy ...</td>\n",
       "      <td>600</td>\n",
       "      <td>0.0</td>\n",
       "      <td>0.0</td>\n",
       "      <td>Neutral</td>\n",
       "      <td>0</td>\n",
       "      <td>0</td>\n",
       "      <td>a kansas city man and two other aspiring holy ...</td>\n",
       "      <td>Neutral</td>\n",
       "    </tr>\n",
       "    <tr>\n",
       "      <th>...</th>\n",
       "      <td>...</td>\n",
       "      <td>...</td>\n",
       "      <td>...</td>\n",
       "      <td>...</td>\n",
       "      <td>...</td>\n",
       "      <td>...</td>\n",
       "      <td>...</td>\n",
       "      <td>...</td>\n",
       "      <td>...</td>\n",
       "      <td>...</td>\n",
       "      <td>...</td>\n",
       "      <td>...</td>\n",
       "      <td>...</td>\n",
       "      <td>...</td>\n",
       "      <td>...</td>\n",
       "      <td>...</td>\n",
       "    </tr>\n",
       "    <tr>\n",
       "      <th>12342</th>\n",
       "      <td>http://news.yahoo.com/world-welcomes-us-budget...</td>\n",
       "      <td>News</td>\n",
       "      <td>1</td>\n",
       "      <td>Economy</td>\n",
       "      <td>None</td>\n",
       "      <td>Neutral</td>\n",
       "      <td>Neutral</td>\n",
       "      <td>london (ap) — the world's disbelief at the pol...</td>\n",
       "      <td>600</td>\n",
       "      <td>0.0</td>\n",
       "      <td>0.0</td>\n",
       "      <td>Neutral</td>\n",
       "      <td>0</td>\n",
       "      <td>0</td>\n",
       "      <td>london (ap) — the world's disbelief at the pol...</td>\n",
       "      <td>Neutral</td>\n",
       "    </tr>\n",
       "    <tr>\n",
       "      <th>12345</th>\n",
       "      <td>http://www.breitbart.com/Big-Journalism/2013/0...</td>\n",
       "      <td>News</td>\n",
       "      <td>0</td>\n",
       "      <td>Education</td>\n",
       "      <td>None</td>\n",
       "      <td>Neutral</td>\n",
       "      <td>Neutral</td>\n",
       "      <td>the mainstream media in the united states have...</td>\n",
       "      <td>295</td>\n",
       "      <td>0.0</td>\n",
       "      <td>0.0</td>\n",
       "      <td>Neutral</td>\n",
       "      <td>0</td>\n",
       "      <td>0</td>\n",
       "      <td>the mainstream media in the united states have...</td>\n",
       "      <td>Neutral</td>\n",
       "    </tr>\n",
       "    <tr>\n",
       "      <th>12347</th>\n",
       "      <td>http://news.yahoo.com/nc-protests-split-bibles...</td>\n",
       "      <td>News</td>\n",
       "      <td>0</td>\n",
       "      <td>Civil Rights</td>\n",
       "      <td>None</td>\n",
       "      <td>Neutral</td>\n",
       "      <td>Neutral</td>\n",
       "      <td>raleigh, n.c. (ap) — over the last two months,...</td>\n",
       "      <td>600</td>\n",
       "      <td>0.0</td>\n",
       "      <td>0.0</td>\n",
       "      <td>Neutral</td>\n",
       "      <td>0</td>\n",
       "      <td>0</td>\n",
       "      <td>raleigh, n.c. (ap) — over the last two months,...</td>\n",
       "      <td>Neutral</td>\n",
       "    </tr>\n",
       "    <tr>\n",
       "      <th>12348</th>\n",
       "      <td>http://www.nytimes.com/2013/12/01/us/politics/...</td>\n",
       "      <td>News</td>\n",
       "      <td>1</td>\n",
       "      <td>Healthcare</td>\n",
       "      <td>None</td>\n",
       "      <td>Neutral</td>\n",
       "      <td>Neutral</td>\n",
       "      <td>when the problems occur — and they still do — ...</td>\n",
       "      <td>386</td>\n",
       "      <td>0.0</td>\n",
       "      <td>0.0</td>\n",
       "      <td>Neutral</td>\n",
       "      <td>0</td>\n",
       "      <td>0</td>\n",
       "      <td>when the problems occur — and they still do — ...</td>\n",
       "      <td>Neutral</td>\n",
       "    </tr>\n",
       "    <tr>\n",
       "      <th>12349</th>\n",
       "      <td>http://www.nytimes.com/2013/06/02/opinion/sund...</td>\n",
       "      <td>Opinion</td>\n",
       "      <td>0</td>\n",
       "      <td>International News</td>\n",
       "      <td>National Security</td>\n",
       "      <td>SomewhatPositive</td>\n",
       "      <td>SomewhatNegative</td>\n",
       "      <td>for instance, china won’t sharply reduce green...</td>\n",
       "      <td>422</td>\n",
       "      <td>0.5</td>\n",
       "      <td>-0.5</td>\n",
       "      <td>Liberal</td>\n",
       "      <td>1</td>\n",
       "      <td>1</td>\n",
       "      <td>for instance, china won’t sharply reduce green...</td>\n",
       "      <td>Biased</td>\n",
       "    </tr>\n",
       "  </tbody>\n",
       "</table>\n",
       "<p>9220 rows × 16 columns</p>\n",
       "</div>"
      ],
      "text/plain": [
       "                                                     url       q3  perceived  \\\n",
       "1      http://www.huffingtonpost.com/2013/06/06/ny-ti...     News          1   \n",
       "3      http://www.foxnews.com/opinion/2013/04/23/immi...  Opinion          0   \n",
       "5      http://www.usatoday.com/story/opinion/2013/02/...    other          1   \n",
       "6      http://www.huffingtonpost.com/2013/05/01/pat-t...  Opinion          1   \n",
       "7      http://www.foxnews.com/us/2013/07/05/terrorist...     News          0   \n",
       "...                                                  ...      ...        ...   \n",
       "12342  http://news.yahoo.com/world-welcomes-us-budget...     News          1   \n",
       "12345  http://www.breitbart.com/Big-Journalism/2013/0...     News          0   \n",
       "12347  http://news.yahoo.com/nc-protests-split-bibles...     News          0   \n",
       "12348  http://www.nytimes.com/2013/12/01/us/politics/...     News          1   \n",
       "12349  http://www.nytimes.com/2013/06/02/opinion/sund...  Opinion          0   \n",
       "\n",
       "               primary.topic     secondary.topic     democrat.vote  \\\n",
       "1               Civil Rights   National Security          Negative   \n",
       "3               Civil Rights                None  SomewhatNegative   \n",
       "5                    Economy             Economy           Neutral   \n",
       "6      Gun Rights Regulation                None  SomewhatPositive   \n",
       "7          National Security  International News           Neutral   \n",
       "...                      ...                 ...               ...   \n",
       "12342                Economy                None           Neutral   \n",
       "12345              Education                None           Neutral   \n",
       "12347           Civil Rights                None           Neutral   \n",
       "12348             Healthcare                None           Neutral   \n",
       "12349     International News   National Security  SomewhatPositive   \n",
       "\n",
       "        republican.vote                                            article  \\\n",
       "1               Neutral  the times became one of the more influential v...   \n",
       "3      SomewhatPositive  americans believe in the value of immigration....   \n",
       "5               Neutral  fredric rolando  the effort by postmaster gene...   \n",
       "6              Negative  sen. pat toomey (r-pa.) revealed that some mem...   \n",
       "7               Neutral  a kansas city man and two other aspiring holy ...   \n",
       "...                 ...                                                ...   \n",
       "12342           Neutral  london (ap) — the world's disbelief at the pol...   \n",
       "12345           Neutral  the mainstream media in the united states have...   \n",
       "12347           Neutral  raleigh, n.c. (ap) — over the last two months,...   \n",
       "12348           Neutral  when the problems occur — and they still do — ...   \n",
       "12349  SomewhatNegative  for instance, china won’t sharply reduce green...   \n",
       "\n",
       "       length  democrat.bias  republican.bias     biaslabel  isbiased  \\\n",
       "1         285           -1.0              0.0  Conservative         1   \n",
       "3         600           -0.5              0.5  Conservative         1   \n",
       "5         390            0.0              0.0       Neutral         0   \n",
       "6         398            0.5             -1.0  Very Liberal         1   \n",
       "7         600            0.0              0.0       Neutral         0   \n",
       "...       ...            ...              ...           ...       ...   \n",
       "12342     600            0.0              0.0       Neutral         0   \n",
       "12345     295            0.0              0.0       Neutral         0   \n",
       "12347     600            0.0              0.0       Neutral         0   \n",
       "12348     386            0.0              0.0       Neutral         0   \n",
       "12349     422            0.5             -0.5       Liberal         1   \n",
       "\n",
       "       biascategories                                               text  \\\n",
       "1                  -1  the times became one of the more influential v...   \n",
       "3                  -1  americans believe in the value of immigration....   \n",
       "5                   0  fredric rolando  the effort by postmaster gene...   \n",
       "6                   1  sen. pat toomey (r-pa.) revealed that some mem...   \n",
       "7                   0  a kansas city man and two other aspiring holy ...   \n",
       "...               ...                                                ...   \n",
       "12342               0  london (ap) — the world's disbelief at the pol...   \n",
       "12345               0  the mainstream media in the united states have...   \n",
       "12347               0  raleigh, n.c. (ap) — over the last two months,...   \n",
       "12348               0  when the problems occur — and they still do — ...   \n",
       "12349               1  for instance, china won’t sharply reduce green...   \n",
       "\n",
       "         label  \n",
       "1       Biased  \n",
       "3       Biased  \n",
       "5      Neutral  \n",
       "6       Biased  \n",
       "7      Neutral  \n",
       "...        ...  \n",
       "12342  Neutral  \n",
       "12345  Neutral  \n",
       "12347  Neutral  \n",
       "12348  Neutral  \n",
       "12349   Biased  \n",
       "\n",
       "[9220 rows x 16 columns]"
      ]
     },
     "execution_count": 13,
     "metadata": {},
     "output_type": "execute_result"
    }
   ],
   "source": [
    "tfdf[\"label\"] =  tfdf.apply(lambda row: \"Biased\" if row[\"label\"]!=\"Neutral\" else \"Neutral\", axis = 1)\n",
    "tfdf"
   ]
  },
  {
   "cell_type": "code",
   "execution_count": 14,
   "metadata": {},
   "outputs": [
    {
     "data": {
      "text/plain": [
       "<AxesSubplot:>"
      ]
     },
     "execution_count": 14,
     "metadata": {},
     "output_type": "execute_result"
    },
    {
     "data": {
      "image/png": "[encoded data removed]",
      "text/plain": [
       "<Figure size 432x288 with 1 Axes>"
      ]
     },
     "metadata": {
      "needs_background": "light"
     },
     "output_type": "display_data"
    }
   ],
   "source": [
    "tfdf[\"label\"].value_counts().plot.bar()"
   ]
  },
  {
   "cell_type": "code",
   "execution_count": 15,
   "metadata": {},
   "outputs": [
    {
     "data": {
      "text/plain": [
       "(2306, 16)"
      ]
     },
     "execution_count": 15,
     "metadata": {},
     "output_type": "execute_result"
    }
   ],
   "source": [
    "biaseddata = tfdf[tfdf['label']==\"Biased\"]\n",
    "biaseddata.shape"
   ]
  },
  {
   "cell_type": "code",
   "execution_count": 16,
   "metadata": {},
   "outputs": [
    {
     "data": {
      "text/plain": [
       "(2306, 16)"
      ]
     },
     "execution_count": 16,
     "metadata": {},
     "output_type": "execute_result"
    }
   ],
   "source": [
    "neutraldata = tfdf[tfdf['label']==\"Neutral\"][:biaseddata.shape[0]]\n",
    "neutraldata.shape"
   ]
  },
  {
   "cell_type": "code",
   "execution_count": 17,
   "metadata": {},
   "outputs": [
    {
     "data": {
      "text/html": [
       "<div>\n",
       "<style scoped>\n",
       "    .dataframe tbody tr th:only-of-type {\n",
       "        vertical-align: middle;\n",
       "    }\n",
       "\n",
       "    .dataframe tbody tr th {\n",
       "        vertical-align: top;\n",
       "    }\n",
       "\n",
       "    .dataframe thead th {\n",
       "        text-align: right;\n",
       "    }\n",
       "</style>\n",
       "<table border=\"1\" class=\"dataframe\">\n",
       "  <thead>\n",
       "    <tr style=\"text-align: right;\">\n",
       "      <th></th>\n",
       "      <th>url</th>\n",
       "      <th>q3</th>\n",
       "      <th>perceived</th>\n",
       "      <th>primary.topic</th>\n",
       "      <th>secondary.topic</th>\n",
       "      <th>democrat.vote</th>\n",
       "      <th>republican.vote</th>\n",
       "      <th>article</th>\n",
       "      <th>length</th>\n",
       "      <th>democrat.bias</th>\n",
       "      <th>republican.bias</th>\n",
       "      <th>biaslabel</th>\n",
       "      <th>isbiased</th>\n",
       "      <th>biascategories</th>\n",
       "      <th>text</th>\n",
       "      <th>label</th>\n",
       "    </tr>\n",
       "  </thead>\n",
       "  <tbody>\n",
       "    <tr>\n",
       "      <th>2475</th>\n",
       "      <td>http://www.latimes.com/news/politics/la-pn-ame...</td>\n",
       "      <td>other</td>\n",
       "      <td>0</td>\n",
       "      <td>None</td>\n",
       "      <td>None</td>\n",
       "      <td>Neutral</td>\n",
       "      <td>Neutral</td>\n",
       "      <td>washington – americans are exercising more, bu...</td>\n",
       "      <td>600</td>\n",
       "      <td>0.0</td>\n",
       "      <td>0.0</td>\n",
       "      <td>Neutral</td>\n",
       "      <td>0</td>\n",
       "      <td>0</td>\n",
       "      <td>washington – americans are exercising more, bu...</td>\n",
       "      <td>Neutral</td>\n",
       "    </tr>\n",
       "    <tr>\n",
       "      <th>2852</th>\n",
       "      <td>http://www.washingtonpost.com/national/health-...</td>\n",
       "      <td>other</td>\n",
       "      <td>1</td>\n",
       "      <td>None</td>\n",
       "      <td>None</td>\n",
       "      <td>Neutral</td>\n",
       "      <td>Neutral</td>\n",
       "      <td>bebe bahnsen remembers the night, alone in her...</td>\n",
       "      <td>600</td>\n",
       "      <td>0.0</td>\n",
       "      <td>0.0</td>\n",
       "      <td>Neutral</td>\n",
       "      <td>0</td>\n",
       "      <td>0</td>\n",
       "      <td>bebe bahnsen remembers the night, alone in her...</td>\n",
       "      <td>Neutral</td>\n",
       "    </tr>\n",
       "    <tr>\n",
       "      <th>1922</th>\n",
       "      <td>http://www.foxnews.com/politics/2013/07/08/rep...</td>\n",
       "      <td>News</td>\n",
       "      <td>0</td>\n",
       "      <td>Healthcare</td>\n",
       "      <td>Economy</td>\n",
       "      <td>SomewhatNegative</td>\n",
       "      <td>SomewhatPositive</td>\n",
       "      <td>house republicans are escalating their scrutin...</td>\n",
       "      <td>500</td>\n",
       "      <td>-0.5</td>\n",
       "      <td>0.5</td>\n",
       "      <td>Conservative</td>\n",
       "      <td>1</td>\n",
       "      <td>-1</td>\n",
       "      <td>house republicans are escalating their scrutin...</td>\n",
       "      <td>Biased</td>\n",
       "    </tr>\n",
       "    <tr>\n",
       "      <th>187</th>\n",
       "      <td>http://www.foxnews.com/opinion/2013/12/24/army...</td>\n",
       "      <td>News</td>\n",
       "      <td>0</td>\n",
       "      <td>Civil Rights</td>\n",
       "      <td>None</td>\n",
       "      <td>Neutral</td>\n",
       "      <td>Neutral</td>\n",
       "      <td>don’t say christmas.  that’s the message that ...</td>\n",
       "      <td>542</td>\n",
       "      <td>0.0</td>\n",
       "      <td>0.0</td>\n",
       "      <td>Neutral</td>\n",
       "      <td>0</td>\n",
       "      <td>0</td>\n",
       "      <td>don’t say christmas.  that’s the message that ...</td>\n",
       "      <td>Neutral</td>\n",
       "    </tr>\n",
       "    <tr>\n",
       "      <th>8255</th>\n",
       "      <td>http://www.dailykos.com/story/2013/07/15/12238...</td>\n",
       "      <td>Opinion</td>\n",
       "      <td>0</td>\n",
       "      <td>Economy</td>\n",
       "      <td>Education</td>\n",
       "      <td>SomewhatPositive</td>\n",
       "      <td>Negative</td>\n",
       "      <td>sen. marco rubio  sen. marco rubio  for presid...</td>\n",
       "      <td>439</td>\n",
       "      <td>0.5</td>\n",
       "      <td>-1.0</td>\n",
       "      <td>Very Liberal</td>\n",
       "      <td>1</td>\n",
       "      <td>1</td>\n",
       "      <td>sen. marco rubio  sen. marco rubio  for presid...</td>\n",
       "      <td>Biased</td>\n",
       "    </tr>\n",
       "    <tr>\n",
       "      <th>...</th>\n",
       "      <td>...</td>\n",
       "      <td>...</td>\n",
       "      <td>...</td>\n",
       "      <td>...</td>\n",
       "      <td>...</td>\n",
       "      <td>...</td>\n",
       "      <td>...</td>\n",
       "      <td>...</td>\n",
       "      <td>...</td>\n",
       "      <td>...</td>\n",
       "      <td>...</td>\n",
       "      <td>...</td>\n",
       "      <td>...</td>\n",
       "      <td>...</td>\n",
       "      <td>...</td>\n",
       "      <td>...</td>\n",
       "    </tr>\n",
       "    <tr>\n",
       "      <th>7161</th>\n",
       "      <td>http://www.huffingtonpost.com/2013/07/08/gop-w...</td>\n",
       "      <td>News</td>\n",
       "      <td>1</td>\n",
       "      <td>Economy</td>\n",
       "      <td>None</td>\n",
       "      <td>SomewhatPositive</td>\n",
       "      <td>SomewhatNegative</td>\n",
       "      <td>washington -- the house appropriations committ...</td>\n",
       "      <td>600</td>\n",
       "      <td>0.5</td>\n",
       "      <td>-0.5</td>\n",
       "      <td>Liberal</td>\n",
       "      <td>1</td>\n",
       "      <td>1</td>\n",
       "      <td>washington -- the house appropriations committ...</td>\n",
       "      <td>Biased</td>\n",
       "    </tr>\n",
       "    <tr>\n",
       "      <th>963</th>\n",
       "      <td>http://www.dailykos.com/story/2013/10/21/12494...</td>\n",
       "      <td>News</td>\n",
       "      <td>0</td>\n",
       "      <td>Economy</td>\n",
       "      <td>Healthcare</td>\n",
       "      <td>Neutral</td>\n",
       "      <td>Neutral</td>\n",
       "      <td>our story so far: those who enroll in medicaid...</td>\n",
       "      <td>600</td>\n",
       "      <td>0.0</td>\n",
       "      <td>0.0</td>\n",
       "      <td>Neutral</td>\n",
       "      <td>0</td>\n",
       "      <td>0</td>\n",
       "      <td>our story so far: those who enroll in medicaid...</td>\n",
       "      <td>Neutral</td>\n",
       "    </tr>\n",
       "    <tr>\n",
       "      <th>2086</th>\n",
       "      <td>http://www.breitbart.com/Big-Journalism/2013/0...</td>\n",
       "      <td>Opinion</td>\n",
       "      <td>1</td>\n",
       "      <td>Democrat Scandals</td>\n",
       "      <td>None</td>\n",
       "      <td>Negative</td>\n",
       "      <td>Positive</td>\n",
       "      <td>eight months into president george w. bush’s s...</td>\n",
       "      <td>473</td>\n",
       "      <td>-1.0</td>\n",
       "      <td>1.0</td>\n",
       "      <td>Very Conservative</td>\n",
       "      <td>1</td>\n",
       "      <td>-1</td>\n",
       "      <td>eight months into president george w. bush’s s...</td>\n",
       "      <td>Biased</td>\n",
       "    </tr>\n",
       "    <tr>\n",
       "      <th>2997</th>\n",
       "      <td>http://www.foxnews.com/politics/2013/02/03/flo...</td>\n",
       "      <td>News</td>\n",
       "      <td>1</td>\n",
       "      <td>Economy</td>\n",
       "      <td>None</td>\n",
       "      <td>Neutral</td>\n",
       "      <td>Neutral</td>\n",
       "      <td>a florida republican congressman is welcoming ...</td>\n",
       "      <td>395</td>\n",
       "      <td>0.0</td>\n",
       "      <td>0.0</td>\n",
       "      <td>Neutral</td>\n",
       "      <td>0</td>\n",
       "      <td>0</td>\n",
       "      <td>a florida republican congressman is welcoming ...</td>\n",
       "      <td>Neutral</td>\n",
       "    </tr>\n",
       "    <tr>\n",
       "      <th>1718</th>\n",
       "      <td>http://www.latimes.com/news/nationworld/nation...</td>\n",
       "      <td>News</td>\n",
       "      <td>1</td>\n",
       "      <td>None</td>\n",
       "      <td>None</td>\n",
       "      <td>Neutral</td>\n",
       "      <td>Neutral</td>\n",
       "      <td>washington — eight senators who have spent wee...</td>\n",
       "      <td>600</td>\n",
       "      <td>0.0</td>\n",
       "      <td>0.0</td>\n",
       "      <td>Neutral</td>\n",
       "      <td>0</td>\n",
       "      <td>0</td>\n",
       "      <td>washington — eight senators who have spent wee...</td>\n",
       "      <td>Neutral</td>\n",
       "    </tr>\n",
       "  </tbody>\n",
       "</table>\n",
       "<p>4612 rows × 16 columns</p>\n",
       "</div>"
      ],
      "text/plain": [
       "                                                    url       q3  perceived  \\\n",
       "2475  http://www.latimes.com/news/politics/la-pn-ame...    other          0   \n",
       "2852  http://www.washingtonpost.com/national/health-...    other          1   \n",
       "1922  http://www.foxnews.com/politics/2013/07/08/rep...     News          0   \n",
       "187   http://www.foxnews.com/opinion/2013/12/24/army...     News          0   \n",
       "8255  http://www.dailykos.com/story/2013/07/15/12238...  Opinion          0   \n",
       "...                                                 ...      ...        ...   \n",
       "7161  http://www.huffingtonpost.com/2013/07/08/gop-w...     News          1   \n",
       "963   http://www.dailykos.com/story/2013/10/21/12494...     News          0   \n",
       "2086  http://www.breitbart.com/Big-Journalism/2013/0...  Opinion          1   \n",
       "2997  http://www.foxnews.com/politics/2013/02/03/flo...     News          1   \n",
       "1718  http://www.latimes.com/news/nationworld/nation...     News          1   \n",
       "\n",
       "          primary.topic secondary.topic     democrat.vote   republican.vote  \\\n",
       "2475               None            None           Neutral           Neutral   \n",
       "2852               None            None           Neutral           Neutral   \n",
       "1922         Healthcare         Economy  SomewhatNegative  SomewhatPositive   \n",
       "187        Civil Rights            None           Neutral           Neutral   \n",
       "8255            Economy       Education  SomewhatPositive          Negative   \n",
       "...                 ...             ...               ...               ...   \n",
       "7161            Economy            None  SomewhatPositive  SomewhatNegative   \n",
       "963             Economy      Healthcare           Neutral           Neutral   \n",
       "2086  Democrat Scandals            None          Negative          Positive   \n",
       "2997            Economy            None           Neutral           Neutral   \n",
       "1718               None            None           Neutral           Neutral   \n",
       "\n",
       "                                                article  length  \\\n",
       "2475  washington – americans are exercising more, bu...     600   \n",
       "2852  bebe bahnsen remembers the night, alone in her...     600   \n",
       "1922  house republicans are escalating their scrutin...     500   \n",
       "187   don’t say christmas.  that’s the message that ...     542   \n",
       "8255  sen. marco rubio  sen. marco rubio  for presid...     439   \n",
       "...                                                 ...     ...   \n",
       "7161  washington -- the house appropriations committ...     600   \n",
       "963   our story so far: those who enroll in medicaid...     600   \n",
       "2086  eight months into president george w. bush’s s...     473   \n",
       "2997  a florida republican congressman is welcoming ...     395   \n",
       "1718  washington — eight senators who have spent wee...     600   \n",
       "\n",
       "      democrat.bias  republican.bias          biaslabel  isbiased  \\\n",
       "2475            0.0              0.0            Neutral         0   \n",
       "2852            0.0              0.0            Neutral         0   \n",
       "1922           -0.5              0.5       Conservative         1   \n",
       "187             0.0              0.0            Neutral         0   \n",
       "8255            0.5             -1.0       Very Liberal         1   \n",
       "...             ...              ...                ...       ...   \n",
       "7161            0.5             -0.5            Liberal         1   \n",
       "963             0.0              0.0            Neutral         0   \n",
       "2086           -1.0              1.0  Very Conservative         1   \n",
       "2997            0.0              0.0            Neutral         0   \n",
       "1718            0.0              0.0            Neutral         0   \n",
       "\n",
       "      biascategories                                               text  \\\n",
       "2475               0  washington – americans are exercising more, bu...   \n",
       "2852               0  bebe bahnsen remembers the night, alone in her...   \n",
       "1922              -1  house republicans are escalating their scrutin...   \n",
       "187                0  don’t say christmas.  that’s the message that ...   \n",
       "8255               1  sen. marco rubio  sen. marco rubio  for presid...   \n",
       "...              ...                                                ...   \n",
       "7161               1  washington -- the house appropriations committ...   \n",
       "963                0  our story so far: those who enroll in medicaid...   \n",
       "2086              -1  eight months into president george w. bush’s s...   \n",
       "2997               0  a florida republican congressman is welcoming ...   \n",
       "1718               0  washington — eight senators who have spent wee...   \n",
       "\n",
       "        label  \n",
       "2475  Neutral  \n",
       "2852  Neutral  \n",
       "1922   Biased  \n",
       "187   Neutral  \n",
       "8255   Biased  \n",
       "...       ...  \n",
       "7161   Biased  \n",
       "963   Neutral  \n",
       "2086   Biased  \n",
       "2997  Neutral  \n",
       "1718  Neutral  \n",
       "\n",
       "[4612 rows x 16 columns]"
      ]
     },
     "execution_count": 17,
     "metadata": {},
     "output_type": "execute_result"
    }
   ],
   "source": [
    "tfdf = pd.concat([biaseddata,neutraldata])\n",
    "tfdf = tfdf.sample(frac=1)\n",
    "tfdf"
   ]
  },
  {
   "cell_type": "code",
   "execution_count": 18,
   "metadata": {},
   "outputs": [],
   "source": [
    "train_section = tfdf[:4000]\n",
    "val_section = tfdf[4000:4500]\n",
    "test_section = tfdf[4500:]\n",
    "\n",
    "# train_section = tfdf[5000:8000]\n",
    "# val_section = tfdf[8000:9000]\n",
    "# test_section = tfdf[9000:]\n",
    "\n",
    "# train_section = tfdf[:10000]\n",
    "# val_section = tfdf[10000:12500]\n",
    "# test_section = tfdf[12500:]"
   ]
  },
  {
   "cell_type": "code",
   "execution_count": 20,
   "metadata": {},
   "outputs": [
    {
     "data": {
      "text/plain": [
       "<AxesSubplot:>"
      ]
     },
     "execution_count": 20,
     "metadata": {},
     "output_type": "execute_result"
    },
    {
     "data": {
      "image/png": "[encoded data removed]",
      "text/plain": [
       "<Figure size 432x288 with 1 Axes>"
      ]
     },
     "metadata": {
      "needs_background": "light"
     },
     "output_type": "display_data"
    }
   ],
   "source": [
    "train_section[\"label\"].value_counts().plot.bar()"
   ]
  },
  {
   "cell_type": "code",
   "execution_count": 21,
   "metadata": {},
   "outputs": [
    {
     "data": {
      "text/plain": [
       "<AxesSubplot:>"
      ]
     },
     "execution_count": 21,
     "metadata": {},
     "output_type": "execute_result"
    },
    {
     "data": {
      "image/png": "[encoded data removed]",
      "text/plain": [
       "<Figure size 432x288 with 1 Axes>"
      ]
     },
     "metadata": {
      "needs_background": "light"
     },
     "output_type": "display_data"
    }
   ],
   "source": [
    "val_section[\"label\"].value_counts().plot.bar()"
   ]
  },
  {
   "cell_type": "code",
   "execution_count": 22,
   "metadata": {},
   "outputs": [
    {
     "data": {
      "text/plain": [
       "<AxesSubplot:>"
      ]
     },
     "execution_count": 22,
     "metadata": {},
     "output_type": "execute_result"
    },
    {
     "data": {
      "image/png": "[encoded data removed]",
      "text/plain": [
       "<Figure size 432x288 with 1 Axes>"
      ]
     },
     "metadata": {
      "needs_background": "light"
     },
     "output_type": "display_data"
    }
   ],
   "source": [
    "test_section[\"label\"].value_counts().plot.bar()"
   ]
  },
  {
   "cell_type": "code",
   "execution_count": 23,
   "metadata": {},
   "outputs": [
    {
     "data": {
      "text/plain": [
       "array(['Biased', 'Neutral'], dtype=object)"
      ]
     },
     "execution_count": 23,
     "metadata": {},
     "output_type": "execute_result"
    }
   ],
   "source": [
    "np.unique(tfdf.label)"
   ]
  },
  {
   "cell_type": "code",
   "execution_count": 5,
   "metadata": {},
   "outputs": [],
   "source": [
    "train_section = pd.read_table(\"train_dataset.csv\", sep='\\t', index_col=0)\n",
    "val_section = pd.read_table(\"val_dataset.csv\", sep='\\t', index_col=0)\n",
    "test_section = pd.read_table(\"test_dataset.csv\", sep='\\t', index_col=0)"
   ]
  },
  {
   "cell_type": "markdown",
   "metadata": {},
   "source": [
    "## Hyperparameters"
   ]
  },
  {
   "cell_type": "code",
   "execution_count": 6,
   "metadata": {},
   "outputs": [],
   "source": [
    "MAX_LEN = 512\n",
    "nepochs = 50\n",
    "nbatch = 16"
   ]
  },
  {
   "cell_type": "code",
   "execution_count": 7,
   "metadata": {},
   "outputs": [],
   "source": [
    "data_dir = \"./data\"\n",
    "log_dir = f\"{data_dir}/experiments/logs\"\n",
    "save_path = f\"{data_dir}/experiments/BinaryXLNetmodels\"\n",
    "cache_path_train = f\"{data_dir}/cache/BinaryXLNetmodel.train\"\n",
    "cache_path_test = f\"{data_dir}/cache/BinaryXLNetmodel.test\""
   ]
  },
  {
   "cell_type": "markdown",
   "metadata": {},
   "source": [
    "## Transforming Data"
   ]
  },
  {
   "cell_type": "code",
   "execution_count": 8,
   "metadata": {},
   "outputs": [],
   "source": [
    "from sklearn.preprocessing import LabelEncoder\n",
    "\n",
    "le = LabelEncoder()\n",
    "train_labels = np.asarray(le.fit_transform(train_section['label']))\n",
    "val_labels = np.asarray(le.transform(val_section['label']))"
   ]
  },
  {
   "cell_type": "code",
   "execution_count": 9,
   "metadata": {},
   "outputs": [],
   "source": [
    "# le.inverse_transform(val_labels)[:20]"
   ]
  },
  {
   "cell_type": "code",
   "execution_count": 10,
   "metadata": {},
   "outputs": [
    {
     "data": {
      "text/plain": [
       "2"
      ]
     },
     "execution_count": 10,
     "metadata": {},
     "output_type": "execute_result"
    }
   ],
   "source": [
    "len(np.unique(train_labels))"
   ]
  },
  {
   "cell_type": "code",
   "execution_count": 29,
   "metadata": {},
   "outputs": [
    {
     "data": {
      "text/plain": [
       "0.5"
      ]
     },
     "execution_count": 29,
     "metadata": {},
     "output_type": "execute_result"
    }
   ],
   "source": [
    "tfdf[tfdf['label']=='Neutral'].shape[0]/tfdf.article.shape[0]"
   ]
  },
  {
   "cell_type": "code",
   "execution_count": 30,
   "metadata": {},
   "outputs": [
    {
     "data": {
      "text/plain": [
       "<AxesSubplot:>"
      ]
     },
     "execution_count": 30,
     "metadata": {},
     "output_type": "execute_result"
    },
    {
     "data": {
      "image/png": "[encoded data removed]",
      "text/plain": [
       "<Figure size 432x288 with 1 Axes>"
      ]
     },
     "metadata": {
      "needs_background": "light"
     },
     "output_type": "display_data"
    }
   ],
   "source": [
    "tfdf[\"label\"].value_counts().plot.bar()"
   ]
  },
  {
   "cell_type": "code",
   "execution_count": 11,
   "metadata": {},
   "outputs": [],
   "source": [
    "tokenizer_transformer = XLNetTokenizer.from_pretrained('xlnet-large-cased')"
   ]
  },
  {
   "cell_type": "code",
   "execution_count": 12,
   "metadata": {},
   "outputs": [],
   "source": [
    "\n",
    "def create_input_array(df, tokenizer):\n",
    "    sentences = df.text.values\n",
    "\n",
    "    input_ids = []\n",
    "    attention_masks = []\n",
    "    token_type_ids = []\n",
    "\n",
    "    for sent in sentences:\n",
    "        # `encode_plus` will:\n",
    "        #   (1) Tokenize the sentence.\n",
    "        #   (2) Prepend the `[CLS]` token to the start.\n",
    "        #   (3) Append the `[SEP]` token to the end.\n",
    "        #   (4) Map tokens to their IDs.\n",
    "        #   (5) Pad or truncate the sentence to `max_length`\n",
    "        #   (6) Create attention masks for [PAD] tokens.\n",
    "        encoded_dict = tokenizer.encode_plus(\n",
    "            sent,  # Sentence to encode.\n",
    "            add_special_tokens=True,  # Add '[CLS]' and '[SEP]'\n",
    "            max_length=MAX_LEN,  # Pad & truncate all sentences.\n",
    "                pad_to_max_length=True,\n",
    "                return_attention_mask=True,  # Construct attn. masks.\n",
    "                return_tensors='tf',  # Return tf tensors.\n",
    "            )\n",
    "\n",
    "        # Add the encoded sentence to the list.\n",
    "        input_ids.append(encoded_dict['input_ids'])\n",
    "\n",
    "        # And its attention mask (simply differentiates padding from non-padding).\n",
    "        attention_masks.append(encoded_dict['attention_mask'])\n",
    "\n",
    "        token_type_ids.append(encoded_dict['token_type_ids'])\n",
    "\n",
    "    input_ids = tf.convert_to_tensor(input_ids)\n",
    "    attention_masks = tf.convert_to_tensor(attention_masks)\n",
    "    token_type_ids = tf.convert_to_tensor(token_type_ids)\n",
    "\n",
    "\n",
    "    return input_ids, attention_masks, token_type_ids\n",
    "#     return input_ids, attention_masks\n",
    "\n"
   ]
  },
  {
   "cell_type": "code",
   "execution_count": 13,
   "metadata": {},
   "outputs": [
    {
     "name": "stderr",
     "output_type": "stream",
     "text": [
      "Truncation was not explicitly activated but `max_length` is provided a specific value, please use `truncation=True` to explicitly truncate examples to max length. Defaulting to 'longest_first' truncation strategy. If you encode pairs of sequences (GLUE-style) with the tokenizer you can select this strategy more precisely by providing a specific strategy to `truncation`.\n",
      "/usr/local/lib/python3.8/dist-packages/transformers/tokenization_utils_base.py:2068: FutureWarning: The `pad_to_max_length` argument is deprecated and will be removed in a future version, use `padding=True` or `padding='longest'` to pad to the longest sequence in the batch, or use `padding='max_length'` to pad to a max length. In this case, you can give a specific length with `max_length` (e.g. `max_length=45`) or leave max_length to None to pad to the maximal input size of the model (e.g. 512 for Bert).\n",
      "  warnings.warn(\n"
     ]
    }
   ],
   "source": [
    "train_inputs = [create_input_array(train_section, tokenizer=tokenizer_transformer)]\n",
    "val_inputs = [create_input_array(val_section, tokenizer=tokenizer_transformer)]"
   ]
  },
  {
   "cell_type": "code",
   "execution_count": 14,
   "metadata": {},
   "outputs": [],
   "source": [
    "def convert_inputs_to_tf_dataset(inputs):\n",
    "    # args.max_seq_len = 256\n",
    "    ids = inputs[0][0]\n",
    "    masks = inputs[0][1]\n",
    "    token_types = inputs[0][2]\n",
    "\n",
    "    ids = tf.reshape(ids, (-1, MAX_LEN))\n",
    "    print(\"Input ids shape: \", ids.shape)\n",
    "    masks = tf.reshape(masks, (-1, MAX_LEN))\n",
    "    print(\"Input Masks shape: \", masks.shape)\n",
    "    token_types = tf.reshape(token_types, (-1, MAX_LEN))\n",
    "    print(\"Token type ids shape: \", token_types.shape)\n",
    "\n",
    "    ids=ids.numpy()\n",
    "    masks = masks.numpy()\n",
    "    token_types = token_types.numpy()\n",
    "#     return[ids]\n",
    "#     return [ids, masks, token_types]\n",
    "    return [ids, masks]"
   ]
  },
  {
   "cell_type": "code",
   "execution_count": 15,
   "metadata": {},
   "outputs": [
    {
     "name": "stdout",
     "output_type": "stream",
     "text": [
      "Input ids shape:  (4000, 512)\n",
      "Input Masks shape:  (4000, 512)\n",
      "Token type ids shape:  (4000, 512)\n",
      "Input ids shape:  (500, 512)\n",
      "Input Masks shape:  (500, 512)\n",
      "Token type ids shape:  (500, 512)\n"
     ]
    }
   ],
   "source": [
    "train_data = convert_inputs_to_tf_dataset(train_inputs)\n",
    "val_data = convert_inputs_to_tf_dataset(val_inputs)"
   ]
  },
  {
   "cell_type": "code",
   "execution_count": 16,
   "metadata": {},
   "outputs": [
    {
     "data": {
      "text/plain": [
       "[array([[11048,   577,    17, ...,  1841,     4,     3],\n",
       "        [   39,  1156,    17, ...,    89,     4,     3],\n",
       "        [  480, 23785,    23, ...,  6420,     4,     3],\n",
       "        ...,\n",
       "        [11048,   577,    17, ...,  4419,     4,     3],\n",
       "        [   17,    83, 17273, ...,  1674,     4,     3],\n",
       "        [    5,     5,     5, ...,     9,     4,     3]], dtype=int32),\n",
       " array([[1, 1, 1, ..., 1, 1, 1],\n",
       "        [1, 1, 1, ..., 1, 1, 1],\n",
       "        [1, 1, 1, ..., 1, 1, 1],\n",
       "        ...,\n",
       "        [1, 1, 1, ..., 1, 1, 1],\n",
       "        [1, 1, 1, ..., 1, 1, 1],\n",
       "        [0, 0, 0, ..., 1, 1, 1]], dtype=int32)]"
      ]
     },
     "execution_count": 16,
     "metadata": {},
     "output_type": "execute_result"
    }
   ],
   "source": [
    "train_data"
   ]
  },
  {
   "cell_type": "code",
   "execution_count": 17,
   "metadata": {},
   "outputs": [
    {
     "name": "stderr",
     "output_type": "stream",
     "text": [
      "Some layers from the model checkpoint at xlnet-large-cased were not used when initializing TFXLNetForSequenceClassification: ['lm_loss']\n",
      "- This IS expected if you are initializing TFXLNetForSequenceClassification from the checkpoint of a model trained on another task or with another architecture (e.g. initializing a BertForSequenceClassification model from a BertForPreTraining model).\n",
      "- This IS NOT expected if you are initializing TFXLNetForSequenceClassification from the checkpoint of a model that you expect to be exactly identical (initializing a BertForSequenceClassification model from a BertForSequenceClassification model).\n",
      "Some layers of TFXLNetForSequenceClassification were not initialized from the model checkpoint at xlnet-large-cased and are newly initialized: ['sequence_summary', 'logits_proj']\n",
      "You should probably TRAIN this model on a down-stream task to be able to use it for predictions and inference.\n"
     ]
    }
   ],
   "source": [
    "model = TFXLNetForSequenceClassification.from_pretrained(\"xlnet-large-cased\", num_labels=len(np.unique(train_labels)))\n"
   ]
  },
  {
   "cell_type": "code",
   "execution_count": 18,
   "metadata": {},
   "outputs": [
    {
     "name": "stdout",
     "output_type": "stream",
     "text": [
      "Model: \"tfxl_net_for_sequence_classification\"\n",
      "_________________________________________________________________\n",
      "Layer (type)                 Output Shape              Param #   \n",
      "=================================================================\n",
      "transformer (TFXLNetMainLaye multiple                  360268800 \n",
      "_________________________________________________________________\n",
      "sequence_summary (TFSequence multiple                  1049600   \n",
      "_________________________________________________________________\n",
      "logits_proj (Dense)          multiple                  2050      \n",
      "=================================================================\n",
      "Total params: 361,320,450\n",
      "Trainable params: 361,320,450\n",
      "Non-trainable params: 0\n",
      "_________________________________________________________________\n"
     ]
    }
   ],
   "source": [
    "model.summary()"
   ]
  },
  {
   "cell_type": "code",
   "execution_count": 19,
   "metadata": {},
   "outputs": [
    {
     "name": "stdout",
     "output_type": "stream",
     "text": [
      "Epoch 1/25\n",
      "WARNING:tensorflow:The parameters `output_attentions`, `output_hidden_states` and `use_cache` cannot be updated when calling a model.They have to be set to True/False in the config object (i.e.: `config=XConfig.from_pretrained('name', output_attentions=True)`).\n",
      "WARNING:tensorflow:AutoGraph could not transform <bound method Socket.send of <zmq.sugar.socket.Socket object at 0x7f018cb0e040>> and will run it as-is.\n",
      "Please report this to the TensorFlow team. When filing the bug, set the verbosity to 10 (on Linux, `export AUTOGRAPH_VERBOSITY=10`) and attach the full output.\n",
      "Cause: module, class, method, function, traceback, frame, or code object was expected, got cython_function_or_method\n",
      "To silence this warning, decorate the function with @tf.autograph.experimental.do_not_convert\n",
      "WARNING: AutoGraph could not transform <bound method Socket.send of <zmq.sugar.socket.Socket object at 0x7f018cb0e040>> and will run it as-is.\n",
      "Please report this to the TensorFlow team. When filing the bug, set the verbosity to 10 (on Linux, `export AUTOGRAPH_VERBOSITY=10`) and attach the full output.\n",
      "Cause: module, class, method, function, traceback, frame, or code object was expected, got cython_function_or_method\n",
      "To silence this warning, decorate the function with @tf.autograph.experimental.do_not_convert\n",
      "WARNING:tensorflow:Gradients do not exist for variables ['tfxl_net_for_sequence_classification/transformer/mask_emb:0', 'tfxl_net_for_sequence_classification/transformer/layer_._0/rel_attn/r_s_bias:0', 'tfxl_net_for_sequence_classification/transformer/layer_._0/rel_attn/seg_embed:0', 'tfxl_net_for_sequence_classification/transformer/layer_._1/rel_attn/r_s_bias:0', 'tfxl_net_for_sequence_classification/transformer/layer_._1/rel_attn/seg_embed:0', 'tfxl_net_for_sequence_classification/transformer/layer_._2/rel_attn/r_s_bias:0', 'tfxl_net_for_sequence_classification/transformer/layer_._2/rel_attn/seg_embed:0', 'tfxl_net_for_sequence_classification/transformer/layer_._3/rel_attn/r_s_bias:0', 'tfxl_net_for_sequence_classification/transformer/layer_._3/rel_attn/seg_embed:0', 'tfxl_net_for_sequence_classification/transformer/layer_._4/rel_attn/r_s_bias:0', 'tfxl_net_for_sequence_classification/transformer/layer_._4/rel_attn/seg_embed:0', 'tfxl_net_for_sequence_classification/transformer/layer_._5/rel_attn/r_s_bias:0', 'tfxl_net_for_sequence_classification/transformer/layer_._5/rel_attn/seg_embed:0', 'tfxl_net_for_sequence_classification/transformer/layer_._6/rel_attn/r_s_bias:0', 'tfxl_net_for_sequence_classification/transformer/layer_._6/rel_attn/seg_embed:0', 'tfxl_net_for_sequence_classification/transformer/layer_._7/rel_attn/r_s_bias:0', 'tfxl_net_for_sequence_classification/transformer/layer_._7/rel_attn/seg_embed:0', 'tfxl_net_for_sequence_classification/transformer/layer_._8/rel_attn/r_s_bias:0', 'tfxl_net_for_sequence_classification/transformer/layer_._8/rel_attn/seg_embed:0', 'tfxl_net_for_sequence_classification/transformer/layer_._9/rel_attn/r_s_bias:0', 'tfxl_net_for_sequence_classification/transformer/layer_._9/rel_attn/seg_embed:0', 'tfxl_net_for_sequence_classification/transformer/layer_._10/rel_attn/r_s_bias:0', 'tfxl_net_for_sequence_classification/transformer/layer_._10/rel_attn/seg_embed:0', 'tfxl_net_for_sequence_classification/transformer/layer_._11/rel_attn/r_s_bias:0', 'tfxl_net_for_sequence_classification/transformer/layer_._11/rel_attn/seg_embed:0', 'tfxl_net_for_sequence_classification/transformer/layer_._12/rel_attn/r_s_bias:0', 'tfxl_net_for_sequence_classification/transformer/layer_._12/rel_attn/seg_embed:0', 'tfxl_net_for_sequence_classification/transformer/layer_._13/rel_attn/r_s_bias:0', 'tfxl_net_for_sequence_classification/transformer/layer_._13/rel_attn/seg_embed:0', 'tfxl_net_for_sequence_classification/transformer/layer_._14/rel_attn/r_s_bias:0', 'tfxl_net_for_sequence_classification/transformer/layer_._14/rel_attn/seg_embed:0', 'tfxl_net_for_sequence_classification/transformer/layer_._15/rel_attn/r_s_bias:0', 'tfxl_net_for_sequence_classification/transformer/layer_._15/rel_attn/seg_embed:0', 'tfxl_net_for_sequence_classification/transformer/layer_._16/rel_attn/r_s_bias:0', 'tfxl_net_for_sequence_classification/transformer/layer_._16/rel_attn/seg_embed:0', 'tfxl_net_for_sequence_classification/transformer/layer_._17/rel_attn/r_s_bias:0', 'tfxl_net_for_sequence_classification/transformer/layer_._17/rel_attn/seg_embed:0', 'tfxl_net_for_sequence_classification/transformer/layer_._18/rel_attn/r_s_bias:0', 'tfxl_net_for_sequence_classification/transformer/layer_._18/rel_attn/seg_embed:0', 'tfxl_net_for_sequence_classification/transformer/layer_._19/rel_attn/r_s_bias:0', 'tfxl_net_for_sequence_classification/transformer/layer_._19/rel_attn/seg_embed:0', 'tfxl_net_for_sequence_classification/transformer/layer_._20/rel_attn/r_s_bias:0', 'tfxl_net_for_sequence_classification/transformer/layer_._20/rel_attn/seg_embed:0', 'tfxl_net_for_sequence_classification/transformer/layer_._21/rel_attn/r_s_bias:0', 'tfxl_net_for_sequence_classification/transformer/layer_._21/rel_attn/seg_embed:0', 'tfxl_net_for_sequence_classification/transformer/layer_._22/rel_attn/r_s_bias:0', 'tfxl_net_for_sequence_classification/transformer/layer_._22/rel_attn/seg_embed:0', 'tfxl_net_for_sequence_classification/transformer/layer_._23/rel_attn/r_s_bias:0', 'tfxl_net_for_sequence_classification/transformer/layer_._23/rel_attn/seg_embed:0'] when minimizing the loss.\n",
      "WARNING:tensorflow:The parameters `output_attentions`, `output_hidden_states` and `use_cache` cannot be updated when calling a model.They have to be set to True/False in the config object (i.e.: `config=XConfig.from_pretrained('name', output_attentions=True)`).\n",
      "WARNING:tensorflow:Gradients do not exist for variables ['tfxl_net_for_sequence_classification/transformer/mask_emb:0', 'tfxl_net_for_sequence_classification/transformer/layer_._0/rel_attn/r_s_bias:0', 'tfxl_net_for_sequence_classification/transformer/layer_._0/rel_attn/seg_embed:0', 'tfxl_net_for_sequence_classification/transformer/layer_._1/rel_attn/r_s_bias:0', 'tfxl_net_for_sequence_classification/transformer/layer_._1/rel_attn/seg_embed:0', 'tfxl_net_for_sequence_classification/transformer/layer_._2/rel_attn/r_s_bias:0', 'tfxl_net_for_sequence_classification/transformer/layer_._2/rel_attn/seg_embed:0', 'tfxl_net_for_sequence_classification/transformer/layer_._3/rel_attn/r_s_bias:0', 'tfxl_net_for_sequence_classification/transformer/layer_._3/rel_attn/seg_embed:0', 'tfxl_net_for_sequence_classification/transformer/layer_._4/rel_attn/r_s_bias:0', 'tfxl_net_for_sequence_classification/transformer/layer_._4/rel_attn/seg_embed:0', 'tfxl_net_for_sequence_classification/transformer/layer_._5/rel_attn/r_s_bias:0', 'tfxl_net_for_sequence_classification/transformer/layer_._5/rel_attn/seg_embed:0', 'tfxl_net_for_sequence_classification/transformer/layer_._6/rel_attn/r_s_bias:0', 'tfxl_net_for_sequence_classification/transformer/layer_._6/rel_attn/seg_embed:0', 'tfxl_net_for_sequence_classification/transformer/layer_._7/rel_attn/r_s_bias:0', 'tfxl_net_for_sequence_classification/transformer/layer_._7/rel_attn/seg_embed:0', 'tfxl_net_for_sequence_classification/transformer/layer_._8/rel_attn/r_s_bias:0', 'tfxl_net_for_sequence_classification/transformer/layer_._8/rel_attn/seg_embed:0', 'tfxl_net_for_sequence_classification/transformer/layer_._9/rel_attn/r_s_bias:0', 'tfxl_net_for_sequence_classification/transformer/layer_._9/rel_attn/seg_embed:0', 'tfxl_net_for_sequence_classification/transformer/layer_._10/rel_attn/r_s_bias:0', 'tfxl_net_for_sequence_classification/transformer/layer_._10/rel_attn/seg_embed:0', 'tfxl_net_for_sequence_classification/transformer/layer_._11/rel_attn/r_s_bias:0', 'tfxl_net_for_sequence_classification/transformer/layer_._11/rel_attn/seg_embed:0', 'tfxl_net_for_sequence_classification/transformer/layer_._12/rel_attn/r_s_bias:0', 'tfxl_net_for_sequence_classification/transformer/layer_._12/rel_attn/seg_embed:0', 'tfxl_net_for_sequence_classification/transformer/layer_._13/rel_attn/r_s_bias:0', 'tfxl_net_for_sequence_classification/transformer/layer_._13/rel_attn/seg_embed:0', 'tfxl_net_for_sequence_classification/transformer/layer_._14/rel_attn/r_s_bias:0', 'tfxl_net_for_sequence_classification/transformer/layer_._14/rel_attn/seg_embed:0', 'tfxl_net_for_sequence_classification/transformer/layer_._15/rel_attn/r_s_bias:0', 'tfxl_net_for_sequence_classification/transformer/layer_._15/rel_attn/seg_embed:0', 'tfxl_net_for_sequence_classification/transformer/layer_._16/rel_attn/r_s_bias:0', 'tfxl_net_for_sequence_classification/transformer/layer_._16/rel_attn/seg_embed:0', 'tfxl_net_for_sequence_classification/transformer/layer_._17/rel_attn/r_s_bias:0', 'tfxl_net_for_sequence_classification/transformer/layer_._17/rel_attn/seg_embed:0', 'tfxl_net_for_sequence_classification/transformer/layer_._18/rel_attn/r_s_bias:0', 'tfxl_net_for_sequence_classification/transformer/layer_._18/rel_attn/seg_embed:0', 'tfxl_net_for_sequence_classification/transformer/layer_._19/rel_attn/r_s_bias:0', 'tfxl_net_for_sequence_classification/transformer/layer_._19/rel_attn/seg_embed:0', 'tfxl_net_for_sequence_classification/transformer/layer_._20/rel_attn/r_s_bias:0', 'tfxl_net_for_sequence_classification/transformer/layer_._20/rel_attn/seg_embed:0', 'tfxl_net_for_sequence_classification/transformer/layer_._21/rel_attn/r_s_bias:0', 'tfxl_net_for_sequence_classification/transformer/layer_._21/rel_attn/seg_embed:0', 'tfxl_net_for_sequence_classification/transformer/layer_._22/rel_attn/r_s_bias:0', 'tfxl_net_for_sequence_classification/transformer/layer_._22/rel_attn/seg_embed:0', 'tfxl_net_for_sequence_classification/transformer/layer_._23/rel_attn/r_s_bias:0', 'tfxl_net_for_sequence_classification/transformer/layer_._23/rel_attn/seg_embed:0'] when minimizing the loss.\n",
      "800/800 [==============================] - ETA: 0s - loss: 0.7360 - accuracy: 0.4874WARNING:tensorflow:The parameters `output_attentions`, `output_hidden_states` and `use_cache` cannot be updated when calling a model.They have to be set to True/False in the config object (i.e.: `config=XConfig.from_pretrained('name', output_attentions=True)`).\n",
      "800/800 [==============================] - 692s 843ms/step - loss: 0.7360 - accuracy: 0.4875 - val_loss: 0.6805 - val_accuracy: 0.5680\n",
      "Epoch 2/25\n",
      "800/800 [==============================] - 678s 847ms/step - loss: 0.6952 - accuracy: 0.5317 - val_loss: 0.6683 - val_accuracy: 0.6040\n",
      "Epoch 3/25\n",
      "800/800 [==============================] - 680s 849ms/step - loss: 0.6687 - accuracy: 0.5947 - val_loss: 0.6459 - val_accuracy: 0.6740\n",
      "Epoch 4/25\n",
      "800/800 [==============================] - 673s 841ms/step - loss: 0.6483 - accuracy: 0.6365 - val_loss: 0.6195 - val_accuracy: 0.6940\n",
      "Epoch 5/25\n",
      "800/800 [==============================] - 665s 831ms/step - loss: 0.6220 - accuracy: 0.6660 - val_loss: 0.6011 - val_accuracy: 0.7060\n",
      "Epoch 6/25\n",
      "800/800 [==============================] - 683s 854ms/step - loss: 0.5964 - accuracy: 0.6860 - val_loss: 0.5817 - val_accuracy: 0.7020\n",
      "Epoch 7/25\n",
      "800/800 [==============================] - 685s 857ms/step - loss: 0.5904 - accuracy: 0.6921 - val_loss: 0.5649 - val_accuracy: 0.7200\n",
      "Epoch 8/25\n",
      "800/800 [==============================] - 686s 858ms/step - loss: 0.5688 - accuracy: 0.7098 - val_loss: 0.5504 - val_accuracy: 0.7260\n",
      "Epoch 9/25\n",
      "800/800 [==============================] - 687s 859ms/step - loss: 0.5630 - accuracy: 0.7121 - val_loss: 0.5417 - val_accuracy: 0.7300\n",
      "Epoch 10/25\n",
      "800/800 [==============================] - 689s 861ms/step - loss: 0.5592 - accuracy: 0.7205 - val_loss: 0.5319 - val_accuracy: 0.7300\n",
      "Epoch 11/25\n",
      "800/800 [==============================] - 690s 862ms/step - loss: 0.5379 - accuracy: 0.7315 - val_loss: 0.5235 - val_accuracy: 0.7360\n",
      "Epoch 12/25\n",
      "800/800 [==============================] - 690s 862ms/step - loss: 0.5381 - accuracy: 0.7248 - val_loss: 0.5170 - val_accuracy: 0.7380\n",
      "Epoch 13/25\n",
      "800/800 [==============================] - 690s 862ms/step - loss: 0.5270 - accuracy: 0.7318 - val_loss: 0.5136 - val_accuracy: 0.7360\n",
      "Epoch 14/25\n",
      "800/800 [==============================] - 684s 855ms/step - loss: 0.5245 - accuracy: 0.7428 - val_loss: 0.5137 - val_accuracy: 0.7340\n",
      "Epoch 15/25\n",
      "800/800 [==============================] - 684s 856ms/step - loss: 0.5355 - accuracy: 0.7338 - val_loss: 0.5117 - val_accuracy: 0.7380\n",
      "Epoch 16/25\n",
      "800/800 [==============================] - 685s 857ms/step - loss: 0.5165 - accuracy: 0.7395 - val_loss: 0.4997 - val_accuracy: 0.7360\n",
      "Epoch 17/25\n",
      "800/800 [==============================] - 687s 858ms/step - loss: 0.5082 - accuracy: 0.7414 - val_loss: 0.5006 - val_accuracy: 0.7360\n",
      "Epoch 18/25\n",
      "800/800 [==============================] - 688s 860ms/step - loss: 0.5359 - accuracy: 0.7417 - val_loss: 0.4947 - val_accuracy: 0.7380\n",
      "Epoch 19/25\n",
      "800/800 [==============================] - 684s 855ms/step - loss: 0.5112 - accuracy: 0.7510 - val_loss: 0.4950 - val_accuracy: 0.7420\n",
      "Epoch 20/25\n",
      "800/800 [==============================] - 677s 846ms/step - loss: 0.5086 - accuracy: 0.7497 - val_loss: 0.4904 - val_accuracy: 0.7360\n",
      "Epoch 21/25\n",
      "800/800 [==============================] - 678s 847ms/step - loss: 0.4939 - accuracy: 0.7605 - val_loss: 0.4948 - val_accuracy: 0.7460\n",
      "Epoch 22/25\n",
      "800/800 [==============================] - 679s 849ms/step - loss: 0.5092 - accuracy: 0.7464 - val_loss: 0.4879 - val_accuracy: 0.7400\n",
      "Epoch 23/25\n",
      "800/800 [==============================] - 680s 850ms/step - loss: 0.4863 - accuracy: 0.7660 - val_loss: 0.4881 - val_accuracy: 0.7460\n",
      "Epoch 24/25\n",
      "800/800 [==============================] - 682s 852ms/step - loss: 0.5061 - accuracy: 0.7544 - val_loss: 0.4894 - val_accuracy: 0.7480\n",
      "Epoch 25/25\n",
      "800/800 [==============================] - 683s 853ms/step - loss: 0.5055 - accuracy: 0.7455 - val_loss: 0.4873 - val_accuracy: 0.7420\n"
     ]
    }
   ],
   "source": [
    "loss = tf.keras.losses.SparseCategoricalCrossentropy(from_logits=True)\n",
    "metric = tf.keras.metrics.SparseCategoricalAccuracy('accuracy')\n",
    "optimizer = tf.keras.optimizers.Adam(learning_rate=2e-07, epsilon=1e-08)\n",
    "\n",
    "model.compile(optimizer=optimizer, loss=loss, metrics=[metric])\n",
    "history = model.fit(x = train_data, \n",
    "          y = train_labels,\n",
    "          validation_data= (val_data, val_labels), \n",
    "          epochs = 25, \n",
    "          batch_size = 5)"
   ]
  },
  {
   "cell_type": "code",
   "execution_count": 20,
   "metadata": {},
   "outputs": [
    {
     "data": {
      "image/png": "[encoded data removed]",
      "text/plain": [
       "<Figure size 576x576 with 2 Axes>"
      ]
     },
     "metadata": {
      "needs_background": "light"
     },
     "output_type": "display_data"
    }
   ],
   "source": [
    "acc = history.history['accuracy']\n",
    "val_acc = history.history['val_accuracy']\n",
    "\n",
    "loss = history.history['loss']\n",
    "val_loss = history.history['val_loss']\n",
    "\n",
    "epochs_range = range(25)\n",
    "\n",
    "plt.figure(figsize=(8, 8))\n",
    "plt.subplot(1, 2, 1)\n",
    "plt.plot(epochs_range, acc, label='Training Accuracy')\n",
    "plt.plot(epochs_range, val_acc, label='Validation Accuracy')\n",
    "plt.legend(loc='lower right')\n",
    "plt.title('Training and Validation Accuracy')\n",
    "\n",
    "plt.subplot(1, 2, 2)\n",
    "plt.plot(epochs_range, loss, label='Training Loss')\n",
    "plt.plot(epochs_range, val_loss, label='Validation Loss')\n",
    "plt.legend(loc='upper right')\n",
    "plt.title('Training and Validation Loss')\n",
    "# plt.show()\n",
    "plt.savefig('xlnetlargebinary.jpg')"
   ]
  },
  {
   "cell_type": "code",
   "execution_count": 21,
   "metadata": {},
   "outputs": [
    {
     "data": {
      "text/html": [
       "<div>\n",
       "<style scoped>\n",
       "    .dataframe tbody tr th:only-of-type {\n",
       "        vertical-align: middle;\n",
       "    }\n",
       "\n",
       "    .dataframe tbody tr th {\n",
       "        vertical-align: top;\n",
       "    }\n",
       "\n",
       "    .dataframe thead th {\n",
       "        text-align: right;\n",
       "    }\n",
       "</style>\n",
       "<table border=\"1\" class=\"dataframe\">\n",
       "  <thead>\n",
       "    <tr style=\"text-align: right;\">\n",
       "      <th></th>\n",
       "      <th>Accuracy</th>\n",
       "      <th>ValAccuracy</th>\n",
       "      <th>Loss</th>\n",
       "      <th>Val_loss</th>\n",
       "    </tr>\n",
       "  </thead>\n",
       "  <tbody>\n",
       "    <tr>\n",
       "      <th>0</th>\n",
       "      <td>0.51375</td>\n",
       "      <td>0.568</td>\n",
       "      <td>0.713227</td>\n",
       "      <td>0.680530</td>\n",
       "    </tr>\n",
       "    <tr>\n",
       "      <th>1</th>\n",
       "      <td>0.55500</td>\n",
       "      <td>0.604</td>\n",
       "      <td>0.685114</td>\n",
       "      <td>0.668284</td>\n",
       "    </tr>\n",
       "    <tr>\n",
       "      <th>2</th>\n",
       "      <td>0.60450</td>\n",
       "      <td>0.674</td>\n",
       "      <td>0.662209</td>\n",
       "      <td>0.645876</td>\n",
       "    </tr>\n",
       "    <tr>\n",
       "      <th>3</th>\n",
       "      <td>0.64200</td>\n",
       "      <td>0.694</td>\n",
       "      <td>0.642402</td>\n",
       "      <td>0.619509</td>\n",
       "    </tr>\n",
       "    <tr>\n",
       "      <th>4</th>\n",
       "      <td>0.67750</td>\n",
       "      <td>0.706</td>\n",
       "      <td>0.616118</td>\n",
       "      <td>0.601092</td>\n",
       "    </tr>\n",
       "  </tbody>\n",
       "</table>\n",
       "</div>"
      ],
      "text/plain": [
       "   Accuracy  ValAccuracy      Loss  Val_loss\n",
       "0   0.51375        0.568  0.713227  0.680530\n",
       "1   0.55500        0.604  0.685114  0.668284\n",
       "2   0.60450        0.674  0.662209  0.645876\n",
       "3   0.64200        0.694  0.642402  0.619509\n",
       "4   0.67750        0.706  0.616118  0.601092"
      ]
     },
     "execution_count": 21,
     "metadata": {},
     "output_type": "execute_result"
    }
   ],
   "source": [
    "xlnetmodeldata = pd.DataFrame(list(zip(acc, val_acc, loss, val_loss)),\n",
    "               columns =['Accuracy', 'ValAccuracy', 'Loss', 'Val_loss'])\n",
    "xlnetmodeldata.head()"
   ]
  },
  {
   "cell_type": "code",
   "execution_count": 22,
   "metadata": {},
   "outputs": [],
   "source": [
    "xlnetmodeldata.to_csv(\"xlnetmodeldata.csv\", sep='\\t')"
   ]
  },
  {
   "cell_type": "code",
   "execution_count": 23,
   "metadata": {},
   "outputs": [
    {
     "data": {
      "text/plain": [
       "(110, 16)"
      ]
     },
     "execution_count": 23,
     "metadata": {},
     "output_type": "execute_result"
    }
   ],
   "source": [
    "test_section.shape"
   ]
  },
  {
   "cell_type": "code",
   "execution_count": 24,
   "metadata": {},
   "outputs": [
    {
     "data": {
      "text/plain": [
       "(110, 16)"
      ]
     },
     "execution_count": 24,
     "metadata": {},
     "output_type": "execute_result"
    }
   ],
   "source": [
    "test_section = test_section[:110]\n",
    "test_section.shape"
   ]
  },
  {
   "cell_type": "code",
   "execution_count": 25,
   "metadata": {},
   "outputs": [
    {
     "name": "stderr",
     "output_type": "stream",
     "text": [
      "/usr/local/lib/python3.8/dist-packages/transformers/tokenization_utils_base.py:2068: FutureWarning: The `pad_to_max_length` argument is deprecated and will be removed in a future version, use `padding=True` or `padding='longest'` to pad to the longest sequence in the batch, or use `padding='max_length'` to pad to a max length. In this case, you can give a specific length with `max_length` (e.g. `max_length=45`) or leave max_length to None to pad to the maximal input size of the model (e.g. 512 for Bert).\n",
      "  warnings.warn(\n"
     ]
    },
    {
     "name": "stdout",
     "output_type": "stream",
     "text": [
      "Input ids shape:  (110, 512)\n",
      "Input Masks shape:  (110, 512)\n",
      "Token type ids shape:  (110, 512)\n"
     ]
    }
   ],
   "source": [
    "test_labels = np.asarray(le.transform(test_section['label']))\n",
    "test_inputs = [create_input_array(test_section, tokenizer=tokenizer_transformer)]\n",
    "test_data = convert_inputs_to_tf_dataset(test_inputs)"
   ]
  },
  {
   "cell_type": "code",
   "execution_count": 35,
   "metadata": {},
   "outputs": [
    {
     "name": "stdout",
     "output_type": "stream",
     "text": [
      "Evaluate on test data\n",
      "22/22 [==============================] - 4s 177ms/step - loss: 0.4462 - accuracy: 0.8091\n",
      "test loss, test acc: [0.44617000222206116, 0.8090909123420715]\n"
     ]
    }
   ],
   "source": [
    "print(\"Evaluate on test data\")\n",
    "results = model.evaluate(test_data, test_labels, batch_size=5)\n",
    "print(\"test loss, test acc:\", results)\n"
   ]
  },
  {
   "cell_type": "code",
   "execution_count": 42,
   "metadata": {},
   "outputs": [
    {
     "name": "stderr",
     "output_type": "stream",
     "text": [
      "All model checkpoint layers were used when initializing TFXLNetForSequenceClassification.\n",
      "\n",
      "All the layers of TFXLNetForSequenceClassification were initialized from the model checkpoint at data/experiments/BinaryXLNetmodels.\n",
      "If your task is similar to the task the model of the checkpoint was trained on, you can already use TFXLNetForSequenceClassification for predictions without further training.\n"
     ]
    }
   ],
   "source": [
    "testmodel = TFXLNetForSequenceClassification.from_pretrained(\"data/experiments/BinaryXLNetmodels\", num_labels=len(np.unique(train_labels)))\n"
   ]
  },
  {
   "cell_type": "code",
   "execution_count": 46,
   "metadata": {},
   "outputs": [],
   "source": [
    "loss = tf.keras.losses.SparseCategoricalCrossentropy(from_logits=True)\n",
    "metric = tf.keras.metrics.SparseCategoricalAccuracy('accuracy')\n",
    "optimizer = tf.keras.optimizers.Adam(learning_rate=2e-07, epsilon=1e-08)\n",
    "\n",
    "testmodel.compile(optimizer=optimizer, loss=loss, metrics=[metric])"
   ]
  },
  {
   "cell_type": "code",
   "execution_count": 26,
   "metadata": {},
   "outputs": [
    {
     "name": "stdout",
     "output_type": "stream",
     "text": [
      "WARNING:tensorflow:The parameters `output_attentions`, `output_hidden_states` and `use_cache` cannot be updated when calling a model.They have to be set to True/False in the config object (i.e.: `config=XConfig.from_pretrained('name', output_attentions=True)`).\n"
     ]
    }
   ],
   "source": [
    "# predict probabilities for test set\n",
    "test_probs = model.predict(test_data, batch_size= 1, verbose=0)"
   ]
  },
  {
   "cell_type": "code",
   "execution_count": 27,
   "metadata": {},
   "outputs": [],
   "source": [
    "test_probs = test_probs[\"logits\"]"
   ]
  },
  {
   "cell_type": "code",
   "execution_count": 28,
   "metadata": {},
   "outputs": [],
   "source": [
    "test_classes = np.argmax(test_probs, axis = 1)"
   ]
  },
  {
   "cell_type": "code",
   "execution_count": 29,
   "metadata": {},
   "outputs": [
    {
     "data": {
      "text/plain": [
       "array([0, 0, 0, 0, 0, 0, 0, 0, 0, 0, 0, 1, 1, 0, 0, 0, 1, 0, 1, 1, 1, 1,\n",
       "       1, 1, 1, 1, 0, 1, 1, 0, 0, 1, 1, 1, 1, 1, 1, 1, 0, 1, 1, 1, 1, 1,\n",
       "       1, 1, 1, 0, 1, 1, 1, 1, 0, 1, 1, 0, 0, 1, 1, 0, 0, 1, 1, 1, 0, 0,\n",
       "       1, 0, 0, 0, 0, 1, 0, 1, 1, 1, 1, 1, 1, 1, 1, 1, 0, 0, 1, 1, 1, 1,\n",
       "       1, 1, 0, 0, 0, 0, 1, 1, 1, 1, 1, 0, 1, 1, 1, 1, 0, 0, 0, 1, 1, 0])"
      ]
     },
     "execution_count": 29,
     "metadata": {},
     "output_type": "execute_result"
    }
   ],
   "source": [
    "test_classes"
   ]
  },
  {
   "cell_type": "code",
   "execution_count": 30,
   "metadata": {},
   "outputs": [
    {
     "data": {
      "text/plain": [
       "array([0, 1, 0, 0, 0, 1, 0, 0, 0, 1, 0, 0, 1, 0, 0, 0, 0, 0, 0, 1, 1, 0,\n",
       "       1, 1, 0, 0, 0, 1, 1, 0, 0, 1, 1, 1, 1, 1, 1, 1, 0, 1, 1, 1, 1, 1,\n",
       "       1, 1, 1, 0, 1, 1, 0, 0, 0, 1, 1, 1, 0, 1, 1, 0, 0, 1, 1, 0, 0, 0,\n",
       "       1, 0, 0, 1, 0, 1, 0, 1, 0, 1, 1, 1, 1, 1, 1, 1, 0, 0, 1, 1, 1, 1,\n",
       "       1, 1, 1, 0, 0, 1, 1, 1, 1, 1, 1, 0, 1, 0, 1, 0, 0, 0, 1, 0, 1, 0])"
      ]
     },
     "execution_count": 30,
     "metadata": {},
     "output_type": "execute_result"
    }
   ],
   "source": [
    "test_labels"
   ]
  },
  {
   "cell_type": "code",
   "execution_count": 31,
   "metadata": {},
   "outputs": [
    {
     "name": "stdout",
     "output_type": "stream",
     "text": [
      "Test accuracy:\n",
      "0.8090909090909091\n"
     ]
    }
   ],
   "source": [
    "c=0\n",
    "for i in range(test_classes.shape[0]):\n",
    "    if test_classes[i]==test_labels[i]:\n",
    "        c+=1\n",
    "print(\"Test accuracy:\")\n",
    "print(c/test_labels.shape[0])"
   ]
  },
  {
   "cell_type": "code",
   "execution_count": 32,
   "metadata": {},
   "outputs": [],
   "source": [
    "from sklearn.metrics import accuracy_score\n",
    "from sklearn.metrics import precision_score\n",
    "from sklearn.metrics import recall_score\n",
    "from sklearn.metrics import f1_score\n",
    "from sklearn.metrics import cohen_kappa_score\n",
    "from sklearn.metrics import roc_auc_score\n",
    "from sklearn.metrics import confusion_matrix"
   ]
  },
  {
   "cell_type": "code",
   "execution_count": 33,
   "metadata": {},
   "outputs": [
    {
     "name": "stdout",
     "output_type": "stream",
     "text": [
      "Accuracy: 0.809091\n",
      "Precision: 0.805970\n",
      "Recall: 0.870968\n",
      "F1 score: 0.837209\n"
     ]
    }
   ],
   "source": [
    "# accuracy: (tp + tn) / (p + n)\n",
    "accuracy = accuracy_score(test_labels, test_classes)\n",
    "print('Accuracy: %f' % accuracy)\n",
    "# precision tp / (tp + fp)\n",
    "precision = precision_score(test_labels, test_classes)\n",
    "print('Precision: %f' % precision)\n",
    "# recall: tp / (tp + fn)\n",
    "recall = recall_score(test_labels, test_classes)\n",
    "print('Recall: %f' % recall)\n",
    "# f1: 2 tp / (2 tp + fp + fn)\n",
    "f1 = f1_score(test_labels, test_classes)\n",
    "print('F1 score: %f' % f1)\n",
    " "
   ]
  },
  {
   "cell_type": "code",
   "execution_count": 71,
   "metadata": {},
   "outputs": [],
   "source": [
    "train_section.to_csv(\"train_dataset.csv\", sep='\\t')\n",
    "val_section.to_csv(\"val_dataset.csv\", sep='\\t')\n",
    "test_section.to_csv(\"test_dataset.csv\", sep='\\t')"
   ]
  },
  {
   "cell_type": "code",
   "execution_count": null,
   "metadata": {},
   "outputs": [],
   "source": []
  },
  {
   "cell_type": "code",
   "execution_count": 34,
   "metadata": {},
   "outputs": [],
   "source": [
    "model.save_pretrained(save_path)"
   ]
  },
  {
   "cell_type": "code",
   "execution_count": null,
   "metadata": {},
   "outputs": [],
   "source": []
  },
  {
   "cell_type": "code",
   "execution_count": 77,
   "metadata": {},
   "outputs": [],
   "source": [
    "tf.keras.backend.clear_session()"
   ]
  },
  {
   "cell_type": "code",
   "execution_count": null,
   "metadata": {},
   "outputs": [],
   "source": []
  },
  {
   "cell_type": "code",
   "execution_count": null,
   "metadata": {},
   "outputs": [],
   "source": []
  },
  {
   "cell_type": "code",
   "execution_count": null,
   "metadata": {},
   "outputs": [],
   "source": []
  },
  {
   "cell_type": "code",
   "execution_count": null,
   "metadata": {},
   "outputs": [],
   "source": []
  },
  {
   "cell_type": "code",
   "execution_count": null,
   "metadata": {},
   "outputs": [],
   "source": []
  },
  {
   "cell_type": "code",
   "execution_count": null,
   "metadata": {},
   "outputs": [],
   "source": []
  }
 ],
 "metadata": {
  "kernelspec": {
   "display_name": "Python 3",
   "language": "python",
   "name": "python3"
  },
  "language_info": {
   "codemirror_mode": {
    "name": "ipython",
    "version": 3
   },
   "file_extension": ".py",
   "mimetype": "text/x-python",
   "name": "python",
   "nbconvert_exporter": "python",
   "pygments_lexer": "ipython3",
   "version": "3.8.5"
  }
 },
 "nbformat": 4,
 "nbformat_minor": 5
}
